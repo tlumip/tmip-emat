{
 "cells": [
  {
   "cell_type": "code",
   "execution_count": 1,
   "metadata": {},
   "outputs": [
    {
     "name": "stdout",
     "output_type": "stream",
     "text": [
      "emat 0.2.5, ema_workbench 2.1.506, plotly 4.1.1\n"
     ]
    }
   ],
   "source": [
    "import emat, numpy, pandas\n",
    "emat.versions()"
   ]
  },
  {
   "cell_type": "markdown",
   "metadata": {},
   "source": [
    "# Optimization Tools"
   ]
  },
  {
   "cell_type": "markdown",
   "metadata": {},
   "source": [
    "Typically, transportation policy planning models will be used to\n",
    "try to find policies that provide the \"best\" outcomes.  In a traditional\n",
    "analytical environment, that typically means using models to find \n",
    "optimal outcomes for performance measures.\n",
    "\n",
    "Transportation models as used in the TMIP-EMAT frawework are \n",
    "generally characterized by two important features: they are \n",
    "subject to significant exogenous uncertainties about the future\n",
    "state of the world, and they include numerous performance measures\n",
    "for which decision makers would like to see good outcomes. Therefore,\n",
    "optimization tools applied to these models should be \n",
    "flexible to consider *multiple objectives*,\n",
    "as well as be *robust* against uncertainty."
   ]
  },
  {
   "cell_type": "markdown",
   "metadata": {},
   "source": [
    "## Multi-Objective Optimization"
   ]
  },
  {
   "cell_type": "markdown",
   "metadata": {},
   "source": [
    "With exploratory modeling, optimization is also often undertaken as a \n",
    "[multi-objective optimization](https://en.wikipedia.org/wiki/Multi-objective_optimization) exercise, where multiple\n",
    "and possibly conflicting performance measures need to be addressed simultaneously. \n",
    "A road capacity expansion project is a good example of a multi-objective optimization \n",
    "problem. In such a situation, we want to expand the capacity of a roadway, both minimizing\n",
    "the costs and maximizing the travel time benefits.  A smaller expansion project will cost less\n",
    "but also provide lesser benefits.  Funding it with variable rate debt might \n",
    "decrease expected future costs but doing so entails more risk than fixed-rate debt."
   ]
  },
  {
   "cell_type": "markdown",
   "metadata": {},
   "source": [
    "One approach to managing a multi-objective optimization problem is to distill it \n",
    "into a single objective problem, by assigning relative weights to the various \n",
    "objectives.  For a variety of reasons, this can be difficult to accomplish in public policy environments that are common in transportation planning. \n",
    "Multiple stakeholders may have different\n",
    "priorities and may not be able to agree on a relative weighting structure.  \n",
    "Certain small improvements in a performance measure may be valued very differently \n",
    "if they tip the measure over a regulated threshold (e.g. to attain a particular \n",
    "mandated level of emissions or air quality).\n",
    "\n",
    "Instead of trying to simplify a multi-objective into a simple-objective one,\n",
    "an alternate approach is to preserve the multi-objective nature of the problem\n",
    "and find a set or spectrum of different solutions, each of which solves the problem\n",
    "at a different weighting of the various objectives.  Decision makers can then\n",
    "review the various different solutions, and make judgements about the various\n",
    "trade-offs implicit in choosing one path over another.\n",
    "\n",
    "Within a set of solutions for this kind of problem, each individual solution is \n",
    "\"[Pareto optimal](https://en.wikipedia.org/wiki/Pareto_efficiency)\", such that\n",
    "no individual objective can be improved without degrading at least one other\n",
    "objective by some amount.  Thus, each of these solutions might be the \"best\"\n",
    "policy to adopt, and exactly which is the best is left as a subjective judgement\n",
    "to decision makers, instead of being a concretely objective evaluation based \n",
    "on mathematics alone."
   ]
  },
  {
   "cell_type": "markdown",
   "metadata": {},
   "source": [
    "## Robust Optimization"
   ]
  },
  {
   "cell_type": "markdown",
   "metadata": {},
   "source": [
    "Robust optimization is a variant of the more traditional optimization\n",
    "problem, where we will try to find policies that yield *good* outcomes\n",
    "across a range of possible futures, instead of trying to find a policy\n",
    "that delivers the *best* outcome for a particular future.\n",
    "\n",
    "To conceptualize this, let us consider a decision where there are four\n",
    "possible policies to choose among, a single exogenous uncertainty that\n",
    "will impact the future, and a single performance measure that we would\n",
    "like to mimimize.  We have a model that can forecast the performance \n",
    "measure, conditional on the chosen policy and the future value of the\n",
    "exogenous uncertainty, and which gives us a forecasts as shown below."
   ]
  },
  {
   "cell_type": "code",
   "execution_count": 2,
   "metadata": {
    "nbsphinx": "hidden"
   },
   "outputs": [
    {
     "data": {
      "image/png": "[encoded data removed]",
      "text/plain": [
       "<Figure size 432x288 with 1 Axes>"
      ]
     },
     "metadata": {
      "needs_background": "light"
     },
     "output_type": "display_data"
    }
   ],
   "source": [
    "import numpy\n",
    "from matplotlib import pyplot as plt\n",
    "x = numpy.linspace(0,1)\n",
    "y1 = x**3 + numpy.cos((x-3)*23)*.01\n",
    "y2 = x**3 + .1 + numpy.sin((x-3)*23)*.01\n",
    "y3 = 1.3*(1-x)**17 + numpy.cos((x-3)*23)*.01 + .1\n",
    "y4 = numpy.sin((x-3)*23)*.01+0.16 + .1*(x-0.5)\n",
    "\n",
    "linestyles = [\n",
    "    dict(ls='-', c='blue'),\n",
    "    dict(ls=':', c='orange'),\n",
    "    dict(ls='-.', c='green'),\n",
    "    dict(ls='--', c='red'),\n",
    "]\n",
    "\n",
    "fig, ax = plt.subplots(1,1)\n",
    "ax.plot(x, y1, **linestyles[0], label=\"Policy 1\")\n",
    "ax.plot(x, y2, **linestyles[1], label=\"Policy 2\")\n",
    "ax.plot(x, y3, **linestyles[2], label=\"Policy 3\")\n",
    "ax.plot(x, y4, **linestyles[3], label=\"Policy 4\")\n",
    "ax.set_ylabel(\"Performance Measure\\n← Lower is Better ←\")\n",
    "ax.set_xlabel(\"Exogenous Uncertainty\")\n",
    "ax.legend()\n",
    "ax.set_title(\"Example Simple Forecasting Experiment\")\n",
    "\n",
    "plt.savefig(\"robust_example.png\")\n",
    "plt.show()"
   ]
  },
  {
   "cell_type": "raw",
   "metadata": {
    "raw_mimetype": "text/restructuredtext"
   },
   "source": [
    ".. image:: robust_example.png"
   ]
  },
  {
   "cell_type": "markdown",
   "metadata": {},
   "source": [
    "In a naive optimization approach, if we want to minimize the performance\n",
    "measure, we can do so by selecting Policy 1 and setting the exogenous\n",
    "uncertainty to 0.1.  Of course, in application we are able to select\n",
    "Policy 1, but we are unable to actually control the exogenous uncertainty\n",
    "(hence, \"exogenous\") and we may very well end up with a very bad result\n",
    "on the right side of the figure.\n",
    "\n",
    "We can see from the figure that, depending on the ultimate value for \n",
    "the exogenous uncertainty, either Policy 1 or Policy 3 might yield the\n",
    "best possible value of the performace measure.  However, both of these\n",
    "policies come with substantial risks as well -- in each Policy there are\n",
    "some futures where the results are optimal, but there are also some \n",
    "futures where the results are exceptionally poor.\n",
    "\n",
    "In contrast with these optimal policies, Policy 4 may be considered a \n",
    "\"robust\" solution.  Although there is no value of the exogenous \n",
    "uncertainty where Policy 4 yields the best possible outcome, there is\n",
    "also no future where Policy 4 yields a very poor outcome.  Instead, across\n",
    "all futures it is always generating a \"pretty good\" outcome.\n",
    "\n",
    "Different expectations for the future may lead to different policy \n",
    "choices.  If the decision maker feels that low values of the exogenous\n",
    "uncertainty are much more likely than high values, Policy 1 might be\n",
    "the best policy to choose.  If high values of the exogenous uncertainty\n",
    "are expected, then Policy 3 might be the best choice.  If there is not\n",
    "much agreement on the probable future values of the exogenous uncertainty,\n",
    "or if decision makers want to adopt a risk-averse stance, then Policy 4\n",
    "might be the best choice.  \n",
    "\n",
    "The remaining policy shown in the figure, Policy 2, is the lone holdout \n",
    "in this example -- there is no set of expectations about the future, or\n",
    "attitudes toward risk, that can make this policy the best choice.  This\n",
    "is because, no matter what the future value of the exogenous uncertainty\n",
    "may be, the performance measure has a better outcome from Policy 1 than\n",
    "from Policy 2.  In this circumstance, we can say that Policy 2 is \n",
    "\"dominated\" and should never be chosen by decision makers."
   ]
  },
  {
   "cell_type": "markdown",
   "metadata": {},
   "source": [
    "### Robustness Functions"
   ]
  },
  {
   "cell_type": "markdown",
   "metadata": {},
   "source": [
    "To perform robust optimization in EMAT, we need a core model (or meta-model)\n",
    "with defined input and output parameters, as well a set of functions called\n",
    "\"robustness measures\" that define what a \"robust\" measure represents.  \n",
    "As noted above, different expectations about future states of the world\n",
    "can lead to different rankings of policy options.  In addition, different\n",
    "attitudes towards risk can result in different robustness measures that are\n",
    "derived from the same underlying modeled performance measures.  \n",
    "\n",
    "For example, consider the *Example Simple Forecasting Experiment* shown above.\n",
    "In this example, we could compute a robustness measure for each policy where\n",
    "we calculate the maximum value of the performance measure across any possible\n",
    "value of the exogenous uncertainty.  This value is shown in the first column\n",
    "of robustness measures in the figure below, and under this measure Policy 4 is\n",
    "far and away the best choice. "
   ]
  },
  {
   "cell_type": "code",
   "execution_count": 3,
   "metadata": {
    "nbsphinx": "hidden"
   },
   "outputs": [
    {
     "data": {
      "image/png": "[encoded data removed]",
      "text/plain": [
       "<Figure size 576x288 with 6 Axes>"
      ]
     },
     "metadata": {
      "needs_background": "light"
     },
     "output_type": "display_data"
    }
   ],
   "source": [
    "fig, ax = plt.subplots(\n",
    "    1,6, sharey=True, \n",
    "    gridspec_kw=dict(width_ratios=[7,1,1,1,1,1], wspace=0.05,), \n",
    "    figsize=[8, 4.],\n",
    ")\n",
    "\n",
    "\n",
    "ax[0].plot(x, y1, **linestyles[0], label=\"Policy 1\")\n",
    "ax[0].plot(x, y2, **linestyles[1], label=\"Policy 2\")\n",
    "ax[0].plot(x, y3, **linestyles[2], label=\"Policy 3\")\n",
    "ax[0].plot(x, y4, **linestyles[3], label=\"Policy 4\")\n",
    "ax[1].plot([0,1], [y1.max()]*2, **linestyles[0], lw=2)\n",
    "ax[1].plot([0,1], [y2.max()]*2, **linestyles[1], lw=2)\n",
    "ax[1].plot([0,1],[y3.max()]*2, **linestyles[2],  lw=2)\n",
    "ax[1].plot([0,1], [y4.max()]*2, **linestyles[3], lw=2)\n",
    "\n",
    "ax[2].plot([0,1], [y1.mean()]*2, **linestyles[0], lw=2)\n",
    "ax[2].plot([0,1], [y2.mean()]*2, **linestyles[1], lw=2)\n",
    "ax[2].plot([0,1],[y3.mean()]*2, **linestyles[2],  lw=2)\n",
    "ax[2].plot([0,1], [y4.mean()]*2, **linestyles[3], lw=2)\n",
    "\n",
    "ax[3].plot([0,1], [numpy.median(y1)]*2, **linestyles[0], lw=2)\n",
    "ax[3].plot([0,1], [numpy.median(y2)]*2, **linestyles[1], lw=2)\n",
    "ax[3].plot([0,1], [numpy.median(y3)]*2, **linestyles[2],  lw=2)\n",
    "ax[3].plot([0,1], [numpy.median(y4)]*2, **linestyles[3], lw=2)\n",
    "\n",
    "ax[4].plot([0,1], [numpy.percentile(y1, 90)]*2, **linestyles[0], lw=2)\n",
    "ax[4].plot([0,1], [numpy.percentile(y2, 90)]*2, **linestyles[1], lw=2)\n",
    "ax[4].plot([0,1], [numpy.percentile(y3, 90)]*2, **linestyles[2],  lw=2)\n",
    "ax[4].plot([0,1], [numpy.percentile(y4, 90)]*2, **linestyles[3], lw=2)\n",
    "\n",
    "ax[5].plot([0,1], [y1.min()]*2, **linestyles[0], lw=2)\n",
    "ax[5].plot([0,1], [y2.min()]*2, **linestyles[1], lw=2)\n",
    "ax[5].plot([0,1], [y3.min()]*2, **linestyles[2], lw=2)\n",
    "ax[5].plot([0,1], [y4.min()]*2, **linestyles[3], lw=2)\n",
    "\n",
    "\n",
    "ax[0].set_ylabel(\"Performance Measure\\n← Lower is Better ←\")\n",
    "ax[0].set_xlabel(\"Exogenous Uncertainty\")\n",
    "ax[0].legend()\n",
    "ax[0].set_title(\"Example Simple Forecasting Experiment\")\n",
    "ax[3].set_title(\"Robustness Measures\")\n",
    "ax[1].set_xlabel(\"Max\\nPM\")\n",
    "ax[2].set_xlabel(\"Mean\\nPM\")\n",
    "ax[3].set_xlabel(\"Median\\nPM\")\n",
    "ax[4].set_xlabel(\"90%ile\\nPM\")\n",
    "ax[5].set_xlabel(\"Min\\nPM\")\n",
    "ax[-1].yaxis.set_label_position(\"right\")\n",
    "for a in [1,2,3,4,5]:\n",
    "    ax[a].set_xticks([])\n",
    "    ax[a].set_yticks([])\n",
    "plt.savefig(\"robust_measures.png\")\n",
    "plt.show()"
   ]
  },
  {
   "cell_type": "raw",
   "metadata": {
    "raw_mimetype": "text/restructuredtext"
   },
   "source": [
    ".. image:: robust_measures.png"
   ]
  },
  {
   "cell_type": "markdown",
   "metadata": {},
   "source": [
    "The \"maximum performance measure result\" robustness function is a very\n",
    "risk averse approach, as no consideration is given to the shape or distribution\n",
    "of performance measure values other than the maximum.  Consider these same\n",
    "policies shown if Policy 4 is not available. In this case, the next best \n",
    "policy under this robustness function is Policy 1, as it has the next lowest\n",
    "maximum value.  However, when we look at\n",
    "a comparison between Policies 1 and 3 in aggregate, we might easily conclude\n",
    "that Policy 3 is a better choice overall: it is better than Policy 1 on average,\n",
    "as judged by the mean, median, and 90th percentile measures.  The only reason \n",
    "Policy 3 appears worse than Policy 1 on the initial robustness function is that \n",
    "it has an especially poor outcome at one extreme end of the uncertainty \n",
    "distribution.  Depending on our attitude towards risk on this performance measure,\n",
    "we may want to consider using some of these alternative robustness functions.\n",
    "An additional consideration here is that the various robustness measures\n",
    "in this example case are all unweighted measures: they implicitly assume a \n",
    "uniform probability distribution for the entire range of possible values for\n",
    "the exogenous uncertainty.  If we are able to develop a probability distribution\n",
    "on our expectations for the future values of the exogenous uncertainties,\n",
    "we can use that probability distribution to weight the robustness functions\n",
    "appropriately, creating more meaningful values, particularly for the non-extreme\n",
    "value robustness functions (i.e., everything except the min and max)."
   ]
  },
  {
   "cell_type": "markdown",
   "metadata": {},
   "source": [
    "# Mechanics of Using Optimization"
   ]
  },
  {
   "cell_type": "markdown",
   "metadata": {},
   "source": [
    "## Policy Optimization: Search over Levers"
   ]
  },
  {
   "cell_type": "markdown",
   "metadata": {},
   "source": [
    "The simplest optimization tool available for TMIP-EMAT users is \n",
    "a *search over policy levers*, which represents multi-objective\n",
    "optimization, manipulating policy lever values to find a Pareto\n",
    "optimal set of solutions, holding the exogenous uncertainties\n",
    "fixed at a particular value for each uncertainty (typically at \n",
    "the default values).  This is often a useful first step\n",
    "in exploratory analysis, even if your ultimate goal is to \n",
    "eventually undertake a robust optimization analysis.  This less\n",
    "complex optimization can give insights into tradeoffs between\n",
    "performance measures and reasonable combinations of policy levers.\n",
    "\n",
    "To demonstrate a search over levers, we'll use the Road Test \n",
    "example model."
   ]
  },
  {
   "cell_type": "code",
   "execution_count": 2,
   "metadata": {},
   "outputs": [],
   "source": [
    "import emat.examples\n",
    "scope, db, model = emat.examples.road_test()"
   ]
  },
  {
   "cell_type": "markdown",
   "metadata": {},
   "source": [
    "The scope defined for a model in TMIP-EMAT will already provide\n",
    "information about the preferred directionality of performance\n",
    "measures (i.e., 'maximize' when larger values are better,\n",
    "'minimize' when smaller values are better, or 'info' when we\n",
    "do not have a preference for bigger or smaller values, but we \n",
    "just want to be tracking the measure).  We can see these\n",
    "preferences for any particular performance measure by inspecting\n",
    "the scope definition file, or by using the `info` method of\n",
    "`emat.Measure` instances."
   ]
  },
  {
   "cell_type": "code",
   "execution_count": 3,
   "metadata": {},
   "outputs": [
    {
     "name": "stdout",
     "output_type": "stream",
     "text": [
      "net_benefits:\n",
      "  kind: maximize\n"
     ]
    }
   ],
   "source": [
    "scope['net_benefits'].info()"
   ]
  },
  {
   "cell_type": "markdown",
   "metadata": {},
   "source": [
    "To conduct an optimization search over levers, we'll use the \n",
    "`optimize` method of the TMIP-EMAT model class, setting the\n",
    "`search_over` argument to `'levers'`.  In this example, we will\n",
    "set the number of function evaluations (`nfe`) to 10,000, although\n",
    "for other models you may need more or fewer to achieve a good, \n",
    "well converged result.  In a Jupyter notebook environment, \n",
    "we can monitor convergence visually in real time in the figures\n",
    "that will appear automatically."
   ]
  },
  {
   "cell_type": "code",
   "execution_count": 4,
   "metadata": {},
   "outputs": [
    {
     "data": {
      "application/vnd.jupyter.widget-view+json": {
       "model_id": "e1763523935341d39f8b21f5f6d8ab70",
       "version_major": 2,
       "version_minor": 0
      },
      "text/plain": [
       "ConvergenceMetrics(children=(FigureWidget({\n",
       "    'data': [{'fill': 'tonexty',\n",
       "              'line': {'shape': '…"
      ]
     },
     "metadata": {},
     "output_type": "display_data"
    }
   ],
   "source": [
    "result = model.optimize(\n",
    "    nfe=10_000, \n",
    "    searchover='levers', \n",
    "    check_extremes=1,\n",
    "    cache_file='./optimization_cache/road_test_search_over_levers.gz',\n",
    ")"
   ]
  },
  {
   "cell_type": "markdown",
   "metadata": {},
   "source": [
    "The `optimize` method returns an `OptimizationResult` object, \n",
    "which contains the resulting solutions, as well as some information\n",
    "about how they were derived.  We can review the raw values of the\n",
    "solutions as a pandas DataFrame, or see the scenario values used \n",
    "to generate these solutions."
   ]
  },
  {
   "cell_type": "code",
   "execution_count": 5,
   "metadata": {},
   "outputs": [
    {
     "data": {
      "text/html": [
       "<div>\n",
       "<style scoped>\n",
       "    .dataframe tbody tr th:only-of-type {\n",
       "        vertical-align: middle;\n",
       "    }\n",
       "\n",
       "    .dataframe tbody tr th {\n",
       "        vertical-align: top;\n",
       "    }\n",
       "\n",
       "    .dataframe thead th {\n",
       "        text-align: right;\n",
       "    }\n",
       "</style>\n",
       "<table border=\"1\" class=\"dataframe\">\n",
       "  <thead>\n",
       "    <tr style=\"text-align: right;\">\n",
       "      <th></th>\n",
       "      <th>expand_capacity</th>\n",
       "      <th>amortization_period</th>\n",
       "      <th>debt_type</th>\n",
       "      <th>interest_rate_lock</th>\n",
       "      <th>build_travel_time</th>\n",
       "      <th>time_savings</th>\n",
       "      <th>value_of_time_savings</th>\n",
       "      <th>net_benefits</th>\n",
       "      <th>cost_of_capacity_expansion</th>\n",
       "    </tr>\n",
       "  </thead>\n",
       "  <tbody>\n",
       "    <tr>\n",
       "      <td>0</td>\n",
       "      <td>50.014613</td>\n",
       "      <td>50</td>\n",
       "      <td>Paygo</td>\n",
       "      <td>True</td>\n",
       "      <td>61.777085</td>\n",
       "      <td>7.222915</td>\n",
       "      <td>54.171861</td>\n",
       "      <td>-73.429075</td>\n",
       "      <td>127.600936</td>\n",
       "    </tr>\n",
       "    <tr>\n",
       "      <td>1</td>\n",
       "      <td>6.000196</td>\n",
       "      <td>50</td>\n",
       "      <td>Paygo</td>\n",
       "      <td>True</td>\n",
       "      <td>67.128790</td>\n",
       "      <td>1.871210</td>\n",
       "      <td>14.034073</td>\n",
       "      <td>-1.274065</td>\n",
       "      <td>15.308138</td>\n",
       "    </tr>\n",
       "    <tr>\n",
       "      <td>2</td>\n",
       "      <td>34.576642</td>\n",
       "      <td>50</td>\n",
       "      <td>Paygo</td>\n",
       "      <td>False</td>\n",
       "      <td>62.743871</td>\n",
       "      <td>6.256129</td>\n",
       "      <td>46.920964</td>\n",
       "      <td>-41.293493</td>\n",
       "      <td>88.214457</td>\n",
       "    </tr>\n",
       "    <tr>\n",
       "      <td>3</td>\n",
       "      <td>14.079862</td>\n",
       "      <td>50</td>\n",
       "      <td>Paygo</td>\n",
       "      <td>True</td>\n",
       "      <td>65.313817</td>\n",
       "      <td>3.686183</td>\n",
       "      <td>27.646376</td>\n",
       "      <td>-8.275198</td>\n",
       "      <td>35.921574</td>\n",
       "    </tr>\n",
       "    <tr>\n",
       "      <td>4</td>\n",
       "      <td>2.947572</td>\n",
       "      <td>50</td>\n",
       "      <td>Paygo</td>\n",
       "      <td>True</td>\n",
       "      <td>68.012685</td>\n",
       "      <td>0.987315</td>\n",
       "      <td>7.404862</td>\n",
       "      <td>-0.115200</td>\n",
       "      <td>7.520062</td>\n",
       "    </tr>\n",
       "  </tbody>\n",
       "</table>\n",
       "</div>"
      ],
      "text/plain": [
       "   expand_capacity  amortization_period debt_type  interest_rate_lock  \\\n",
       "0        50.014613                   50     Paygo                True   \n",
       "1         6.000196                   50     Paygo                True   \n",
       "2        34.576642                   50     Paygo               False   \n",
       "3        14.079862                   50     Paygo                True   \n",
       "4         2.947572                   50     Paygo                True   \n",
       "\n",
       "   build_travel_time  time_savings  value_of_time_savings  net_benefits  \\\n",
       "0          61.777085      7.222915              54.171861    -73.429075   \n",
       "1          67.128790      1.871210              14.034073     -1.274065   \n",
       "2          62.743871      6.256129              46.920964    -41.293493   \n",
       "3          65.313817      3.686183              27.646376     -8.275198   \n",
       "4          68.012685      0.987315               7.404862     -0.115200   \n",
       "\n",
       "   cost_of_capacity_expansion  \n",
       "0                  127.600936  \n",
       "1                   15.308138  \n",
       "2                   88.214457  \n",
       "3                   35.921574  \n",
       "4                    7.520062  "
      ]
     },
     "execution_count": 5,
     "metadata": {},
     "output_type": "execute_result"
    }
   ],
   "source": [
    "result.result.head()"
   ]
  },
  {
   "cell_type": "code",
   "execution_count": 6,
   "metadata": {},
   "outputs": [
    {
     "data": {
      "text/plain": [
       "Scenario({'alpha': 0.15, 'beta': 4.0, 'input_flow': 100, 'value_of_time': 0.075, 'unit_cost_expansion': 100, 'interest_rate': 0.03, 'yield_curve': 0.01})"
      ]
     },
     "execution_count": 6,
     "metadata": {},
     "output_type": "execute_result"
    }
   ],
   "source": [
    "result.scenario"
   ]
  },
  {
   "cell_type": "markdown",
   "metadata": {},
   "source": [
    "We can visualize the set of solutions using a\n",
    "[parallel coordinates](https://en.wikipedia.org/wiki/Parallel_coordinates) \n",
    "plot.  This figure is composed of a number of vertical axes, one for each \n",
    "column of data in the results DataFrame.  Each row of the DataFrame is\n",
    "represented by a chord that connects across each of the vertical axes.\n",
    "\n",
    "By default, the axes representing performace measures to be minimized are\n",
    "inverted in the parallel coordinates, such that moving up along any \n",
    "performance measure axis results in a \"better\" outcome for that performance\n",
    "measure.\n",
    "\n",
    "In the figure below, we can quickly see that all the all of the Pareto\n",
    "optimal policy solutions for our reference scenario share an amortization\n",
    "period of 50 years and a debt type of 'Paygo'.  By contrast, the set of \n",
    "solutions include multiple different values for the expand capacity lever,\n",
    "ranging from 0 to 100.  These different values offer possible tradeoffs \n",
    "among the performance measures: lower levels of capacity expansion (shown\n",
    "in yellow) will maximize net benefits and minimize the cost of the project,\n",
    "but they will also fail to provide much travel time savings.  Conversely,\n",
    "larger levels of capacity expansion will provide better travel time savings, \n",
    "but will not perform as well on costs.  It is left up the the analysts and\n",
    "decision makers to judge what tradeoffs to make between these conflicting\n",
    "goals."
   ]
  },
  {
   "cell_type": "code",
   "execution_count": 7,
   "metadata": {},
   "outputs": [
    {
     "data": {
      "application/vnd.jupyter.widget-view+json": {
       "model_id": "d974c7d5db7b439fba2735191ecd7ee4",
       "version_major": 2,
       "version_minor": 0
      },
      "text/plain": [
       "ParCoordsViewer(children=(FigureWidget({\n",
       "    'data': [{'dimensions': [{'label': '(L) expand_capacity',\n",
       "       …"
      ]
     },
     "metadata": {},
     "output_type": "display_data"
    }
   ],
   "source": [
    "result.par_coords()"
   ]
  },
  {
   "cell_type": "markdown",
   "metadata": {},
   "source": [
    "## Worst Case Discovery: Search over Uncertainties"
   ]
  },
  {
   "cell_type": "markdown",
   "metadata": {},
   "source": [
    "We can apply the same multiobjective optimization tool in reverse to \n",
    "study the worst case outcomes from any particular set of policy lever\n",
    "settings.  To do so, we switch out the `searchover` argument from\n",
    "`'levers'` to `'uncertainties'`, and set `reverse_targets` to True,\n",
    "which will tell the optimization engine to search for the worst outcomes\n",
    "instead of the best ones.  We'll often also want to override the reference\n",
    "policy values with selected particular values, although it's possible\n",
    "to omit this reference argument to search for the worst case scenarios\n",
    "under the default policy lever settings."
   ]
  },
  {
   "cell_type": "code",
   "execution_count": 8,
   "metadata": {},
   "outputs": [
    {
     "data": {
      "application/vnd.jupyter.widget-view+json": {
       "model_id": "86fbc9b4cea645688192e17ab5947ead",
       "version_major": 2,
       "version_minor": 0
      },
      "text/plain": [
       "ConvergenceMetrics(children=(FigureWidget({\n",
       "    'data': [{'fill': 'tonexty',\n",
       "              'line': {'shape': '…"
      ]
     },
     "metadata": {},
     "output_type": "display_data"
    }
   ],
   "source": [
    "worst = model.optimize(\n",
    "    nfe=10_000, \n",
    "    searchover='uncertainties', \n",
    "    reverse_targets = True,\n",
    "    check_extremes=1,\n",
    "    cache_file='./optimization_cache/road_test_search_over_uncs.gz',\n",
    "    reference={\n",
    "        'expand_capacity': 100.0, \n",
    "        'amortization_period': 50, \n",
    "        'debt_type': 'PayGo', \n",
    "        'interest_rate_lock': False,\n",
    "    }\n",
    ")"
   ]
  },
  {
   "cell_type": "code",
   "execution_count": 9,
   "metadata": {},
   "outputs": [
    {
     "data": {
      "application/vnd.jupyter.widget-view+json": {
       "model_id": "34c15ae5ed38491996b880e716cd5f90",
       "version_major": 2,
       "version_minor": 0
      },
      "text/plain": [
       "ParCoordsViewer(children=(FigureWidget({\n",
       "    'data': [{'dimensions': [{'label': '(X) alpha',\n",
       "                 …"
      ]
     },
     "metadata": {},
     "output_type": "display_data"
    }
   ],
   "source": [
    "worst.par_coords()"
   ]
  },
  {
   "cell_type": "markdown",
   "metadata": {},
   "source": [
    "## Using Robust Optimization"
   ]
  },
  {
   "cell_type": "markdown",
   "metadata": {},
   "source": [
    "As discussed above, implementing robust optimization requires the\n",
    "definition of relevant robustness functions.  Because the functional\n",
    "form of these functions can be so many different things depending on\n",
    "the particular application, TMIP-EMAT does not implement a mechanism\n",
    "to generate them automatically.  Instead, it is left to the analyst to\n",
    "develop a set of robustness functions that are appropriate for each\n",
    "application.\n",
    "\n",
    "Each robustness function represents an aggregate performance measure,\n",
    "calculated based on the results from a group of individual runs of the\n",
    "underlying core model (or meta-model).  These runs are conducted with\n",
    "a common set of policy lever settings, and a variety of different \n",
    "exogenous uncertainty scenarios.  This allows us to create aggregate \n",
    "measures that encapsulate information from the distribution of possible\n",
    "outcomes, instead of for just one particular future scenario.\n",
    "\n",
    "A robust measure is created in TMIP-EMAT using the same `Measure` class\n",
    "used for performace measures that are direct model outputs.  Like any \n",
    "other measure, they have a `name` and `kind` (minimize, maximize, or info).\n",
    "The names used for robust measures must be unique new names that are \n",
    "not otherwise used in the model's scope, so you cannot use the same name\n",
    "as an existing performance measure. Instead, the names can (and usually \n",
    "should) be descriptive variants of the existing performance measures. \n",
    "For example, if an existing performance measure is `'net_benefits'`,\n",
    "you can name a robust measure `'min_net_benefits'`.\n",
    "\n",
    "In addition to the `name` and `kind`, robust measures have two important\n",
    "additional attributes: a `variable_name`, which names the underlying\n",
    "performance measure upon which this robust measure is based, and a\n",
    "`function` that describes how to aggregate the results.  The function\n",
    "should be a callable function, which accepts an array of performance\n",
    "measure values as its single argument, and returns a single numeric\n",
    "value that is the robust measure.  For example, the code below will \n",
    "create a robust measure that represents the minimum net benefit across \n",
    "all exogenous uncertainty scenarios."
   ]
  },
  {
   "cell_type": "code",
   "execution_count": 10,
   "metadata": {},
   "outputs": [],
   "source": [
    "from emat import Measure\n",
    "\n",
    "minimum_net_benefit = Measure(\n",
    "    name='Minimum Net Benefits',\n",
    "    kind=Measure.MAXIMIZE,\n",
    "    variable_name='net_benefits',\n",
    "    function=min,\n",
    ")"
   ]
  },
  {
   "cell_type": "markdown",
   "metadata": {},
   "source": [
    "As suggested earlier, this measure might be too sensitive to outliers\n",
    "in the set of exogenous uncertainty scenarios.  We can address this \n",
    "by creating a different robust measure, based on the same underlying\n",
    "performance measure, but which is based on the mean instead of the \n",
    "minimum value."
   ]
  },
  {
   "cell_type": "code",
   "execution_count": 11,
   "metadata": {},
   "outputs": [],
   "source": [
    "expected_net_benefit = Measure(\n",
    "    name='Mean Net Benefits',\n",
    "    kind=Measure.MAXIMIZE,\n",
    "    variable_name='net_benefits',\n",
    "    function=numpy.mean,\n",
    ")"
   ]
  },
  {
   "cell_type": "markdown",
   "metadata": {},
   "source": [
    "Or we can adopt an intermediate approach, focusing on the 5th percentile\n",
    "instead of the minimum, which avoids being overly sensitive to the \n",
    "most extreme tail ends of the distribution, but maintains a fairly \n",
    "risk-averse robustness approach.\n",
    "\n",
    "Note that normally, the `numpy.percentile` function requires two arguments\n",
    "instead of one: the array of values, and the target percentile value.\n",
    "Since the `function` of the robust measure needs to accept only a single \n",
    "argument, we can inject the `q=5` argument here using \n",
    "[functools.partial](https://docs.python.org/3/library/functools.html#functools.partial)."
   ]
  },
  {
   "cell_type": "code",
   "execution_count": 12,
   "metadata": {},
   "outputs": [],
   "source": [
    "import functools\n",
    "\n",
    "pct5_net_benefit = Measure(\n",
    "    '5%ile Net Benefits',\n",
    "    kind = Measure.MAXIMIZE,\n",
    "    variable_name = 'net_benefits', \n",
    "    function = functools.partial(numpy.percentile, q=5), \n",
    ")"
   ]
  },
  {
   "cell_type": "markdown",
   "metadata": {},
   "source": [
    "We can also capture robustness measures that are not statistical versions\n",
    "of the performance measure (that can be contrasted directly with the \n",
    "performance measure outputs, like the mean or median), but rather more abstract \n",
    "measures, like the percentage of scenarios where the performace measure \n",
    "meets some target value.  For example, we can compute the percentage of scenarios\n",
    "for the road test example where the net benefits are negative.  To do so,\n",
    "we will use the `percentileofscore` function from the `scipy.stats` package.\n",
    "For this function, set the `kind` argument to `'strict'` to count only strictly\n",
    "negative results -- not scenarios where the net benefits are exactly zero -- or\n",
    "to `'weak'` to count all non-positive results."
   ]
  },
  {
   "cell_type": "code",
   "execution_count": 13,
   "metadata": {},
   "outputs": [],
   "source": [
    "from scipy.stats import percentileofscore\n",
    "\n",
    "neg_net_benefit = Measure(\n",
    "    'Possibility of Negative Net Benefits',\n",
    "    kind = Measure.MINIMIZE,\n",
    "    variable_name = 'net_benefits', \n",
    "    function = functools.partial(percentileofscore, score=0, kind='strict'), \n",
    ")"
   ]
  },
  {
   "cell_type": "markdown",
   "metadata": {},
   "source": [
    "We can of course also create robust measures based on other \n",
    "performance measures in the core model.  For example, in the \n",
    "Road Test model the total cost of the capacity expansion is\n",
    "subject to some uncertainty, and we may want to make policy\n",
    "choices not just to maximize net benefits but also trying to\n",
    "keep costs in check."
   ]
  },
  {
   "cell_type": "code",
   "execution_count": 14,
   "metadata": {},
   "outputs": [],
   "source": [
    "pct95_cost = Measure(\n",
    "    '95%ile Capacity Expansion Cost',\n",
    "    kind = Measure.MINIMIZE,\n",
    "    variable_name = 'cost_of_capacity_expansion', \n",
    "    function = functools.partial(numpy.percentile, q = 95), \n",
    ")"
   ]
  },
  {
   "cell_type": "markdown",
   "metadata": {},
   "source": [
    "We may also be interested in finding policies that will maximize the expected time savings.  \n",
    "Although we can easily conceptualize that these two goals are in opposition (increasing time\n",
    "savings pretty obviously goes hand in hand with increasing cost) we will be able to use\n",
    "the results of this robust optimization to visualize the tradeoffs and try to find an \n",
    "appropriate balance."
   ]
  },
  {
   "cell_type": "code",
   "execution_count": 15,
   "metadata": {},
   "outputs": [],
   "source": [
    "expected_time_savings = Measure(\n",
    "    'Expected Time Savings',\n",
    "    kind = Measure.MAXIMIZE, \n",
    "    variable_name = 'time_savings', \n",
    "    function = numpy.mean,\n",
    ")"
   ]
  },
  {
   "cell_type": "code",
   "execution_count": 16,
   "metadata": {},
   "outputs": [],
   "source": [
    "from emat.util.distributed import get_client"
   ]
  },
  {
   "cell_type": "code",
   "execution_count": 17,
   "metadata": {},
   "outputs": [
    {
     "data": {
      "application/vnd.jupyter.widget-view+json": {
       "model_id": "2ae04f477c5444a5bbd37202d80e6352",
       "version_major": 2,
       "version_minor": 0
      },
      "text/plain": [
       "ConvergenceMetrics(children=(FigureWidget({\n",
       "    'data': [{'fill': 'tonexty',\n",
       "              'line': {'shape': '…"
      ]
     },
     "metadata": {},
     "output_type": "display_data"
    }
   ],
   "source": [
    "robust_result = model.robust_optimize(\n",
    "    robustness_functions=[\n",
    "        expected_net_benefit,\n",
    "        pct5_net_benefit,\n",
    "        neg_net_benefit,\n",
    "        pct95_cost,\n",
    "        expected_time_savings,\n",
    "    ],\n",
    "    scenarios=250,\n",
    "    nfe=25_000,\n",
    "    check_extremes=1,\n",
    "    evaluator=get_client(),\n",
    "    cache_file='./optimization_cache/road_test_robust_search.gz',\n",
    ")"
   ]
  },
  {
   "cell_type": "code",
   "execution_count": 18,
   "metadata": {},
   "outputs": [
    {
     "data": {
      "application/vnd.jupyter.widget-view+json": {
       "model_id": "12aefe24cf2347b6bd81fc777b7ef6a7",
       "version_major": 2,
       "version_minor": 0
      },
      "text/plain": [
       "ParCoordsViewer(children=(FigureWidget({\n",
       "    'data': [{'dimensions': [{'label': '(L) expand_capacity',\n",
       "       …"
      ]
     },
     "metadata": {},
     "output_type": "display_data"
    }
   ],
   "source": [
    "robust_result.par_coords()"
   ]
  },
  {
   "cell_type": "markdown",
   "metadata": {},
   "source": [
    "### Constraints\n",
    "\n",
    "The robust optimization process can be constrained to only include \n",
    "solutions that satisfy certain constraints. These constraints can \n",
    "be based on the policy lever parameters that are contained in the \n",
    "core model, the aggregate performance measures identified in the \n",
    "list of robustness functions, or some combination of levers and \n",
    "aggregate measures.  Importantly, the constraints *cannot* be imposed \n",
    "on the exogenous uncertainties, nor directly on the output measures \n",
    "from the core models (or the equivalent meta-model). This is because \n",
    "the robust version of the model aggregates a number of individual \n",
    "core model runs, and effectively hides these two components from \n",
    "the optimization engine.  \n",
    "\n",
    "One way to work around this limitation, at least on the output measures, \n",
    "is to write robustness functions that transmit the relevant output \n",
    "measures through the aggregation process. For example, to constrain \n",
    "the robust search only to instances where a particular output measure \n",
    "is always positive, then write a robustness function that takes the \n",
    "*minimum* value of the targeted performance measure, and write a \n",
    "constraint that ensures that the minimum value is always positive.  \n",
    "This approach should be used with caution, however, as it may severely \n",
    "limit the search space.\n",
    "\n",
    "For the road test example, we can define some constraints to consider \n",
    "solutions that are within the limited search space. To do so, we will use the \n",
    "`Constraint` class.  "
   ]
  },
  {
   "cell_type": "code",
   "execution_count": 19,
   "metadata": {},
   "outputs": [],
   "source": [
    "from emat import Constraint"
   ]
  },
  {
   "cell_type": "markdown",
   "metadata": {},
   "source": [
    "Each `Constraint` needs to have a unique name\n",
    "(i.e. not the same as anything else in the scope or any robust\n",
    "measure).  Each `Constraint` is also defined by one or more \n",
    "`parameter_names` and/or `outcome_names`, plus a `function` that will be used to \n",
    "determine whether the constraint is violated.  The `function`\n",
    "should accept positional values for each of the `parameter_names` \n",
    "and `outcome_names`, in order, and return 0 if the constraint is not\n",
    "violated, and a positive number if it is violated.\n",
    "\n",
    "Two convenient class methods are provided within the `Constraint` class:\n",
    "`must_be_less_than` and `must_be_greater_than`, which can simplify\n",
    "the creation and legibility of simple constraints on a single\n",
    "parameter or outcome.  Each take a single argument, the threshold\n",
    "of the constraint."
   ]
  },
  {
   "cell_type": "code",
   "execution_count": 20,
   "metadata": {},
   "outputs": [],
   "source": [
    "c_min_expansion = Constraint(\n",
    "    \"Minimum Capacity Expansion\",\n",
    "    parameter_names=\"expand_capacity\",\n",
    "    function=Constraint.must_be_greater_than(10),\n",
    ")\n",
    "\n",
    "c_positive_mean_net_benefit = Constraint(\n",
    "    \"Minimum Net Benefit\",\n",
    "    outcome_names = \"Mean Net Benefits\",\n",
    "    function = Constraint.must_be_greater_than(0),\n",
    ")"
   ]
  },
  {
   "cell_type": "markdown",
   "metadata": {},
   "source": [
    "It is also possible to impose constraints based on a combination \n",
    "of inputs and outputs. For example, suppose that the total funds \n",
    "available for pay-as-you-go financing are only 3,000. We may thus \n",
    "want to restrict the robust search to only solutions that are almost \n",
    "certainly within the available funds at 99% confidence (a robustness\n",
    "measure that is an output we can construct) \n",
    "but only if the Paygo financing option is used (a model input). \n",
    "This kind of constraint can be created by giving both \n",
    "`parameter_names` and `outcomes_names`, and writing a constraint \n",
    "function that takes two arguments."
   ]
  },
  {
   "cell_type": "code",
   "execution_count": 21,
   "metadata": {},
   "outputs": [],
   "source": [
    "pct99_present_cost = Measure(\n",
    "    '99%ile Present Cost',\n",
    "    kind=Measure.INFO,\n",
    "    variable_name='present_cost_expansion',\n",
    "    function=functools.partial(numpy.percentile, q=99),\n",
    ")\n",
    "\n",
    "c_max_paygo = Constraint(\n",
    "    \"Maximum Paygo\",\n",
    "    parameter_names='debt_type',\n",
    "    outcome_names='99%ile Present Cost',\n",
    "    function=lambda i,j: max(0, j-3000) if i=='Paygo' else 0,\n",
    ")"
   ]
  },
  {
   "cell_type": "markdown",
   "metadata": {},
   "source": [
    "The constraints are then passed to the `robust_optimize` method in addition to the \n",
    "other arguments."
   ]
  },
  {
   "cell_type": "code",
   "execution_count": 22,
   "metadata": {},
   "outputs": [
    {
     "data": {
      "application/vnd.jupyter.widget-view+json": {
       "model_id": "8bf0c33f837e4d9f973eab53b7b487a9",
       "version_major": 2,
       "version_minor": 0
      },
      "text/plain": [
       "ConvergenceMetrics(children=(FigureWidget({\n",
       "    'data': [{'fill': 'tonexty',\n",
       "              'line': {'shape': '…"
      ]
     },
     "metadata": {},
     "output_type": "display_data"
    }
   ],
   "source": [
    "robust_constrained = model.robust_optimize(\n",
    "    robustness_functions=[\n",
    "        expected_net_benefit,\n",
    "        pct5_net_benefit,\n",
    "        neg_net_benefit,\n",
    "        pct95_cost,\n",
    "        expected_time_savings,\n",
    "        pct99_present_cost,\n",
    "    ],\n",
    "    constraints = [\n",
    "        c_min_expansion, \n",
    "        c_positive_mean_net_benefit, \n",
    "        c_max_paygo,\n",
    "    ],\n",
    "    scenarios=250,\n",
    "    nfe=10_000,\n",
    "    check_extremes=1,\n",
    "    evaluator=get_client(),\n",
    "    cache_file='./optimization_cache/road_test_robust_search_constrained.gz',\n",
    ")"
   ]
  },
  {
   "cell_type": "code",
   "execution_count": 23,
   "metadata": {},
   "outputs": [
    {
     "data": {
      "application/vnd.jupyter.widget-view+json": {
       "model_id": "884151db469646ec835993db70bc3a16",
       "version_major": 2,
       "version_minor": 0
      },
      "text/plain": [
       "ParCoordsViewer(children=(FigureWidget({\n",
       "    'data': [{'dimensions': [{'label': '(L) expand_capacity',\n",
       "       …"
      ]
     },
     "metadata": {},
     "output_type": "display_data"
    }
   ],
   "source": [
    "robust_constrained.par_coords()"
   ]
  }
 ],
 "metadata": {
  "jupytext": {
   "encoding": "# -*- coding: utf-8 -*-",
   "formats": "ipynb,py:percent"
  },
  "kernelspec": {
   "display_name": "EMAT-DEV",
   "language": "python",
   "name": "emat-dev"
  },
  "language_info": {
   "codemirror_mode": {
    "name": "ipython",
    "version": 3
   },
   "file_extension": ".py",
   "mimetype": "text/x-python",
   "name": "python",
   "nbconvert_exporter": "python",
   "pygments_lexer": "ipython3",
   "version": "3.7.3"
  },
  "widgets": {
   "application/vnd.jupyter.widget-state+json": {
    "state": {
     "0121441f1c504f9ba6c577958d5e7083": {
      "model_module": "@jupyter-widgets/controls",
      "model_module_version": "1.5.0",
      "model_name": "DescriptionStyleModel",
      "state": {
       "description_width": ""
      }
     },
     "01d20b5e96a44a8998918d6607f9b868": {
      "model_module": "@jupyter-widgets/controls",
      "model_module_version": "1.5.0",
      "model_name": "CheckboxModel",
      "state": {
       "description": "(M+) net_benefits",
       "description_tooltip": "net_benefits",
       "disabled": false,
       "layout": "IPY_MODEL_375e9efe939e4386916bf130786d8cb3",
       "name": "net_benefits",
       "style": "IPY_MODEL_d5893bb0d79d4fa398e5be29684ec442",
       "value": true
      }
     },
     "06b423794df94729a0b6bd859f32bb64": {
      "model_module": "@jupyter-widgets/controls",
      "model_module_version": "1.5.0",
      "model_name": "DescriptionStyleModel",
      "state": {
       "description_width": ""
      }
     },
     "09f2cf3a65404d28b04ae6f29cb25e87": {
      "buffers": [
       {
        "data": "Rh8qp6D4O0BMNRtfPQQ6QCKUz/nqCjhA5vfb9SzENUAVsXP9tWE0QJq96K/FYTJAyioWGNXGMkBMcXfhPu0nQL4uYS5ruTBAtuTu0kq3QEDE7OxBpW4+QFTfiO3FyDRAk3SBLqm3JEDC2tph+PcsQFx9n2Rk4zZAHF28YMyfPUAVsXP9tWE0QJq96K/FYTJAyioWGNXGMkBMcXfhPu0nQL4uYS5ruTBAVN+I7cXINECTdIEuqbckQMLa2mH49yxAHWayTZAcQUA=",
        "encoding": "base64",
        "path": [
         "_data",
         0,
         "dimensions",
         0,
         "values",
         "value"
        ]
       },
       {
        "data": "+rbrNSVzkr9OtS54ZC2jP8ZGBnQo36U/ANCMh8Xafz+wNephz8H/P6IDuAJdJwBAlAdNMmyO/z/WAdal0hAAQPyuD8cgFgBA8leoVCxOoz98K91X3FChPyGnzXZRdv8/CKLNFOkiAECxnNen1iUAQAAE3CcFCh4/AICSvR3Ru76++SHqV8X/P3CvgG5iXABAHWk6JyU4/z8MWrYYOoL/P2HsBeeZRwBAr0xXE0oTAEAJYjRreNz/P4s2K7hqYABAorQ7TWL9oz8=",
        "encoding": "base64",
        "path": [
         "_data",
         0,
         "dimensions",
         2,
         "values",
         "value"
        ]
       },
       {
        "data": "xPZmzH2n7z8neDKmRRXwP/LK4nEPfu8/UMaBJYNu7z8ez7igWAbvP8CH0jqz6+8/ZA0bK7nI8D+jBvaLgR7vP6Xkyagli+4/FpOXBUlz7z945wB8hsXuPxFNaUu6C/A/DucSWKSc7j+k3PSFprXwP4FuyD5EwfA/Y1WLAiw98D96W6cvQzijP+ALyGN5TWk/YoHnNo55pj+sj0T3Pt+LvwrjKLI14py/sI9Ptykpeb8ADziAUTA0P8BRsfanW3K/fSFsZFRv7z8=",
        "encoding": "base64",
        "path": [
         "_data",
         0,
         "dimensions",
         3,
         "values",
         "value"
        ]
       },
       {
        "data": "pjAer/xWOECigt8yFsM8QKNRvfMaVkBAfUSLD1c0QkCpkxUMvDZVQE4CCesNkFRAQih2ACq1VEBVNVGP1N5QQBCpA6QK3FNACrtcbfsHI0BuZVY4ZBMyQCsxeMIaUlVAC49lwtL3TkDISIl5Y6VSQHmPMW2kVkFAGKyOXHM2NEDysHZnPJRVQAg96L5h5FRARwzzcU0LVUC1Es9nthVRQHdZ1rzDKFRASvS16nOxVUAGuN9p3VZPQIK68u7V51JAx1BXjxdsHEA=",
        "encoding": "base64",
        "path": [
         "_data",
         0,
         "dimensions",
         4,
         "values",
         "value"
        ]
       },
       {
        "data": "DiYQaEkXYsDN82cxWL9gwIbd2ijxy17AJISXlcO0W8CkD6Q4AXtKwEoWVBSjukfAnNMoITpFSMBvPLeGarQ9wNxAXkRRd0XAa1gZTgrhZcAKMXc20cpjwEJLa6t6CUvA8OYVzDBaOcDoSr0sP11CwKYORvnzOV3AwX+s/4g7Y8DwE58l6nlMwDtwQxbJS0nA4HGwl1frScByYwsBSj8/wNA+yKBSsUbAxPsb3IQfTcACc1YQ/LI6wB+S2rccR0PANmZQl39uZsA=",
        "encoding": "base64",
        "path": [
         "_data",
         0,
         "dimensions",
         5,
         "values",
         "value"
        ]
       },
       {
        "data": "ZmZmZmZmT0DNzMzMzMxOQJmZmZmZmU5AAAAAAAAATkDNzMzMzMxEQDQzMzMzM0RANDMzMzMzRECamZmZmZlCQM3MzMzMzENAZ2ZmZmZmUEDNzMzMzMxPQAAAAAAAAEVAmpmZmZmZQkAAAAAAAABDQJmZmZmZmU5AZmZmZmZmT0AzMzMzMzNFQJmZmZmZmURAmZmZmZmZREBnZmZmZmZDQDQzMzMzM0RAMzMzMzMzRUAzMzMzMzNCQAAAAAAAAERAZ2ZmZmZmUEA=",
        "encoding": "base64",
        "path": [
         "_data",
         0,
         "dimensions",
         6,
         "values",
         "value"
        ]
       },
       {
        "data": "Vs0R4iwyZkAMHvk2GqVkQDvoFzodFGNApSXrxLBFYUD0IPnFp4NSQGGwTBKfslBASnKfGGwOUUD8v+VLCrxFQIkE2K9LYk5AktNbJH+HakCyEtUcHSZoQOTptV5G4VJAag/D/rrRQkA9TwGngVBKQKo23ASbKWJAlHstZfmBZ0AexNi0wOJUQARH+C4n1lJACQjpbbY9U0Am/+Zwu4RIQHRVePtNI1FAgnGpKF1MVUDDdvYR1DpFQEREFd1gr01ASmG3czgoa0A=",
        "encoding": "base64",
        "path": [
         "_data",
         0,
         "dimensions",
         7,
         "values",
         "value"
        ]
       },
       {
        "data": "pSkhxy5dLEA4MakZwmArQPhZDpGwSipATJ8OKcTpKEDZrHVWZQAoQL7St5qpkyZADUb6yGbeJkAUoeLRAfYgQJfS0mMWSiVAKPcLf123LkAGHGLV9X0tQEXtS7LLRShAVufCR92CHkDBcjrA3WAjQIu2p0tGnClAqrIoP4AiLUDZrHVWZQAoQL7St5qpkyZADUb6yGbeJkAUoeLRAfYgQJfS0mMWSiVARe1LsstFKEBW58JH3YIeQMFyOsDdYCNAAoFlF6sDL0A=",
        "encoding": "base64",
        "path": [
         "_data",
         0,
         "dimensions",
         8,
         "values",
         "value"
        ]
       },
       {
        "data": "TkpIU6qKr0D9pGx2Z1atQNbbg0CUHKtACvENfnOLqEDpEIZjvfumQKuTLQx0uqRAWPlw4WkspUC3uF6IHvuaQLJuNZju26JAlnNbwIjZskAHTl5FjSixQCYOFS31b6dAekTVPKlcl0BKSlAMTVWgQNA6w4hUz6lA+smILO2zsEDpEIZjvfumQKuTLQx0uqRAWPlw4WkspUC3uF6IHvuaQLJuNZju26JAJg4VLfVvp0B6RNU8qVyXQEpKUAxNVaBAW2suj7tLs0A=",
        "encoding": "base64",
        "path": [
         "_data",
         0,
         "dimensions",
         9,
         "values",
         "value"
        ]
       },
       {
        "data": "Rh8qp6D4O0BMNRtfPQQ6QCKUz/nqCjhA5vfb9SzENUAVsXP9tWE0QJq96K/FYTJAyioWGNXGMkBMcXfhPu0nQL4uYS5ruTBAtuTu0kq3QEDE7OxBpW4+QFTfiO3FyDRAk3SBLqm3JEDC2tph+PcsQFx9n2Rk4zZAHF28YMyfPUAVsXP9tWE0QJq96K/FYTJAyioWGNXGMkBMcXfhPu0nQL4uYS5ruTBAVN+I7cXINECTdIEuqbckQMLa2mH49yxAHWayTZAcQUA=",
        "encoding": "base64",
        "path": [
         "_data",
         0,
         "line",
         "color",
         "value"
        ]
       }
      ],
      "model_module": "plotlywidget",
      "model_module_version": "^1.1.1",
      "model_name": "FigureModel",
      "state": {
       "_config": {
        "plotlyServerURL": "https://plot.ly"
       },
       "_data": [
        {
         "dimensions": [
          {
           "label": "(L) expand_capacity",
           "name": "expand_capacity",
           "range": [
            10.3587126286532,
            34.22315379343875
           ],
           "values": {
            "dtype": "float64",
            "shape": [
             25
            ]
           }
          },
          {
           "label": "(L) amortization_period",
           "name": "amortization_period",
           "range": [
            50,
            50
           ],
           "values": [
            50,
            50,
            50,
            50,
            50,
            50,
            50,
            50,
            50,
            50,
            50,
            50,
            50,
            50,
            50,
            50,
            50,
            50,
            50,
            50,
            50,
            50,
            50,
            50,
            50
           ]
          },
          {
           "label": "(L) debt_type",
           "name": "debt_type",
           "range": [
            -0.1,
            2.1
           ],
           "ticktext": [
            "",
            "GO Bond",
            "Rev Bond",
            "Paygo",
            ""
           ],
           "tickvals": [
            -0.1,
            0,
            1,
            2,
            2.1
           ],
           "values": {
            "dtype": "float64",
            "shape": [
             25
            ]
           }
          },
          {
           "label": "(L) interest_rate_lock",
           "name": "interest_rate_lock",
           "range": [
            -0.1,
            1.1
           ],
           "ticktext": [
            "",
            "False",
            "True",
            ""
           ],
           "tickvals": [
            -0.1,
            0,
            1,
            1.1
           ],
           "values": {
            "dtype": "float64",
            "shape": [
             25
            ]
           }
          },
          {
           "label": "(M+) Mean Net Benefits",
           "name": "Mean Net Benefits",
           "range": [
            7.105558623985593,
            86.77270000237436
           ],
           "values": {
            "dtype": "float64",
            "shape": [
             25
            ]
           }
          },
          {
           "label": "(M+) 5%ile Net Benefits",
           "name": "5%ile Net Benefits",
           "range": [
            -179.45307508185368,
            -25.352307086322014
           ],
           "values": {
            "dtype": "float64",
            "shape": [
             25
            ]
           }
          },
          {
           "label": "(M-) Possibility of<br>   Negative Net Benefits",
           "name": "Possibility of Negative Net Benefits",
           "range": [
            65.60000000000001,
            36.4
           ],
           "values": {
            "dtype": "float64",
            "shape": [
             25
            ]
           }
          },
          {
           "label": "(M-) 95%ile Capacity<br>   Expansion Cost",
           "name": "95%ile Capacity Expansion Cost",
           "range": [
            217.25689111534513,
            37.638519139522785
           ],
           "values": {
            "dtype": "float64",
            "shape": [
             25
            ]
           }
          },
          {
           "label": "(M+) Expected Time<br>   Savings",
           "name": "Expected Time Savings",
           "range": [
            7.627797242423034,
            15.507164698734872
           ],
           "values": {
            "dtype": "float64",
            "shape": [
             25
            ]
           }
          },
          {
           "label": "(M) 99%ile Present Cost",
           "name": "99%ile Present Cost",
           "range": [
            1495.1652711222691,
            4939.732653523645
           ],
           "values": {
            "dtype": "float64",
            "shape": [
             25
            ]
           }
          }
         ],
         "domain": {
          "y": [
           0,
           0.7
          ]
         },
         "labelangle": -90,
         "labelfont": {
          "color": "#AA0000"
         },
         "line": {
          "cmax": 34.22315379343875,
          "cmin": 10.3587126286532,
          "color": {
           "dtype": "float64",
           "shape": [
            25
           ]
          },
          "colorbar": {
           "title": {
            "side": "right",
            "text": "expand_capacity"
           }
          },
          "colorscale": [
           [
            0,
            "#440154"
           ],
           [
            0.1111111111111111,
            "#482878"
           ],
           [
            0.2222222222222222,
            "#3e4989"
           ],
           [
            0.3333333333333333,
            "#31688e"
           ],
           [
            0.4444444444444444,
            "#26828e"
           ],
           [
            0.5555555555555556,
            "#1f9e89"
           ],
           [
            0.6666666666666666,
            "#35b779"
           ],
           [
            0.7777777777777778,
            "#6ece58"
           ],
           [
            0.8888888888888888,
            "#b5de2b"
           ],
           [
            1,
            "#fde725"
           ]
          ],
          "reversescale": true,
          "showscale": true
         },
         "type": "parcoords",
         "uid": "649ba75a-f09e-4ee9-8936-0838a6895153"
        }
       ],
       "_js2py_pointsCallback": {},
       "_js2py_restyle": {},
       "_js2py_update": {},
       "_last_layout_edit_id": 1,
       "_layout": {
        "autosize": true,
        "template": {
         "data": {
          "bar": [
           {
            "error_x": {
             "color": "#2a3f5f"
            },
            "error_y": {
             "color": "#2a3f5f"
            },
            "marker": {
             "line": {
              "color": "#E5ECF6",
              "width": 0.5
             }
            },
            "type": "bar"
           }
          ],
          "barpolar": [
           {
            "marker": {
             "line": {
              "color": "#E5ECF6",
              "width": 0.5
             }
            },
            "type": "barpolar"
           }
          ],
          "carpet": [
           {
            "aaxis": {
             "endlinecolor": "#2a3f5f",
             "gridcolor": "white",
             "linecolor": "white",
             "minorgridcolor": "white",
             "startlinecolor": "#2a3f5f"
            },
            "baxis": {
             "endlinecolor": "#2a3f5f",
             "gridcolor": "white",
             "linecolor": "white",
             "minorgridcolor": "white",
             "startlinecolor": "#2a3f5f"
            },
            "type": "carpet"
           }
          ],
          "choropleth": [
           {
            "colorbar": {
             "outlinewidth": 0,
             "ticks": ""
            },
            "type": "choropleth"
           }
          ],
          "contour": [
           {
            "colorbar": {
             "outlinewidth": 0,
             "ticks": ""
            },
            "colorscale": [
             [
              0,
              "#0d0887"
             ],
             [
              0.1111111111111111,
              "#46039f"
             ],
             [
              0.2222222222222222,
              "#7201a8"
             ],
             [
              0.3333333333333333,
              "#9c179e"
             ],
             [
              0.4444444444444444,
              "#bd3786"
             ],
             [
              0.5555555555555556,
              "#d8576b"
             ],
             [
              0.6666666666666666,
              "#ed7953"
             ],
             [
              0.7777777777777778,
              "#fb9f3a"
             ],
             [
              0.8888888888888888,
              "#fdca26"
             ],
             [
              1,
              "#f0f921"
             ]
            ],
            "type": "contour"
           }
          ],
          "contourcarpet": [
           {
            "colorbar": {
             "outlinewidth": 0,
             "ticks": ""
            },
            "type": "contourcarpet"
           }
          ],
          "heatmap": [
           {
            "colorbar": {
             "outlinewidth": 0,
             "ticks": ""
            },
            "colorscale": [
             [
              0,
              "#0d0887"
             ],
             [
              0.1111111111111111,
              "#46039f"
             ],
             [
              0.2222222222222222,
              "#7201a8"
             ],
             [
              0.3333333333333333,
              "#9c179e"
             ],
             [
              0.4444444444444444,
              "#bd3786"
             ],
             [
              0.5555555555555556,
              "#d8576b"
             ],
             [
              0.6666666666666666,
              "#ed7953"
             ],
             [
              0.7777777777777778,
              "#fb9f3a"
             ],
             [
              0.8888888888888888,
              "#fdca26"
             ],
             [
              1,
              "#f0f921"
             ]
            ],
            "type": "heatmap"
           }
          ],
          "heatmapgl": [
           {
            "colorbar": {
             "outlinewidth": 0,
             "ticks": ""
            },
            "colorscale": [
             [
              0,
              "#0d0887"
             ],
             [
              0.1111111111111111,
              "#46039f"
             ],
             [
              0.2222222222222222,
              "#7201a8"
             ],
             [
              0.3333333333333333,
              "#9c179e"
             ],
             [
              0.4444444444444444,
              "#bd3786"
             ],
             [
              0.5555555555555556,
              "#d8576b"
             ],
             [
              0.6666666666666666,
              "#ed7953"
             ],
             [
              0.7777777777777778,
              "#fb9f3a"
             ],
             [
              0.8888888888888888,
              "#fdca26"
             ],
             [
              1,
              "#f0f921"
             ]
            ],
            "type": "heatmapgl"
           }
          ],
          "histogram": [
           {
            "marker": {
             "colorbar": {
              "outlinewidth": 0,
              "ticks": ""
             }
            },
            "type": "histogram"
           }
          ],
          "histogram2d": [
           {
            "colorbar": {
             "outlinewidth": 0,
             "ticks": ""
            },
            "colorscale": [
             [
              0,
              "#0d0887"
             ],
             [
              0.1111111111111111,
              "#46039f"
             ],
             [
              0.2222222222222222,
              "#7201a8"
             ],
             [
              0.3333333333333333,
              "#9c179e"
             ],
             [
              0.4444444444444444,
              "#bd3786"
             ],
             [
              0.5555555555555556,
              "#d8576b"
             ],
             [
              0.6666666666666666,
              "#ed7953"
             ],
             [
              0.7777777777777778,
              "#fb9f3a"
             ],
             [
              0.8888888888888888,
              "#fdca26"
             ],
             [
              1,
              "#f0f921"
             ]
            ],
            "type": "histogram2d"
           }
          ],
          "histogram2dcontour": [
           {
            "colorbar": {
             "outlinewidth": 0,
             "ticks": ""
            },
            "colorscale": [
             [
              0,
              "#0d0887"
             ],
             [
              0.1111111111111111,
              "#46039f"
             ],
             [
              0.2222222222222222,
              "#7201a8"
             ],
             [
              0.3333333333333333,
              "#9c179e"
             ],
             [
              0.4444444444444444,
              "#bd3786"
             ],
             [
              0.5555555555555556,
              "#d8576b"
             ],
             [
              0.6666666666666666,
              "#ed7953"
             ],
             [
              0.7777777777777778,
              "#fb9f3a"
             ],
             [
              0.8888888888888888,
              "#fdca26"
             ],
             [
              1,
              "#f0f921"
             ]
            ],
            "type": "histogram2dcontour"
           }
          ],
          "mesh3d": [
           {
            "colorbar": {
             "outlinewidth": 0,
             "ticks": ""
            },
            "type": "mesh3d"
           }
          ],
          "parcoords": [
           {
            "line": {
             "colorbar": {
              "outlinewidth": 0,
              "ticks": ""
             }
            },
            "type": "parcoords"
           }
          ],
          "scatter": [
           {
            "marker": {
             "colorbar": {
              "outlinewidth": 0,
              "ticks": ""
             }
            },
            "type": "scatter"
           }
          ],
          "scatter3d": [
           {
            "line": {
             "colorbar": {
              "outlinewidth": 0,
              "ticks": ""
             }
            },
            "marker": {
             "colorbar": {
              "outlinewidth": 0,
              "ticks": ""
             }
            },
            "type": "scatter3d"
           }
          ],
          "scattercarpet": [
           {
            "marker": {
             "colorbar": {
              "outlinewidth": 0,
              "ticks": ""
             }
            },
            "type": "scattercarpet"
           }
          ],
          "scattergeo": [
           {
            "marker": {
             "colorbar": {
              "outlinewidth": 0,
              "ticks": ""
             }
            },
            "type": "scattergeo"
           }
          ],
          "scattergl": [
           {
            "marker": {
             "colorbar": {
              "outlinewidth": 0,
              "ticks": ""
             }
            },
            "type": "scattergl"
           }
          ],
          "scattermapbox": [
           {
            "marker": {
             "colorbar": {
              "outlinewidth": 0,
              "ticks": ""
             }
            },
            "type": "scattermapbox"
           }
          ],
          "scatterpolar": [
           {
            "marker": {
             "colorbar": {
              "outlinewidth": 0,
              "ticks": ""
             }
            },
            "type": "scatterpolar"
           }
          ],
          "scatterpolargl": [
           {
            "marker": {
             "colorbar": {
              "outlinewidth": 0,
              "ticks": ""
             }
            },
            "type": "scatterpolargl"
           }
          ],
          "scatterternary": [
           {
            "marker": {
             "colorbar": {
              "outlinewidth": 0,
              "ticks": ""
             }
            },
            "type": "scatterternary"
           }
          ],
          "surface": [
           {
            "colorbar": {
             "outlinewidth": 0,
             "ticks": ""
            },
            "colorscale": [
             [
              0,
              "#0d0887"
             ],
             [
              0.1111111111111111,
              "#46039f"
             ],
             [
              0.2222222222222222,
              "#7201a8"
             ],
             [
              0.3333333333333333,
              "#9c179e"
             ],
             [
              0.4444444444444444,
              "#bd3786"
             ],
             [
              0.5555555555555556,
              "#d8576b"
             ],
             [
              0.6666666666666666,
              "#ed7953"
             ],
             [
              0.7777777777777778,
              "#fb9f3a"
             ],
             [
              0.8888888888888888,
              "#fdca26"
             ],
             [
              1,
              "#f0f921"
             ]
            ],
            "type": "surface"
           }
          ],
          "table": [
           {
            "cells": {
             "fill": {
              "color": "#EBF0F8"
             },
             "line": {
              "color": "white"
             }
            },
            "header": {
             "fill": {
              "color": "#C8D4E3"
             },
             "line": {
              "color": "white"
             }
            },
            "type": "table"
           }
          ]
         },
         "layout": {
          "annotationdefaults": {
           "arrowcolor": "#2a3f5f",
           "arrowhead": 0,
           "arrowwidth": 1
          },
          "colorscale": {
           "diverging": [
            [
             0,
             "#8e0152"
            ],
            [
             0.1,
             "#c51b7d"
            ],
            [
             0.2,
             "#de77ae"
            ],
            [
             0.3,
             "#f1b6da"
            ],
            [
             0.4,
             "#fde0ef"
            ],
            [
             0.5,
             "#f7f7f7"
            ],
            [
             0.6,
             "#e6f5d0"
            ],
            [
             0.7,
             "#b8e186"
            ],
            [
             0.8,
             "#7fbc41"
            ],
            [
             0.9,
             "#4d9221"
            ],
            [
             1,
             "#276419"
            ]
           ],
           "sequential": [
            [
             0,
             "#0d0887"
            ],
            [
             0.1111111111111111,
             "#46039f"
            ],
            [
             0.2222222222222222,
             "#7201a8"
            ],
            [
             0.3333333333333333,
             "#9c179e"
            ],
            [
             0.4444444444444444,
             "#bd3786"
            ],
            [
             0.5555555555555556,
             "#d8576b"
            ],
            [
             0.6666666666666666,
             "#ed7953"
            ],
            [
             0.7777777777777778,
             "#fb9f3a"
            ],
            [
             0.8888888888888888,
             "#fdca26"
            ],
            [
             1,
             "#f0f921"
            ]
           ],
           "sequentialminus": [
            [
             0,
             "#0d0887"
            ],
            [
             0.1111111111111111,
             "#46039f"
            ],
            [
             0.2222222222222222,
             "#7201a8"
            ],
            [
             0.3333333333333333,
             "#9c179e"
            ],
            [
             0.4444444444444444,
             "#bd3786"
            ],
            [
             0.5555555555555556,
             "#d8576b"
            ],
            [
             0.6666666666666666,
             "#ed7953"
            ],
            [
             0.7777777777777778,
             "#fb9f3a"
            ],
            [
             0.8888888888888888,
             "#fdca26"
            ],
            [
             1,
             "#f0f921"
            ]
           ]
          },
          "colorway": [
           "#636efa",
           "#EF553B",
           "#00cc96",
           "#ab63fa",
           "#FFA15A",
           "#19d3f3",
           "#FF6692",
           "#B6E880",
           "#FF97FF",
           "#FECB52"
          ],
          "font": {
           "color": "#2a3f5f"
          },
          "geo": {
           "bgcolor": "white",
           "lakecolor": "white",
           "landcolor": "#E5ECF6",
           "showlakes": true,
           "showland": true,
           "subunitcolor": "white"
          },
          "hoverlabel": {
           "align": "left"
          },
          "hovermode": "closest",
          "mapbox": {
           "style": "light"
          },
          "paper_bgcolor": "white",
          "plot_bgcolor": "#E5ECF6",
          "polar": {
           "angularaxis": {
            "gridcolor": "white",
            "linecolor": "white",
            "ticks": ""
           },
           "bgcolor": "#E5ECF6",
           "radialaxis": {
            "gridcolor": "white",
            "linecolor": "white",
            "ticks": ""
           }
          },
          "scene": {
           "xaxis": {
            "backgroundcolor": "#E5ECF6",
            "gridcolor": "white",
            "gridwidth": 2,
            "linecolor": "white",
            "showbackground": true,
            "ticks": "",
            "zerolinecolor": "white"
           },
           "yaxis": {
            "backgroundcolor": "#E5ECF6",
            "gridcolor": "white",
            "gridwidth": 2,
            "linecolor": "white",
            "showbackground": true,
            "ticks": "",
            "zerolinecolor": "white"
           },
           "zaxis": {
            "backgroundcolor": "#E5ECF6",
            "gridcolor": "white",
            "gridwidth": 2,
            "linecolor": "white",
            "showbackground": true,
            "ticks": "",
            "zerolinecolor": "white"
           }
          },
          "shapedefaults": {
           "line": {
            "color": "#2a3f5f"
           }
          },
          "ternary": {
           "aaxis": {
            "gridcolor": "white",
            "linecolor": "white",
            "ticks": ""
           },
           "baxis": {
            "gridcolor": "white",
            "linecolor": "white",
            "ticks": ""
           },
           "bgcolor": "#E5ECF6",
           "caxis": {
            "gridcolor": "white",
            "linecolor": "white",
            "ticks": ""
           }
          },
          "title": {
           "x": 0.05
          },
          "xaxis": {
           "automargin": true,
           "gridcolor": "white",
           "linecolor": "white",
           "ticks": "",
           "zerolinecolor": "white",
           "zerolinewidth": 2
          },
          "yaxis": {
           "automargin": true,
           "gridcolor": "white",
           "linecolor": "white",
           "ticks": "",
           "zerolinecolor": "white",
           "zerolinewidth": 2
          }
         }
        }
       },
       "_py2js_addTraces": {},
       "_py2js_animate": {},
       "_py2js_deleteTraces": {},
       "_py2js_moveTraces": {},
       "_py2js_removeLayoutProps": {},
       "_py2js_removeTraceProps": {},
       "_py2js_restyle": {},
       "_py2js_update": {},
       "_view_count": 1
      }
     },
     "0a8b7a4e4b244d20971f02f964cbeacd": {
      "model_module": "@jupyter-widgets/base",
      "model_module_version": "1.2.0",
      "model_name": "LayoutModel",
      "state": {}
     },
     "0c75d5322dd34ed789a201d17b54a48c": {
      "model_module": "@jupyter-widgets/controls",
      "model_module_version": "1.5.0",
      "model_name": "BoxModel",
      "state": {
       "children": [
        "IPY_MODEL_36415f094ca942ab84f2f00b87df88df",
        "IPY_MODEL_cdc1364c52ef4928b95410f39ca0e06f",
        "IPY_MODEL_84041c25490d40438570c48c46472662",
        "IPY_MODEL_b7e29c1eda4c4fc0a02139f846aa5587",
        "IPY_MODEL_f18b5f7fb7b84f61a8f51fd6d5d6bf99",
        "IPY_MODEL_9af2b60b2bff4c92a5f5aad9b09421f9",
        "IPY_MODEL_14b3431c709840adac9ba6369abd995e",
        "IPY_MODEL_1c5d70f95cbb42e1990046797a31261a",
        "IPY_MODEL_6d64845a16844b3691b620d71a8f97d7"
       ],
       "layout": "IPY_MODEL_2568e02804bf4af3a8e61f51a28c2f75"
      }
     },
     "0d166690dd9c45bf809aece7808c8b2c": {
      "model_module": "@jupyter-widgets/base",
      "model_module_version": "1.2.0",
      "model_name": "LayoutModel",
      "state": {}
     },
     "10544d76732648adbc06b77954dd5c56": {
      "model_module": "@jupyter-widgets/base",
      "model_module_version": "1.2.0",
      "model_name": "LayoutModel",
      "state": {}
     },
     "114cde754cca45f8a0830980ea2e2e95": {
      "model_module": "@jupyter-widgets/base",
      "model_module_version": "1.2.0",
      "model_name": "LayoutModel",
      "state": {}
     },
     "1179f0bfc4dc4c4d86d5c137b8545393": {
      "model_module": "@jupyter-widgets/controls",
      "model_module_version": "1.5.0",
      "model_name": "HTMLModel",
      "state": {
       "layout": "IPY_MODEL_fc109692aca7422f806773894f3a0c9b",
       "style": "IPY_MODEL_2499c659902d41bda4e80b3653a861dd",
       "value": "\n\t\t\t(M-) Performance Measure to Minimize<br>\n\t\t\t(M+) Performance Measure to Maximize<br>\n\t\t\t(M) Performance Measure without preferred direction<br>\n\t\t\t(L) Policy Lever<br>\n\t\t\t(X) Exogenous Uncertainty\n\t\t"
      }
     },
     "1269bf0d3de94197bd03bc23004f895e": {
      "model_module": "@jupyter-widgets/base",
      "model_module_version": "1.2.0",
      "model_name": "LayoutModel",
      "state": {}
     },
     "12aefe24cf2347b6bd81fc777b7ef6a7": {
      "model_module": "@jupyter-widgets/controls",
      "model_module_version": "1.5.0",
      "model_name": "VBoxModel",
      "state": {
       "children": [
        "IPY_MODEL_c9714b91fb8e488b971a1c6810076dc2",
        "IPY_MODEL_7e6de5ad0a3049eab681adbe6c4b16f4",
        "IPY_MODEL_0c75d5322dd34ed789a201d17b54a48c",
        "IPY_MODEL_e18264bd52a644b38754ed70073cf7aa"
       ],
       "layout": "IPY_MODEL_3ddeb6fdc7684a68ac09982ba9defd7f"
      }
     },
     "14b3431c709840adac9ba6369abd995e": {
      "model_module": "@jupyter-widgets/controls",
      "model_module_version": "1.5.0",
      "model_name": "CheckboxModel",
      "state": {
       "description": "(M-) Possibility of Negative Net Benefits",
       "description_tooltip": "Possibility of Negative Net Benefits",
       "disabled": false,
       "layout": "IPY_MODEL_98b4843987904780ab5ff44d74acabcf",
       "name": "Possibility of Negative Net Benefits",
       "style": "IPY_MODEL_c7a1063175b44f039377fd2bbb5375f9",
       "value": true
      }
     },
     "158a083015f34bac81fa7ef8a14d2541": {
      "buffers": [
       {
        "data": "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",
        "encoding": "base64",
        "path": [
         "_data",
         0,
         "dimensions",
         0,
         "values",
         "value"
        ]
       },
       {
        "data": "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",
        "encoding": "base64",
        "path": [
         "_data",
         0,
         "dimensions",
         1,
         "values",
         "value"
        ]
       },
       {
        "data": "/Knx0k1iUD/8qfHSTWJQP/yp8dJNYlA//Knx0k1iUD/8qfHSTWJQP/yp8dJNYlA//Knx0k1iUD/8qfHSTWJQP/yp8dJNYlA//Knx0k1iUD/8qfHSTWJQP/yp8dJNYlA//Knx0k1iUD/8qfHSTWJQP/yp8dJNYlA//Knx0k1iUD/8qfHSTWJQP/yp8dJNYlA//Knx0k1iUD/8qfHSTWJQP/yp8dJNYlA//Knx0k1iUD/8qfHSTWJQP/yp8dJNYlA//Knx0k1iUD/8qfHSTWJQP/yp8dJNYlA//Knx0k1iUD/8qfHSTWJQP/yp8dJNYlA//Knx0k1iUD/8qfHSTWJQP/yp8dJNYlA//Knx0k1iUD/8qfHSTWJQP/yp8dJNYlA//Knx0k1iUD/8qfHSTWJQP/yp8dJNYlA//Knx0k1iUD/8qfHSTWJQP/yp8dJNYlA//Knx0k1iUD/8qfHSTWJQP/yp8dJNYlA//Knx0k1iUD/8qfHSTWJQP/yp8dJNYlA//Knx0k1iUD/8qfHSTWJQP/yp8dJNYlA//Knx0k1iUD/8qfHSTWJQP/yp8dJNYlA//Knx0k1iUD/8qfHSTWJQP/yp8dJNYlA//Knx0k1iUD/8qfHSTWJQP/yp8dJNYlA//Knx0k1iUD/8qfHSTWJQP/yp8dJNYlA//Knx0k1iUD/8qfHSTWJQP/yp8dJNYlA//Knx0k1iUD/8qfHSTWJQP/yp8dJNYlA//Knx0k1iUD/8qfHSTWJQP/yp8dJNYlA//Knx0k1iUD/8qfHSTWJQP/yp8dJNYlA//Knx0k1iUD/8qfHSTWJQP/yp8dJNYlA//Knx0k1iUD/8qfHSTWJQP/yp8dJNYlA//Knx0k1iUD/8qfHSTWJQP/yp8dJNYlA//Knx0k1iUD/8qfHSTWJQP/yp8dJNYlA//Knx0k1iUD/8qfHSTWJQP/yp8dJNYlA//Knx0k1iUD/8qfHSTWJQP/yp8dJNYlA//Knx0k1iUD/8qfHSTWJQP/yp8dJNYlA//Knx0k1iUD/8qfHSTWJQP/yp8dJNYlA//Knx0k1iUD/8qfHSTWJQP/yp8dJNYlA//Knx0k1iUD/8qfHSTWJQP/yp8dJNYlA//Knx0k1iUD/8qfHSTWJQP/yp8dJNYlA//Knx0k1iUD/8qfHSTWJQP/yp8dJNYlA//Knx0k1iUD/8qfHSTWJQP/yp8dJNYlA//Knx0k1iUD/8qfHSTWJQP/yp8dJNYlA//Knx0k1iUD/8qfHSTWJQP/yp8dJNYlA//Knx0k1iUD/8qfHSTWJQP/yp8dJNYlA//Knx0k1iUD/8qfHSTWJQP/yp8dJNYlA//Knx0k1iUD/8qfHSTWJQP/yp8dJNYlA//Knx0k1iUD/8qfHSTWJQP/yp8dJNYlA//Knx0k1iUD/8qfHSTWJQP/yp8dJNYlA//Knx0k1iUD/8qfHSTWJQP/yp8dJNYlA//Knx0k1iUD/8qfHSTWJQP/yp8dJNYlA//Knx0k1iUD/8qfHSTWJQP/yp8dJNYlA//Knx0k1iUD/8qfHSTWJQP/yp8dJNYlA//Knx0k1iUD/8qfHSTWJQP/yp8dJNYlA//Knx0k1iUD/8qfHSTWJQP/yp8dJNYlA//Knx0k1iUD/8qfHSTWJQP/yp8dJNYlA//Knx0k1iUD/8qfHSTWJQP/yp8dJNYlA//Knx0k1iUD/8qfHSTWJQP/yp8dJNYlA//Knx0k1iUD/8qfHSTWJQP/yp8dJNYlA//Knx0k1iUD/8qfHSTWJQP/yp8dJNYlA//Knx0k1iUD/8qfHSTWJQP/yp8dJNYlA//Knx0k1iUD/8qfHSTWJQP/yp8dJNYlA//Knx0k1iUD/8qfHSTWJQP/yp8dJNYlA//Knx0k1iUD/8qfHSTWJQP/yp8dJNYlA//Knx0k1iUD/8qfHSTWJQP/yp8dJNYlA//Knx0k1iUD/8qfHSTWJQP/yp8dJNYlA//Knx0k1iUD/8qfHSTWJQP/yp8dJNYlA//Knx0k1iUD/8qfHSTWJQP/yp8dJNYlA//Knx0k1iUD/8qfHSTWJQP/yp8dJNYlA//Knx0k1iUD/8qfHSTWJQP/yp8dJNYlA//Knx0k1iUD/8qfHSTWJQP/yp8dJNYlA//Knx0k1iUD/8qfHSTWJQP/yp8dJNYlA//Knx0k1iUD/8qfHSTWJQP/yp8dJNYlA//Knx0k1iUD/8qfHSTWJQP/yp8dJNYlA//Knx0k1iUD/8qfHSTWJQP/yp8dJNYlA//Knx0k1iUD/8qfHSTWJQP/yp8dJNYlA//Knx0k1iUD/8qfHSTWJQP/yp8dJNYlA//Knx0k1iUD/8qfHSTWJQP/yp8dJNYlA//Knx0k1iUD/8qfHSTWJQP/yp8dJNYlA//Knx0k1iUD/8qfHSTWJQP/yp8dJNYlA//Knx0k1iUD/8qfHSTWJQP/yp8dJNYlA//Knx0k1iUD/8qfHSTWJQP/yp8dJNYlA//Knx0k1iUD/8qfHSTWJQP/yp8dJNYlA//Knx0k1iUD/8qfHSTWJQP/yp8dJNYlA//Knx0k1iUD/8qfHSTWJQP/yp8dJNYlA//Knx0k1iUD/8qfHSTWJQP/yp8dJNYlA//Knx0k1iUD/8qfHSTWJQP/yp8dJNYlA//Knx0k1iUD/8qfHSTWJQP/yp8dJNYlA//Knx0k1iUD/8qfHSTWJQP/yp8dJNYlA//Knx0k1iUD/8qfHSTWJQP/yp8dJNYlA//Knx0k1iUD/8qfHSTWJQP/yp8dJNYlA//Knx0k1iUD/8qfHSTWJQP/yp8dJNYlA//Knx0k1iUD/8qfHSTWJQP/yp8dJNYlA//Knx0k1iUD/8qfHSTWJQP/yp8dJNYlA//Knx0k1iUD/8qfHSTWJQP/yp8dJNYlA//Knx0k1iUD/8qfHSTWJQP/yp8dJNYlA//Knx0k1iUD/8qfHSTWJQP/yp8dJNYlA//Knx0k1iUD/8qfHSTWJQP/yp8dJNYlA//Knx0k1iUD/8qfHSTWJQP/yp8dJNYlA//Knx0k1iUD/8qfHSTWJQPw==",
        "encoding": "base64",
        "path": [
         "_data",
         0,
         "dimensions",
         3,
         "values",
         "value"
        ]
       },
       {
        "data": "AAAAAAAgYkAAAAAAACBiQAAAAAAAIGJAAAAAAAAgYkAAAAAAACBiQAAAAAAAIGJAAAAAAAAgYkAAAAAAACBiQAAAAAAAIGJAAAAAAAAgYkAAAAAAACBiQAAAAAAAIGJAAAAAAAAgYkAAAAAAACBiQAAAAAAAIGJAAAAAAAAgYkAAAAAAACBiQAAAAAAAIGJAAAAAAAAgYkAAAAAAACBiQAAAAAAAIGJAAAAAAAAgYkAAAAAAACBiQAAAAAAAIGJAAAAAAAAgYkAAAAAAACBiQAAAAAAAIGJAAAAAAAAgYkAAAAAAACBiQAAAAAAAIGJAAAAAAAAgYkAAAAAAACBiQAAAAAAAIGJAAAAAAAAgYkAAAAAAACBiQAAAAAAAIGJAAAAAAAAgYkAAAAAAACBiQAAAAAAAIGJAAAAAAAAgYkAAAAAAACBiQAAAAAAAIGJAAAAAAAAgYkAAAAAAACBiQAAAAAAAIGJAAAAAAAAgYkAAAAAAACBiQAAAAAAAIGJAAAAAAAAgYkAAAAAAACBiQAAAAAAAIGJAAAAAAAAgYkAAAAAAACBiQAAAAAAAIGJAAAAAAAAgYkAAAAAAACBiQAAAAAAAIGJAAAAAAAAgYkAAAAAAACBiQAAAAAAAIGJAAAAAAAAgYkAAAAAAACBiQAAAAAAAIGJAAAAAAAAgYkAAAAAAACBiQAAAAAAAIGJAAAAAAAAgYkAAAAAAACBiQAAAAAAAIGJAAAAAAAAgYkAAAAAAACBiQAAAAAAAIGJAAAAAAAAgYkAAAAAAACBiQAAAAAAAIGJAAAAAAAAgYkAAAAAAACBiQAAAAAAAIGJAAAAAAAAgYkAAAAAAACBiQAAAAAAAIGJAAAAAAAAgYkAAAAAAACBiQAAAAAAAIGJAAAAAAAAgYkAAAAAAACBiQAAAAAAAIGJAAAAAAAAgYkAAAAAAACBiQAAAAAAAIGJAAAAAAAAgYkAAAAAAACBiQAAAAAAAIGJAAAAAAAAgYkAAAAAAACBiQAAAAAAAIGJAAAAAAAAgYkAAAAAAACBiQAAAAAAAIGJAAAAAAAAgYkAAAAAAACBiQAAAAAAAIGJAAAAAAAAgYkAAAAAAACBiQAAAAAAAIGJAAAAAAAAgYkAAAAAAACBiQAAAAAAAIGJAAAAAAAAgYkAAAAAAACBiQAAAAAAAIGJAAAAAAAAgYkAAAAAAACBiQAAAAAAAIGJAAAAAAAAgYkAAAAAAACBiQAAAAAAAIGJAAAAAAAAgYkAAAAAAACBiQAAAAAAAIGJAAAAAAAAgYkAAAAAAACBiQAAAAAAAIGJAAAAAAAAgYkAAAAAAACBiQAAAAAAAIGJAAAAAAAAgYkAAAAAAACBiQAAAAAAAIGJAAAAAAAAgYkAAAAAAACBiQAAAAAAAIGJAAAAAAAAgYkAAAAAAACBiQAAAAAAAIGJAAAAAAAAgYkAAAAAAACBiQAAAAAAAIGJAAAAAAAAgYkAAAAAAACBiQAAAAAAAIGJAAAAAAAAgYkAAAAAAACBiQAAAAAAAIGJAAAAAAAAgYkAAAAAAACBiQAAAAAAAIGJAAAAAAAAgYkAAAAAAACBiQAAAAAAAIGJAAAAAAAAgYkAAAAAAACBiQAAAAAAAIGJAAAAAAAAgYkAAAAAAACBiQAAAAAAAIGJAAAAAAAAgYkAAAAAAACBiQAAAAAAAIGJAAAAAAAAgYkAAAAAAACBiQAAAAAAAIGJAAAAAAAAgYkAAAAAAACBiQAAAAAAAIGJAAAAAAAAgYkAAAAAAACBiQAAAAAAAIGJAAAAAAAAgYkAAAAAAACBiQAAAAAAAIGJAAAAAAAAgYkAAAAAAACBiQAAAAAAAIGJAAAAAAAAgYkAAAAAAACBiQAAAAAAAIGJAAAAAAAAgYkAAAAAAACBiQAAAAAAAIGJAAAAAAAAgYkAAAAAAACBiQAAAAAAAIGJAAAAAAAAgYkAAAAAAACBiQAAAAAAAIGJAAAAAAAAgYkAAAAAAACBiQAAAAAAAIGJAAAAAAAAgYkAAAAAAACBiQAAAAAAAIGJAAAAAAAAgYkAAAAAAACBiQAAAAAAAIGJAAAAAAAAgYkAAAAAAACBiQAAAAAAAIGJAAAAAAAAgYkAAAAAAACBiQAAAAAAAIGJAAAAAAAAgYkAAAAAAACBiQAAAAAAAIGJAAAAAAAAgYkAAAAAAACBiQAAAAAAAIGJAAAAAAAAgYkAAAAAAACBiQAAAAAAAIGJAAAAAAAAgYkAAAAAAACBiQAAAAAAAIGJAAAAAAAAgYkAAAAAAACBiQAAAAAAAIGJAAAAAAAAgYkAAAAAAACBiQAAAAAAAIGJAAAAAAAAgYkAAAAAAACBiQAAAAAAAIGJAAAAAAAAgYkAAAAAAACBiQAAAAAAAIGJAAAAAAAAgYkAAAAAAACBiQAAAAAAAIGJAAAAAAAAgYkAAAAAAACBiQAAAAAAAIGJAAAAAAAAgYkAAAAAAACBiQAAAAAAAIGJAAAAAAAAgYkAAAAAAACBiQAAAAAAAIGJAAAAAAAAgYkAAAAAAACBiQAAAAAAAIGJAAAAAAAAgYkAAAAAAACBiQAAAAAAAIGJAAAAAAAAgYkAAAAAAACBiQAAAAAAAIGJAAAAAAAAgYkAAAAAAACBiQAAAAAAAIGJAAAAAAAAgYkAAAAAAACBiQAAAAAAAIGJAAAAAAAAgYkAAAAAAACBiQAAAAAAAIGJAAAAAAAAgYkAAAAAAACBiQAAAAAAAIGJAAAAAAAAgYkAAAAAAACBiQAAAAAAAIGJAAAAAAAAgYkAAAAAAACBiQAAAAAAAIGJAAAAAAAAgYkAAAAAAACBiQAAAAAAAIGJAAAAAAAAgYkAAAAAAACBiQAAAAAAAIGJAAAAAAAAgYkAAAAAAACBiQAAAAAAAIGJAAAAAAAAgYkAAAAAAACBiQAAAAAAAIGJAAAAAAAAgYkAAAAAAACBiQAAAAAAAIGJAAAAAAAAgYkAAAAAAACBiQAAAAAAAIGJAAAAAAAAgYkAAAAAAACBiQAAAAAAAIGJAAAAAAAAgYkAAAAAAACBiQA==",
        "encoding": "base64",
        "path": [
         "_data",
         0,
         "dimensions",
         4,
         "values",
         "value"
        ]
       },
       {
        "data": "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",
        "encoding": "base64",
        "path": [
         "_data",
         0,
         "dimensions",
         5,
         "values",
         "value"
        ]
       },
       {
        "data": "exSuR+F6lD97FK5H4XqUP3sUrkfhepQ/exSuR+F6lD97FK5H4XqUP3sUrkfhepQ/exSuR+F6lD97FK5H4XqUP3sUrkfhepQ/exSuR+F6lD97FK5H4XqUP3sUrkfhepQ/exSuR+F6lD97FK5H4XqUP3sUrkfhepQ/exSuR+F6lD97FK5H4XqUP3sUrkfhepQ/exSuR+F6lD97FK5H4XqUP3sUrkfhepQ/exSuR+F6lD97FK5H4XqUP3sUrkfhepQ/exSuR+F6lD97FK5H4XqUP3sUrkfhepQ/exSuR+F6lD97FK5H4XqUP3sUrkfhepQ/exSuR+F6lD97FK5H4XqUP3sUrkfhepQ/exSuR+F6lD97FK5H4XqUP3sUrkfhepQ/exSuR+F6lD97FK5H4XqUP3sUrkfhepQ/exSuR+F6lD97FK5H4XqUP3sUrkfhepQ/exSuR+F6lD97FK5H4XqUP3sUrkfhepQ/exSuR+F6lD97FK5H4XqUP3sUrkfhepQ/exSuR+F6lD97FK5H4XqUP3sUrkfhepQ/exSuR+F6lD97FK5H4XqUP3sUrkfhepQ/exSuR+F6lD97FK5H4XqUP3sUrkfhepQ/exSuR+F6lD97FK5H4XqUP3sUrkfhepQ/exSuR+F6lD97FK5H4XqUP3sUrkfhepQ/exSuR+F6lD97FK5H4XqUP3sUrkfhepQ/exSuR+F6lD97FK5H4XqUP3sUrkfhepQ/exSuR+F6lD97FK5H4XqUP3sUrkfhepQ/exSuR+F6lD97FK5H4XqUP3sUrkfhepQ/exSuR+F6lD97FK5H4XqUP3sUrkfhepQ/exSuR+F6lD97FK5H4XqUP3sUrkfhepQ/exSuR+F6lD97FK5H4XqUP3sUrkfhepQ/exSuR+F6lD97FK5H4XqUP3sUrkfhepQ/exSuR+F6lD97FK5H4XqUP3sUrkfhepQ/exSuR+F6lD97FK5H4XqUP3sUrkfhepQ/exSuR+F6lD97FK5H4XqUP3sUrkfhepQ/exSuR+F6lD97FK5H4XqUP3sUrkfhepQ/exSuR+F6lD97FK5H4XqUP3sUrkfhepQ/exSuR+F6lD97FK5H4XqUP3sUrkfhepQ/exSuR+F6lD97FK5H4XqUP3sUrkfhepQ/exSuR+F6lD97FK5H4XqUP3sUrkfhepQ/exSuR+F6lD97FK5H4XqUP3sUrkfhepQ/exSuR+F6lD97FK5H4XqUP3sUrkfhepQ/exSuR+F6lD97FK5H4XqUP3sUrkfhepQ/exSuR+F6lD97FK5H4XqUP3sUrkfhepQ/exSuR+F6lD97FK5H4XqUP3sUrkfhepQ/exSuR+F6lD97FK5H4XqUP3sUrkfhepQ/exSuR+F6lD97FK5H4XqUP3sUrkfhepQ/exSuR+F6lD97FK5H4XqUP3sUrkfhepQ/exSuR+F6lD97FK5H4XqUP3sUrkfhepQ/exSuR+F6lD97FK5H4XqUP3sUrkfhepQ/exSuR+F6lD97FK5H4XqUP3sUrkfhepQ/exSuR+F6lD97FK5H4XqUP3sUrkfhepQ/exSuR+F6lD97FK5H4XqUP3sUrkfhepQ/exSuR+F6lD97FK5H4XqUP3sUrkfhepQ/exSuR+F6lD97FK5H4XqUP3sUrkfhepQ/exSuR+F6lD97FK5H4XqUP3sUrkfhepQ/exSuR+F6lD97FK5H4XqUP3sUrkfhepQ/exSuR+F6lD97FK5H4XqUP3sUrkfhepQ/exSuR+F6lD97FK5H4XqUP3sUrkfhepQ/exSuR+F6lD97FK5H4XqUP3sUrkfhepQ/exSuR+F6lD97FK5H4XqUP3sUrkfhepQ/exSuR+F6lD97FK5H4XqUP3sUrkfhepQ/exSuR+F6lD97FK5H4XqUP3sUrkfhepQ/exSuR+F6lD97FK5H4XqUP3sUrkfhepQ/exSuR+F6lD97FK5H4XqUP3sUrkfhepQ/exSuR+F6lD97FK5H4XqUP3sUrkfhepQ/exSuR+F6lD97FK5H4XqUP3sUrkfhepQ/exSuR+F6lD97FK5H4XqUP3sUrkfhepQ/exSuR+F6lD97FK5H4XqUP3sUrkfhepQ/exSuR+F6lD97FK5H4XqUP3sUrkfhepQ/exSuR+F6lD97FK5H4XqUP3sUrkfhepQ/exSuR+F6lD97FK5H4XqUP3sUrkfhepQ/exSuR+F6lD97FK5H4XqUP3sUrkfhepQ/exSuR+F6lD97FK5H4XqUP3sUrkfhepQ/exSuR+F6lD97FK5H4XqUP3sUrkfhepQ/exSuR+F6lD97FK5H4XqUP3sUrkfhepQ/exSuR+F6lD97FK5H4XqUP3sUrkfhepQ/exSuR+F6lD97FK5H4XqUP3sUrkfhepQ/exSuR+F6lD97FK5H4XqUP3sUrkfhepQ/exSuR+F6lD97FK5H4XqUP3sUrkfhepQ/exSuR+F6lD97FK5H4XqUP3sUrkfhepQ/exSuR+F6lD97FK5H4XqUP3sUrkfhepQ/exSuR+F6lD97FK5H4XqUP3sUrkfhepQ/exSuR+F6lD97FK5H4XqUP3sUrkfhepQ/exSuR+F6lD97FK5H4XqUP3sUrkfhepQ/exSuR+F6lD97FK5H4XqUP3sUrkfhepQ/exSuR+F6lD97FK5H4XqUP3sUrkfhepQ/exSuR+F6lD97FK5H4XqUP3sUrkfhepQ/exSuR+F6lD97FK5H4XqUP3sUrkfhepQ/exSuR+F6lD97FK5H4XqUP3sUrkfhepQ/exSuR+F6lD97FK5H4XqUP3sUrkfhepQ/exSuR+F6lD97FK5H4XqUP3sUrkfhepQ/exSuR+F6lD97FK5H4XqUP3sUrkfhepQ/exSuR+F6lD97FK5H4XqUP3sUrkfhepQ/exSuR+F6lD97FK5H4XqUP3sUrkfhepQ/exSuR+F6lD97FK5H4XqUP3sUrkfhepQ/exSuR+F6lD97FK5H4XqUP3sUrkfhepQ/exSuR+F6lD97FK5H4XqUP3sUrkfhepQ/exSuR+F6lD97FK5H4XqUPw==",
        "encoding": "base64",
        "path": [
         "_data",
         0,
         "dimensions",
         6,
         "values",
         "value"
        ]
       },
       {
        "data": "zFkGPmdKTkDajabCrCdOQFVOsc1PQk5Ay17F+GpDTkC7xEjL5RxOQEgveVfBH05AlLDTzEkjTkBIMk8w1idOQI9uAB87DU5Acb/xUhEHTkAOjBt201JOQJBe8q6CP05AK2GnmZNGTkCTZJ5grE9OQKi3V3Uma09AS11uT8egTkBjcBbQeDBOQD3lpRkRTU5ABsmrqaF0T0AyGtUqFKpOQDegE6nnE1BAqGSsl++1TkCpM+vJ5cRPQNpO5TjEqE5AK5M8e+hKTkDervjptTZOQBqtfnrev09AmqdKdcOMT0B5P0gjwRdQQN+A/bCQKE5ApUT8sQcDT0BDCfQjV3BPQD+fUZEnYU9ATiihPZQUUEDQMYGWndVOQKyAovneek9AKqVXNcBxT0CNLRz2QW5PQK2R+avzwk9ATN9KFFR0T0ACTxnqp7dOQEeUbbZLxk9A5FBYP2xkT0ApKRKU42dPQFN/cbqVYU9A2ibKGaorT0DE/sWouaROQDJPyOy2KU9AeTovRDcXUEDbZRw9fA9PQLKMijToAE9Ao1Z/iIQvT0DuqoyWnQFPQBBeJ1AZek9A/rAVN7YXUEDDz7EVuqtPQAaBMIB7AE9A0P147xO+TkBInyfp+nlOQAbn2aCDpk5AQNBT3hNCTkBtFAJoJDBOQFkJLlbYoE5ADSbU7X+3TkDMEg46szpPQPQC9zeAsU5A9SBjOORiT0B9FWj7ckJOQB2hsVWiElBAvVQ3IW1CTkA6ZaimRixPQME8bY/Ldk9AW2WkEc4LT0DUhJjBEKdOQDAG1ROjtk9AZj8x1lqnT0B7S59Uw0NOQG5CFVmPvE5AREqek5l1T0AI3uSi9OFOQBW8r0Rha05AHLb+QswwTkD0qVfGdyBOQCQ2WKqxKU5A2SNo97YLT0DVnZOA5CFOQBLfPj0miE5A59kjjB5yTkBuy5XzIcdOQGLbSIVcI05AOn6V/E3MTkDvMuV7LbhOQOxTaAgOwk5AWZ/3LT1TTkAMtGlxGIxOQJaQAg1/gE5A7QRTOqquTkAkoZCGSIROQO1JFfcRvU5AZTy2BcFITkAUqF+Oz2FOQDJFAA+qNk5Ab0eACeAkTkAKajkAPPNOQFHY4rrHW05AsFIp0Sd5TkD9M2eGbJhOQJ8teo+ZdU5AE+yH2W8FT0Bu8TJmCihOQKhDK9/CXk5AbmB1ol/tTkARvMlF6cNPQCp4X4nC1k5ASGywVGNTTkDZI2j3tgtQQOdTr4zvQE5AJr59ekwQT0DOs0cYPeROQN2WK+dDjk9AxLaRCrlGTkB0/Cr5m5hPQN5lyvdacE9A2afQEByET0CzPu9beqZOQBlo0+IwGE9ALSEFGv4AT0DZCaZ0VF1PQEhCIQ2RCE9A25Mq7iN6T0DKeGwLgpFOQCtQvxyfw05AZIoAHlRtTkDdjgATwElOQBTUcgB45k9Ao7DFdY+3TkBdpVKiT/JOQPtnzgzZME9APFv0HjPrTkAT7IfZbwVQQNziZcwUUE5AUYdWvoW9TkDbwOpEv9pPQEc3IM3dI05AsHpzrW83TkC/IT+JUTROQHsQXNYdDE5AOspRs6AdTkBGqKWktQ1OQCH8+Mv4D05ANlRAHdseTkDMkkfLlg9OQBKRZhZlHk5ARjboJ9YTTkD/TtR6qB1OQM1fn/wEH05AkYI1IuoeTkB20oFfjQpOQFiuMyKHC05AFN8Ua6AGTkCEZaoc9jFOQMDkopqLLk5A5Pu93aElTkA45uFSGDFOQN7jt4pIKU5Aa+/5Sps5TkDgEPNhIj1OQF19UGyKKU5AZKPMMNo1TkCg3XEpXTdOQIFl17XZN05A7QYybgE0TkBmYyVCEi5OQLXA/r38PU5AAqYn2tYmTkDggLuwJDtOQMF+W54rPk5A92E9dJs7TkAdBF2fSD1OQGY0l4UwOk5A+lUR5KU5TkB3O+K2uDlOQGiejRw4PE5ASQAi9p41TkApEwwLpzhOQLCZW3wfL05Ad+T9vwQ2TkAkZFWsKDxOQBHQRwwsO05A6z8PaqQ4TkB8QgejHT1OQJaearGEPU5AGtnM1Lc8TkDwzWUx3j1OQOLdSr09PE5Ax2ii9yY+TkAJN+70BDZOQKQqpxeKPE5AVbbZhCo+TkBavGtS+j1OQLRVof7bMk5AkElDqww+TkC/Keg3aTxOQDy3erAeNE5ADB8VBOw0TkC7xIy0kyVOQNJg+LWVKE5AKc2Gpno2TkAhRPyQeyZOQGxiXXZrJU5AXMRfMIstTkAVq/SyWTpOQLtmP3hqOk5AKgg7TNo8TkCt8WB3xiVOQD1amZA9PU5ADfxbdp89TkCAk0etbDtOQDKvj4gpLE5Adx5AGSg0TkAXM8DoVjJOQKV5YP+bNE5ARq04b9s9TkCi9bM57TBOQEik3iEWH05Ajki9Qyw+TkD3YRlN+QROQL4Wzfn1wk9AhUtdgCCkT0CIslAarVNPQI+5wxIku09A6ghM7vsDUEB5PL1R9HZPQLHoQMUU5k9AOsiGpbnzT0A9wSLYHfhPQFob8gjU7U9AuMMtjGnVT0B8pWI22Z9PQJqEoxGSXk9AAlz5XusKUEBACg6ylBhQQNaS4lwDDVBAHTdRap0GUEAXWrzCKwRQQFxbgraABFBAwBx0X8YPUEB+eiYo/uNPQF1bpjdb/09ApT5WT1epT0C5cVPrlOdPQJEutrKAD1BAp+makwwLUEDL2yJ9Q/9PQC7BBT7SE1BAQcE9WKMVUECISLfIBhJQQIJ5pcXfD1BAcYc1tH8YUEDsRinJludPQDV/OVw4EVBAYFSWu48YUECicb3wEMtPQD3BYAQJGFBAWCEq/6MQUEAB3uakcdZPQOVE8/Wu3U9AdYOkSC1TT0BkWPV/U25PQPOemxy9609Awo4VG1pbT0CSpioLwlFPQKQE3AwWm09A+0x/QFcHUEAy34fwogdQQLxvbnb3VE9AkC8fVmIUUECLzzgoHBZQQNIlwUAwDFBA0ldy452OT0CSMu2SxtZPQBFgjK9fxk9Av+8cs9zaT0Bk3CTRKhdQQDjhMQ+fuU9ACH5wnJcYT0AIfnCclxhQQA==",
        "encoding": "base64",
        "path": [
         "_data",
         0,
         "dimensions",
         7,
         "values",
         "value"
        ]
       },
       {
        "data": "YHDtiQQhGEAgqj26ZA4KQBjpysgoaRVAWJfULkXUFUCAp68Xt8kDQKB1eeTl2gRA0Ctw7a3JBkCQIQXsIMwJQBDNxmWtBgFAYM5JgA9M/z/wRWZ8R9waQLB1eeTl2hRAqCtw7a3JFkBoIQXsIMwZQMxnU+fZQj1AvDhNg+ToKUCwsDsOzj4PQDgomoHB1hhAAGdv3GwGPkBQeexfkmgrQFiQprY0O0ZAODb2VbxRLUBzJ93PDT9CQJhOTQRvMitAaBrtHKUkGEBAqVxPJ6IRQJ7Eit4wC0JANDeh0jT4P0Ds4eeQnIpGQOBwvN8KJgpA0q9o/R7fNEAmOcsu6a09QOZtBJmqdDxAeG9WmRxJRkAsfPJsVjYxQLTUBkohhz5AjPTaFAHLPUAeYV8T84I9QKNb9mD8KkJAhFB/gywAPkBoT+m+sZgtQCFPmVV5TUJAHOMAJBW4PEAqf4N8lP88QDpYX+2KfTxAzAHgvk0lOEA4UftKtosqQLxevAkV/TdA+vU0ooB/RkCu2slnCuA1QIA31jFUszRAbkGUTMl0OECMA32n8cE0QCBtLQg0dz5AkgCTQruJRkBjvcZTcztBQEQx0uaRqjRAwFIPj6GhLkAIaQcFRagjQGBv7bqD1SpA8ILisApMFUCwKUxXZQgPQMSowe6i6ylAlAtJJ0CSLUD86f9Fc1s5QIjr9KzEmixAjqXuoX6YPEDY8FJ7smoVQHKrlRX+IEZAOMsgnM9oFUBcZyX56jE4QBLs3lUOMz5AwsJG4B+UNUCAyknwQewqQCZsp3D5q0FAKkSkulsOQUAIwhR8GtcVQOiTnHICYy5AyLb+rmYaPkCwsiRv4TQyQKwWXjPxTSFAoEUDu5h0D0AAu+KN0+0EQLAOoC1R4ApAgorgVEOSNUAQr+6j7tgFQMDZmtrR8CVA9J/dTfljIkCcWaB2lwswQLD/CvJQywZAvMx540Z2MEDUtU4iOK4tQOD5hf+yRS9AKFKlVAXUGkCg/aKknZMmQMjTYtwXtSRAhM7dC8YlLECIWkFiU1ElQNxowQkPeC5AeNREaOhyF0AgZeB2VYYfQPAJ9yBVnhFAALD5pxzFB0AwGgsFTJkzQDjeLOLAlB1AeOoSYkCGI0D8BSVIOZAoQDQ4KOaP8yJAKidIqsQQNUBwkW4Ses8JQJA3S3S3ih5A6D3FVmcgM0CvsiRv4TRCQKwWXjPxTTFAsA6gLVHgGkCCiuBUQ5JFQBi74o3T7RRAvNma2tHwNUDwn91N+WMyQJ1ZoHaXC0BAoP8K8lDLFkC+zHnjRnZAQNS1TiI4rj1A4vmF/7JFP0AsUqVUBdQqQJr9oqSdkzZAytNi3Be1NECGzt0LxiU8QJBaQWJTUTVA2mjBCQ94PkCA1ERo6HInQBRl4HZVhi9A6An3IFWeIUD4r/mnHMUXQC4aCwVMmUNANN4s4sCULUB66hJiQIYzQPoFJUg5kDhAMDgo5o/zMkAmJ0iqxBBFQGCRbhJ6zxlAjDdLdLeKLkDnPcVWZyBDQKD1FeQKDwhAALGR3Fv6EUBYFNz+rvAQQHA565ietwBA4Pwp9rnfA0AwmMvLvSYBQFCwhdA/sQFAkKYi8lwDBEBAMCtCMJsBQFDMASEv9gNAEKdIKbN2AkDglgb+oOADQFAnE5b7BwRAgG6qAAYFBEBQ58kqjzwAQNCcenAbiwBAIM5aORdY/T8ADITkSxoQQAABXxHhAA5AYMczMw5CCEAgWfNwoKUPQKAp7sKNnApAeMYuPRqREkCwFZ/fK7QTQCD+ZXAFxwpA0O3ZAlZbEUDgx9rhDtgRQAgk1VQzABJAyPHwufbCEEBgCtGvqLINQCgx1KWM+hNAIGjK3DoJCUDQZLlV5Q8TQGhovGeoCRRAuEoFfSw2E0Co1OgIf8ATQLAzNRIzwRJA0D50rYSUEkBYzFzMlZoSQEAvmz6qaBNAeK1ECD9IEUBITIJGYUISQODMb2k0YA5A6BCPkQ1pEUBQpEZusGMTQCi1pmhEEhNACJOGXohBEkDAIuJMpLITQDDi927b0xNAAAEXW9SRE0Cg7u0KtPATQGD6hZl6ahNAaMeToSgIFEDIsoShHmkRQPASPnUWgxNAyJWwrE0JFEBA1/X0xPkTQNB2jm9jZBBAEI/Vw67/E0D4Q9MIfngTQHBCyN5kzBBAoPE5TJIOEUDAemJg7TgIQNBzRy5HKQpA6AF8gA2PEUBQp/bvYs4IQJAtpIT8HghAYCfZnpdbDUD4472WeM4SQHhJ1VTg0xJAsDZnLfCcE0DQAWjupVkIQDhtfKvuvBNACJQBKXzcE0DAKAjrGCcTQIAqIp+fdwxAWMCvOW3PEEBopx2ZfjkQQFjf9gHI9BBAsB2PcNDvE0AA6wBh2IkPQCBDWbXdCQRAMENZtd0JFEAgrD5rt4P7PzwiQiQUK0JAQ5jkJRHtQECwapZrpF47QOuCWhpt2kFAaOJ08MzyREBOJckWVzY+QNcs5ZNMlUNAVjBSFQUiREDXUwe7T09EQFZyi2Mz5UNA4OEir2HpQkC4ryCo8MBAQCDhT5ZdPzxAhhj6rtuBRUBIKn50qJtGQNhyic8LrUVAruwXLxEpRUBysJmLp/ZEQC4C/uN//URAmNf5mQPmRUAgG1+6wn9DQG/5Z+H6mURAPflA+dciQUDH+FyTxqRDQEoEEGRm4EVAIukJoYiERUA7l6QmBplEQFrSZ+l6OUZA+jnzxfReRkBu/qp5dRRGQIgua4UP6EVALI3vc/eZRkAC9J3T2aRDQLIKT3zTA0ZAqAgHFkKbRkCeYsK4rH5CQOAK+z9nkEZAekQlId/3RUCvQMx/BfRCQEMs+xCwPkNAeooA2FdUO0B0jljZXIQ9QMGK0Vimz0NASOFLW/n8O0CIvk0jEzc7QEx0tpLSj0BA0geLgwo4RUB+whDBIz5FQEjo5ONCeTtA4uecMxdFRkCS/E3SsGhGQLInuCgJnEVA6NwQjDcPQEAs/bNwcfdCQMnE1FRHTkJAO6dF4JYhQ0AYJcvVf35GQIaBMO3AykFA8JF6mOSbNkDwkXqY5JtGQA==",
        "encoding": "base64",
        "path": [
         "_data",
         0,
         "dimensions",
         8,
         "values",
         "value"
        ]
       },
       {
        "data": "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",
        "encoding": "base64",
        "path": [
         "_data",
         0,
         "dimensions",
         9,
         "values",
         "value"
        ]
       },
       {
        "data": "0wbzd5bOfMC8BYx3w9J8wAqUaVPgz3zACISstHnPfMCx9miO0dN8wD2EUyub03zASZoQrjPTfMD4Ph0pjNJ8wKFjrq5C1HzA+mgEGHPUfMAyxCMgo818wB8zjEQ60HzAOF8GSmvPfMCVqB9AHM58wHfP37X4lHzAdaVl31q/fMBlLbpGnNF8wAvqy3vxzXzAZDBwpuyOfMA/C8GeFb98wNm1R0hGbHzApVMCeV66fMBDTtRuJ4F8wMTODCENv3zABTXONJXOfMAQR6WKV9F8wNnhJ5WHgXzAO52/3keLfMBSfJYiyWp8wM51xqK/0nzA74VlTD6ufMAMVmW305d8wAn79UxumnzAqmnUiANsfMCqonvoCbd8wFxFQU4RlHzAbLmjtSeWfMAeaUtCtpd8wLKsUNWFgXzASL4rITmVfMAUTdmrC7t8wK9u6JnjgHzA9RLI1t6ZfMARLEfqz5h8wO7yvQRymXzAoWH+j06mfMASeY9OecB8wFj5J6afpnzA8qN2df5qfMCastMw76t8wDiW+Fs9r3zA0vxrdrmjfMCiRXRGzK58wGNbNpSqlXzAJXoOXM1qfMAHm4qb7IV8wPx0LC1Or3zAeObKs8i7fMCx3xy98cZ8wIyuGPEnv3zAJH5fGvrOfMAlDIdpxdF8wD8itcthwHzAT4zz0Wm5fMC6XP0tWJt8wP6RomD7u3zAIegf7qyZfMAqc7TQ3898wL7TTBvEbHzAddspSe/OfMBB7N4hNaZ8wF8gya88lnzAtQ77l4SsfMA3DerqyL18wJY4lkvbg3zAQZWguMCGfMChiiu7eM98wPix1Io+vHzAhGEy0xuSfMAc78Mf6a18wGVOpPYzx3zA7huGf0LRfMBhO1QamNN8wLmCQuVO0nzA0XMWWuejfMCplnDUZtN8wInL/Q2SwXzAoK8sEuvFfMBhS4fzEbR8wKgDgmgz03zABWYwYOayfMDHCL+QZ7d8wDkHY+o1tXzAVRKnB5zLfMBfm8TtxMB8wAs5cAUbw3zAJiKDa3y5fMBPHyJhWcJ8wKdLYmhStnzAz/pi4mrNfMB0u63X/Mh8wI9RiS9c0HzAP0+cxf3SfMCgivI31Kl8wEbWp1kWynzAQrmnuI3EfMCAboqKOb58wLoFMwI/xXzAW/SkR3ClfMATN6+Vi9J8wJRs3dWLyXzAMJdgGTmrfMDdCG0t1oR8wG/HLdtrt3zAFjBquKHNfMBIEhKi0nB8wGahjSI00HzAtsHgCSisfMDkiT4S2rR8wGbB89QnkXzA9jHpvmrPfMCu9kWu0I58wDI8Yw/Tl3zAFjmrwm+TfMBPTzP9O8B8wGRhbsmNqnzAupzF+DmvfMDybuvE/Jt8wENpKbC2rXzA88GpvqiVfMBDIKuy2cN8wI2hQJ39unzAws33TLzJfMAkyR15/858wOQ/yl2sfHzAMdc0oTC9fMAqnTRfH7J8wKUH+gJ3pXzAGTZL8oGzfMBbEy995HN8wMuYQxkbznzAzgOgmRu8fMAEWaYgdn98wFLmuJ8i03zAxn3eUDvRfMBzevxUkNF8wHul41RP1HzAKLrUCM7TfMDcYlaNPdR8wCrzDWQn1HzAsUonVcjTfMCv2KnrKtR8wBHV9nDK03zAxaB6zAfUfMCVtd3jzdN8wGlX7pfH03zAh/ckEcjTfMCxJXAFY9R8wBlRHXRW1HzAIqV8GqPUfMCzRJTv1NF8wAlBSyEv0nzA35k7dhrTfMC9ZnnP69F8wCEq5w+60nzAY8byEwvRfMCm1ZXvrdB8wOs/b0Sz0nzA5nAFNG7RfMDoUchKRtF8wGSbUXI50XzAVTZa9p7RfMAc5zGlO9J8wC2wN2qX0HzApvwLmPrSfMBFpAmB4tB8wHf/iJSS0HzAn/xOQdbQfMC7Be/9qdB8wCKR16/70HzAo8Qg/AnRfMAPHiELCNF8wBkKERnG0HzAYb/aT3TRfMDxjOVEJNF8wJZIwuAf0nzAk6dS0GnRfMB43a+wx9B8wCElxr7h0HzAVYFOiiTRfMDBguNsrtB8wPTX4suj0HzA9Pbe7LjQfMDwp8+QmtB8wOIQeYTF0HzAycRXD5PQfMBV6NzKadF8wAOthKS90HzAF6eRsZLQfMC6XR6ql9B8wKYi9zm90XzA2zSzxZXQfMDKaH4IwdB8wAiL0/Gb0XzADs2RxIbRfMBS5B/sG9N8wHyMmIHM0nzAwVtip13RfMD5W0YCBNN8wGhzqRIg03zAxQ5yk0nSfMCD6qJw99B8wBC61rX10HzAuhrZXrXQfMBbNeCvFtN8wDj14yGr0HzAkvMXCaHQfMC0+14U29B8wLCcCw1u0nzAo4hk+ZrRfMA6W9XzytF8wKNnTQWP0XzAAOWk2ZrQfMAMeWdB8NF8wB2eykrH03zA32Z6g5LQfMDnksqSyNR8wFD+n+TGf3zAgPJkWb2FfMCOnxghTJV8wOciaQZKgXzAg9fLoG5yfMBov32neY58wIS8ITz8eHzA2UqBxlh2fMAvsjJgf3V8wJ3RCbV8d3zAhcdrcDV8fMCpa40okYZ8wAx8GMswk3zAf76f879vfMD2qutPd2p8wAGoNqbwbnzAuJUFJmpxfMAMWhYhXHJ8wIR41EU7cnzAg4wENN9tfMAMQJyeY3l8wOF7evcYdHzAe52hOLuEfMCxsIrysXh8wODuoCb6bXzAyaXiG7NvfMC4JS6OHXR8wNCv7ZBObHzARaxkrpprfMCWoJ9EAG18wBUGNGHVbXzA6b1Ubn9qfMBhEiOWsXh8wPRZ+RpQbXzAmLNKO3lqfMBOMNehNX58wMCGtFWtanzARu+ufIltfMC+zRteAnx8wFO5L/ibenzAdTrh2GSVfMDSAN7MJJB8wI7n1ibkd3zApYUMItCTfMBftF8Xq5V8wJNpJ+x8h3zAnNMJRiJxfMAcuBUABXF8wJRJXj4MlXzANeTv1RZsfMBrxY/0a2t8wJyUikxCb3zAnbetOuaJfMBpdZfx8Xt8wEQL6u4df3zAOLpMpCd7fMDcnxhGA2t8wCCG20CVgXzAY+KsILmgfMBr7z4vdmp8wA==",
        "encoding": "base64",
        "path": [
         "_data",
         0,
         "dimensions",
         10,
         "values",
         "value"
        ]
       },
       {
        "data": "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",
        "encoding": "base64",
        "path": [
         "_data",
         0,
         "dimensions",
         11,
         "values",
         "value"
        ]
       },
       {
        "data": "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",
        "encoding": "base64",
        "path": [
         "_data",
         0,
         "line",
         "color",
         "value"
        ]
       }
      ],
      "model_module": "plotlywidget",
      "model_module_version": "^1.1.1",
      "model_name": "FigureModel",
      "state": {
       "_config": {
        "plotlyServerURL": "https://plot.ly"
       },
       "_data": [
        {
         "dimensions": [
          {
           "label": "(X) alpha",
           "name": "alpha",
           "range": [
            0.1,
            0.2
           ],
           "values": {
            "dtype": "float64",
            "shape": [
             287
            ]
           }
          },
          {
           "label": "(X) beta",
           "name": "beta",
           "range": [
            3.5,
            5.5
           ],
           "values": {
            "dtype": "float64",
            "shape": [
             287
            ]
           }
          },
          {
           "label": "(X) input_flow",
           "name": "input_flow",
           "range": [
            80,
            150
           ],
           "values": [
            87,
            81,
            83,
            86,
            80,
            81,
            83,
            86,
            80,
            81,
            87,
            81,
            83,
            86,
            141,
            114,
            86,
            91,
            150,
            109,
            150,
            122,
            147,
            110,
            87,
            80,
            148,
            148,
            150,
            81,
            122,
            133,
            133,
            150,
            116,
            137,
            136,
            134,
            147,
            137,
            118,
            147,
            133,
            134,
            135,
            126,
            106,
            126,
            150,
            123,
            120,
            131,
            121,
            134,
            150,
            147,
            120,
            111,
            102,
            111,
            94,
            84,
            109,
            125,
            147,
            118,
            134,
            83,
            150,
            94,
            126,
            134,
            123,
            117,
            147,
            147,
            86,
            110,
            143,
            141,
            114,
            91,
            81,
            87,
            148,
            82,
            122,
            116,
            136,
            83,
            137,
            133,
            135,
            106,
            123,
            120,
            131,
            121,
            134,
            102,
            111,
            94,
            84,
            144,
            109,
            118,
            126,
            117,
            147,
            86,
            110,
            143,
            141,
            114,
            87,
            148,
            81,
            122,
            116,
            136,
            83,
            137,
            133,
            135,
            106,
            123,
            120,
            131,
            121,
            134,
            102,
            111,
            94,
            84,
            144,
            109,
            118,
            126,
            117,
            147,
            86,
            110,
            143,
            80,
            80,
            80,
            80,
            80,
            80,
            80,
            80,
            80,
            80,
            80,
            80,
            80,
            80,
            80,
            80,
            80,
            80,
            80,
            80,
            80,
            80,
            80,
            80,
            80,
            80,
            80,
            80,
            80,
            80,
            80,
            80,
            80,
            80,
            80,
            80,
            80,
            80,
            80,
            80,
            80,
            80,
            80,
            80,
            80,
            80,
            80,
            80,
            80,
            80,
            80,
            80,
            80,
            80,
            80,
            80,
            80,
            80,
            80,
            80,
            80,
            80,
            80,
            80,
            80,
            80,
            80,
            80,
            80,
            80,
            80,
            80,
            80,
            80,
            80,
            80,
            80,
            80,
            80,
            80,
            80,
            80,
            80,
            80,
            150,
            150,
            150,
            150,
            150,
            150,
            150,
            150,
            150,
            150,
            150,
            150,
            150,
            150,
            150,
            150,
            150,
            150,
            150,
            150,
            150,
            150,
            150,
            150,
            150,
            150,
            150,
            150,
            150,
            150,
            150,
            150,
            150,
            150,
            150,
            150,
            150,
            150,
            150,
            150,
            150,
            150,
            150,
            150,
            150,
            150,
            150,
            150,
            150,
            150,
            150,
            150,
            150,
            150,
            150,
            150,
            150,
            150,
            150,
            150
           ]
          },
          {
           "label": "(X) value_of_time",
           "name": "value_of_time",
           "range": [
            0.001,
            0.001
           ],
           "values": {
            "dtype": "float64",
            "shape": [
             287
            ]
           }
          },
          {
           "label": "(X) unit_cost_expansion",
           "name": "unit_cost_expansion",
           "range": [
            145,
            145
           ],
           "values": {
            "dtype": "float64",
            "shape": [
             287
            ]
           }
          },
          {
           "label": "(X) interest_rate",
           "name": "interest_rate",
           "range": [
            0.02502903767879944,
            0.03966856928443664
           ],
           "values": {
            "dtype": "float64",
            "shape": [
             287
            ]
           }
          },
          {
           "label": "(X) yield_curve",
           "name": "yield_curve",
           "range": [
            0.02,
            0.02
           ],
           "values": {
            "dtype": "float64",
            "shape": [
             287
            ]
           }
          },
          {
           "label": "(M-) build_travel_time",
           "name": "build_travel_time",
           "range": [
            64.38425360665872,
            60.03885806788815
           ],
           "values": {
            "dtype": "float64",
            "shape": [
             287
            ]
           }
          },
          {
           "label": "(M+) time_savings",
           "name": "time_savings",
           "range": [
            1.7196573437929672,
            45.21791368470065
           ],
           "values": {
            "dtype": "float64",
            "shape": [
             287
            ]
           }
          },
          {
           "label": "(M+)<br>   value_of_time_savings",
           "name": "value_of_time_savings",
           "range": [
            0.13757258750343737,
            6.782687052705097
           ],
           "values": {
            "dtype": "float64",
            "shape": [
             287
            ]
           }
          },
          {
           "label": "(M+) net_benefits",
           "name": "net_benefits",
           "range": [
            -461.29896811609655,
            -454.65385365089486
           ],
           "values": {
            "dtype": "float64",
            "shape": [
             287
            ]
           }
          },
          {
           "label": "(M-) cost_of_capacity_ex<br>   pansion",
           "name": "cost_of_capacity_expansion",
           "range": [
            461.4365407036,
            461.4365407036
           ],
           "values": {
            "dtype": "float64",
            "shape": [
             287
            ]
           }
          }
         ],
         "domain": {
          "y": [
           0,
           0.7
          ]
         },
         "labelangle": -90,
         "labelfont": {
          "color": "#AA0000"
         },
         "line": {
          "cmax": 0.2,
          "cmin": 0.1,
          "color": {
           "dtype": "float64",
           "shape": [
            287
           ]
          },
          "colorbar": {
           "title": {
            "side": "right",
            "text": "alpha"
           }
          },
          "colorscale": [
           [
            0,
            "#440154"
           ],
           [
            0.1111111111111111,
            "#482878"
           ],
           [
            0.2222222222222222,
            "#3e4989"
           ],
           [
            0.3333333333333333,
            "#31688e"
           ],
           [
            0.4444444444444444,
            "#26828e"
           ],
           [
            0.5555555555555556,
            "#1f9e89"
           ],
           [
            0.6666666666666666,
            "#35b779"
           ],
           [
            0.7777777777777778,
            "#6ece58"
           ],
           [
            0.8888888888888888,
            "#b5de2b"
           ],
           [
            1,
            "#fde725"
           ]
          ],
          "reversescale": true,
          "showscale": true
         },
         "type": "parcoords",
         "uid": "d200d4e1-df66-4177-930b-0614ca7ae56c"
        }
       ],
       "_js2py_pointsCallback": {},
       "_js2py_restyle": {},
       "_js2py_update": {},
       "_last_layout_edit_id": 1,
       "_layout": {
        "autosize": true,
        "template": {
         "data": {
          "bar": [
           {
            "error_x": {
             "color": "#2a3f5f"
            },
            "error_y": {
             "color": "#2a3f5f"
            },
            "marker": {
             "line": {
              "color": "#E5ECF6",
              "width": 0.5
             }
            },
            "type": "bar"
           }
          ],
          "barpolar": [
           {
            "marker": {
             "line": {
              "color": "#E5ECF6",
              "width": 0.5
             }
            },
            "type": "barpolar"
           }
          ],
          "carpet": [
           {
            "aaxis": {
             "endlinecolor": "#2a3f5f",
             "gridcolor": "white",
             "linecolor": "white",
             "minorgridcolor": "white",
             "startlinecolor": "#2a3f5f"
            },
            "baxis": {
             "endlinecolor": "#2a3f5f",
             "gridcolor": "white",
             "linecolor": "white",
             "minorgridcolor": "white",
             "startlinecolor": "#2a3f5f"
            },
            "type": "carpet"
           }
          ],
          "choropleth": [
           {
            "colorbar": {
             "outlinewidth": 0,
             "ticks": ""
            },
            "type": "choropleth"
           }
          ],
          "contour": [
           {
            "colorbar": {
             "outlinewidth": 0,
             "ticks": ""
            },
            "colorscale": [
             [
              0,
              "#0d0887"
             ],
             [
              0.1111111111111111,
              "#46039f"
             ],
             [
              0.2222222222222222,
              "#7201a8"
             ],
             [
              0.3333333333333333,
              "#9c179e"
             ],
             [
              0.4444444444444444,
              "#bd3786"
             ],
             [
              0.5555555555555556,
              "#d8576b"
             ],
             [
              0.6666666666666666,
              "#ed7953"
             ],
             [
              0.7777777777777778,
              "#fb9f3a"
             ],
             [
              0.8888888888888888,
              "#fdca26"
             ],
             [
              1,
              "#f0f921"
             ]
            ],
            "type": "contour"
           }
          ],
          "contourcarpet": [
           {
            "colorbar": {
             "outlinewidth": 0,
             "ticks": ""
            },
            "type": "contourcarpet"
           }
          ],
          "heatmap": [
           {
            "colorbar": {
             "outlinewidth": 0,
             "ticks": ""
            },
            "colorscale": [
             [
              0,
              "#0d0887"
             ],
             [
              0.1111111111111111,
              "#46039f"
             ],
             [
              0.2222222222222222,
              "#7201a8"
             ],
             [
              0.3333333333333333,
              "#9c179e"
             ],
             [
              0.4444444444444444,
              "#bd3786"
             ],
             [
              0.5555555555555556,
              "#d8576b"
             ],
             [
              0.6666666666666666,
              "#ed7953"
             ],
             [
              0.7777777777777778,
              "#fb9f3a"
             ],
             [
              0.8888888888888888,
              "#fdca26"
             ],
             [
              1,
              "#f0f921"
             ]
            ],
            "type": "heatmap"
           }
          ],
          "heatmapgl": [
           {
            "colorbar": {
             "outlinewidth": 0,
             "ticks": ""
            },
            "colorscale": [
             [
              0,
              "#0d0887"
             ],
             [
              0.1111111111111111,
              "#46039f"
             ],
             [
              0.2222222222222222,
              "#7201a8"
             ],
             [
              0.3333333333333333,
              "#9c179e"
             ],
             [
              0.4444444444444444,
              "#bd3786"
             ],
             [
              0.5555555555555556,
              "#d8576b"
             ],
             [
              0.6666666666666666,
              "#ed7953"
             ],
             [
              0.7777777777777778,
              "#fb9f3a"
             ],
             [
              0.8888888888888888,
              "#fdca26"
             ],
             [
              1,
              "#f0f921"
             ]
            ],
            "type": "heatmapgl"
           }
          ],
          "histogram": [
           {
            "marker": {
             "colorbar": {
              "outlinewidth": 0,
              "ticks": ""
             }
            },
            "type": "histogram"
           }
          ],
          "histogram2d": [
           {
            "colorbar": {
             "outlinewidth": 0,
             "ticks": ""
            },
            "colorscale": [
             [
              0,
              "#0d0887"
             ],
             [
              0.1111111111111111,
              "#46039f"
             ],
             [
              0.2222222222222222,
              "#7201a8"
             ],
             [
              0.3333333333333333,
              "#9c179e"
             ],
             [
              0.4444444444444444,
              "#bd3786"
             ],
             [
              0.5555555555555556,
              "#d8576b"
             ],
             [
              0.6666666666666666,
              "#ed7953"
             ],
             [
              0.7777777777777778,
              "#fb9f3a"
             ],
             [
              0.8888888888888888,
              "#fdca26"
             ],
             [
              1,
              "#f0f921"
             ]
            ],
            "type": "histogram2d"
           }
          ],
          "histogram2dcontour": [
           {
            "colorbar": {
             "outlinewidth": 0,
             "ticks": ""
            },
            "colorscale": [
             [
              0,
              "#0d0887"
             ],
             [
              0.1111111111111111,
              "#46039f"
             ],
             [
              0.2222222222222222,
              "#7201a8"
             ],
             [
              0.3333333333333333,
              "#9c179e"
             ],
             [
              0.4444444444444444,
              "#bd3786"
             ],
             [
              0.5555555555555556,
              "#d8576b"
             ],
             [
              0.6666666666666666,
              "#ed7953"
             ],
             [
              0.7777777777777778,
              "#fb9f3a"
             ],
             [
              0.8888888888888888,
              "#fdca26"
             ],
             [
              1,
              "#f0f921"
             ]
            ],
            "type": "histogram2dcontour"
           }
          ],
          "mesh3d": [
           {
            "colorbar": {
             "outlinewidth": 0,
             "ticks": ""
            },
            "type": "mesh3d"
           }
          ],
          "parcoords": [
           {
            "line": {
             "colorbar": {
              "outlinewidth": 0,
              "ticks": ""
             }
            },
            "type": "parcoords"
           }
          ],
          "scatter": [
           {
            "marker": {
             "colorbar": {
              "outlinewidth": 0,
              "ticks": ""
             }
            },
            "type": "scatter"
           }
          ],
          "scatter3d": [
           {
            "line": {
             "colorbar": {
              "outlinewidth": 0,
              "ticks": ""
             }
            },
            "marker": {
             "colorbar": {
              "outlinewidth": 0,
              "ticks": ""
             }
            },
            "type": "scatter3d"
           }
          ],
          "scattercarpet": [
           {
            "marker": {
             "colorbar": {
              "outlinewidth": 0,
              "ticks": ""
             }
            },
            "type": "scattercarpet"
           }
          ],
          "scattergeo": [
           {
            "marker": {
             "colorbar": {
              "outlinewidth": 0,
              "ticks": ""
             }
            },
            "type": "scattergeo"
           }
          ],
          "scattergl": [
           {
            "marker": {
             "colorbar": {
              "outlinewidth": 0,
              "ticks": ""
             }
            },
            "type": "scattergl"
           }
          ],
          "scattermapbox": [
           {
            "marker": {
             "colorbar": {
              "outlinewidth": 0,
              "ticks": ""
             }
            },
            "type": "scattermapbox"
           }
          ],
          "scatterpolar": [
           {
            "marker": {
             "colorbar": {
              "outlinewidth": 0,
              "ticks": ""
             }
            },
            "type": "scatterpolar"
           }
          ],
          "scatterpolargl": [
           {
            "marker": {
             "colorbar": {
              "outlinewidth": 0,
              "ticks": ""
             }
            },
            "type": "scatterpolargl"
           }
          ],
          "scatterternary": [
           {
            "marker": {
             "colorbar": {
              "outlinewidth": 0,
              "ticks": ""
             }
            },
            "type": "scatterternary"
           }
          ],
          "surface": [
           {
            "colorbar": {
             "outlinewidth": 0,
             "ticks": ""
            },
            "colorscale": [
             [
              0,
              "#0d0887"
             ],
             [
              0.1111111111111111,
              "#46039f"
             ],
             [
              0.2222222222222222,
              "#7201a8"
             ],
             [
              0.3333333333333333,
              "#9c179e"
             ],
             [
              0.4444444444444444,
              "#bd3786"
             ],
             [
              0.5555555555555556,
              "#d8576b"
             ],
             [
              0.6666666666666666,
              "#ed7953"
             ],
             [
              0.7777777777777778,
              "#fb9f3a"
             ],
             [
              0.8888888888888888,
              "#fdca26"
             ],
             [
              1,
              "#f0f921"
             ]
            ],
            "type": "surface"
           }
          ],
          "table": [
           {
            "cells": {
             "fill": {
              "color": "#EBF0F8"
             },
             "line": {
              "color": "white"
             }
            },
            "header": {
             "fill": {
              "color": "#C8D4E3"
             },
             "line": {
              "color": "white"
             }
            },
            "type": "table"
           }
          ]
         },
         "layout": {
          "annotationdefaults": {
           "arrowcolor": "#2a3f5f",
           "arrowhead": 0,
           "arrowwidth": 1
          },
          "colorscale": {
           "diverging": [
            [
             0,
             "#8e0152"
            ],
            [
             0.1,
             "#c51b7d"
            ],
            [
             0.2,
             "#de77ae"
            ],
            [
             0.3,
             "#f1b6da"
            ],
            [
             0.4,
             "#fde0ef"
            ],
            [
             0.5,
             "#f7f7f7"
            ],
            [
             0.6,
             "#e6f5d0"
            ],
            [
             0.7,
             "#b8e186"
            ],
            [
             0.8,
             "#7fbc41"
            ],
            [
             0.9,
             "#4d9221"
            ],
            [
             1,
             "#276419"
            ]
           ],
           "sequential": [
            [
             0,
             "#0d0887"
            ],
            [
             0.1111111111111111,
             "#46039f"
            ],
            [
             0.2222222222222222,
             "#7201a8"
            ],
            [
             0.3333333333333333,
             "#9c179e"
            ],
            [
             0.4444444444444444,
             "#bd3786"
            ],
            [
             0.5555555555555556,
             "#d8576b"
            ],
            [
             0.6666666666666666,
             "#ed7953"
            ],
            [
             0.7777777777777778,
             "#fb9f3a"
            ],
            [
             0.8888888888888888,
             "#fdca26"
            ],
            [
             1,
             "#f0f921"
            ]
           ],
           "sequentialminus": [
            [
             0,
             "#0d0887"
            ],
            [
             0.1111111111111111,
             "#46039f"
            ],
            [
             0.2222222222222222,
             "#7201a8"
            ],
            [
             0.3333333333333333,
             "#9c179e"
            ],
            [
             0.4444444444444444,
             "#bd3786"
            ],
            [
             0.5555555555555556,
             "#d8576b"
            ],
            [
             0.6666666666666666,
             "#ed7953"
            ],
            [
             0.7777777777777778,
             "#fb9f3a"
            ],
            [
             0.8888888888888888,
             "#fdca26"
            ],
            [
             1,
             "#f0f921"
            ]
           ]
          },
          "colorway": [
           "#636efa",
           "#EF553B",
           "#00cc96",
           "#ab63fa",
           "#FFA15A",
           "#19d3f3",
           "#FF6692",
           "#B6E880",
           "#FF97FF",
           "#FECB52"
          ],
          "font": {
           "color": "#2a3f5f"
          },
          "geo": {
           "bgcolor": "white",
           "lakecolor": "white",
           "landcolor": "#E5ECF6",
           "showlakes": true,
           "showland": true,
           "subunitcolor": "white"
          },
          "hoverlabel": {
           "align": "left"
          },
          "hovermode": "closest",
          "mapbox": {
           "style": "light"
          },
          "paper_bgcolor": "white",
          "plot_bgcolor": "#E5ECF6",
          "polar": {
           "angularaxis": {
            "gridcolor": "white",
            "linecolor": "white",
            "ticks": ""
           },
           "bgcolor": "#E5ECF6",
           "radialaxis": {
            "gridcolor": "white",
            "linecolor": "white",
            "ticks": ""
           }
          },
          "scene": {
           "xaxis": {
            "backgroundcolor": "#E5ECF6",
            "gridcolor": "white",
            "gridwidth": 2,
            "linecolor": "white",
            "showbackground": true,
            "ticks": "",
            "zerolinecolor": "white"
           },
           "yaxis": {
            "backgroundcolor": "#E5ECF6",
            "gridcolor": "white",
            "gridwidth": 2,
            "linecolor": "white",
            "showbackground": true,
            "ticks": "",
            "zerolinecolor": "white"
           },
           "zaxis": {
            "backgroundcolor": "#E5ECF6",
            "gridcolor": "white",
            "gridwidth": 2,
            "linecolor": "white",
            "showbackground": true,
            "ticks": "",
            "zerolinecolor": "white"
           }
          },
          "shapedefaults": {
           "line": {
            "color": "#2a3f5f"
           }
          },
          "ternary": {
           "aaxis": {
            "gridcolor": "white",
            "linecolor": "white",
            "ticks": ""
           },
           "baxis": {
            "gridcolor": "white",
            "linecolor": "white",
            "ticks": ""
           },
           "bgcolor": "#E5ECF6",
           "caxis": {
            "gridcolor": "white",
            "linecolor": "white",
            "ticks": ""
           }
          },
          "title": {
           "x": 0.05
          },
          "xaxis": {
           "automargin": true,
           "gridcolor": "white",
           "linecolor": "white",
           "ticks": "",
           "zerolinecolor": "white",
           "zerolinewidth": 2
          },
          "yaxis": {
           "automargin": true,
           "gridcolor": "white",
           "linecolor": "white",
           "ticks": "",
           "zerolinecolor": "white",
           "zerolinewidth": 2
          }
         }
        }
       },
       "_py2js_addTraces": {},
       "_py2js_animate": {},
       "_py2js_deleteTraces": {},
       "_py2js_moveTraces": {},
       "_py2js_removeLayoutProps": {},
       "_py2js_removeTraceProps": {},
       "_py2js_restyle": {},
       "_py2js_update": {},
       "_view_count": 1
      }
     },
     "18a1d4646f5442f78de4277516abd9e2": {
      "model_module": "@jupyter-widgets/base",
      "model_module_version": "1.2.0",
      "model_name": "LayoutModel",
      "state": {}
     },
     "1988eaeb8d314eadb481be904e8bee62": {
      "model_module": "@jupyter-widgets/base",
      "model_module_version": "1.2.0",
      "model_name": "LayoutModel",
      "state": {}
     },
     "1c5d70f95cbb42e1990046797a31261a": {
      "model_module": "@jupyter-widgets/controls",
      "model_module_version": "1.5.0",
      "model_name": "CheckboxModel",
      "state": {
       "description": "(M-) 95%ile Capacity Expansion Cost",
       "description_tooltip": "95%ile Capacity Expansion Cost",
       "disabled": false,
       "layout": "IPY_MODEL_cadf11bc41154f32ad6bd2e7029e6d5d",
       "name": "95%ile Capacity Expansion Cost",
       "style": "IPY_MODEL_922da3f9205d4d3ebf59841d83f166ea",
       "value": true
      }
     },
     "1d0f9573dc6a4ae0a7106e552d9fdb28": {
      "model_module": "@jupyter-widgets/base",
      "model_module_version": "1.2.0",
      "model_name": "LayoutModel",
      "state": {}
     },
     "200f6eed468e4d82a7868aefd1c82c64": {
      "model_module": "@jupyter-widgets/controls",
      "model_module_version": "1.5.0",
      "model_name": "DescriptionStyleModel",
      "state": {
       "description_width": ""
      }
     },
     "2048b9c3d31a440085f919b92857a76e": {
      "model_module": "@jupyter-widgets/base",
      "model_module_version": "1.2.0",
      "model_name": "LayoutModel",
      "state": {
       "flex_flow": "row wrap"
      }
     },
     "21f0ad667f714280b020bd1e366aae05": {
      "model_module": "@jupyter-widgets/controls",
      "model_module_version": "1.5.0",
      "model_name": "CheckboxModel",
      "state": {
       "description": "(X) interest_rate",
       "description_tooltip": "interest_rate",
       "disabled": false,
       "layout": "IPY_MODEL_2c63aa60d5a04bfd9ef9e69a4fe83bf9",
       "name": "interest_rate",
       "style": "IPY_MODEL_b1b1f6ba9cb94aa6aa3ef861af761e93",
       "value": true
      }
     },
     "2239b84b379b4912901a1623b35ae067": {
      "model_module": "plotlywidget",
      "model_module_version": "^1.1.1",
      "model_name": "FigureModel",
      "state": {
       "_config": {
        "plotlyServerURL": "https://plot.ly"
       },
       "_data": [
        {
         "fill": "tonexty",
         "line": {
          "shape": "linear"
         },
         "mode": "lines+markers",
         "name": "",
         "type": "scatter",
         "uid": "de0b5f25-0ce0-4fd4-a37e-1330f8bde89d",
         "x": [
          0,
          100,
          200,
          300,
          400,
          500,
          600,
          700,
          800,
          900,
          1000,
          1100,
          1200,
          1300,
          1400,
          1500,
          1600,
          1700,
          1800,
          1900,
          2000,
          2100,
          2200,
          2300,
          2400,
          2500,
          2600,
          2700,
          2800,
          2900,
          3000,
          3100,
          3200,
          3300,
          3400,
          3500,
          3600,
          3700,
          3800,
          3900,
          4000,
          4100,
          4200,
          4300,
          4400,
          4500,
          4600,
          4700,
          4800,
          4900,
          5000,
          5100,
          5200,
          5300,
          5400,
          5500,
          5600,
          5700,
          5800,
          5900,
          6000,
          6100,
          6200,
          6300,
          6400,
          6500,
          6600,
          6700,
          6800,
          6900,
          7000,
          7100,
          7200,
          7300,
          7400,
          7500,
          7600,
          7700,
          7800,
          7900,
          8000,
          8100,
          8200,
          8300,
          8400,
          8500,
          8600,
          8700,
          8800,
          8900,
          9000,
          9100,
          9200,
          9300,
          9400,
          9500,
          9600,
          9700,
          9800,
          9900,
          10000
         ],
         "y": [
          0,
          6,
          9,
          12,
          19,
          18,
          18,
          18,
          20,
          20,
          20,
          20,
          20,
          20,
          20,
          20,
          20,
          18,
          17,
          17,
          17,
          18,
          18,
          18,
          18,
          18,
          18,
          18,
          18,
          18,
          18,
          18,
          18,
          18,
          18,
          18,
          18,
          18,
          18,
          18,
          18,
          18,
          18,
          18,
          18,
          18,
          18,
          18,
          18,
          18,
          18,
          18,
          18,
          18,
          18,
          18,
          18,
          18,
          18,
          18,
          18,
          18,
          18,
          18,
          18,
          18,
          18,
          18,
          18,
          18,
          18,
          18,
          18,
          18,
          18,
          18,
          18,
          18,
          18,
          18,
          18,
          17,
          17,
          17,
          17,
          17,
          18,
          18,
          18,
          18,
          18,
          18,
          18,
          18,
          17,
          17,
          17,
          17,
          17,
          17,
          17
         ]
        }
       ],
       "_js2py_pointsCallback": {},
       "_js2py_relayout": {},
       "_js2py_restyle": {},
       "_js2py_update": {},
       "_last_layout_edit_id": 4,
       "_last_trace_edit_id": 1,
       "_layout": {
        "height": 240,
        "hovermode": "closest",
        "margin": {
         "b": 15,
         "l": 15,
         "r": 15,
         "t": 40
        },
        "showlegend": false,
        "template": {
         "data": {
          "bar": [
           {
            "error_x": {
             "color": "#2a3f5f"
            },
            "error_y": {
             "color": "#2a3f5f"
            },
            "marker": {
             "line": {
              "color": "#E5ECF6",
              "width": 0.5
             }
            },
            "type": "bar"
           }
          ],
          "barpolar": [
           {
            "marker": {
             "line": {
              "color": "#E5ECF6",
              "width": 0.5
             }
            },
            "type": "barpolar"
           }
          ],
          "carpet": [
           {
            "aaxis": {
             "endlinecolor": "#2a3f5f",
             "gridcolor": "white",
             "linecolor": "white",
             "minorgridcolor": "white",
             "startlinecolor": "#2a3f5f"
            },
            "baxis": {
             "endlinecolor": "#2a3f5f",
             "gridcolor": "white",
             "linecolor": "white",
             "minorgridcolor": "white",
             "startlinecolor": "#2a3f5f"
            },
            "type": "carpet"
           }
          ],
          "choropleth": [
           {
            "colorbar": {
             "outlinewidth": 0,
             "ticks": ""
            },
            "type": "choropleth"
           }
          ],
          "contour": [
           {
            "colorbar": {
             "outlinewidth": 0,
             "ticks": ""
            },
            "colorscale": [
             [
              0,
              "#0d0887"
             ],
             [
              0.1111111111111111,
              "#46039f"
             ],
             [
              0.2222222222222222,
              "#7201a8"
             ],
             [
              0.3333333333333333,
              "#9c179e"
             ],
             [
              0.4444444444444444,
              "#bd3786"
             ],
             [
              0.5555555555555556,
              "#d8576b"
             ],
             [
              0.6666666666666666,
              "#ed7953"
             ],
             [
              0.7777777777777778,
              "#fb9f3a"
             ],
             [
              0.8888888888888888,
              "#fdca26"
             ],
             [
              1,
              "#f0f921"
             ]
            ],
            "type": "contour"
           }
          ],
          "contourcarpet": [
           {
            "colorbar": {
             "outlinewidth": 0,
             "ticks": ""
            },
            "type": "contourcarpet"
           }
          ],
          "heatmap": [
           {
            "colorbar": {
             "outlinewidth": 0,
             "ticks": ""
            },
            "colorscale": [
             [
              0,
              "#0d0887"
             ],
             [
              0.1111111111111111,
              "#46039f"
             ],
             [
              0.2222222222222222,
              "#7201a8"
             ],
             [
              0.3333333333333333,
              "#9c179e"
             ],
             [
              0.4444444444444444,
              "#bd3786"
             ],
             [
              0.5555555555555556,
              "#d8576b"
             ],
             [
              0.6666666666666666,
              "#ed7953"
             ],
             [
              0.7777777777777778,
              "#fb9f3a"
             ],
             [
              0.8888888888888888,
              "#fdca26"
             ],
             [
              1,
              "#f0f921"
             ]
            ],
            "type": "heatmap"
           }
          ],
          "heatmapgl": [
           {
            "colorbar": {
             "outlinewidth": 0,
             "ticks": ""
            },
            "colorscale": [
             [
              0,
              "#0d0887"
             ],
             [
              0.1111111111111111,
              "#46039f"
             ],
             [
              0.2222222222222222,
              "#7201a8"
             ],
             [
              0.3333333333333333,
              "#9c179e"
             ],
             [
              0.4444444444444444,
              "#bd3786"
             ],
             [
              0.5555555555555556,
              "#d8576b"
             ],
             [
              0.6666666666666666,
              "#ed7953"
             ],
             [
              0.7777777777777778,
              "#fb9f3a"
             ],
             [
              0.8888888888888888,
              "#fdca26"
             ],
             [
              1,
              "#f0f921"
             ]
            ],
            "type": "heatmapgl"
           }
          ],
          "histogram": [
           {
            "marker": {
             "colorbar": {
              "outlinewidth": 0,
              "ticks": ""
             }
            },
            "type": "histogram"
           }
          ],
          "histogram2d": [
           {
            "colorbar": {
             "outlinewidth": 0,
             "ticks": ""
            },
            "colorscale": [
             [
              0,
              "#0d0887"
             ],
             [
              0.1111111111111111,
              "#46039f"
             ],
             [
              0.2222222222222222,
              "#7201a8"
             ],
             [
              0.3333333333333333,
              "#9c179e"
             ],
             [
              0.4444444444444444,
              "#bd3786"
             ],
             [
              0.5555555555555556,
              "#d8576b"
             ],
             [
              0.6666666666666666,
              "#ed7953"
             ],
             [
              0.7777777777777778,
              "#fb9f3a"
             ],
             [
              0.8888888888888888,
              "#fdca26"
             ],
             [
              1,
              "#f0f921"
             ]
            ],
            "type": "histogram2d"
           }
          ],
          "histogram2dcontour": [
           {
            "colorbar": {
             "outlinewidth": 0,
             "ticks": ""
            },
            "colorscale": [
             [
              0,
              "#0d0887"
             ],
             [
              0.1111111111111111,
              "#46039f"
             ],
             [
              0.2222222222222222,
              "#7201a8"
             ],
             [
              0.3333333333333333,
              "#9c179e"
             ],
             [
              0.4444444444444444,
              "#bd3786"
             ],
             [
              0.5555555555555556,
              "#d8576b"
             ],
             [
              0.6666666666666666,
              "#ed7953"
             ],
             [
              0.7777777777777778,
              "#fb9f3a"
             ],
             [
              0.8888888888888888,
              "#fdca26"
             ],
             [
              1,
              "#f0f921"
             ]
            ],
            "type": "histogram2dcontour"
           }
          ],
          "mesh3d": [
           {
            "colorbar": {
             "outlinewidth": 0,
             "ticks": ""
            },
            "type": "mesh3d"
           }
          ],
          "parcoords": [
           {
            "line": {
             "colorbar": {
              "outlinewidth": 0,
              "ticks": ""
             }
            },
            "type": "parcoords"
           }
          ],
          "scatter": [
           {
            "marker": {
             "colorbar": {
              "outlinewidth": 0,
              "ticks": ""
             }
            },
            "type": "scatter"
           }
          ],
          "scatter3d": [
           {
            "line": {
             "colorbar": {
              "outlinewidth": 0,
              "ticks": ""
             }
            },
            "marker": {
             "colorbar": {
              "outlinewidth": 0,
              "ticks": ""
             }
            },
            "type": "scatter3d"
           }
          ],
          "scattercarpet": [
           {
            "marker": {
             "colorbar": {
              "outlinewidth": 0,
              "ticks": ""
             }
            },
            "type": "scattercarpet"
           }
          ],
          "scattergeo": [
           {
            "marker": {
             "colorbar": {
              "outlinewidth": 0,
              "ticks": ""
             }
            },
            "type": "scattergeo"
           }
          ],
          "scattergl": [
           {
            "marker": {
             "colorbar": {
              "outlinewidth": 0,
              "ticks": ""
             }
            },
            "type": "scattergl"
           }
          ],
          "scattermapbox": [
           {
            "marker": {
             "colorbar": {
              "outlinewidth": 0,
              "ticks": ""
             }
            },
            "type": "scattermapbox"
           }
          ],
          "scatterpolar": [
           {
            "marker": {
             "colorbar": {
              "outlinewidth": 0,
              "ticks": ""
             }
            },
            "type": "scatterpolar"
           }
          ],
          "scatterpolargl": [
           {
            "marker": {
             "colorbar": {
              "outlinewidth": 0,
              "ticks": ""
             }
            },
            "type": "scatterpolargl"
           }
          ],
          "scatterternary": [
           {
            "marker": {
             "colorbar": {
              "outlinewidth": 0,
              "ticks": ""
             }
            },
            "type": "scatterternary"
           }
          ],
          "surface": [
           {
            "colorbar": {
             "outlinewidth": 0,
             "ticks": ""
            },
            "colorscale": [
             [
              0,
              "#0d0887"
             ],
             [
              0.1111111111111111,
              "#46039f"
             ],
             [
              0.2222222222222222,
              "#7201a8"
             ],
             [
              0.3333333333333333,
              "#9c179e"
             ],
             [
              0.4444444444444444,
              "#bd3786"
             ],
             [
              0.5555555555555556,
              "#d8576b"
             ],
             [
              0.6666666666666666,
              "#ed7953"
             ],
             [
              0.7777777777777778,
              "#fb9f3a"
             ],
             [
              0.8888888888888888,
              "#fdca26"
             ],
             [
              1,
              "#f0f921"
             ]
            ],
            "type": "surface"
           }
          ],
          "table": [
           {
            "cells": {
             "fill": {
              "color": "#EBF0F8"
             },
             "line": {
              "color": "white"
             }
            },
            "header": {
             "fill": {
              "color": "#C8D4E3"
             },
             "line": {
              "color": "white"
             }
            },
            "type": "table"
           }
          ]
         },
         "layout": {
          "annotationdefaults": {
           "arrowcolor": "#2a3f5f",
           "arrowhead": 0,
           "arrowwidth": 1
          },
          "colorscale": {
           "diverging": [
            [
             0,
             "#8e0152"
            ],
            [
             0.1,
             "#c51b7d"
            ],
            [
             0.2,
             "#de77ae"
            ],
            [
             0.3,
             "#f1b6da"
            ],
            [
             0.4,
             "#fde0ef"
            ],
            [
             0.5,
             "#f7f7f7"
            ],
            [
             0.6,
             "#e6f5d0"
            ],
            [
             0.7,
             "#b8e186"
            ],
            [
             0.8,
             "#7fbc41"
            ],
            [
             0.9,
             "#4d9221"
            ],
            [
             1,
             "#276419"
            ]
           ],
           "sequential": [
            [
             0,
             "#0d0887"
            ],
            [
             0.1111111111111111,
             "#46039f"
            ],
            [
             0.2222222222222222,
             "#7201a8"
            ],
            [
             0.3333333333333333,
             "#9c179e"
            ],
            [
             0.4444444444444444,
             "#bd3786"
            ],
            [
             0.5555555555555556,
             "#d8576b"
            ],
            [
             0.6666666666666666,
             "#ed7953"
            ],
            [
             0.7777777777777778,
             "#fb9f3a"
            ],
            [
             0.8888888888888888,
             "#fdca26"
            ],
            [
             1,
             "#f0f921"
            ]
           ],
           "sequentialminus": [
            [
             0,
             "#0d0887"
            ],
            [
             0.1111111111111111,
             "#46039f"
            ],
            [
             0.2222222222222222,
             "#7201a8"
            ],
            [
             0.3333333333333333,
             "#9c179e"
            ],
            [
             0.4444444444444444,
             "#bd3786"
            ],
            [
             0.5555555555555556,
             "#d8576b"
            ],
            [
             0.6666666666666666,
             "#ed7953"
            ],
            [
             0.7777777777777778,
             "#fb9f3a"
            ],
            [
             0.8888888888888888,
             "#fdca26"
            ],
            [
             1,
             "#f0f921"
            ]
           ]
          },
          "colorway": [
           "#636efa",
           "#EF553B",
           "#00cc96",
           "#ab63fa",
           "#FFA15A",
           "#19d3f3",
           "#FF6692",
           "#B6E880",
           "#FF97FF",
           "#FECB52"
          ],
          "font": {
           "color": "#2a3f5f"
          },
          "geo": {
           "bgcolor": "white",
           "lakecolor": "white",
           "landcolor": "#E5ECF6",
           "showlakes": true,
           "showland": true,
           "subunitcolor": "white"
          },
          "hoverlabel": {
           "align": "left"
          },
          "hovermode": "closest",
          "mapbox": {
           "style": "light"
          },
          "paper_bgcolor": "white",
          "plot_bgcolor": "#E5ECF6",
          "polar": {
           "angularaxis": {
            "gridcolor": "white",
            "linecolor": "white",
            "ticks": ""
           },
           "bgcolor": "#E5ECF6",
           "radialaxis": {
            "gridcolor": "white",
            "linecolor": "white",
            "ticks": ""
           }
          },
          "scene": {
           "xaxis": {
            "backgroundcolor": "#E5ECF6",
            "gridcolor": "white",
            "gridwidth": 2,
            "linecolor": "white",
            "showbackground": true,
            "ticks": "",
            "zerolinecolor": "white"
           },
           "yaxis": {
            "backgroundcolor": "#E5ECF6",
            "gridcolor": "white",
            "gridwidth": 2,
            "linecolor": "white",
            "showbackground": true,
            "ticks": "",
            "zerolinecolor": "white"
           },
           "zaxis": {
            "backgroundcolor": "#E5ECF6",
            "gridcolor": "white",
            "gridwidth": 2,
            "linecolor": "white",
            "showbackground": true,
            "ticks": "",
            "zerolinecolor": "white"
           }
          },
          "shapedefaults": {
           "line": {
            "color": "#2a3f5f"
           }
          },
          "ternary": {
           "aaxis": {
            "gridcolor": "white",
            "linecolor": "white",
            "ticks": ""
           },
           "baxis": {
            "gridcolor": "white",
            "linecolor": "white",
            "ticks": ""
           },
           "bgcolor": "#E5ECF6",
           "caxis": {
            "gridcolor": "white",
            "linecolor": "white",
            "ticks": ""
           }
          },
          "title": {
           "x": 0.05
          },
          "xaxis": {
           "automargin": true,
           "gridcolor": "white",
           "linecolor": "white",
           "ticks": "",
           "zerolinecolor": "white",
           "zerolinewidth": 2
          },
          "yaxis": {
           "automargin": true,
           "gridcolor": "white",
           "linecolor": "white",
           "ticks": "",
           "zerolinecolor": "white",
           "zerolinewidth": 2
          }
         }
        },
        "title": {
         "text": "Number of Solutions"
        },
        "width": 340
       },
       "_py2js_addTraces": {},
       "_py2js_animate": {},
       "_py2js_deleteTraces": {},
       "_py2js_moveTraces": {},
       "_py2js_removeLayoutProps": {},
       "_py2js_removeTraceProps": {},
       "_py2js_restyle": {},
       "_view_count": 1
      }
     },
     "22feef2381154dcbac8144283345cbf7": {
      "model_module": "@jupyter-widgets/controls",
      "model_module_version": "1.5.0",
      "model_name": "DescriptionStyleModel",
      "state": {
       "description_width": ""
      }
     },
     "2499c659902d41bda4e80b3653a861dd": {
      "model_module": "@jupyter-widgets/controls",
      "model_module_version": "1.5.0",
      "model_name": "DescriptionStyleModel",
      "state": {
       "description_width": ""
      }
     },
     "2568e02804bf4af3a8e61f51a28c2f75": {
      "model_module": "@jupyter-widgets/base",
      "model_module_version": "1.2.0",
      "model_name": "LayoutModel",
      "state": {
       "flex_flow": "row wrap"
      }
     },
     "25fd7448c9b74a98804205731759b636": {
      "model_module": "@jupyter-widgets/base",
      "model_module_version": "1.2.0",
      "model_name": "LayoutModel",
      "state": {}
     },
     "263d730bde5e454bb32f85cf96fce038": {
      "model_module": "@jupyter-widgets/base",
      "model_module_version": "1.2.0",
      "model_name": "LayoutModel",
      "state": {}
     },
     "271b8287db3342d19c19ca819e6f3b88": {
      "model_module": "@jupyter-widgets/base",
      "model_module_version": "1.2.0",
      "model_name": "LayoutModel",
      "state": {}
     },
     "28c7fa3a20cb4aea8b8c7ce339ea1fe6": {
      "model_module": "@jupyter-widgets/base",
      "model_module_version": "1.2.0",
      "model_name": "LayoutModel",
      "state": {}
     },
     "2942c6ec13a04f788c11f02c78a9bf9f": {
      "model_module": "@jupyter-widgets/controls",
      "model_module_version": "1.5.0",
      "model_name": "DescriptionStyleModel",
      "state": {
       "description_width": ""
      }
     },
     "29bc67ba6a05498f8cf63182fa150199": {
      "model_module": "@jupyter-widgets/controls",
      "model_module_version": "1.5.0",
      "model_name": "DescriptionStyleModel",
      "state": {
       "description_width": ""
      }
     },
     "2ae04f477c5444a5bbd37202d80e6352": {
      "model_module": "@jupyter-widgets/controls",
      "model_module_version": "1.5.0",
      "model_name": "HBoxModel",
      "state": {
       "children": [
        "IPY_MODEL_5fcfb380a520454bb7c8f67bf4404f72",
        "IPY_MODEL_b162dc31126e4b95a2838b5e200a7eea"
       ],
       "layout": "IPY_MODEL_2048b9c3d31a440085f919b92857a76e"
      }
     },
     "2c63aa60d5a04bfd9ef9e69a4fe83bf9": {
      "model_module": "@jupyter-widgets/base",
      "model_module_version": "1.2.0",
      "model_name": "LayoutModel",
      "state": {}
     },
     "2c6506360b7040c6a4267f6b705a4d5c": {
      "model_module": "@jupyter-widgets/base",
      "model_module_version": "1.2.0",
      "model_name": "LayoutModel",
      "state": {}
     },
     "300a2cc343bd4c00b36becf79bcd4e7f": {
      "model_module": "@jupyter-widgets/controls",
      "model_module_version": "1.5.0",
      "model_name": "CheckboxModel",
      "state": {
       "description": "(M-) cost_of_capacity_expansion",
       "description_tooltip": "cost_of_capacity_expansion",
       "disabled": false,
       "layout": "IPY_MODEL_fecb1536ada041dcbe6f839194af86d0",
       "name": "cost_of_capacity_expansion",
       "style": "IPY_MODEL_fc7435ce9a214454b55a90136da68029",
       "value": true
      }
     },
     "30b3869e817c41d2af5199c32bcb3cac": {
      "model_module": "@jupyter-widgets/base",
      "model_module_version": "1.2.0",
      "model_name": "LayoutModel",
      "state": {}
     },
     "30fda281aa6349a8b01e512e9e3d7a13": {
      "model_module": "@jupyter-widgets/controls",
      "model_module_version": "1.5.0",
      "model_name": "DescriptionStyleModel",
      "state": {
       "description_width": ""
      }
     },
     "33721462eb4e4fda86d0bf8ccfd5ca9c": {
      "model_module": "@jupyter-widgets/controls",
      "model_module_version": "1.5.0",
      "model_name": "DescriptionStyleModel",
      "state": {
       "description_width": ""
      }
     },
     "34c15ae5ed38491996b880e716cd5f90": {
      "model_module": "@jupyter-widgets/controls",
      "model_module_version": "1.5.0",
      "model_name": "VBoxModel",
      "state": {
       "children": [
        "IPY_MODEL_158a083015f34bac81fa7ef8a14d2541",
        "IPY_MODEL_8091abeffddd42b39f839fe8a586f26c",
        "IPY_MODEL_c51345b2ee974282804c864aeecd87a2",
        "IPY_MODEL_f979ed7b9d7f4d69a47b77e83ff43b80"
       ],
       "layout": "IPY_MODEL_6d127ad925694d3fb7b5922f8ca98f11"
      }
     },
     "36415f094ca942ab84f2f00b87df88df": {
      "model_module": "@jupyter-widgets/controls",
      "model_module_version": "1.5.0",
      "model_name": "CheckboxModel",
      "state": {
       "description": "(L) expand_capacity",
       "description_tooltip": "expand_capacity",
       "disabled": false,
       "layout": "IPY_MODEL_41fe132c09b6492c87c6535e875c54c1",
       "name": "expand_capacity",
       "style": "IPY_MODEL_2942c6ec13a04f788c11f02c78a9bf9f",
       "value": true
      }
     },
     "375e9efe939e4386916bf130786d8cb3": {
      "model_module": "@jupyter-widgets/base",
      "model_module_version": "1.2.0",
      "model_name": "LayoutModel",
      "state": {}
     },
     "381d9ece5ea04d3ba258265e34690dbe": {
      "model_module": "@jupyter-widgets/base",
      "model_module_version": "1.2.0",
      "model_name": "LayoutModel",
      "state": {
       "align_items": "center"
      }
     },
     "3a2135b217a546efaac77e4030f8ad84": {
      "model_module": "@jupyter-widgets/base",
      "model_module_version": "1.2.0",
      "model_name": "LayoutModel",
      "state": {}
     },
     "3a4134f67d4b4c50bb745b03711d924d": {
      "model_module": "@jupyter-widgets/controls",
      "model_module_version": "1.5.0",
      "model_name": "DescriptionStyleModel",
      "state": {
       "description_width": ""
      }
     },
     "3b3590eeecf64d87a51d5eeef505a5a7": {
      "model_module": "@jupyter-widgets/base",
      "model_module_version": "1.2.0",
      "model_name": "LayoutModel",
      "state": {}
     },
     "3b6d5a7c6c56420eb277d716b030b7a5": {
      "model_module": "@jupyter-widgets/output",
      "model_module_version": "1.0.0",
      "model_name": "OutputModel",
      "state": {
       "layout": "IPY_MODEL_e3af8f0fcfda44199cee867f6ece167b"
      }
     },
     "3ddeb6fdc7684a68ac09982ba9defd7f": {
      "model_module": "@jupyter-widgets/base",
      "model_module_version": "1.2.0",
      "model_name": "LayoutModel",
      "state": {
       "align_items": "center"
      }
     },
     "3e34c545dd3a48b89859287c26950914": {
      "model_module": "@jupyter-widgets/controls",
      "model_module_version": "1.5.0",
      "model_name": "DescriptionStyleModel",
      "state": {
       "description_width": ""
      }
     },
     "3ecd30300a5d4affac886d1aec71b3aa": {
      "model_module": "@jupyter-widgets/base",
      "model_module_version": "1.2.0",
      "model_name": "LayoutModel",
      "state": {}
     },
     "40a59e2f1c2743b3a1b1c465c1237e50": {
      "model_module": "@jupyter-widgets/controls",
      "model_module_version": "1.5.0",
      "model_name": "CheckboxModel",
      "state": {
       "description": "(L) interest_rate_lock",
       "description_tooltip": "interest_rate_lock",
       "disabled": false,
       "layout": "IPY_MODEL_f89b67dfa3054dbdafaafcfb1a20583e",
       "name": "interest_rate_lock",
       "style": "IPY_MODEL_40b04b36ec294493885367da832105a8",
       "value": true
      }
     },
     "40b04b36ec294493885367da832105a8": {
      "model_module": "@jupyter-widgets/controls",
      "model_module_version": "1.5.0",
      "model_name": "DescriptionStyleModel",
      "state": {
       "description_width": ""
      }
     },
     "40be56ceb45f4591a5bc3c892bfb2042": {
      "model_module": "plotlywidget",
      "model_module_version": "^1.1.1",
      "model_name": "FigureModel",
      "state": {
       "_config": {
        "plotlyServerURL": "https://plot.ly"
       },
       "_data": [
        {
         "fill": "tonexty",
         "line": {
          "shape": "linear"
         },
         "mode": "lines+markers",
         "name": "",
         "type": "scatter",
         "uid": "27ce3c43-3682-434a-a071-bfc5177458bd",
         "x": [
          0,
          100,
          200,
          300,
          400,
          500,
          600,
          700,
          800,
          900,
          1000,
          1100,
          1200,
          1300,
          1400,
          1500,
          1600,
          1700,
          1800,
          1900,
          2000,
          2100,
          2200,
          2300,
          2400,
          2500,
          2600,
          2700,
          2800,
          2900,
          3000,
          3100,
          3200,
          3300,
          3400,
          3500,
          3600,
          3700,
          3800,
          3900,
          4000,
          4100,
          4200,
          4300,
          4400,
          4500,
          4600,
          4700,
          4800,
          4900,
          5000,
          5100,
          5200,
          5300,
          5400,
          5500,
          5600,
          5700,
          5800,
          5900,
          6000,
          6100,
          6200,
          6300,
          6400,
          6500,
          6600,
          6700,
          6800,
          6900,
          7000,
          7100,
          7200,
          7300,
          7400,
          7500,
          7600,
          7700,
          7800,
          7900,
          8000,
          8100,
          8200,
          8300,
          8400,
          8500,
          8600,
          8700,
          8800,
          8900,
          9000,
          9100,
          9200,
          9300,
          9400,
          9500,
          9600,
          9700,
          9800,
          9900,
          10000
         ],
         "y": [
          0,
          27,
          35,
          46,
          54,
          60,
          66,
          73,
          57,
          62,
          59,
          62,
          56,
          58,
          50,
          52,
          58,
          59,
          62,
          63,
          58,
          61,
          62,
          64,
          64,
          67,
          67,
          68,
          70,
          68,
          68,
          70,
          72,
          76,
          78,
          80,
          80,
          82,
          79,
          80,
          82,
          82,
          82,
          85,
          85,
          85,
          82,
          83,
          84,
          83,
          83,
          84,
          85,
          84,
          84,
          79,
          81,
          81,
          81,
          81,
          81,
          81,
          78,
          78,
          78,
          79,
          80,
          80,
          78,
          77,
          79,
          79,
          79,
          80,
          80,
          81,
          83,
          69,
          71,
          72,
          71,
          70,
          70,
          71,
          72,
          72,
          72,
          74,
          74,
          74,
          74,
          74,
          74,
          75,
          76,
          77,
          79,
          79,
          79,
          80,
          72
         ]
        }
       ],
       "_js2py_pointsCallback": {},
       "_js2py_relayout": {},
       "_js2py_restyle": {},
       "_js2py_update": {},
       "_last_layout_edit_id": 4,
       "_last_trace_edit_id": 1,
       "_layout": {
        "height": 240,
        "hovermode": "closest",
        "margin": {
         "b": 15,
         "l": 15,
         "r": 15,
         "t": 40
        },
        "showlegend": false,
        "template": {
         "data": {
          "bar": [
           {
            "error_x": {
             "color": "#2a3f5f"
            },
            "error_y": {
             "color": "#2a3f5f"
            },
            "marker": {
             "line": {
              "color": "#E5ECF6",
              "width": 0.5
             }
            },
            "type": "bar"
           }
          ],
          "barpolar": [
           {
            "marker": {
             "line": {
              "color": "#E5ECF6",
              "width": 0.5
             }
            },
            "type": "barpolar"
           }
          ],
          "carpet": [
           {
            "aaxis": {
             "endlinecolor": "#2a3f5f",
             "gridcolor": "white",
             "linecolor": "white",
             "minorgridcolor": "white",
             "startlinecolor": "#2a3f5f"
            },
            "baxis": {
             "endlinecolor": "#2a3f5f",
             "gridcolor": "white",
             "linecolor": "white",
             "minorgridcolor": "white",
             "startlinecolor": "#2a3f5f"
            },
            "type": "carpet"
           }
          ],
          "choropleth": [
           {
            "colorbar": {
             "outlinewidth": 0,
             "ticks": ""
            },
            "type": "choropleth"
           }
          ],
          "contour": [
           {
            "colorbar": {
             "outlinewidth": 0,
             "ticks": ""
            },
            "colorscale": [
             [
              0,
              "#0d0887"
             ],
             [
              0.1111111111111111,
              "#46039f"
             ],
             [
              0.2222222222222222,
              "#7201a8"
             ],
             [
              0.3333333333333333,
              "#9c179e"
             ],
             [
              0.4444444444444444,
              "#bd3786"
             ],
             [
              0.5555555555555556,
              "#d8576b"
             ],
             [
              0.6666666666666666,
              "#ed7953"
             ],
             [
              0.7777777777777778,
              "#fb9f3a"
             ],
             [
              0.8888888888888888,
              "#fdca26"
             ],
             [
              1,
              "#f0f921"
             ]
            ],
            "type": "contour"
           }
          ],
          "contourcarpet": [
           {
            "colorbar": {
             "outlinewidth": 0,
             "ticks": ""
            },
            "type": "contourcarpet"
           }
          ],
          "heatmap": [
           {
            "colorbar": {
             "outlinewidth": 0,
             "ticks": ""
            },
            "colorscale": [
             [
              0,
              "#0d0887"
             ],
             [
              0.1111111111111111,
              "#46039f"
             ],
             [
              0.2222222222222222,
              "#7201a8"
             ],
             [
              0.3333333333333333,
              "#9c179e"
             ],
             [
              0.4444444444444444,
              "#bd3786"
             ],
             [
              0.5555555555555556,
              "#d8576b"
             ],
             [
              0.6666666666666666,
              "#ed7953"
             ],
             [
              0.7777777777777778,
              "#fb9f3a"
             ],
             [
              0.8888888888888888,
              "#fdca26"
             ],
             [
              1,
              "#f0f921"
             ]
            ],
            "type": "heatmap"
           }
          ],
          "heatmapgl": [
           {
            "colorbar": {
             "outlinewidth": 0,
             "ticks": ""
            },
            "colorscale": [
             [
              0,
              "#0d0887"
             ],
             [
              0.1111111111111111,
              "#46039f"
             ],
             [
              0.2222222222222222,
              "#7201a8"
             ],
             [
              0.3333333333333333,
              "#9c179e"
             ],
             [
              0.4444444444444444,
              "#bd3786"
             ],
             [
              0.5555555555555556,
              "#d8576b"
             ],
             [
              0.6666666666666666,
              "#ed7953"
             ],
             [
              0.7777777777777778,
              "#fb9f3a"
             ],
             [
              0.8888888888888888,
              "#fdca26"
             ],
             [
              1,
              "#f0f921"
             ]
            ],
            "type": "heatmapgl"
           }
          ],
          "histogram": [
           {
            "marker": {
             "colorbar": {
              "outlinewidth": 0,
              "ticks": ""
             }
            },
            "type": "histogram"
           }
          ],
          "histogram2d": [
           {
            "colorbar": {
             "outlinewidth": 0,
             "ticks": ""
            },
            "colorscale": [
             [
              0,
              "#0d0887"
             ],
             [
              0.1111111111111111,
              "#46039f"
             ],
             [
              0.2222222222222222,
              "#7201a8"
             ],
             [
              0.3333333333333333,
              "#9c179e"
             ],
             [
              0.4444444444444444,
              "#bd3786"
             ],
             [
              0.5555555555555556,
              "#d8576b"
             ],
             [
              0.6666666666666666,
              "#ed7953"
             ],
             [
              0.7777777777777778,
              "#fb9f3a"
             ],
             [
              0.8888888888888888,
              "#fdca26"
             ],
             [
              1,
              "#f0f921"
             ]
            ],
            "type": "histogram2d"
           }
          ],
          "histogram2dcontour": [
           {
            "colorbar": {
             "outlinewidth": 0,
             "ticks": ""
            },
            "colorscale": [
             [
              0,
              "#0d0887"
             ],
             [
              0.1111111111111111,
              "#46039f"
             ],
             [
              0.2222222222222222,
              "#7201a8"
             ],
             [
              0.3333333333333333,
              "#9c179e"
             ],
             [
              0.4444444444444444,
              "#bd3786"
             ],
             [
              0.5555555555555556,
              "#d8576b"
             ],
             [
              0.6666666666666666,
              "#ed7953"
             ],
             [
              0.7777777777777778,
              "#fb9f3a"
             ],
             [
              0.8888888888888888,
              "#fdca26"
             ],
             [
              1,
              "#f0f921"
             ]
            ],
            "type": "histogram2dcontour"
           }
          ],
          "mesh3d": [
           {
            "colorbar": {
             "outlinewidth": 0,
             "ticks": ""
            },
            "type": "mesh3d"
           }
          ],
          "parcoords": [
           {
            "line": {
             "colorbar": {
              "outlinewidth": 0,
              "ticks": ""
             }
            },
            "type": "parcoords"
           }
          ],
          "scatter": [
           {
            "marker": {
             "colorbar": {
              "outlinewidth": 0,
              "ticks": ""
             }
            },
            "type": "scatter"
           }
          ],
          "scatter3d": [
           {
            "line": {
             "colorbar": {
              "outlinewidth": 0,
              "ticks": ""
             }
            },
            "marker": {
             "colorbar": {
              "outlinewidth": 0,
              "ticks": ""
             }
            },
            "type": "scatter3d"
           }
          ],
          "scattercarpet": [
           {
            "marker": {
             "colorbar": {
              "outlinewidth": 0,
              "ticks": ""
             }
            },
            "type": "scattercarpet"
           }
          ],
          "scattergeo": [
           {
            "marker": {
             "colorbar": {
              "outlinewidth": 0,
              "ticks": ""
             }
            },
            "type": "scattergeo"
           }
          ],
          "scattergl": [
           {
            "marker": {
             "colorbar": {
              "outlinewidth": 0,
              "ticks": ""
             }
            },
            "type": "scattergl"
           }
          ],
          "scattermapbox": [
           {
            "marker": {
             "colorbar": {
              "outlinewidth": 0,
              "ticks": ""
             }
            },
            "type": "scattermapbox"
           }
          ],
          "scatterpolar": [
           {
            "marker": {
             "colorbar": {
              "outlinewidth": 0,
              "ticks": ""
             }
            },
            "type": "scatterpolar"
           }
          ],
          "scatterpolargl": [
           {
            "marker": {
             "colorbar": {
              "outlinewidth": 0,
              "ticks": ""
             }
            },
            "type": "scatterpolargl"
           }
          ],
          "scatterternary": [
           {
            "marker": {
             "colorbar": {
              "outlinewidth": 0,
              "ticks": ""
             }
            },
            "type": "scatterternary"
           }
          ],
          "surface": [
           {
            "colorbar": {
             "outlinewidth": 0,
             "ticks": ""
            },
            "colorscale": [
             [
              0,
              "#0d0887"
             ],
             [
              0.1111111111111111,
              "#46039f"
             ],
             [
              0.2222222222222222,
              "#7201a8"
             ],
             [
              0.3333333333333333,
              "#9c179e"
             ],
             [
              0.4444444444444444,
              "#bd3786"
             ],
             [
              0.5555555555555556,
              "#d8576b"
             ],
             [
              0.6666666666666666,
              "#ed7953"
             ],
             [
              0.7777777777777778,
              "#fb9f3a"
             ],
             [
              0.8888888888888888,
              "#fdca26"
             ],
             [
              1,
              "#f0f921"
             ]
            ],
            "type": "surface"
           }
          ],
          "table": [
           {
            "cells": {
             "fill": {
              "color": "#EBF0F8"
             },
             "line": {
              "color": "white"
             }
            },
            "header": {
             "fill": {
              "color": "#C8D4E3"
             },
             "line": {
              "color": "white"
             }
            },
            "type": "table"
           }
          ]
         },
         "layout": {
          "annotationdefaults": {
           "arrowcolor": "#2a3f5f",
           "arrowhead": 0,
           "arrowwidth": 1
          },
          "colorscale": {
           "diverging": [
            [
             0,
             "#8e0152"
            ],
            [
             0.1,
             "#c51b7d"
            ],
            [
             0.2,
             "#de77ae"
            ],
            [
             0.3,
             "#f1b6da"
            ],
            [
             0.4,
             "#fde0ef"
            ],
            [
             0.5,
             "#f7f7f7"
            ],
            [
             0.6,
             "#e6f5d0"
            ],
            [
             0.7,
             "#b8e186"
            ],
            [
             0.8,
             "#7fbc41"
            ],
            [
             0.9,
             "#4d9221"
            ],
            [
             1,
             "#276419"
            ]
           ],
           "sequential": [
            [
             0,
             "#0d0887"
            ],
            [
             0.1111111111111111,
             "#46039f"
            ],
            [
             0.2222222222222222,
             "#7201a8"
            ],
            [
             0.3333333333333333,
             "#9c179e"
            ],
            [
             0.4444444444444444,
             "#bd3786"
            ],
            [
             0.5555555555555556,
             "#d8576b"
            ],
            [
             0.6666666666666666,
             "#ed7953"
            ],
            [
             0.7777777777777778,
             "#fb9f3a"
            ],
            [
             0.8888888888888888,
             "#fdca26"
            ],
            [
             1,
             "#f0f921"
            ]
           ],
           "sequentialminus": [
            [
             0,
             "#0d0887"
            ],
            [
             0.1111111111111111,
             "#46039f"
            ],
            [
             0.2222222222222222,
             "#7201a8"
            ],
            [
             0.3333333333333333,
             "#9c179e"
            ],
            [
             0.4444444444444444,
             "#bd3786"
            ],
            [
             0.5555555555555556,
             "#d8576b"
            ],
            [
             0.6666666666666666,
             "#ed7953"
            ],
            [
             0.7777777777777778,
             "#fb9f3a"
            ],
            [
             0.8888888888888888,
             "#fdca26"
            ],
            [
             1,
             "#f0f921"
            ]
           ]
          },
          "colorway": [
           "#636efa",
           "#EF553B",
           "#00cc96",
           "#ab63fa",
           "#FFA15A",
           "#19d3f3",
           "#FF6692",
           "#B6E880",
           "#FF97FF",
           "#FECB52"
          ],
          "font": {
           "color": "#2a3f5f"
          },
          "geo": {
           "bgcolor": "white",
           "lakecolor": "white",
           "landcolor": "#E5ECF6",
           "showlakes": true,
           "showland": true,
           "subunitcolor": "white"
          },
          "hoverlabel": {
           "align": "left"
          },
          "hovermode": "closest",
          "mapbox": {
           "style": "light"
          },
          "paper_bgcolor": "white",
          "plot_bgcolor": "#E5ECF6",
          "polar": {
           "angularaxis": {
            "gridcolor": "white",
            "linecolor": "white",
            "ticks": ""
           },
           "bgcolor": "#E5ECF6",
           "radialaxis": {
            "gridcolor": "white",
            "linecolor": "white",
            "ticks": ""
           }
          },
          "scene": {
           "xaxis": {
            "backgroundcolor": "#E5ECF6",
            "gridcolor": "white",
            "gridwidth": 2,
            "linecolor": "white",
            "showbackground": true,
            "ticks": "",
            "zerolinecolor": "white"
           },
           "yaxis": {
            "backgroundcolor": "#E5ECF6",
            "gridcolor": "white",
            "gridwidth": 2,
            "linecolor": "white",
            "showbackground": true,
            "ticks": "",
            "zerolinecolor": "white"
           },
           "zaxis": {
            "backgroundcolor": "#E5ECF6",
            "gridcolor": "white",
            "gridwidth": 2,
            "linecolor": "white",
            "showbackground": true,
            "ticks": "",
            "zerolinecolor": "white"
           }
          },
          "shapedefaults": {
           "line": {
            "color": "#2a3f5f"
           }
          },
          "ternary": {
           "aaxis": {
            "gridcolor": "white",
            "linecolor": "white",
            "ticks": ""
           },
           "baxis": {
            "gridcolor": "white",
            "linecolor": "white",
            "ticks": ""
           },
           "bgcolor": "#E5ECF6",
           "caxis": {
            "gridcolor": "white",
            "linecolor": "white",
            "ticks": ""
           }
          },
          "title": {
           "x": 0.05
          },
          "xaxis": {
           "automargin": true,
           "gridcolor": "white",
           "linecolor": "white",
           "ticks": "",
           "zerolinecolor": "white",
           "zerolinewidth": 2
          },
          "yaxis": {
           "automargin": true,
           "gridcolor": "white",
           "linecolor": "white",
           "ticks": "",
           "zerolinecolor": "white",
           "zerolinewidth": 2
          }
         }
        },
        "title": {
         "text": "Number of Solutions"
        },
        "width": 340
       },
       "_py2js_addTraces": {},
       "_py2js_animate": {},
       "_py2js_deleteTraces": {},
       "_py2js_moveTraces": {},
       "_py2js_removeLayoutProps": {},
       "_py2js_removeTraceProps": {},
       "_py2js_restyle": {},
       "_view_count": 1
      }
     },
     "41fe132c09b6492c87c6535e875c54c1": {
      "model_module": "@jupyter-widgets/base",
      "model_module_version": "1.2.0",
      "model_name": "LayoutModel",
      "state": {}
     },
     "443df6ead3284a18badc53ceddf430d3": {
      "model_module": "@jupyter-widgets/base",
      "model_module_version": "1.2.0",
      "model_name": "LayoutModel",
      "state": {}
     },
     "446a212a23a447b69ab506e00a34c115": {
      "model_module": "@jupyter-widgets/controls",
      "model_module_version": "1.5.0",
      "model_name": "DescriptionStyleModel",
      "state": {
       "description_width": ""
      }
     },
     "454f48e8b03b432fbab9b42fab287d6c": {
      "model_module": "@jupyter-widgets/base",
      "model_module_version": "1.2.0",
      "model_name": "LayoutModel",
      "state": {}
     },
     "455958b1ceea46b09e742e0517904aee": {
      "model_module": "@jupyter-widgets/controls",
      "model_module_version": "1.5.0",
      "model_name": "CheckboxModel",
      "state": {
       "description": "(X) value_of_time",
       "description_tooltip": "value_of_time",
       "disabled": false,
       "layout": "IPY_MODEL_18a1d4646f5442f78de4277516abd9e2",
       "name": "value_of_time",
       "style": "IPY_MODEL_9bffc7f0549b4ccc9953b057294bddf5",
       "value": true
      }
     },
     "47ad8e9e4eea402295514ade87427716": {
      "model_module": "@jupyter-widgets/controls",
      "model_module_version": "1.5.0",
      "model_name": "DescriptionStyleModel",
      "state": {
       "description_width": ""
      }
     },
     "4839e37916b2482785983ac30021dc96": {
      "model_module": "@jupyter-widgets/base",
      "model_module_version": "1.2.0",
      "model_name": "LayoutModel",
      "state": {}
     },
     "484b91e31afa4fb9b32d8ec64679afa8": {
      "model_module": "@jupyter-widgets/controls",
      "model_module_version": "1.5.0",
      "model_name": "DescriptionStyleModel",
      "state": {
       "description_width": ""
      }
     },
     "495c16ae07124b21b167b43e73c520ff": {
      "model_module": "@jupyter-widgets/controls",
      "model_module_version": "1.5.0",
      "model_name": "DescriptionStyleModel",
      "state": {
       "description_width": ""
      }
     },
     "4ab5a6c229634f8e956f4c055a671e00": {
      "model_module": "@jupyter-widgets/base",
      "model_module_version": "1.2.0",
      "model_name": "LayoutModel",
      "state": {}
     },
     "4acd8fffe2c34ef882f1b8689639dc83": {
      "model_module": "@jupyter-widgets/controls",
      "model_module_version": "1.5.0",
      "model_name": "CheckboxModel",
      "state": {
       "description": "(X) beta",
       "description_tooltip": "beta",
       "disabled": false,
       "layout": "IPY_MODEL_c0b41b39639f4b78915b5880a3bf461d",
       "name": "beta",
       "style": "IPY_MODEL_b500490c66894c2abfa7f7dce4758703",
       "value": true
      }
     },
     "4c77cf1636174edb991173d891c4378b": {
      "model_module": "@jupyter-widgets/controls",
      "model_module_version": "1.5.0",
      "model_name": "CheckboxModel",
      "state": {
       "description": "(L) amortization_period",
       "description_tooltip": "amortization_period",
       "disabled": false,
       "layout": "IPY_MODEL_bb83554d61ea43059e3b44fc2006ef54",
       "name": "amortization_period",
       "style": "IPY_MODEL_c8d553bc433143cfb39e87a685f2d42e",
       "value": true
      }
     },
     "4e5d33af66674c37b10d8b3225d69358": {
      "model_module": "@jupyter-widgets/controls",
      "model_module_version": "1.5.0",
      "model_name": "CheckboxModel",
      "state": {
       "description": "(M+) time_savings",
       "description_tooltip": "time_savings",
       "disabled": false,
       "layout": "IPY_MODEL_0d166690dd9c45bf809aece7808c8b2c",
       "name": "time_savings",
       "style": "IPY_MODEL_47ad8e9e4eea402295514ade87427716",
       "value": true
      }
     },
     "5026490b1163489785a0600f9f2b8fc5": {
      "model_module": "@jupyter-widgets/controls",
      "model_module_version": "1.5.0",
      "model_name": "DescriptionStyleModel",
      "state": {
       "description_width": ""
      }
     },
     "51d7aa65ace9473d8a56c2ffdb6f0d63": {
      "model_module": "@jupyter-widgets/controls",
      "model_module_version": "1.5.0",
      "model_name": "CheckboxModel",
      "state": {
       "description": "(X) unit_cost_expansion",
       "description_tooltip": "unit_cost_expansion",
       "disabled": false,
       "layout": "IPY_MODEL_443df6ead3284a18badc53ceddf430d3",
       "name": "unit_cost_expansion",
       "style": "IPY_MODEL_9bac8182d6044ce9baa68f358eac80e0",
       "value": true
      }
     },
     "51df40102bd04cb68b3548de2e5da656": {
      "model_module": "@jupyter-widgets/controls",
      "model_module_version": "1.5.0",
      "model_name": "DescriptionStyleModel",
      "state": {
       "description_width": ""
      }
     },
     "51eec4a43cf743d0adb6b12cf81efddf": {
      "model_module": "@jupyter-widgets/controls",
      "model_module_version": "1.5.0",
      "model_name": "CheckboxModel",
      "state": {
       "description": "(L) debt_type",
       "description_tooltip": "debt_type",
       "disabled": false,
       "layout": "IPY_MODEL_b81eaed55c214c7482bbf141696573fb",
       "name": "debt_type",
       "style": "IPY_MODEL_bf8915e6df2e4cef865d29ff867ae701",
       "value": true
      }
     },
     "526f7e690aae4f478a198fdf4c0124cd": {
      "model_module": "@jupyter-widgets/controls",
      "model_module_version": "1.5.0",
      "model_name": "DescriptionStyleModel",
      "state": {
       "description_width": ""
      }
     },
     "58aac52a37a244fda040cdd9d2ec2db3": {
      "model_module": "@jupyter-widgets/controls",
      "model_module_version": "1.5.0",
      "model_name": "CheckboxModel",
      "state": {
       "description": "(L) amortization_period",
       "description_tooltip": "amortization_period",
       "disabled": false,
       "layout": "IPY_MODEL_6587eeae5b70477bb741b4fb4ad50a19",
       "name": "amortization_period",
       "style": "IPY_MODEL_30fda281aa6349a8b01e512e9e3d7a13",
       "value": true
      }
     },
     "5b5f0aa83177454db973cceacf056f1b": {
      "model_module": "@jupyter-widgets/base",
      "model_module_version": "1.2.0",
      "model_name": "LayoutModel",
      "state": {}
     },
     "5cb446ef55e74590bcd120f92b52e335": {
      "model_module": "@jupyter-widgets/base",
      "model_module_version": "1.2.0",
      "model_name": "LayoutModel",
      "state": {}
     },
     "5d3d0411a405413094299bb96798acb9": {
      "model_module": "@jupyter-widgets/controls",
      "model_module_version": "1.5.0",
      "model_name": "DescriptionStyleModel",
      "state": {
       "description_width": ""
      }
     },
     "5dbc53cdf53340a0b81bc8cf43c9a8a4": {
      "model_module": "@jupyter-widgets/controls",
      "model_module_version": "1.5.0",
      "model_name": "CheckboxModel",
      "state": {
       "description": "(L) expand_capacity",
       "description_tooltip": "expand_capacity",
       "disabled": false,
       "layout": "IPY_MODEL_1d0f9573dc6a4ae0a7106e552d9fdb28",
       "name": "expand_capacity",
       "style": "IPY_MODEL_3e34c545dd3a48b89859287c26950914",
       "value": true
      }
     },
     "5fcfb380a520454bb7c8f67bf4404f72": {
      "model_module": "plotlywidget",
      "model_module_version": "^1.1.1",
      "model_name": "FigureModel",
      "state": {
       "_config": {
        "plotlyServerURL": "https://plot.ly"
       },
       "_data": [
        {
         "fill": "tonexty",
         "line": {
          "shape": "linear"
         },
         "mode": "lines+markers",
         "name": "",
         "type": "scatter",
         "uid": "14a55f7f-808d-403c-b2cc-08163491e71a",
         "x": [
          0,
          100,
          200,
          300,
          400,
          500,
          600,
          700,
          800,
          900,
          1000,
          1100,
          1200,
          1300,
          1400,
          1500,
          1600,
          1700,
          1800,
          1900,
          2000,
          2100,
          2200,
          2300,
          2400,
          2500,
          2600,
          2700,
          2800,
          2900,
          3000,
          3100,
          3200,
          3300,
          3400,
          3500,
          3600,
          3700,
          3800,
          3900,
          4000,
          4100,
          4200,
          4300,
          4400,
          4500,
          4600,
          4700,
          4800,
          4900,
          5000,
          5100,
          5200,
          5300,
          5400,
          5500,
          5600,
          5700,
          5800,
          5900,
          6000,
          6100,
          6200,
          6300,
          6400,
          6500,
          6600,
          6700,
          6800,
          6900,
          7000,
          7100,
          7200,
          7300,
          7400,
          7500,
          7600,
          7700,
          7800,
          7900,
          8000,
          8100,
          8200,
          8300,
          8400,
          8500,
          8600,
          8700,
          8800,
          8900,
          9000,
          9100,
          9200,
          9300,
          9400,
          9500,
          9600,
          9700,
          9800,
          9900,
          10000,
          10120,
          10280,
          10440,
          10600,
          10760,
          10920,
          11080,
          11240,
          11400,
          11560,
          11720,
          11880,
          12040,
          12200,
          12360,
          12520,
          12680,
          12840,
          13000,
          13160,
          13320,
          13480,
          13640,
          13800,
          13960,
          14120,
          14280,
          14440,
          14600,
          14760,
          14920,
          15080,
          15240,
          15400,
          15560,
          15720,
          15880,
          16040,
          16200,
          16360,
          16520,
          16680,
          16840,
          17000,
          17160,
          17320,
          17480,
          17640,
          17800,
          17960,
          18120,
          18280,
          18440,
          18600,
          18760,
          18920,
          19080,
          19240,
          19400,
          19560,
          19720,
          19880,
          20040,
          20200,
          20360,
          20520,
          20680,
          20840,
          21000,
          21160,
          21320,
          21480,
          21640,
          21800,
          21960,
          22120,
          22280,
          22440,
          22600,
          22760,
          22920,
          23080,
          23240,
          23400,
          23560,
          23720,
          23880,
          24040,
          24200,
          24360,
          24520,
          24680,
          24840
         ],
         "y": [
          0,
          24,
          30,
          35,
          36,
          37,
          40,
          43,
          43,
          44,
          46,
          48,
          49,
          50,
          50,
          51,
          51,
          52,
          53,
          54,
          54,
          55,
          57,
          60,
          60,
          61,
          61,
          62,
          62,
          63,
          64,
          64,
          64,
          64,
          64,
          64,
          64,
          64,
          64,
          65,
          65,
          65,
          65,
          65,
          66,
          66,
          67,
          69,
          69,
          69,
          69,
          69,
          69,
          69,
          69,
          69,
          69,
          69,
          69,
          69,
          70,
          70,
          70,
          71,
          72,
          72,
          72,
          72,
          73,
          73,
          73,
          73,
          73,
          74,
          75,
          76,
          77,
          78,
          79,
          79,
          79,
          79,
          79,
          80,
          81,
          81,
          81,
          81,
          81,
          81,
          81,
          81,
          81,
          81,
          81,
          83,
          83,
          84,
          84,
          84,
          84,
          91,
          92,
          95,
          95,
          96,
          96,
          96,
          98,
          99,
          101,
          102,
          104,
          104,
          104,
          104,
          104,
          104,
          104,
          104,
          104,
          104,
          104,
          106,
          107,
          107,
          108,
          108,
          108,
          108,
          108,
          108,
          108,
          109,
          109,
          109,
          109,
          110,
          110,
          110,
          111,
          111,
          111,
          111,
          112,
          112,
          112,
          112,
          112,
          112,
          112,
          112,
          112,
          112,
          113,
          114,
          114,
          114,
          114,
          114,
          115,
          115,
          115,
          115,
          117,
          118,
          118,
          118,
          119,
          119,
          120,
          121,
          121,
          121,
          121,
          121,
          121,
          121,
          121,
          121,
          122,
          122,
          122,
          122,
          122,
          122,
          122,
          122,
          122,
          122,
          122,
          122,
          122,
          122
         ]
        }
       ],
       "_js2py_pointsCallback": {},
       "_js2py_relayout": {},
       "_js2py_restyle": {},
       "_js2py_update": {},
       "_last_layout_edit_id": 4,
       "_last_trace_edit_id": 1,
       "_layout": {
        "height": 240,
        "hovermode": "closest",
        "margin": {
         "b": 15,
         "l": 15,
         "r": 15,
         "t": 40
        },
        "showlegend": false,
        "template": {
         "data": {
          "bar": [
           {
            "error_x": {
             "color": "#2a3f5f"
            },
            "error_y": {
             "color": "#2a3f5f"
            },
            "marker": {
             "line": {
              "color": "#E5ECF6",
              "width": 0.5
             }
            },
            "type": "bar"
           }
          ],
          "barpolar": [
           {
            "marker": {
             "line": {
              "color": "#E5ECF6",
              "width": 0.5
             }
            },
            "type": "barpolar"
           }
          ],
          "carpet": [
           {
            "aaxis": {
             "endlinecolor": "#2a3f5f",
             "gridcolor": "white",
             "linecolor": "white",
             "minorgridcolor": "white",
             "startlinecolor": "#2a3f5f"
            },
            "baxis": {
             "endlinecolor": "#2a3f5f",
             "gridcolor": "white",
             "linecolor": "white",
             "minorgridcolor": "white",
             "startlinecolor": "#2a3f5f"
            },
            "type": "carpet"
           }
          ],
          "choropleth": [
           {
            "colorbar": {
             "outlinewidth": 0,
             "ticks": ""
            },
            "type": "choropleth"
           }
          ],
          "contour": [
           {
            "colorbar": {
             "outlinewidth": 0,
             "ticks": ""
            },
            "colorscale": [
             [
              0,
              "#0d0887"
             ],
             [
              0.1111111111111111,
              "#46039f"
             ],
             [
              0.2222222222222222,
              "#7201a8"
             ],
             [
              0.3333333333333333,
              "#9c179e"
             ],
             [
              0.4444444444444444,
              "#bd3786"
             ],
             [
              0.5555555555555556,
              "#d8576b"
             ],
             [
              0.6666666666666666,
              "#ed7953"
             ],
             [
              0.7777777777777778,
              "#fb9f3a"
             ],
             [
              0.8888888888888888,
              "#fdca26"
             ],
             [
              1,
              "#f0f921"
             ]
            ],
            "type": "contour"
           }
          ],
          "contourcarpet": [
           {
            "colorbar": {
             "outlinewidth": 0,
             "ticks": ""
            },
            "type": "contourcarpet"
           }
          ],
          "heatmap": [
           {
            "colorbar": {
             "outlinewidth": 0,
             "ticks": ""
            },
            "colorscale": [
             [
              0,
              "#0d0887"
             ],
             [
              0.1111111111111111,
              "#46039f"
             ],
             [
              0.2222222222222222,
              "#7201a8"
             ],
             [
              0.3333333333333333,
              "#9c179e"
             ],
             [
              0.4444444444444444,
              "#bd3786"
             ],
             [
              0.5555555555555556,
              "#d8576b"
             ],
             [
              0.6666666666666666,
              "#ed7953"
             ],
             [
              0.7777777777777778,
              "#fb9f3a"
             ],
             [
              0.8888888888888888,
              "#fdca26"
             ],
             [
              1,
              "#f0f921"
             ]
            ],
            "type": "heatmap"
           }
          ],
          "heatmapgl": [
           {
            "colorbar": {
             "outlinewidth": 0,
             "ticks": ""
            },
            "colorscale": [
             [
              0,
              "#0d0887"
             ],
             [
              0.1111111111111111,
              "#46039f"
             ],
             [
              0.2222222222222222,
              "#7201a8"
             ],
             [
              0.3333333333333333,
              "#9c179e"
             ],
             [
              0.4444444444444444,
              "#bd3786"
             ],
             [
              0.5555555555555556,
              "#d8576b"
             ],
             [
              0.6666666666666666,
              "#ed7953"
             ],
             [
              0.7777777777777778,
              "#fb9f3a"
             ],
             [
              0.8888888888888888,
              "#fdca26"
             ],
             [
              1,
              "#f0f921"
             ]
            ],
            "type": "heatmapgl"
           }
          ],
          "histogram": [
           {
            "marker": {
             "colorbar": {
              "outlinewidth": 0,
              "ticks": ""
             }
            },
            "type": "histogram"
           }
          ],
          "histogram2d": [
           {
            "colorbar": {
             "outlinewidth": 0,
             "ticks": ""
            },
            "colorscale": [
             [
              0,
              "#0d0887"
             ],
             [
              0.1111111111111111,
              "#46039f"
             ],
             [
              0.2222222222222222,
              "#7201a8"
             ],
             [
              0.3333333333333333,
              "#9c179e"
             ],
             [
              0.4444444444444444,
              "#bd3786"
             ],
             [
              0.5555555555555556,
              "#d8576b"
             ],
             [
              0.6666666666666666,
              "#ed7953"
             ],
             [
              0.7777777777777778,
              "#fb9f3a"
             ],
             [
              0.8888888888888888,
              "#fdca26"
             ],
             [
              1,
              "#f0f921"
             ]
            ],
            "type": "histogram2d"
           }
          ],
          "histogram2dcontour": [
           {
            "colorbar": {
             "outlinewidth": 0,
             "ticks": ""
            },
            "colorscale": [
             [
              0,
              "#0d0887"
             ],
             [
              0.1111111111111111,
              "#46039f"
             ],
             [
              0.2222222222222222,
              "#7201a8"
             ],
             [
              0.3333333333333333,
              "#9c179e"
             ],
             [
              0.4444444444444444,
              "#bd3786"
             ],
             [
              0.5555555555555556,
              "#d8576b"
             ],
             [
              0.6666666666666666,
              "#ed7953"
             ],
             [
              0.7777777777777778,
              "#fb9f3a"
             ],
             [
              0.8888888888888888,
              "#fdca26"
             ],
             [
              1,
              "#f0f921"
             ]
            ],
            "type": "histogram2dcontour"
           }
          ],
          "mesh3d": [
           {
            "colorbar": {
             "outlinewidth": 0,
             "ticks": ""
            },
            "type": "mesh3d"
           }
          ],
          "parcoords": [
           {
            "line": {
             "colorbar": {
              "outlinewidth": 0,
              "ticks": ""
             }
            },
            "type": "parcoords"
           }
          ],
          "scatter": [
           {
            "marker": {
             "colorbar": {
              "outlinewidth": 0,
              "ticks": ""
             }
            },
            "type": "scatter"
           }
          ],
          "scatter3d": [
           {
            "line": {
             "colorbar": {
              "outlinewidth": 0,
              "ticks": ""
             }
            },
            "marker": {
             "colorbar": {
              "outlinewidth": 0,
              "ticks": ""
             }
            },
            "type": "scatter3d"
           }
          ],
          "scattercarpet": [
           {
            "marker": {
             "colorbar": {
              "outlinewidth": 0,
              "ticks": ""
             }
            },
            "type": "scattercarpet"
           }
          ],
          "scattergeo": [
           {
            "marker": {
             "colorbar": {
              "outlinewidth": 0,
              "ticks": ""
             }
            },
            "type": "scattergeo"
           }
          ],
          "scattergl": [
           {
            "marker": {
             "colorbar": {
              "outlinewidth": 0,
              "ticks": ""
             }
            },
            "type": "scattergl"
           }
          ],
          "scattermapbox": [
           {
            "marker": {
             "colorbar": {
              "outlinewidth": 0,
              "ticks": ""
             }
            },
            "type": "scattermapbox"
           }
          ],
          "scatterpolar": [
           {
            "marker": {
             "colorbar": {
              "outlinewidth": 0,
              "ticks": ""
             }
            },
            "type": "scatterpolar"
           }
          ],
          "scatterpolargl": [
           {
            "marker": {
             "colorbar": {
              "outlinewidth": 0,
              "ticks": ""
             }
            },
            "type": "scatterpolargl"
           }
          ],
          "scatterternary": [
           {
            "marker": {
             "colorbar": {
              "outlinewidth": 0,
              "ticks": ""
             }
            },
            "type": "scatterternary"
           }
          ],
          "surface": [
           {
            "colorbar": {
             "outlinewidth": 0,
             "ticks": ""
            },
            "colorscale": [
             [
              0,
              "#0d0887"
             ],
             [
              0.1111111111111111,
              "#46039f"
             ],
             [
              0.2222222222222222,
              "#7201a8"
             ],
             [
              0.3333333333333333,
              "#9c179e"
             ],
             [
              0.4444444444444444,
              "#bd3786"
             ],
             [
              0.5555555555555556,
              "#d8576b"
             ],
             [
              0.6666666666666666,
              "#ed7953"
             ],
             [
              0.7777777777777778,
              "#fb9f3a"
             ],
             [
              0.8888888888888888,
              "#fdca26"
             ],
             [
              1,
              "#f0f921"
             ]
            ],
            "type": "surface"
           }
          ],
          "table": [
           {
            "cells": {
             "fill": {
              "color": "#EBF0F8"
             },
             "line": {
              "color": "white"
             }
            },
            "header": {
             "fill": {
              "color": "#C8D4E3"
             },
             "line": {
              "color": "white"
             }
            },
            "type": "table"
           }
          ]
         },
         "layout": {
          "annotationdefaults": {
           "arrowcolor": "#2a3f5f",
           "arrowhead": 0,
           "arrowwidth": 1
          },
          "colorscale": {
           "diverging": [
            [
             0,
             "#8e0152"
            ],
            [
             0.1,
             "#c51b7d"
            ],
            [
             0.2,
             "#de77ae"
            ],
            [
             0.3,
             "#f1b6da"
            ],
            [
             0.4,
             "#fde0ef"
            ],
            [
             0.5,
             "#f7f7f7"
            ],
            [
             0.6,
             "#e6f5d0"
            ],
            [
             0.7,
             "#b8e186"
            ],
            [
             0.8,
             "#7fbc41"
            ],
            [
             0.9,
             "#4d9221"
            ],
            [
             1,
             "#276419"
            ]
           ],
           "sequential": [
            [
             0,
             "#0d0887"
            ],
            [
             0.1111111111111111,
             "#46039f"
            ],
            [
             0.2222222222222222,
             "#7201a8"
            ],
            [
             0.3333333333333333,
             "#9c179e"
            ],
            [
             0.4444444444444444,
             "#bd3786"
            ],
            [
             0.5555555555555556,
             "#d8576b"
            ],
            [
             0.6666666666666666,
             "#ed7953"
            ],
            [
             0.7777777777777778,
             "#fb9f3a"
            ],
            [
             0.8888888888888888,
             "#fdca26"
            ],
            [
             1,
             "#f0f921"
            ]
           ],
           "sequentialminus": [
            [
             0,
             "#0d0887"
            ],
            [
             0.1111111111111111,
             "#46039f"
            ],
            [
             0.2222222222222222,
             "#7201a8"
            ],
            [
             0.3333333333333333,
             "#9c179e"
            ],
            [
             0.4444444444444444,
             "#bd3786"
            ],
            [
             0.5555555555555556,
             "#d8576b"
            ],
            [
             0.6666666666666666,
             "#ed7953"
            ],
            [
             0.7777777777777778,
             "#fb9f3a"
            ],
            [
             0.8888888888888888,
             "#fdca26"
            ],
            [
             1,
             "#f0f921"
            ]
           ]
          },
          "colorway": [
           "#636efa",
           "#EF553B",
           "#00cc96",
           "#ab63fa",
           "#FFA15A",
           "#19d3f3",
           "#FF6692",
           "#B6E880",
           "#FF97FF",
           "#FECB52"
          ],
          "font": {
           "color": "#2a3f5f"
          },
          "geo": {
           "bgcolor": "white",
           "lakecolor": "white",
           "landcolor": "#E5ECF6",
           "showlakes": true,
           "showland": true,
           "subunitcolor": "white"
          },
          "hoverlabel": {
           "align": "left"
          },
          "hovermode": "closest",
          "mapbox": {
           "style": "light"
          },
          "paper_bgcolor": "white",
          "plot_bgcolor": "#E5ECF6",
          "polar": {
           "angularaxis": {
            "gridcolor": "white",
            "linecolor": "white",
            "ticks": ""
           },
           "bgcolor": "#E5ECF6",
           "radialaxis": {
            "gridcolor": "white",
            "linecolor": "white",
            "ticks": ""
           }
          },
          "scene": {
           "xaxis": {
            "backgroundcolor": "#E5ECF6",
            "gridcolor": "white",
            "gridwidth": 2,
            "linecolor": "white",
            "showbackground": true,
            "ticks": "",
            "zerolinecolor": "white"
           },
           "yaxis": {
            "backgroundcolor": "#E5ECF6",
            "gridcolor": "white",
            "gridwidth": 2,
            "linecolor": "white",
            "showbackground": true,
            "ticks": "",
            "zerolinecolor": "white"
           },
           "zaxis": {
            "backgroundcolor": "#E5ECF6",
            "gridcolor": "white",
            "gridwidth": 2,
            "linecolor": "white",
            "showbackground": true,
            "ticks": "",
            "zerolinecolor": "white"
           }
          },
          "shapedefaults": {
           "line": {
            "color": "#2a3f5f"
           }
          },
          "ternary": {
           "aaxis": {
            "gridcolor": "white",
            "linecolor": "white",
            "ticks": ""
           },
           "baxis": {
            "gridcolor": "white",
            "linecolor": "white",
            "ticks": ""
           },
           "bgcolor": "#E5ECF6",
           "caxis": {
            "gridcolor": "white",
            "linecolor": "white",
            "ticks": ""
           }
          },
          "title": {
           "x": 0.05
          },
          "xaxis": {
           "automargin": true,
           "gridcolor": "white",
           "linecolor": "white",
           "ticks": "",
           "zerolinecolor": "white",
           "zerolinewidth": 2
          },
          "yaxis": {
           "automargin": true,
           "gridcolor": "white",
           "linecolor": "white",
           "ticks": "",
           "zerolinecolor": "white",
           "zerolinewidth": 2
          }
         }
        },
        "title": {
         "text": "ε-Progress"
        },
        "width": 340
       },
       "_py2js_addTraces": {},
       "_py2js_animate": {},
       "_py2js_deleteTraces": {},
       "_py2js_moveTraces": {},
       "_py2js_removeLayoutProps": {},
       "_py2js_removeTraceProps": {},
       "_py2js_restyle": {},
       "_view_count": 1
      }
     },
     "618fce8063214a5a855605ac88dbff26": {
      "model_module": "@jupyter-widgets/base",
      "model_module_version": "1.2.0",
      "model_name": "LayoutModel",
      "state": {}
     },
     "6382d180777d4ede8774179a49d33560": {
      "model_module": "@jupyter-widgets/controls",
      "model_module_version": "1.5.0",
      "model_name": "CheckboxModel",
      "state": {
       "description": "(M+) value_of_time_savings",
       "description_tooltip": "value_of_time_savings",
       "disabled": false,
       "layout": "IPY_MODEL_2c6506360b7040c6a4267f6b705a4d5c",
       "name": "value_of_time_savings",
       "style": "IPY_MODEL_a36d08c6d66340d095fb4fe20a4f33ff",
       "value": true
      }
     },
     "63a4e7e555d24a039f223b91e1ad357c": {
      "model_module": "@jupyter-widgets/base",
      "model_module_version": "1.2.0",
      "model_name": "LayoutModel",
      "state": {}
     },
     "65111d9708064c24b03ed3a7d3d10c52": {
      "model_module": "@jupyter-widgets/base",
      "model_module_version": "1.2.0",
      "model_name": "LayoutModel",
      "state": {}
     },
     "6587eeae5b70477bb741b4fb4ad50a19": {
      "model_module": "@jupyter-widgets/base",
      "model_module_version": "1.2.0",
      "model_name": "LayoutModel",
      "state": {}
     },
     "68e8f62325b346009606998edc31ee52": {
      "model_module": "@jupyter-widgets/base",
      "model_module_version": "1.2.0",
      "model_name": "LayoutModel",
      "state": {}
     },
     "6951e04071a649eb905d6f0e039d30a0": {
      "model_module": "@jupyter-widgets/controls",
      "model_module_version": "1.5.0",
      "model_name": "DescriptionStyleModel",
      "state": {
       "description_width": ""
      }
     },
     "6d127ad925694d3fb7b5922f8ca98f11": {
      "model_module": "@jupyter-widgets/base",
      "model_module_version": "1.2.0",
      "model_name": "LayoutModel",
      "state": {
       "align_items": "center"
      }
     },
     "6d64845a16844b3691b620d71a8f97d7": {
      "model_module": "@jupyter-widgets/controls",
      "model_module_version": "1.5.0",
      "model_name": "CheckboxModel",
      "state": {
       "description": "(M+) Expected Time Savings",
       "description_tooltip": "Expected Time Savings",
       "disabled": false,
       "layout": "IPY_MODEL_3a2135b217a546efaac77e4030f8ad84",
       "name": "Expected Time Savings",
       "style": "IPY_MODEL_ed24d3b364ff4fd6b985766c58802a79",
       "value": true
      }
     },
     "6e0e4d74294149f6a4e24f3c2b21f408": {
      "model_module": "@jupyter-widgets/controls",
      "model_module_version": "1.5.0",
      "model_name": "DescriptionStyleModel",
      "state": {
       "description_width": ""
      }
     },
     "762ac37290a24f489952beffe963063b": {
      "model_module": "@jupyter-widgets/controls",
      "model_module_version": "1.5.0",
      "model_name": "HTMLModel",
      "state": {
       "layout": "IPY_MODEL_9054123b62404103bc881f0762b860c9",
       "style": "IPY_MODEL_0121441f1c504f9ba6c577958d5e7083",
       "value": "\n\t\t\t(M-) Performance Measure to Minimize<br>\n\t\t\t(M+) Performance Measure to Maximize<br>\n\t\t\t(M) Performance Measure without preferred direction<br>\n\t\t\t(L) Policy Lever<br>\n\t\t\t(X) Exogenous Uncertainty\n\t\t"
      }
     },
     "76a371cdd8a84ad695fca1ce4fe152d2": {
      "model_module": "@jupyter-widgets/controls",
      "model_module_version": "1.5.0",
      "model_name": "DescriptionStyleModel",
      "state": {
       "description_width": ""
      }
     },
     "774ed922ca1e424c94918d467678616c": {
      "model_module": "@jupyter-widgets/controls",
      "model_module_version": "1.5.0",
      "model_name": "CheckboxModel",
      "state": {
       "description": "(M-) cost_of_capacity_expansion",
       "description_tooltip": "cost_of_capacity_expansion",
       "disabled": false,
       "layout": "IPY_MODEL_ab518f79e53441c9972c52ce463cdb9f",
       "name": "cost_of_capacity_expansion",
       "style": "IPY_MODEL_d9826525102c433bb4344c070492ab5f",
       "value": true
      }
     },
     "77b060f255584e62b2287e696eeaa11a": {
      "model_module": "@jupyter-widgets/controls",
      "model_module_version": "1.5.0",
      "model_name": "CheckboxModel",
      "state": {
       "description": "(M) 99%ile Present Cost",
       "description_tooltip": "99%ile Present Cost",
       "disabled": false,
       "layout": "IPY_MODEL_861f05303cb74948ada3f97c4c4d72d1",
       "name": "99%ile Present Cost",
       "style": "IPY_MODEL_f4d06f4902f94153b55d68cf1a300908",
       "value": true
      }
     },
     "79723061b39b4b5ab98543b55beb6ae5": {
      "model_module": "@jupyter-widgets/controls",
      "model_module_version": "1.5.0",
      "model_name": "CheckboxModel",
      "state": {
       "description": "(L) interest_rate_lock",
       "description_tooltip": "interest_rate_lock",
       "disabled": false,
       "layout": "IPY_MODEL_4ab5a6c229634f8e956f4c055a671e00",
       "name": "interest_rate_lock",
       "style": "IPY_MODEL_446a212a23a447b69ab506e00a34c115",
       "value": true
      }
     },
     "7a31326c3a1047dab9964d20c677e8de": {
      "model_module": "@jupyter-widgets/base",
      "model_module_version": "1.2.0",
      "model_name": "LayoutModel",
      "state": {
       "flex_flow": "row wrap"
      }
     },
     "7bcd313f31c445afbad2b0c42e8d5edf": {
      "model_module": "@jupyter-widgets/base",
      "model_module_version": "1.2.0",
      "model_name": "LayoutModel",
      "state": {}
     },
     "7c53073d3c394a27aebd4d0cfe1c718f": {
      "model_module": "@jupyter-widgets/controls",
      "model_module_version": "1.5.0",
      "model_name": "DescriptionStyleModel",
      "state": {
       "description_width": ""
      }
     },
     "7d0f1a29d48a48c9baa3dfc6cb03ec22": {
      "model_module": "@jupyter-widgets/controls",
      "model_module_version": "1.5.0",
      "model_name": "CheckboxModel",
      "state": {
       "description": "(L) expand_capacity",
       "description_tooltip": "expand_capacity",
       "disabled": false,
       "layout": "IPY_MODEL_271b8287db3342d19c19ca819e6f3b88",
       "name": "expand_capacity",
       "style": "IPY_MODEL_06b423794df94729a0b6bd859f32bb64",
       "value": true
      }
     },
     "7e6de5ad0a3049eab681adbe6c4b16f4": {
      "model_module": "@jupyter-widgets/controls",
      "model_module_version": "1.5.0",
      "model_name": "DropdownModel",
      "state": {
       "_options_labels": [
        "< None >",
        "expand_capacity",
        "amortization_period",
        "debt_type",
        "interest_rate_lock",
        "Mean Net Benefits",
        "5%ile Net Benefits",
        "Possibility of Negative Net Benefits",
        "95%ile Capacity Expansion Cost",
        "Expected Time Savings"
       ],
       "description": "Colorize:",
       "index": 1,
       "layout": "IPY_MODEL_3ecd30300a5d4affac886d1aec71b3aa",
       "style": "IPY_MODEL_526f7e690aae4f478a198fdf4c0124cd"
      }
     },
     "7f265ee565a146e88b8a34f76c79476a": {
      "model_module": "@jupyter-widgets/controls",
      "model_module_version": "1.5.0",
      "model_name": "CheckboxModel",
      "state": {
       "description": "(M-) 95%ile Capacity Expansion Cost",
       "description_tooltip": "95%ile Capacity Expansion Cost",
       "disabled": false,
       "layout": "IPY_MODEL_fa6ac134994f4eaf8d5d99de3a9f8ecc",
       "name": "95%ile Capacity Expansion Cost",
       "style": "IPY_MODEL_c8b2448f1dad440697ca67015ce1a422",
       "value": true
      }
     },
     "8091abeffddd42b39f839fe8a586f26c": {
      "model_module": "@jupyter-widgets/controls",
      "model_module_version": "1.5.0",
      "model_name": "DropdownModel",
      "state": {
       "_options_labels": [
        "< None >",
        "alpha",
        "beta",
        "input_flow",
        "value_of_time",
        "unit_cost_expansion",
        "interest_rate",
        "yield_curve",
        "build_travel_time",
        "time_savings",
        "value_of_time_savings",
        "net_benefits",
        "cost_of_capacity_expansion"
       ],
       "description": "Colorize:",
       "index": 1,
       "layout": "IPY_MODEL_10544d76732648adbc06b77954dd5c56",
       "style": "IPY_MODEL_33721462eb4e4fda86d0bf8ccfd5ca9c"
      }
     },
     "84041c25490d40438570c48c46472662": {
      "model_module": "@jupyter-widgets/controls",
      "model_module_version": "1.5.0",
      "model_name": "CheckboxModel",
      "state": {
       "description": "(L) debt_type",
       "description_tooltip": "debt_type",
       "disabled": false,
       "layout": "IPY_MODEL_4839e37916b2482785983ac30021dc96",
       "name": "debt_type",
       "style": "IPY_MODEL_76a371cdd8a84ad695fca1ce4fe152d2",
       "value": true
      }
     },
     "861f05303cb74948ada3f97c4c4d72d1": {
      "model_module": "@jupyter-widgets/base",
      "model_module_version": "1.2.0",
      "model_name": "LayoutModel",
      "state": {}
     },
     "86ae1fabf91749f6a8475a6687e46b31": {
      "model_module": "@jupyter-widgets/output",
      "model_module_version": "1.0.0",
      "model_name": "OutputModel",
      "state": {
       "layout": "IPY_MODEL_8b4c8e0708e947b486bbfa2fe9b287a7"
      }
     },
     "86fbc9b4cea645688192e17ab5947ead": {
      "model_module": "@jupyter-widgets/controls",
      "model_module_version": "1.5.0",
      "model_name": "HBoxModel",
      "state": {
       "children": [
        "IPY_MODEL_925c806ab1cf43728c1bda9c939318c4",
        "IPY_MODEL_40be56ceb45f4591a5bc3c892bfb2042"
       ],
       "layout": "IPY_MODEL_e52807d95faf4e7eb9fb3b2e6ab41ae3"
      }
     },
     "876d4595adee47c38edc4ee4c0b5535e": {
      "model_module": "@jupyter-widgets/base",
      "model_module_version": "1.2.0",
      "model_name": "LayoutModel",
      "state": {
       "flex_flow": "row wrap"
      }
     },
     "884151db469646ec835993db70bc3a16": {
      "model_module": "@jupyter-widgets/controls",
      "model_module_version": "1.5.0",
      "model_name": "VBoxModel",
      "state": {
       "children": [
        "IPY_MODEL_09f2cf3a65404d28b04ae6f29cb25e87",
        "IPY_MODEL_deb1aee4454a423b9359522ff89d5c6f",
        "IPY_MODEL_ee7a5421686a4b9e834a6769a7dc3d16",
        "IPY_MODEL_1179f0bfc4dc4c4d86d5c137b8545393"
       ],
       "layout": "IPY_MODEL_381d9ece5ea04d3ba258265e34690dbe"
      }
     },
     "88d4f4b5bfe843a69185062b2c663448": {
      "model_module": "@jupyter-widgets/controls",
      "model_module_version": "1.5.0",
      "model_name": "BoxModel",
      "state": {
       "children": [
        "IPY_MODEL_5dbc53cdf53340a0b81bc8cf43c9a8a4",
        "IPY_MODEL_58aac52a37a244fda040cdd9d2ec2db3",
        "IPY_MODEL_ab53e2c9904541bdb0ecc60c9e449122",
        "IPY_MODEL_40a59e2f1c2743b3a1b1c465c1237e50",
        "IPY_MODEL_b4414f161de241808715f3be3bf0f3a0",
        "IPY_MODEL_a985d1be1e0d4a5c9fa14cb6b09237fa",
        "IPY_MODEL_8af918c3551248b8ab2dd46f2b9f57c4",
        "IPY_MODEL_01d20b5e96a44a8998918d6607f9b868",
        "IPY_MODEL_300a2cc343bd4c00b36becf79bcd4e7f"
       ],
       "layout": "IPY_MODEL_a783c63aa2914b75a0a82cb602df5d9a"
      }
     },
     "8af918c3551248b8ab2dd46f2b9f57c4": {
      "model_module": "@jupyter-widgets/controls",
      "model_module_version": "1.5.0",
      "model_name": "CheckboxModel",
      "state": {
       "description": "(M+) value_of_time_savings",
       "description_tooltip": "value_of_time_savings",
       "disabled": false,
       "layout": "IPY_MODEL_618fce8063214a5a855605ac88dbff26",
       "name": "value_of_time_savings",
       "style": "IPY_MODEL_a6183e41be2f40e1be744762f0d8ed3d",
       "value": true
      }
     },
     "8b4c8e0708e947b486bbfa2fe9b287a7": {
      "model_module": "@jupyter-widgets/base",
      "model_module_version": "1.2.0",
      "model_name": "LayoutModel",
      "state": {}
     },
     "8b69f71f4eb441389883d4b82c77648d": {
      "model_module": "@jupyter-widgets/controls",
      "model_module_version": "1.5.0",
      "model_name": "DescriptionStyleModel",
      "state": {
       "description_width": ""
      }
     },
     "8ba1ce3d276943eab026fe0574976a56": {
      "model_module": "@jupyter-widgets/controls",
      "model_module_version": "1.5.0",
      "model_name": "CheckboxModel",
      "state": {
       "description": "(X) alpha",
       "description_tooltip": "alpha",
       "disabled": false,
       "layout": "IPY_MODEL_990a606e52404ef1b3817fcd692c4f53",
       "name": "alpha",
       "style": "IPY_MODEL_200f6eed468e4d82a7868aefd1c82c64",
       "value": true
      }
     },
     "8bf0c33f837e4d9f973eab53b7b487a9": {
      "model_module": "@jupyter-widgets/controls",
      "model_module_version": "1.5.0",
      "model_name": "HBoxModel",
      "state": {
       "children": [
        "IPY_MODEL_f3e4d5c6c68245c085c9d69ada530ae2",
        "IPY_MODEL_2239b84b379b4912901a1623b35ae067"
       ],
       "layout": "IPY_MODEL_ee4ab27624ce49f0be7a50072fd5ed18"
      }
     },
     "8edb5d1bb9074348aa331272d6e3c906": {
      "model_module": "@jupyter-widgets/controls",
      "model_module_version": "1.5.0",
      "model_name": "CheckboxModel",
      "state": {
       "description": "(M-) Possibility of Negative Net Benefits",
       "description_tooltip": "Possibility of Negative Net Benefits",
       "disabled": false,
       "layout": "IPY_MODEL_25fd7448c9b74a98804205731759b636",
       "name": "Possibility of Negative Net Benefits",
       "style": "IPY_MODEL_5d3d0411a405413094299bb96798acb9",
       "value": true
      }
     },
     "9054123b62404103bc881f0762b860c9": {
      "model_module": "@jupyter-widgets/base",
      "model_module_version": "1.2.0",
      "model_name": "LayoutModel",
      "state": {}
     },
     "906f2798d7d842aeb36b63c7604a966e": {
      "model_module": "@jupyter-widgets/controls",
      "model_module_version": "1.5.0",
      "model_name": "DescriptionStyleModel",
      "state": {
       "description_width": ""
      }
     },
     "922da3f9205d4d3ebf59841d83f166ea": {
      "model_module": "@jupyter-widgets/controls",
      "model_module_version": "1.5.0",
      "model_name": "DescriptionStyleModel",
      "state": {
       "description_width": ""
      }
     },
     "925c806ab1cf43728c1bda9c939318c4": {
      "model_module": "plotlywidget",
      "model_module_version": "^1.1.1",
      "model_name": "FigureModel",
      "state": {
       "_config": {
        "plotlyServerURL": "https://plot.ly"
       },
       "_data": [
        {
         "fill": "tonexty",
         "line": {
          "shape": "linear"
         },
         "mode": "lines+markers",
         "name": "",
         "type": "scatter",
         "uid": "a032c96d-72e0-4ce5-8a48-da05217aed02",
         "x": [
          0,
          100,
          200,
          300,
          400,
          500,
          600,
          700,
          800,
          900,
          1000,
          1100,
          1200,
          1300,
          1400,
          1500,
          1600,
          1700,
          1800,
          1900,
          2000,
          2100,
          2200,
          2300,
          2400,
          2500,
          2600,
          2700,
          2800,
          2900,
          3000,
          3100,
          3200,
          3300,
          3400,
          3500,
          3600,
          3700,
          3800,
          3900,
          4000,
          4100,
          4200,
          4300,
          4400,
          4500,
          4600,
          4700,
          4800,
          4900,
          5000,
          5100,
          5200,
          5300,
          5400,
          5500,
          5600,
          5700,
          5800,
          5900,
          6000,
          6100,
          6200,
          6300,
          6400,
          6500,
          6600,
          6700,
          6800,
          6900,
          7000,
          7100,
          7200,
          7300,
          7400,
          7500,
          7600,
          7700,
          7800,
          7900,
          8000,
          8100,
          8200,
          8300,
          8400,
          8500,
          8600,
          8700,
          8800,
          8900,
          9000,
          9100,
          9200,
          9300,
          9400,
          9500,
          9600,
          9700,
          9800,
          9900,
          10000
         ],
         "y": [
          0,
          38,
          56,
          75,
          96,
          104,
          120,
          130,
          141,
          151,
          154,
          163,
          170,
          176,
          184,
          188,
          195,
          196,
          203,
          205,
          210,
          213,
          214,
          216,
          220,
          224,
          227,
          228,
          232,
          236,
          237,
          239,
          242,
          246,
          248,
          250,
          250,
          254,
          255,
          257,
          259,
          259,
          259,
          262,
          262,
          264,
          266,
          267,
          268,
          269,
          269,
          270,
          272,
          273,
          273,
          274,
          277,
          277,
          277,
          279,
          280,
          280,
          281,
          281,
          281,
          282,
          283,
          284,
          285,
          287,
          289,
          289,
          289,
          290,
          290,
          291,
          293,
          296,
          298,
          299,
          300,
          301,
          301,
          302,
          303,
          303,
          303,
          305,
          305,
          305,
          305,
          307,
          307,
          309,
          310,
          311,
          313,
          313,
          313,
          314,
          316
         ]
        }
       ],
       "_js2py_pointsCallback": {},
       "_js2py_relayout": {},
       "_js2py_restyle": {},
       "_js2py_update": {},
       "_last_layout_edit_id": 4,
       "_last_trace_edit_id": 1,
       "_layout": {
        "height": 240,
        "hovermode": "closest",
        "margin": {
         "b": 15,
         "l": 15,
         "r": 15,
         "t": 40
        },
        "showlegend": false,
        "template": {
         "data": {
          "bar": [
           {
            "error_x": {
             "color": "#2a3f5f"
            },
            "error_y": {
             "color": "#2a3f5f"
            },
            "marker": {
             "line": {
              "color": "#E5ECF6",
              "width": 0.5
             }
            },
            "type": "bar"
           }
          ],
          "barpolar": [
           {
            "marker": {
             "line": {
              "color": "#E5ECF6",
              "width": 0.5
             }
            },
            "type": "barpolar"
           }
          ],
          "carpet": [
           {
            "aaxis": {
             "endlinecolor": "#2a3f5f",
             "gridcolor": "white",
             "linecolor": "white",
             "minorgridcolor": "white",
             "startlinecolor": "#2a3f5f"
            },
            "baxis": {
             "endlinecolor": "#2a3f5f",
             "gridcolor": "white",
             "linecolor": "white",
             "minorgridcolor": "white",
             "startlinecolor": "#2a3f5f"
            },
            "type": "carpet"
           }
          ],
          "choropleth": [
           {
            "colorbar": {
             "outlinewidth": 0,
             "ticks": ""
            },
            "type": "choropleth"
           }
          ],
          "contour": [
           {
            "colorbar": {
             "outlinewidth": 0,
             "ticks": ""
            },
            "colorscale": [
             [
              0,
              "#0d0887"
             ],
             [
              0.1111111111111111,
              "#46039f"
             ],
             [
              0.2222222222222222,
              "#7201a8"
             ],
             [
              0.3333333333333333,
              "#9c179e"
             ],
             [
              0.4444444444444444,
              "#bd3786"
             ],
             [
              0.5555555555555556,
              "#d8576b"
             ],
             [
              0.6666666666666666,
              "#ed7953"
             ],
             [
              0.7777777777777778,
              "#fb9f3a"
             ],
             [
              0.8888888888888888,
              "#fdca26"
             ],
             [
              1,
              "#f0f921"
             ]
            ],
            "type": "contour"
           }
          ],
          "contourcarpet": [
           {
            "colorbar": {
             "outlinewidth": 0,
             "ticks": ""
            },
            "type": "contourcarpet"
           }
          ],
          "heatmap": [
           {
            "colorbar": {
             "outlinewidth": 0,
             "ticks": ""
            },
            "colorscale": [
             [
              0,
              "#0d0887"
             ],
             [
              0.1111111111111111,
              "#46039f"
             ],
             [
              0.2222222222222222,
              "#7201a8"
             ],
             [
              0.3333333333333333,
              "#9c179e"
             ],
             [
              0.4444444444444444,
              "#bd3786"
             ],
             [
              0.5555555555555556,
              "#d8576b"
             ],
             [
              0.6666666666666666,
              "#ed7953"
             ],
             [
              0.7777777777777778,
              "#fb9f3a"
             ],
             [
              0.8888888888888888,
              "#fdca26"
             ],
             [
              1,
              "#f0f921"
             ]
            ],
            "type": "heatmap"
           }
          ],
          "heatmapgl": [
           {
            "colorbar": {
             "outlinewidth": 0,
             "ticks": ""
            },
            "colorscale": [
             [
              0,
              "#0d0887"
             ],
             [
              0.1111111111111111,
              "#46039f"
             ],
             [
              0.2222222222222222,
              "#7201a8"
             ],
             [
              0.3333333333333333,
              "#9c179e"
             ],
             [
              0.4444444444444444,
              "#bd3786"
             ],
             [
              0.5555555555555556,
              "#d8576b"
             ],
             [
              0.6666666666666666,
              "#ed7953"
             ],
             [
              0.7777777777777778,
              "#fb9f3a"
             ],
             [
              0.8888888888888888,
              "#fdca26"
             ],
             [
              1,
              "#f0f921"
             ]
            ],
            "type": "heatmapgl"
           }
          ],
          "histogram": [
           {
            "marker": {
             "colorbar": {
              "outlinewidth": 0,
              "ticks": ""
             }
            },
            "type": "histogram"
           }
          ],
          "histogram2d": [
           {
            "colorbar": {
             "outlinewidth": 0,
             "ticks": ""
            },
            "colorscale": [
             [
              0,
              "#0d0887"
             ],
             [
              0.1111111111111111,
              "#46039f"
             ],
             [
              0.2222222222222222,
              "#7201a8"
             ],
             [
              0.3333333333333333,
              "#9c179e"
             ],
             [
              0.4444444444444444,
              "#bd3786"
             ],
             [
              0.5555555555555556,
              "#d8576b"
             ],
             [
              0.6666666666666666,
              "#ed7953"
             ],
             [
              0.7777777777777778,
              "#fb9f3a"
             ],
             [
              0.8888888888888888,
              "#fdca26"
             ],
             [
              1,
              "#f0f921"
             ]
            ],
            "type": "histogram2d"
           }
          ],
          "histogram2dcontour": [
           {
            "colorbar": {
             "outlinewidth": 0,
             "ticks": ""
            },
            "colorscale": [
             [
              0,
              "#0d0887"
             ],
             [
              0.1111111111111111,
              "#46039f"
             ],
             [
              0.2222222222222222,
              "#7201a8"
             ],
             [
              0.3333333333333333,
              "#9c179e"
             ],
             [
              0.4444444444444444,
              "#bd3786"
             ],
             [
              0.5555555555555556,
              "#d8576b"
             ],
             [
              0.6666666666666666,
              "#ed7953"
             ],
             [
              0.7777777777777778,
              "#fb9f3a"
             ],
             [
              0.8888888888888888,
              "#fdca26"
             ],
             [
              1,
              "#f0f921"
             ]
            ],
            "type": "histogram2dcontour"
           }
          ],
          "mesh3d": [
           {
            "colorbar": {
             "outlinewidth": 0,
             "ticks": ""
            },
            "type": "mesh3d"
           }
          ],
          "parcoords": [
           {
            "line": {
             "colorbar": {
              "outlinewidth": 0,
              "ticks": ""
             }
            },
            "type": "parcoords"
           }
          ],
          "scatter": [
           {
            "marker": {
             "colorbar": {
              "outlinewidth": 0,
              "ticks": ""
             }
            },
            "type": "scatter"
           }
          ],
          "scatter3d": [
           {
            "line": {
             "colorbar": {
              "outlinewidth": 0,
              "ticks": ""
             }
            },
            "marker": {
             "colorbar": {
              "outlinewidth": 0,
              "ticks": ""
             }
            },
            "type": "scatter3d"
           }
          ],
          "scattercarpet": [
           {
            "marker": {
             "colorbar": {
              "outlinewidth": 0,
              "ticks": ""
             }
            },
            "type": "scattercarpet"
           }
          ],
          "scattergeo": [
           {
            "marker": {
             "colorbar": {
              "outlinewidth": 0,
              "ticks": ""
             }
            },
            "type": "scattergeo"
           }
          ],
          "scattergl": [
           {
            "marker": {
             "colorbar": {
              "outlinewidth": 0,
              "ticks": ""
             }
            },
            "type": "scattergl"
           }
          ],
          "scattermapbox": [
           {
            "marker": {
             "colorbar": {
              "outlinewidth": 0,
              "ticks": ""
             }
            },
            "type": "scattermapbox"
           }
          ],
          "scatterpolar": [
           {
            "marker": {
             "colorbar": {
              "outlinewidth": 0,
              "ticks": ""
             }
            },
            "type": "scatterpolar"
           }
          ],
          "scatterpolargl": [
           {
            "marker": {
             "colorbar": {
              "outlinewidth": 0,
              "ticks": ""
             }
            },
            "type": "scatterpolargl"
           }
          ],
          "scatterternary": [
           {
            "marker": {
             "colorbar": {
              "outlinewidth": 0,
              "ticks": ""
             }
            },
            "type": "scatterternary"
           }
          ],
          "surface": [
           {
            "colorbar": {
             "outlinewidth": 0,
             "ticks": ""
            },
            "colorscale": [
             [
              0,
              "#0d0887"
             ],
             [
              0.1111111111111111,
              "#46039f"
             ],
             [
              0.2222222222222222,
              "#7201a8"
             ],
             [
              0.3333333333333333,
              "#9c179e"
             ],
             [
              0.4444444444444444,
              "#bd3786"
             ],
             [
              0.5555555555555556,
              "#d8576b"
             ],
             [
              0.6666666666666666,
              "#ed7953"
             ],
             [
              0.7777777777777778,
              "#fb9f3a"
             ],
             [
              0.8888888888888888,
              "#fdca26"
             ],
             [
              1,
              "#f0f921"
             ]
            ],
            "type": "surface"
           }
          ],
          "table": [
           {
            "cells": {
             "fill": {
              "color": "#EBF0F8"
             },
             "line": {
              "color": "white"
             }
            },
            "header": {
             "fill": {
              "color": "#C8D4E3"
             },
             "line": {
              "color": "white"
             }
            },
            "type": "table"
           }
          ]
         },
         "layout": {
          "annotationdefaults": {
           "arrowcolor": "#2a3f5f",
           "arrowhead": 0,
           "arrowwidth": 1
          },
          "colorscale": {
           "diverging": [
            [
             0,
             "#8e0152"
            ],
            [
             0.1,
             "#c51b7d"
            ],
            [
             0.2,
             "#de77ae"
            ],
            [
             0.3,
             "#f1b6da"
            ],
            [
             0.4,
             "#fde0ef"
            ],
            [
             0.5,
             "#f7f7f7"
            ],
            [
             0.6,
             "#e6f5d0"
            ],
            [
             0.7,
             "#b8e186"
            ],
            [
             0.8,
             "#7fbc41"
            ],
            [
             0.9,
             "#4d9221"
            ],
            [
             1,
             "#276419"
            ]
           ],
           "sequential": [
            [
             0,
             "#0d0887"
            ],
            [
             0.1111111111111111,
             "#46039f"
            ],
            [
             0.2222222222222222,
             "#7201a8"
            ],
            [
             0.3333333333333333,
             "#9c179e"
            ],
            [
             0.4444444444444444,
             "#bd3786"
            ],
            [
             0.5555555555555556,
             "#d8576b"
            ],
            [
             0.6666666666666666,
             "#ed7953"
            ],
            [
             0.7777777777777778,
             "#fb9f3a"
            ],
            [
             0.8888888888888888,
             "#fdca26"
            ],
            [
             1,
             "#f0f921"
            ]
           ],
           "sequentialminus": [
            [
             0,
             "#0d0887"
            ],
            [
             0.1111111111111111,
             "#46039f"
            ],
            [
             0.2222222222222222,
             "#7201a8"
            ],
            [
             0.3333333333333333,
             "#9c179e"
            ],
            [
             0.4444444444444444,
             "#bd3786"
            ],
            [
             0.5555555555555556,
             "#d8576b"
            ],
            [
             0.6666666666666666,
             "#ed7953"
            ],
            [
             0.7777777777777778,
             "#fb9f3a"
            ],
            [
             0.8888888888888888,
             "#fdca26"
            ],
            [
             1,
             "#f0f921"
            ]
           ]
          },
          "colorway": [
           "#636efa",
           "#EF553B",
           "#00cc96",
           "#ab63fa",
           "#FFA15A",
           "#19d3f3",
           "#FF6692",
           "#B6E880",
           "#FF97FF",
           "#FECB52"
          ],
          "font": {
           "color": "#2a3f5f"
          },
          "geo": {
           "bgcolor": "white",
           "lakecolor": "white",
           "landcolor": "#E5ECF6",
           "showlakes": true,
           "showland": true,
           "subunitcolor": "white"
          },
          "hoverlabel": {
           "align": "left"
          },
          "hovermode": "closest",
          "mapbox": {
           "style": "light"
          },
          "paper_bgcolor": "white",
          "plot_bgcolor": "#E5ECF6",
          "polar": {
           "angularaxis": {
            "gridcolor": "white",
            "linecolor": "white",
            "ticks": ""
           },
           "bgcolor": "#E5ECF6",
           "radialaxis": {
            "gridcolor": "white",
            "linecolor": "white",
            "ticks": ""
           }
          },
          "scene": {
           "xaxis": {
            "backgroundcolor": "#E5ECF6",
            "gridcolor": "white",
            "gridwidth": 2,
            "linecolor": "white",
            "showbackground": true,
            "ticks": "",
            "zerolinecolor": "white"
           },
           "yaxis": {
            "backgroundcolor": "#E5ECF6",
            "gridcolor": "white",
            "gridwidth": 2,
            "linecolor": "white",
            "showbackground": true,
            "ticks": "",
            "zerolinecolor": "white"
           },
           "zaxis": {
            "backgroundcolor": "#E5ECF6",
            "gridcolor": "white",
            "gridwidth": 2,
            "linecolor": "white",
            "showbackground": true,
            "ticks": "",
            "zerolinecolor": "white"
           }
          },
          "shapedefaults": {
           "line": {
            "color": "#2a3f5f"
           }
          },
          "ternary": {
           "aaxis": {
            "gridcolor": "white",
            "linecolor": "white",
            "ticks": ""
           },
           "baxis": {
            "gridcolor": "white",
            "linecolor": "white",
            "ticks": ""
           },
           "bgcolor": "#E5ECF6",
           "caxis": {
            "gridcolor": "white",
            "linecolor": "white",
            "ticks": ""
           }
          },
          "title": {
           "x": 0.05
          },
          "xaxis": {
           "automargin": true,
           "gridcolor": "white",
           "linecolor": "white",
           "ticks": "",
           "zerolinecolor": "white",
           "zerolinewidth": 2
          },
          "yaxis": {
           "automargin": true,
           "gridcolor": "white",
           "linecolor": "white",
           "ticks": "",
           "zerolinecolor": "white",
           "zerolinewidth": 2
          }
         }
        },
        "title": {
         "text": "ε-Progress"
        },
        "width": 340
       },
       "_py2js_addTraces": {},
       "_py2js_animate": {},
       "_py2js_deleteTraces": {},
       "_py2js_moveTraces": {},
       "_py2js_removeLayoutProps": {},
       "_py2js_removeTraceProps": {},
       "_py2js_restyle": {},
       "_view_count": 1
      }
     },
     "927c1ae48f1a432d9ae948b345112582": {
      "model_module": "plotlywidget",
      "model_module_version": "^1.1.1",
      "model_name": "FigureModel",
      "state": {
       "_config": {
        "plotlyServerURL": "https://plot.ly"
       },
       "_data": [
        {
         "fill": "tonexty",
         "line": {
          "shape": "linear"
         },
         "mode": "lines+markers",
         "name": "",
         "type": "scatter",
         "uid": "ec675095-57bb-4bc1-a211-b4306dbe4ba2",
         "x": [
          0,
          100,
          200,
          300,
          400,
          500,
          600,
          700,
          800,
          900,
          1000,
          1100,
          1200,
          1300,
          1400,
          1500,
          1600,
          1700,
          1800,
          1900,
          2000,
          2100,
          2200,
          2300,
          2400,
          2500,
          2600,
          2700,
          2800,
          2900,
          3000,
          3100,
          3200,
          3300,
          3400,
          3500,
          3600,
          3700,
          3800,
          3900,
          4000,
          4100,
          4200,
          4300,
          4400,
          4500,
          4600,
          4700,
          4800,
          4900,
          5000,
          5100,
          5200,
          5300,
          5400,
          5500,
          5600,
          5700,
          5800,
          5900,
          6000,
          6100,
          6200,
          6300,
          6400,
          6500,
          6600,
          6700,
          6800,
          6900,
          7000,
          7100,
          7200,
          7300,
          7400,
          7500,
          7600,
          7700,
          7800,
          7900,
          8000,
          8100,
          8200,
          8300,
          8400,
          8500,
          8600,
          8700,
          8800,
          8900,
          9000,
          9100,
          9200,
          9300,
          9400,
          9500,
          9600,
          9700,
          9800,
          9900,
          10000
         ],
         "y": [
          0,
          35,
          43,
          52,
          62,
          72,
          76,
          81,
          86,
          90,
          93,
          95,
          100,
          105,
          107,
          109,
          110,
          111,
          111,
          112,
          112,
          113,
          113,
          113,
          115,
          115,
          116,
          116,
          117,
          118,
          118,
          119,
          122,
          123,
          124,
          124,
          125,
          125,
          127,
          128,
          128,
          128,
          130,
          130,
          130,
          130,
          130,
          130,
          130,
          130,
          130,
          130,
          130,
          131,
          131,
          132,
          132,
          132,
          132,
          132,
          132,
          132,
          132,
          133,
          133,
          133,
          133,
          134,
          134,
          134,
          134,
          134,
          134,
          134,
          134,
          134,
          134,
          134,
          134,
          134,
          134,
          135,
          135,
          136,
          136,
          136,
          136,
          136,
          136,
          136,
          136,
          136,
          136,
          136,
          136,
          136,
          136,
          136,
          136,
          136,
          136
         ]
        }
       ],
       "_js2py_pointsCallback": {},
       "_js2py_relayout": {},
       "_js2py_restyle": {},
       "_js2py_update": {},
       "_last_layout_edit_id": 4,
       "_last_trace_edit_id": 1,
       "_layout": {
        "height": 240,
        "hovermode": "closest",
        "margin": {
         "b": 15,
         "l": 15,
         "r": 15,
         "t": 40
        },
        "showlegend": false,
        "template": {
         "data": {
          "bar": [
           {
            "error_x": {
             "color": "#2a3f5f"
            },
            "error_y": {
             "color": "#2a3f5f"
            },
            "marker": {
             "line": {
              "color": "#E5ECF6",
              "width": 0.5
             }
            },
            "type": "bar"
           }
          ],
          "barpolar": [
           {
            "marker": {
             "line": {
              "color": "#E5ECF6",
              "width": 0.5
             }
            },
            "type": "barpolar"
           }
          ],
          "carpet": [
           {
            "aaxis": {
             "endlinecolor": "#2a3f5f",
             "gridcolor": "white",
             "linecolor": "white",
             "minorgridcolor": "white",
             "startlinecolor": "#2a3f5f"
            },
            "baxis": {
             "endlinecolor": "#2a3f5f",
             "gridcolor": "white",
             "linecolor": "white",
             "minorgridcolor": "white",
             "startlinecolor": "#2a3f5f"
            },
            "type": "carpet"
           }
          ],
          "choropleth": [
           {
            "colorbar": {
             "outlinewidth": 0,
             "ticks": ""
            },
            "type": "choropleth"
           }
          ],
          "contour": [
           {
            "colorbar": {
             "outlinewidth": 0,
             "ticks": ""
            },
            "colorscale": [
             [
              0,
              "#0d0887"
             ],
             [
              0.1111111111111111,
              "#46039f"
             ],
             [
              0.2222222222222222,
              "#7201a8"
             ],
             [
              0.3333333333333333,
              "#9c179e"
             ],
             [
              0.4444444444444444,
              "#bd3786"
             ],
             [
              0.5555555555555556,
              "#d8576b"
             ],
             [
              0.6666666666666666,
              "#ed7953"
             ],
             [
              0.7777777777777778,
              "#fb9f3a"
             ],
             [
              0.8888888888888888,
              "#fdca26"
             ],
             [
              1,
              "#f0f921"
             ]
            ],
            "type": "contour"
           }
          ],
          "contourcarpet": [
           {
            "colorbar": {
             "outlinewidth": 0,
             "ticks": ""
            },
            "type": "contourcarpet"
           }
          ],
          "heatmap": [
           {
            "colorbar": {
             "outlinewidth": 0,
             "ticks": ""
            },
            "colorscale": [
             [
              0,
              "#0d0887"
             ],
             [
              0.1111111111111111,
              "#46039f"
             ],
             [
              0.2222222222222222,
              "#7201a8"
             ],
             [
              0.3333333333333333,
              "#9c179e"
             ],
             [
              0.4444444444444444,
              "#bd3786"
             ],
             [
              0.5555555555555556,
              "#d8576b"
             ],
             [
              0.6666666666666666,
              "#ed7953"
             ],
             [
              0.7777777777777778,
              "#fb9f3a"
             ],
             [
              0.8888888888888888,
              "#fdca26"
             ],
             [
              1,
              "#f0f921"
             ]
            ],
            "type": "heatmap"
           }
          ],
          "heatmapgl": [
           {
            "colorbar": {
             "outlinewidth": 0,
             "ticks": ""
            },
            "colorscale": [
             [
              0,
              "#0d0887"
             ],
             [
              0.1111111111111111,
              "#46039f"
             ],
             [
              0.2222222222222222,
              "#7201a8"
             ],
             [
              0.3333333333333333,
              "#9c179e"
             ],
             [
              0.4444444444444444,
              "#bd3786"
             ],
             [
              0.5555555555555556,
              "#d8576b"
             ],
             [
              0.6666666666666666,
              "#ed7953"
             ],
             [
              0.7777777777777778,
              "#fb9f3a"
             ],
             [
              0.8888888888888888,
              "#fdca26"
             ],
             [
              1,
              "#f0f921"
             ]
            ],
            "type": "heatmapgl"
           }
          ],
          "histogram": [
           {
            "marker": {
             "colorbar": {
              "outlinewidth": 0,
              "ticks": ""
             }
            },
            "type": "histogram"
           }
          ],
          "histogram2d": [
           {
            "colorbar": {
             "outlinewidth": 0,
             "ticks": ""
            },
            "colorscale": [
             [
              0,
              "#0d0887"
             ],
             [
              0.1111111111111111,
              "#46039f"
             ],
             [
              0.2222222222222222,
              "#7201a8"
             ],
             [
              0.3333333333333333,
              "#9c179e"
             ],
             [
              0.4444444444444444,
              "#bd3786"
             ],
             [
              0.5555555555555556,
              "#d8576b"
             ],
             [
              0.6666666666666666,
              "#ed7953"
             ],
             [
              0.7777777777777778,
              "#fb9f3a"
             ],
             [
              0.8888888888888888,
              "#fdca26"
             ],
             [
              1,
              "#f0f921"
             ]
            ],
            "type": "histogram2d"
           }
          ],
          "histogram2dcontour": [
           {
            "colorbar": {
             "outlinewidth": 0,
             "ticks": ""
            },
            "colorscale": [
             [
              0,
              "#0d0887"
             ],
             [
              0.1111111111111111,
              "#46039f"
             ],
             [
              0.2222222222222222,
              "#7201a8"
             ],
             [
              0.3333333333333333,
              "#9c179e"
             ],
             [
              0.4444444444444444,
              "#bd3786"
             ],
             [
              0.5555555555555556,
              "#d8576b"
             ],
             [
              0.6666666666666666,
              "#ed7953"
             ],
             [
              0.7777777777777778,
              "#fb9f3a"
             ],
             [
              0.8888888888888888,
              "#fdca26"
             ],
             [
              1,
              "#f0f921"
             ]
            ],
            "type": "histogram2dcontour"
           }
          ],
          "mesh3d": [
           {
            "colorbar": {
             "outlinewidth": 0,
             "ticks": ""
            },
            "type": "mesh3d"
           }
          ],
          "parcoords": [
           {
            "line": {
             "colorbar": {
              "outlinewidth": 0,
              "ticks": ""
             }
            },
            "type": "parcoords"
           }
          ],
          "scatter": [
           {
            "marker": {
             "colorbar": {
              "outlinewidth": 0,
              "ticks": ""
             }
            },
            "type": "scatter"
           }
          ],
          "scatter3d": [
           {
            "line": {
             "colorbar": {
              "outlinewidth": 0,
              "ticks": ""
             }
            },
            "marker": {
             "colorbar": {
              "outlinewidth": 0,
              "ticks": ""
             }
            },
            "type": "scatter3d"
           }
          ],
          "scattercarpet": [
           {
            "marker": {
             "colorbar": {
              "outlinewidth": 0,
              "ticks": ""
             }
            },
            "type": "scattercarpet"
           }
          ],
          "scattergeo": [
           {
            "marker": {
             "colorbar": {
              "outlinewidth": 0,
              "ticks": ""
             }
            },
            "type": "scattergeo"
           }
          ],
          "scattergl": [
           {
            "marker": {
             "colorbar": {
              "outlinewidth": 0,
              "ticks": ""
             }
            },
            "type": "scattergl"
           }
          ],
          "scattermapbox": [
           {
            "marker": {
             "colorbar": {
              "outlinewidth": 0,
              "ticks": ""
             }
            },
            "type": "scattermapbox"
           }
          ],
          "scatterpolar": [
           {
            "marker": {
             "colorbar": {
              "outlinewidth": 0,
              "ticks": ""
             }
            },
            "type": "scatterpolar"
           }
          ],
          "scatterpolargl": [
           {
            "marker": {
             "colorbar": {
              "outlinewidth": 0,
              "ticks": ""
             }
            },
            "type": "scatterpolargl"
           }
          ],
          "scatterternary": [
           {
            "marker": {
             "colorbar": {
              "outlinewidth": 0,
              "ticks": ""
             }
            },
            "type": "scatterternary"
           }
          ],
          "surface": [
           {
            "colorbar": {
             "outlinewidth": 0,
             "ticks": ""
            },
            "colorscale": [
             [
              0,
              "#0d0887"
             ],
             [
              0.1111111111111111,
              "#46039f"
             ],
             [
              0.2222222222222222,
              "#7201a8"
             ],
             [
              0.3333333333333333,
              "#9c179e"
             ],
             [
              0.4444444444444444,
              "#bd3786"
             ],
             [
              0.5555555555555556,
              "#d8576b"
             ],
             [
              0.6666666666666666,
              "#ed7953"
             ],
             [
              0.7777777777777778,
              "#fb9f3a"
             ],
             [
              0.8888888888888888,
              "#fdca26"
             ],
             [
              1,
              "#f0f921"
             ]
            ],
            "type": "surface"
           }
          ],
          "table": [
           {
            "cells": {
             "fill": {
              "color": "#EBF0F8"
             },
             "line": {
              "color": "white"
             }
            },
            "header": {
             "fill": {
              "color": "#C8D4E3"
             },
             "line": {
              "color": "white"
             }
            },
            "type": "table"
           }
          ]
         },
         "layout": {
          "annotationdefaults": {
           "arrowcolor": "#2a3f5f",
           "arrowhead": 0,
           "arrowwidth": 1
          },
          "colorscale": {
           "diverging": [
            [
             0,
             "#8e0152"
            ],
            [
             0.1,
             "#c51b7d"
            ],
            [
             0.2,
             "#de77ae"
            ],
            [
             0.3,
             "#f1b6da"
            ],
            [
             0.4,
             "#fde0ef"
            ],
            [
             0.5,
             "#f7f7f7"
            ],
            [
             0.6,
             "#e6f5d0"
            ],
            [
             0.7,
             "#b8e186"
            ],
            [
             0.8,
             "#7fbc41"
            ],
            [
             0.9,
             "#4d9221"
            ],
            [
             1,
             "#276419"
            ]
           ],
           "sequential": [
            [
             0,
             "#0d0887"
            ],
            [
             0.1111111111111111,
             "#46039f"
            ],
            [
             0.2222222222222222,
             "#7201a8"
            ],
            [
             0.3333333333333333,
             "#9c179e"
            ],
            [
             0.4444444444444444,
             "#bd3786"
            ],
            [
             0.5555555555555556,
             "#d8576b"
            ],
            [
             0.6666666666666666,
             "#ed7953"
            ],
            [
             0.7777777777777778,
             "#fb9f3a"
            ],
            [
             0.8888888888888888,
             "#fdca26"
            ],
            [
             1,
             "#f0f921"
            ]
           ],
           "sequentialminus": [
            [
             0,
             "#0d0887"
            ],
            [
             0.1111111111111111,
             "#46039f"
            ],
            [
             0.2222222222222222,
             "#7201a8"
            ],
            [
             0.3333333333333333,
             "#9c179e"
            ],
            [
             0.4444444444444444,
             "#bd3786"
            ],
            [
             0.5555555555555556,
             "#d8576b"
            ],
            [
             0.6666666666666666,
             "#ed7953"
            ],
            [
             0.7777777777777778,
             "#fb9f3a"
            ],
            [
             0.8888888888888888,
             "#fdca26"
            ],
            [
             1,
             "#f0f921"
            ]
           ]
          },
          "colorway": [
           "#636efa",
           "#EF553B",
           "#00cc96",
           "#ab63fa",
           "#FFA15A",
           "#19d3f3",
           "#FF6692",
           "#B6E880",
           "#FF97FF",
           "#FECB52"
          ],
          "font": {
           "color": "#2a3f5f"
          },
          "geo": {
           "bgcolor": "white",
           "lakecolor": "white",
           "landcolor": "#E5ECF6",
           "showlakes": true,
           "showland": true,
           "subunitcolor": "white"
          },
          "hoverlabel": {
           "align": "left"
          },
          "hovermode": "closest",
          "mapbox": {
           "style": "light"
          },
          "paper_bgcolor": "white",
          "plot_bgcolor": "#E5ECF6",
          "polar": {
           "angularaxis": {
            "gridcolor": "white",
            "linecolor": "white",
            "ticks": ""
           },
           "bgcolor": "#E5ECF6",
           "radialaxis": {
            "gridcolor": "white",
            "linecolor": "white",
            "ticks": ""
           }
          },
          "scene": {
           "xaxis": {
            "backgroundcolor": "#E5ECF6",
            "gridcolor": "white",
            "gridwidth": 2,
            "linecolor": "white",
            "showbackground": true,
            "ticks": "",
            "zerolinecolor": "white"
           },
           "yaxis": {
            "backgroundcolor": "#E5ECF6",
            "gridcolor": "white",
            "gridwidth": 2,
            "linecolor": "white",
            "showbackground": true,
            "ticks": "",
            "zerolinecolor": "white"
           },
           "zaxis": {
            "backgroundcolor": "#E5ECF6",
            "gridcolor": "white",
            "gridwidth": 2,
            "linecolor": "white",
            "showbackground": true,
            "ticks": "",
            "zerolinecolor": "white"
           }
          },
          "shapedefaults": {
           "line": {
            "color": "#2a3f5f"
           }
          },
          "ternary": {
           "aaxis": {
            "gridcolor": "white",
            "linecolor": "white",
            "ticks": ""
           },
           "baxis": {
            "gridcolor": "white",
            "linecolor": "white",
            "ticks": ""
           },
           "bgcolor": "#E5ECF6",
           "caxis": {
            "gridcolor": "white",
            "linecolor": "white",
            "ticks": ""
           }
          },
          "title": {
           "x": 0.05
          },
          "xaxis": {
           "automargin": true,
           "gridcolor": "white",
           "linecolor": "white",
           "ticks": "",
           "zerolinecolor": "white",
           "zerolinewidth": 2
          },
          "yaxis": {
           "automargin": true,
           "gridcolor": "white",
           "linecolor": "white",
           "ticks": "",
           "zerolinecolor": "white",
           "zerolinewidth": 2
          }
         }
        },
        "title": {
         "text": "ε-Progress"
        },
        "width": 340
       },
       "_py2js_addTraces": {},
       "_py2js_animate": {},
       "_py2js_deleteTraces": {},
       "_py2js_moveTraces": {},
       "_py2js_removeLayoutProps": {},
       "_py2js_removeTraceProps": {},
       "_py2js_restyle": {},
       "_view_count": 1
      }
     },
     "98b4843987904780ab5ff44d74acabcf": {
      "model_module": "@jupyter-widgets/base",
      "model_module_version": "1.2.0",
      "model_name": "LayoutModel",
      "state": {}
     },
     "990a606e52404ef1b3817fcd692c4f53": {
      "model_module": "@jupyter-widgets/base",
      "model_module_version": "1.2.0",
      "model_name": "LayoutModel",
      "state": {}
     },
     "9af2b60b2bff4c92a5f5aad9b09421f9": {
      "model_module": "@jupyter-widgets/controls",
      "model_module_version": "1.5.0",
      "model_name": "CheckboxModel",
      "state": {
       "description": "(M+) 5%ile Net Benefits",
       "description_tooltip": "5%ile Net Benefits",
       "disabled": false,
       "layout": "IPY_MODEL_5cb446ef55e74590bcd120f92b52e335",
       "name": "5%ile Net Benefits",
       "style": "IPY_MODEL_6e0e4d74294149f6a4e24f3c2b21f408",
       "value": true
      }
     },
     "9bac8182d6044ce9baa68f358eac80e0": {
      "model_module": "@jupyter-widgets/controls",
      "model_module_version": "1.5.0",
      "model_name": "DescriptionStyleModel",
      "state": {
       "description_width": ""
      }
     },
     "9bffc7f0549b4ccc9953b057294bddf5": {
      "model_module": "@jupyter-widgets/controls",
      "model_module_version": "1.5.0",
      "model_name": "DescriptionStyleModel",
      "state": {
       "description_width": ""
      }
     },
     "a18a4dc799cc452b9baee5c1b6fdf764": {
      "model_module": "@jupyter-widgets/base",
      "model_module_version": "1.2.0",
      "model_name": "LayoutModel",
      "state": {
       "align_items": "center"
      }
     },
     "a2423c8506c8457db2707c770c82d51a": {
      "model_module": "@jupyter-widgets/controls",
      "model_module_version": "1.5.0",
      "model_name": "CheckboxModel",
      "state": {
       "description": "(X) input_flow",
       "description_tooltip": "input_flow",
       "disabled": false,
       "layout": "IPY_MODEL_1269bf0d3de94197bd03bc23004f895e",
       "name": "input_flow",
       "style": "IPY_MODEL_495c16ae07124b21b167b43e73c520ff",
       "value": true
      }
     },
     "a36d08c6d66340d095fb4fe20a4f33ff": {
      "model_module": "@jupyter-widgets/controls",
      "model_module_version": "1.5.0",
      "model_name": "DescriptionStyleModel",
      "state": {
       "description_width": ""
      }
     },
     "a6183e41be2f40e1be744762f0d8ed3d": {
      "model_module": "@jupyter-widgets/controls",
      "model_module_version": "1.5.0",
      "model_name": "DescriptionStyleModel",
      "state": {
       "description_width": ""
      }
     },
     "a780e4500d2b4bf5be5f86dccfd45600": {
      "model_module": "@jupyter-widgets/output",
      "model_module_version": "1.0.0",
      "model_name": "OutputModel",
      "state": {
       "layout": "IPY_MODEL_114cde754cca45f8a0830980ea2e2e95"
      }
     },
     "a783c63aa2914b75a0a82cb602df5d9a": {
      "model_module": "@jupyter-widgets/base",
      "model_module_version": "1.2.0",
      "model_name": "LayoutModel",
      "state": {
       "flex_flow": "row wrap"
      }
     },
     "a985d1be1e0d4a5c9fa14cb6b09237fa": {
      "model_module": "@jupyter-widgets/controls",
      "model_module_version": "1.5.0",
      "model_name": "CheckboxModel",
      "state": {
       "description": "(M+) time_savings",
       "description_tooltip": "time_savings",
       "disabled": false,
       "layout": "IPY_MODEL_b50e769229f34cf5a321f8f73f182d4a",
       "name": "time_savings",
       "style": "IPY_MODEL_7c53073d3c394a27aebd4d0cfe1c718f",
       "value": true
      }
     },
     "aa678b13867c4693840608fcff1a073b": {
      "model_module": "@jupyter-widgets/output",
      "model_module_version": "1.0.0",
      "model_name": "OutputModel",
      "state": {
       "layout": "IPY_MODEL_f5bf4d33476549148b04bac8154e88ac"
      }
     },
     "ab518f79e53441c9972c52ce463cdb9f": {
      "model_module": "@jupyter-widgets/base",
      "model_module_version": "1.2.0",
      "model_name": "LayoutModel",
      "state": {}
     },
     "ab53e2c9904541bdb0ecc60c9e449122": {
      "model_module": "@jupyter-widgets/controls",
      "model_module_version": "1.5.0",
      "model_name": "CheckboxModel",
      "state": {
       "description": "(L) debt_type",
       "description_tooltip": "debt_type",
       "disabled": false,
       "layout": "IPY_MODEL_bccbfcadf58e46e5b6d0b748102d6a96",
       "name": "debt_type",
       "style": "IPY_MODEL_da8f4af37fd14decab89b632e6b0bb10",
       "value": true
      }
     },
     "acef40421f2348ccbdc62ae096b19472": {
      "model_module": "@jupyter-widgets/controls",
      "model_module_version": "1.5.0",
      "model_name": "CheckboxModel",
      "state": {
       "description": "(M+) Expected Time Savings",
       "description_tooltip": "Expected Time Savings",
       "disabled": false,
       "layout": "IPY_MODEL_30b3869e817c41d2af5199c32bcb3cac",
       "name": "Expected Time Savings",
       "style": "IPY_MODEL_afcee9d6be7c4f7f8757104c369b944a",
       "value": true
      }
     },
     "afcee9d6be7c4f7f8757104c369b944a": {
      "model_module": "@jupyter-widgets/controls",
      "model_module_version": "1.5.0",
      "model_name": "DescriptionStyleModel",
      "state": {
       "description_width": ""
      }
     },
     "b037ff6a43284bf2b585e2e2d84da52e": {
      "model_module": "@jupyter-widgets/controls",
      "model_module_version": "1.5.0",
      "model_name": "CheckboxModel",
      "state": {
       "description": "(M+) net_benefits",
       "description_tooltip": "net_benefits",
       "disabled": false,
       "layout": "IPY_MODEL_c92e9fd02a314787ac569aeb85b01f5d",
       "name": "net_benefits",
       "style": "IPY_MODEL_484b91e31afa4fb9b32d8ec64679afa8",
       "value": true
      }
     },
     "b162dc31126e4b95a2838b5e200a7eea": {
      "model_module": "plotlywidget",
      "model_module_version": "^1.1.1",
      "model_name": "FigureModel",
      "state": {
       "_config": {
        "plotlyServerURL": "https://plot.ly"
       },
       "_data": [
        {
         "fill": "tonexty",
         "line": {
          "shape": "linear"
         },
         "mode": "lines+markers",
         "name": "",
         "type": "scatter",
         "uid": "b9e8297a-8f9c-4954-863e-91612ad57d14",
         "x": [
          0,
          100,
          200,
          300,
          400,
          500,
          600,
          700,
          800,
          900,
          1000,
          1100,
          1200,
          1300,
          1400,
          1500,
          1600,
          1700,
          1800,
          1900,
          2000,
          2100,
          2200,
          2300,
          2400,
          2500,
          2600,
          2700,
          2800,
          2900,
          3000,
          3100,
          3200,
          3300,
          3400,
          3500,
          3600,
          3700,
          3800,
          3900,
          4000,
          4100,
          4200,
          4300,
          4400,
          4500,
          4600,
          4700,
          4800,
          4900,
          5000,
          5100,
          5200,
          5300,
          5400,
          5500,
          5600,
          5700,
          5800,
          5900,
          6000,
          6100,
          6200,
          6300,
          6400,
          6500,
          6600,
          6700,
          6800,
          6900,
          7000,
          7100,
          7200,
          7300,
          7400,
          7500,
          7600,
          7700,
          7800,
          7900,
          8000,
          8100,
          8200,
          8300,
          8400,
          8500,
          8600,
          8700,
          8800,
          8900,
          9000,
          9100,
          9200,
          9300,
          9400,
          9500,
          9600,
          9700,
          9800,
          9900,
          10000,
          10120,
          10280,
          10440,
          10600,
          10760,
          10920,
          11080,
          11240,
          11400,
          11560,
          11720,
          11880,
          12040,
          12200,
          12360,
          12520,
          12680,
          12840,
          13000,
          13160,
          13320,
          13480,
          13640,
          13800,
          13960,
          14120,
          14280,
          14440,
          14600,
          14760,
          14920,
          15080,
          15240,
          15400,
          15560,
          15720,
          15880,
          16040,
          16200,
          16360,
          16520,
          16680,
          16840,
          17000,
          17160,
          17320,
          17480,
          17640,
          17800,
          17960,
          18120,
          18280,
          18440,
          18600,
          18760,
          18920,
          19080,
          19240,
          19400,
          19560,
          19720,
          19880,
          20040,
          20200,
          20360,
          20520,
          20680,
          20840,
          21000,
          21160,
          21320,
          21480,
          21640,
          21800,
          21960,
          22120,
          22280,
          22440,
          22600,
          22760,
          22920,
          23080,
          23240,
          23400,
          23560,
          23720,
          23880,
          24040,
          24200,
          24360,
          24520,
          24680,
          24840
         ],
         "y": [
          0,
          16,
          22,
          22,
          23,
          23,
          24,
          26,
          26,
          26,
          28,
          27,
          27,
          28,
          28,
          29,
          29,
          30,
          30,
          31,
          31,
          32,
          33,
          34,
          34,
          33,
          33,
          34,
          34,
          34,
          33,
          33,
          33,
          33,
          33,
          33,
          33,
          33,
          33,
          34,
          34,
          34,
          34,
          34,
          35,
          35,
          35,
          36,
          36,
          36,
          36,
          36,
          36,
          36,
          36,
          36,
          36,
          36,
          36,
          36,
          36,
          36,
          36,
          37,
          38,
          38,
          38,
          38,
          38,
          38,
          38,
          38,
          38,
          39,
          39,
          39,
          39,
          39,
          38,
          38,
          38,
          38,
          38,
          39,
          40,
          40,
          40,
          40,
          40,
          40,
          40,
          40,
          40,
          40,
          40,
          40,
          40,
          40,
          40,
          40,
          40,
          43,
          44,
          43,
          43,
          44,
          44,
          44,
          44,
          44,
          46,
          47,
          48,
          48,
          48,
          48,
          48,
          48,
          48,
          48,
          48,
          48,
          48,
          48,
          48,
          48,
          48,
          48,
          48,
          48,
          48,
          48,
          48,
          49,
          49,
          49,
          49,
          49,
          49,
          49,
          49,
          49,
          49,
          49,
          50,
          50,
          50,
          50,
          50,
          50,
          50,
          50,
          50,
          50,
          50,
          51,
          51,
          51,
          51,
          51,
          51,
          51,
          51,
          51,
          50,
          50,
          50,
          50,
          51,
          51,
          51,
          51,
          51,
          51,
          51,
          51,
          51,
          51,
          51,
          51,
          52,
          52,
          52,
          52,
          52,
          52,
          52,
          52,
          52,
          52,
          52,
          52,
          52,
          52
         ]
        }
       ],
       "_js2py_pointsCallback": {},
       "_js2py_relayout": {},
       "_js2py_restyle": {},
       "_js2py_update": {},
       "_last_layout_edit_id": 4,
       "_last_trace_edit_id": 1,
       "_layout": {
        "height": 240,
        "hovermode": "closest",
        "margin": {
         "b": 15,
         "l": 15,
         "r": 15,
         "t": 40
        },
        "showlegend": false,
        "template": {
         "data": {
          "bar": [
           {
            "error_x": {
             "color": "#2a3f5f"
            },
            "error_y": {
             "color": "#2a3f5f"
            },
            "marker": {
             "line": {
              "color": "#E5ECF6",
              "width": 0.5
             }
            },
            "type": "bar"
           }
          ],
          "barpolar": [
           {
            "marker": {
             "line": {
              "color": "#E5ECF6",
              "width": 0.5
             }
            },
            "type": "barpolar"
           }
          ],
          "carpet": [
           {
            "aaxis": {
             "endlinecolor": "#2a3f5f",
             "gridcolor": "white",
             "linecolor": "white",
             "minorgridcolor": "white",
             "startlinecolor": "#2a3f5f"
            },
            "baxis": {
             "endlinecolor": "#2a3f5f",
             "gridcolor": "white",
             "linecolor": "white",
             "minorgridcolor": "white",
             "startlinecolor": "#2a3f5f"
            },
            "type": "carpet"
           }
          ],
          "choropleth": [
           {
            "colorbar": {
             "outlinewidth": 0,
             "ticks": ""
            },
            "type": "choropleth"
           }
          ],
          "contour": [
           {
            "colorbar": {
             "outlinewidth": 0,
             "ticks": ""
            },
            "colorscale": [
             [
              0,
              "#0d0887"
             ],
             [
              0.1111111111111111,
              "#46039f"
             ],
             [
              0.2222222222222222,
              "#7201a8"
             ],
             [
              0.3333333333333333,
              "#9c179e"
             ],
             [
              0.4444444444444444,
              "#bd3786"
             ],
             [
              0.5555555555555556,
              "#d8576b"
             ],
             [
              0.6666666666666666,
              "#ed7953"
             ],
             [
              0.7777777777777778,
              "#fb9f3a"
             ],
             [
              0.8888888888888888,
              "#fdca26"
             ],
             [
              1,
              "#f0f921"
             ]
            ],
            "type": "contour"
           }
          ],
          "contourcarpet": [
           {
            "colorbar": {
             "outlinewidth": 0,
             "ticks": ""
            },
            "type": "contourcarpet"
           }
          ],
          "heatmap": [
           {
            "colorbar": {
             "outlinewidth": 0,
             "ticks": ""
            },
            "colorscale": [
             [
              0,
              "#0d0887"
             ],
             [
              0.1111111111111111,
              "#46039f"
             ],
             [
              0.2222222222222222,
              "#7201a8"
             ],
             [
              0.3333333333333333,
              "#9c179e"
             ],
             [
              0.4444444444444444,
              "#bd3786"
             ],
             [
              0.5555555555555556,
              "#d8576b"
             ],
             [
              0.6666666666666666,
              "#ed7953"
             ],
             [
              0.7777777777777778,
              "#fb9f3a"
             ],
             [
              0.8888888888888888,
              "#fdca26"
             ],
             [
              1,
              "#f0f921"
             ]
            ],
            "type": "heatmap"
           }
          ],
          "heatmapgl": [
           {
            "colorbar": {
             "outlinewidth": 0,
             "ticks": ""
            },
            "colorscale": [
             [
              0,
              "#0d0887"
             ],
             [
              0.1111111111111111,
              "#46039f"
             ],
             [
              0.2222222222222222,
              "#7201a8"
             ],
             [
              0.3333333333333333,
              "#9c179e"
             ],
             [
              0.4444444444444444,
              "#bd3786"
             ],
             [
              0.5555555555555556,
              "#d8576b"
             ],
             [
              0.6666666666666666,
              "#ed7953"
             ],
             [
              0.7777777777777778,
              "#fb9f3a"
             ],
             [
              0.8888888888888888,
              "#fdca26"
             ],
             [
              1,
              "#f0f921"
             ]
            ],
            "type": "heatmapgl"
           }
          ],
          "histogram": [
           {
            "marker": {
             "colorbar": {
              "outlinewidth": 0,
              "ticks": ""
             }
            },
            "type": "histogram"
           }
          ],
          "histogram2d": [
           {
            "colorbar": {
             "outlinewidth": 0,
             "ticks": ""
            },
            "colorscale": [
             [
              0,
              "#0d0887"
             ],
             [
              0.1111111111111111,
              "#46039f"
             ],
             [
              0.2222222222222222,
              "#7201a8"
             ],
             [
              0.3333333333333333,
              "#9c179e"
             ],
             [
              0.4444444444444444,
              "#bd3786"
             ],
             [
              0.5555555555555556,
              "#d8576b"
             ],
             [
              0.6666666666666666,
              "#ed7953"
             ],
             [
              0.7777777777777778,
              "#fb9f3a"
             ],
             [
              0.8888888888888888,
              "#fdca26"
             ],
             [
              1,
              "#f0f921"
             ]
            ],
            "type": "histogram2d"
           }
          ],
          "histogram2dcontour": [
           {
            "colorbar": {
             "outlinewidth": 0,
             "ticks": ""
            },
            "colorscale": [
             [
              0,
              "#0d0887"
             ],
             [
              0.1111111111111111,
              "#46039f"
             ],
             [
              0.2222222222222222,
              "#7201a8"
             ],
             [
              0.3333333333333333,
              "#9c179e"
             ],
             [
              0.4444444444444444,
              "#bd3786"
             ],
             [
              0.5555555555555556,
              "#d8576b"
             ],
             [
              0.6666666666666666,
              "#ed7953"
             ],
             [
              0.7777777777777778,
              "#fb9f3a"
             ],
             [
              0.8888888888888888,
              "#fdca26"
             ],
             [
              1,
              "#f0f921"
             ]
            ],
            "type": "histogram2dcontour"
           }
          ],
          "mesh3d": [
           {
            "colorbar": {
             "outlinewidth": 0,
             "ticks": ""
            },
            "type": "mesh3d"
           }
          ],
          "parcoords": [
           {
            "line": {
             "colorbar": {
              "outlinewidth": 0,
              "ticks": ""
             }
            },
            "type": "parcoords"
           }
          ],
          "scatter": [
           {
            "marker": {
             "colorbar": {
              "outlinewidth": 0,
              "ticks": ""
             }
            },
            "type": "scatter"
           }
          ],
          "scatter3d": [
           {
            "line": {
             "colorbar": {
              "outlinewidth": 0,
              "ticks": ""
             }
            },
            "marker": {
             "colorbar": {
              "outlinewidth": 0,
              "ticks": ""
             }
            },
            "type": "scatter3d"
           }
          ],
          "scattercarpet": [
           {
            "marker": {
             "colorbar": {
              "outlinewidth": 0,
              "ticks": ""
             }
            },
            "type": "scattercarpet"
           }
          ],
          "scattergeo": [
           {
            "marker": {
             "colorbar": {
              "outlinewidth": 0,
              "ticks": ""
             }
            },
            "type": "scattergeo"
           }
          ],
          "scattergl": [
           {
            "marker": {
             "colorbar": {
              "outlinewidth": 0,
              "ticks": ""
             }
            },
            "type": "scattergl"
           }
          ],
          "scattermapbox": [
           {
            "marker": {
             "colorbar": {
              "outlinewidth": 0,
              "ticks": ""
             }
            },
            "type": "scattermapbox"
           }
          ],
          "scatterpolar": [
           {
            "marker": {
             "colorbar": {
              "outlinewidth": 0,
              "ticks": ""
             }
            },
            "type": "scatterpolar"
           }
          ],
          "scatterpolargl": [
           {
            "marker": {
             "colorbar": {
              "outlinewidth": 0,
              "ticks": ""
             }
            },
            "type": "scatterpolargl"
           }
          ],
          "scatterternary": [
           {
            "marker": {
             "colorbar": {
              "outlinewidth": 0,
              "ticks": ""
             }
            },
            "type": "scatterternary"
           }
          ],
          "surface": [
           {
            "colorbar": {
             "outlinewidth": 0,
             "ticks": ""
            },
            "colorscale": [
             [
              0,
              "#0d0887"
             ],
             [
              0.1111111111111111,
              "#46039f"
             ],
             [
              0.2222222222222222,
              "#7201a8"
             ],
             [
              0.3333333333333333,
              "#9c179e"
             ],
             [
              0.4444444444444444,
              "#bd3786"
             ],
             [
              0.5555555555555556,
              "#d8576b"
             ],
             [
              0.6666666666666666,
              "#ed7953"
             ],
             [
              0.7777777777777778,
              "#fb9f3a"
             ],
             [
              0.8888888888888888,
              "#fdca26"
             ],
             [
              1,
              "#f0f921"
             ]
            ],
            "type": "surface"
           }
          ],
          "table": [
           {
            "cells": {
             "fill": {
              "color": "#EBF0F8"
             },
             "line": {
              "color": "white"
             }
            },
            "header": {
             "fill": {
              "color": "#C8D4E3"
             },
             "line": {
              "color": "white"
             }
            },
            "type": "table"
           }
          ]
         },
         "layout": {
          "annotationdefaults": {
           "arrowcolor": "#2a3f5f",
           "arrowhead": 0,
           "arrowwidth": 1
          },
          "colorscale": {
           "diverging": [
            [
             0,
             "#8e0152"
            ],
            [
             0.1,
             "#c51b7d"
            ],
            [
             0.2,
             "#de77ae"
            ],
            [
             0.3,
             "#f1b6da"
            ],
            [
             0.4,
             "#fde0ef"
            ],
            [
             0.5,
             "#f7f7f7"
            ],
            [
             0.6,
             "#e6f5d0"
            ],
            [
             0.7,
             "#b8e186"
            ],
            [
             0.8,
             "#7fbc41"
            ],
            [
             0.9,
             "#4d9221"
            ],
            [
             1,
             "#276419"
            ]
           ],
           "sequential": [
            [
             0,
             "#0d0887"
            ],
            [
             0.1111111111111111,
             "#46039f"
            ],
            [
             0.2222222222222222,
             "#7201a8"
            ],
            [
             0.3333333333333333,
             "#9c179e"
            ],
            [
             0.4444444444444444,
             "#bd3786"
            ],
            [
             0.5555555555555556,
             "#d8576b"
            ],
            [
             0.6666666666666666,
             "#ed7953"
            ],
            [
             0.7777777777777778,
             "#fb9f3a"
            ],
            [
             0.8888888888888888,
             "#fdca26"
            ],
            [
             1,
             "#f0f921"
            ]
           ],
           "sequentialminus": [
            [
             0,
             "#0d0887"
            ],
            [
             0.1111111111111111,
             "#46039f"
            ],
            [
             0.2222222222222222,
             "#7201a8"
            ],
            [
             0.3333333333333333,
             "#9c179e"
            ],
            [
             0.4444444444444444,
             "#bd3786"
            ],
            [
             0.5555555555555556,
             "#d8576b"
            ],
            [
             0.6666666666666666,
             "#ed7953"
            ],
            [
             0.7777777777777778,
             "#fb9f3a"
            ],
            [
             0.8888888888888888,
             "#fdca26"
            ],
            [
             1,
             "#f0f921"
            ]
           ]
          },
          "colorway": [
           "#636efa",
           "#EF553B",
           "#00cc96",
           "#ab63fa",
           "#FFA15A",
           "#19d3f3",
           "#FF6692",
           "#B6E880",
           "#FF97FF",
           "#FECB52"
          ],
          "font": {
           "color": "#2a3f5f"
          },
          "geo": {
           "bgcolor": "white",
           "lakecolor": "white",
           "landcolor": "#E5ECF6",
           "showlakes": true,
           "showland": true,
           "subunitcolor": "white"
          },
          "hoverlabel": {
           "align": "left"
          },
          "hovermode": "closest",
          "mapbox": {
           "style": "light"
          },
          "paper_bgcolor": "white",
          "plot_bgcolor": "#E5ECF6",
          "polar": {
           "angularaxis": {
            "gridcolor": "white",
            "linecolor": "white",
            "ticks": ""
           },
           "bgcolor": "#E5ECF6",
           "radialaxis": {
            "gridcolor": "white",
            "linecolor": "white",
            "ticks": ""
           }
          },
          "scene": {
           "xaxis": {
            "backgroundcolor": "#E5ECF6",
            "gridcolor": "white",
            "gridwidth": 2,
            "linecolor": "white",
            "showbackground": true,
            "ticks": "",
            "zerolinecolor": "white"
           },
           "yaxis": {
            "backgroundcolor": "#E5ECF6",
            "gridcolor": "white",
            "gridwidth": 2,
            "linecolor": "white",
            "showbackground": true,
            "ticks": "",
            "zerolinecolor": "white"
           },
           "zaxis": {
            "backgroundcolor": "#E5ECF6",
            "gridcolor": "white",
            "gridwidth": 2,
            "linecolor": "white",
            "showbackground": true,
            "ticks": "",
            "zerolinecolor": "white"
           }
          },
          "shapedefaults": {
           "line": {
            "color": "#2a3f5f"
           }
          },
          "ternary": {
           "aaxis": {
            "gridcolor": "white",
            "linecolor": "white",
            "ticks": ""
           },
           "baxis": {
            "gridcolor": "white",
            "linecolor": "white",
            "ticks": ""
           },
           "bgcolor": "#E5ECF6",
           "caxis": {
            "gridcolor": "white",
            "linecolor": "white",
            "ticks": ""
           }
          },
          "title": {
           "x": 0.05
          },
          "xaxis": {
           "automargin": true,
           "gridcolor": "white",
           "linecolor": "white",
           "ticks": "",
           "zerolinecolor": "white",
           "zerolinewidth": 2
          },
          "yaxis": {
           "automargin": true,
           "gridcolor": "white",
           "linecolor": "white",
           "ticks": "",
           "zerolinecolor": "white",
           "zerolinewidth": 2
          }
         }
        },
        "title": {
         "text": "Number of Solutions"
        },
        "width": 340
       },
       "_py2js_addTraces": {},
       "_py2js_animate": {},
       "_py2js_deleteTraces": {},
       "_py2js_moveTraces": {},
       "_py2js_removeLayoutProps": {},
       "_py2js_removeTraceProps": {},
       "_py2js_restyle": {},
       "_view_count": 1
      }
     },
     "b1b1f6ba9cb94aa6aa3ef861af761e93": {
      "model_module": "@jupyter-widgets/controls",
      "model_module_version": "1.5.0",
      "model_name": "DescriptionStyleModel",
      "state": {
       "description_width": ""
      }
     },
     "b36d2f85ab7d4c00b3dda34aad7cebd8": {
      "model_module": "@jupyter-widgets/controls",
      "model_module_version": "1.5.0",
      "model_name": "DropdownModel",
      "state": {
       "_options_labels": [
        "< None >",
        "expand_capacity",
        "amortization_period",
        "debt_type",
        "interest_rate_lock",
        "build_travel_time",
        "time_savings",
        "value_of_time_savings",
        "net_benefits",
        "cost_of_capacity_expansion"
       ],
       "description": "Colorize:",
       "index": 1,
       "layout": "IPY_MODEL_1988eaeb8d314eadb481be904e8bee62",
       "style": "IPY_MODEL_8b69f71f4eb441389883d4b82c77648d"
      }
     },
     "b4414f161de241808715f3be3bf0f3a0": {
      "model_module": "@jupyter-widgets/controls",
      "model_module_version": "1.5.0",
      "model_name": "CheckboxModel",
      "state": {
       "description": "(M-) build_travel_time",
       "description_tooltip": "build_travel_time",
       "disabled": false,
       "layout": "IPY_MODEL_0a8b7a4e4b244d20971f02f964cbeacd",
       "name": "build_travel_time",
       "style": "IPY_MODEL_bba4f2562400432582ee41db5e0978fb",
       "value": true
      }
     },
     "b48ff4eed64c4c9d93e8a0eb051ebac6": {
      "model_module": "@jupyter-widgets/controls",
      "model_module_version": "1.5.0",
      "model_name": "CheckboxModel",
      "state": {
       "description": "(M-) build_travel_time",
       "description_tooltip": "build_travel_time",
       "disabled": false,
       "layout": "IPY_MODEL_d753f01a2d7743ebbc294a185425bef3",
       "name": "build_travel_time",
       "style": "IPY_MODEL_29bc67ba6a05498f8cf63182fa150199",
       "value": true
      }
     },
     "b500490c66894c2abfa7f7dce4758703": {
      "model_module": "@jupyter-widgets/controls",
      "model_module_version": "1.5.0",
      "model_name": "DescriptionStyleModel",
      "state": {
       "description_width": ""
      }
     },
     "b50e769229f34cf5a321f8f73f182d4a": {
      "model_module": "@jupyter-widgets/base",
      "model_module_version": "1.2.0",
      "model_name": "LayoutModel",
      "state": {}
     },
     "b7e29c1eda4c4fc0a02139f846aa5587": {
      "model_module": "@jupyter-widgets/controls",
      "model_module_version": "1.5.0",
      "model_name": "CheckboxModel",
      "state": {
       "description": "(L) interest_rate_lock",
       "description_tooltip": "interest_rate_lock",
       "disabled": false,
       "layout": "IPY_MODEL_28c7fa3a20cb4aea8b8c7ce339ea1fe6",
       "name": "interest_rate_lock",
       "style": "IPY_MODEL_5026490b1163489785a0600f9f2b8fc5",
       "value": true
      }
     },
     "b81eaed55c214c7482bbf141696573fb": {
      "model_module": "@jupyter-widgets/base",
      "model_module_version": "1.2.0",
      "model_name": "LayoutModel",
      "state": {}
     },
     "bb83554d61ea43059e3b44fc2006ef54": {
      "model_module": "@jupyter-widgets/base",
      "model_module_version": "1.2.0",
      "model_name": "LayoutModel",
      "state": {}
     },
     "bba4f2562400432582ee41db5e0978fb": {
      "model_module": "@jupyter-widgets/controls",
      "model_module_version": "1.5.0",
      "model_name": "DescriptionStyleModel",
      "state": {
       "description_width": ""
      }
     },
     "bccbfcadf58e46e5b6d0b748102d6a96": {
      "model_module": "@jupyter-widgets/base",
      "model_module_version": "1.2.0",
      "model_name": "LayoutModel",
      "state": {}
     },
     "bf8915e6df2e4cef865d29ff867ae701": {
      "model_module": "@jupyter-widgets/controls",
      "model_module_version": "1.5.0",
      "model_name": "DescriptionStyleModel",
      "state": {
       "description_width": ""
      }
     },
     "c0b41b39639f4b78915b5880a3bf461d": {
      "model_module": "@jupyter-widgets/base",
      "model_module_version": "1.2.0",
      "model_name": "LayoutModel",
      "state": {}
     },
     "c3cc278e5656441a88ecca5ddd4c7296": {
      "model_module": "@jupyter-widgets/controls",
      "model_module_version": "1.5.0",
      "model_name": "DescriptionStyleModel",
      "state": {
       "description_width": ""
      }
     },
     "c51345b2ee974282804c864aeecd87a2": {
      "model_module": "@jupyter-widgets/controls",
      "model_module_version": "1.5.0",
      "model_name": "BoxModel",
      "state": {
       "children": [
        "IPY_MODEL_8ba1ce3d276943eab026fe0574976a56",
        "IPY_MODEL_4acd8fffe2c34ef882f1b8689639dc83",
        "IPY_MODEL_a2423c8506c8457db2707c770c82d51a",
        "IPY_MODEL_455958b1ceea46b09e742e0517904aee",
        "IPY_MODEL_51d7aa65ace9473d8a56c2ffdb6f0d63",
        "IPY_MODEL_21f0ad667f714280b020bd1e366aae05",
        "IPY_MODEL_d2cdce4b62654644bbe0eda31f8e409a",
        "IPY_MODEL_b48ff4eed64c4c9d93e8a0eb051ebac6",
        "IPY_MODEL_4e5d33af66674c37b10d8b3225d69358",
        "IPY_MODEL_6382d180777d4ede8774179a49d33560",
        "IPY_MODEL_b037ff6a43284bf2b585e2e2d84da52e",
        "IPY_MODEL_774ed922ca1e424c94918d467678616c"
       ],
       "layout": "IPY_MODEL_7a31326c3a1047dab9964d20c677e8de"
      }
     },
     "c750cbd5efd64b60b4d65d7165e445e5": {
      "model_module": "@jupyter-widgets/base",
      "model_module_version": "1.2.0",
      "model_name": "LayoutModel",
      "state": {}
     },
     "c7a1063175b44f039377fd2bbb5375f9": {
      "model_module": "@jupyter-widgets/controls",
      "model_module_version": "1.5.0",
      "model_name": "DescriptionStyleModel",
      "state": {
       "description_width": ""
      }
     },
     "c8b2448f1dad440697ca67015ce1a422": {
      "model_module": "@jupyter-widgets/controls",
      "model_module_version": "1.5.0",
      "model_name": "DescriptionStyleModel",
      "state": {
       "description_width": ""
      }
     },
     "c8d553bc433143cfb39e87a685f2d42e": {
      "model_module": "@jupyter-widgets/controls",
      "model_module_version": "1.5.0",
      "model_name": "DescriptionStyleModel",
      "state": {
       "description_width": ""
      }
     },
     "c92a92f4c1af413bab7516c4af2f56b4": {
      "model_module": "@jupyter-widgets/base",
      "model_module_version": "1.2.0",
      "model_name": "LayoutModel",
      "state": {
       "width": "250px"
      }
     },
     "c92e9fd02a314787ac569aeb85b01f5d": {
      "model_module": "@jupyter-widgets/base",
      "model_module_version": "1.2.0",
      "model_name": "LayoutModel",
      "state": {}
     },
     "c9714b91fb8e488b971a1c6810076dc2": {
      "buffers": [
       {
        "data": "7hD/R761R0C2nR9h0zssQB6/u1H40+U/AAAAAAAAAAD+15Iow7RRQPjrD2nvzA1AKJZz5vn+HEAA632GHxGlP4i7upGpSSZAP4oOBFpkGkCgNSFr82NVQO6kdr6jBgZA8jEsfXWN/z/W5iIoxnIQQJBDZTV4LlNAvB50pQZEH0BdJC3+6XYtQAAAAAAAAFlAAAAAAAAAWUAzUsoAclNQQIWia2bSmldAqQL+0OE4U0AZt3qugN1KQL2zlgzkfkRA4jsqu4q7U0DSAnHAK31DQCS1Dgo5hURAm8NZqnkSTUBWnT4FvEgzQPotk7nJwSNA4lCaOFd0MUAqOvxoeYI3QNCDAR7RfldAbNl32pd7LkBi+Eu6iosnQDc1L6O7RTBAOj7AoYeyNUBHshgin5k0QBJ82hXBTU1Ab3OUGoCZT0CUXA1ytXFRQB0vfoeQfUlAzHUD6eoUPkDuo4j8F444QO+WPV4V8UtALhKpPCOJVUCVadc/EMgzQFLPSOZkYR5ARogqtqo5H0Bnkc8sy44iQDIWo8maLhJANgFzwreqFUAsYMIBRKcuQFS0JAfgqEBA7hD/R761R0C2nR9h0zssQB6/u1H40+U//teSKMO0UUAolnPm+f4cQADrfYYfEaU/7qR2vqMGBkDyMSx9dY3/PzNSygByU1BAhaJrZtKaV0CpAv7Q4ThTQBm3eq6A3UpAvbOWDOR+REDSAnHAK31DQOJQmjhXdDFAKjr8aHmCN0A3NS+ju0UwQEeyGCKfmTRAEnzaFcFNTUAdL36HkH1JQMx1A+nqFD5A7qOI/BeOOEDvlj1eFfFLQC4SqTwjiVVAlWnXPxDIM0BGiCq2qjkfQGeRzyzLjiJAMhajyZouEkA2AXPCt6oVQCxgwgFEpy5AiLu6kalJJkA/ig4EWmQaQKA1IWvzY1VAkENlNXguU0C8HnSlBkQfQF0kLf7pdi1A4jsqu4q7U0AktQ4KOYVEQJvDWap5Ek1AVp0+BbxIM0D6LZO5ycEjQNCDAR7RfldAbNl32pd7LkBi+Eu6iosnQDo+wKGHsjVAb3OUGoCZT0CUXA1ytXFRQFLPSOZkYR5AVLQkB+CoQEA=",
        "encoding": "base64",
        "path": [
         "_data",
         0,
         "dimensions",
         0,
         "values",
         "value"
        ]
       },
       {
        "data": "u5hnCVjJ/z8virI1k+r/PxjG8BtsTQBAWO5QT/lBAEDFIRFzom3/P5qJrB53rv8/6NJidnJlAEDCA4+OgTwAQMTof6P9Vv8/oFLvtRyp/z8MPgGQwx4AQMnnhgaeBwBAvJDNHq3Q/z8tx/X+QDMAQGvaNFVPev8/XjYKjvTN/z94SByMcsD/P1CkWV5gdP8/o9MKnrJn/z893Y+Rr8//Py6okmpMzf8/hqGnxBZ4/z8P6pxz3lH/P8MdHRCPFwBA+NF1FoW1/z8ckr0F0BsAQA++bdHj0/8/4kXygiwSAEAysdRCAGP/P/pKsusKjP8/FAAt3jBZ/z8bFM/MIfT/P/pgp8OAlP8/jTN5nfNg/z/Aa96qslgAQK3KRVAbwP8/4FX4bjU0AEADuXgwtR8AQMnb/FqqfP8/m5wdj611/z8NYugNYUL/P3Rd5zReNf8/VGAOIE1J/z9o7de8Uw4AQMf1sG+HdP8/IttwFJJw/z8HcRiz2EwAQI8iEoAfi/8/Bzp/iJXB/z+s0vllFOD/P52R/UY6Yf8/eBlsjbil/z82gsasq4X/P8GTWMiFuP8/MDg7E99RAEBsUanAAjcAQJ0Jhv+Xjf8/Mx7yjlvS/z8O+0C7uw0AQHyahuCLTwBApFbrovwxAECU2D0xBkz/P3gftln3Zf8/MepM5ar6/z8wXmM+8SQAQIvKPX0aeP8/RNbFZspMAECafnPKx1D/P1C/AZb/CQBAKUlGRsT+/z863oNSnDQAQKP2OKB+Pv8/63pVkbBD/z+XZzXLuKr/P/rAxmiuGQBAJqPqpHho/z+AXvnJpSwAQPwg561eYgBAI45xA17O/z+pG/VRDEz/P5dImloAYABANX9a+McCAEAzHrXZwNX/P87LTsHuJQBA/RsJWjAMAEAcReLW6a3/Pw1Q1+EmDwBAtLq12NCC/z+9zV1ELT8AQCZb3n1ONP8/nUWOSfY7AEBpTETtqgQAQFBDaBXsyP8/DdXgG8USAEBl7OyvglL/Pzrz32TOXABA8gLRYvQHAECn3uUW1HP/P1Q3B7xeEQBAz3tyZlyH/z8cb77cZav/P4p4PwEwgv8/t/5YuN2+/z8=",
        "encoding": "base64",
        "path": [
         "_data",
         0,
         "dimensions",
         2,
         "values",
         "value"
        ]
       },
       {
        "data": "VOr7R0S27j8VAusq0IvuP0ojE+fDte4/Iu6oXJpx7j/vWUYKBV3wP37hZLu+QvA/I05LSmc08D/nSeksseDuP6CnYW4Kn6M/5GWxrSw+lz8QXj/mkmGcv2LozuE9We8/e6s9hZnA8D+jPtPkgMLvPzRj4Rk0SoE/WMZH8vA8cz/QTUxIifN0vy0LAdu4w/A/papskanoob/HiDljcfDvP7MZ4JV07+4/IxwujC2V8D8iV/zakxvwP9rzIIbgSPA/diE1hGPPpT8kgw9MHeHuP4clBtBg7qa/rM1Q9yEplD/KIxNv/VGTv5BaE+eod5k/d3XXiR6s8D+BbusUvMfuP/RX25dnWIq/dFTbvW3dpz+YyRj7niB6P4QXx90Fm/A/QPKG4nLvlT9ynevV+jDvPzMj8m1j0O4/YJ7KqNRdo78AAXBC+3+KPyIvHxdryu8/XiqyhooG7z9eJmWn2HzwPznWj2Tq0O4/lDvfqotr7j9y6wGA01/wP1BSk0aY92U/Swf5zaQz8D+c2G5OQg/vP2+5WzW4EO8/Skp+hW2g8D/b3UWM6ofvP+gQbW5Rlqa/gLzH8wa3Zj+wnyg7h050PwBouR/WKIs/7BpMuYvih78wphu2XNZnP9j9m6pST3o/iK93ah6Ghb/FO0x+LHKlv0Bfa4xus3u/+FGXS45jhT/g2pbcKPKTP8rd/bkKpZ+/ACHMypV9fb8lhQGkocOlv3h2Y0/co6a/MLyPX1X2fz904x1dMPOWPx6HAbFT8aA/pk7yVSt/qD8COJ1nglSnP12Yt9RsWZ2/6HHPg1+qlz/Adk1w5N9xP8hMo1aAWJY/tE6Hr8TymT/MAuA3yrGEv1o93vCSrag/TngjaCOdoT90+KlYC16pv1yU9G8DToq/TGJK8SVs8D8gVhkdb/DuP70EnpVmhO8/zpoLZMrV7j/57Omzoj7wP/Jm6Qm8q/A/z/JsezvP7z9buV0u9zPvPz+qNcCFhO8/llSxkMUR8D+LkfHzLoXvP4JkVxpI3e4/f0CV3xlV8D8IkrX1hQfwP/JkUguGG/A/cmtTh8SR8D/zW+cnn8/uP69BMh8UavA/THSlLUhm8D8=",
        "encoding": "base64",
        "path": [
         "_data",
         0,
         "dimensions",
         3,
         "values",
         "value"
        ]
       },
       {
        "data": "5jbyomrlUkD76VKvEV5TQEclHdXzWhhAAAAAAAAAAAAlSQVPkzM6QHFVtQR7sj1ATpCj54dpSUDPybYSURTYP4m+5nVbK1FAnyGVz3/lR0ChajZtRMoXwLzXOD1FwDZAUuWFkV/GMEDe7xSM5ihAQMGzzKEDgDBAEE0B+8wZS0CyDxQLfQRUQAIgvRdJgUnAls8thfI+RsCcRTSysalDQJMgoHBGw0HAi4sm4IorJkCMnSjsDQpQQIOe0qXhQ1VAATi19kMBJkBSRNiqAt5VQBSlw0sR61VAkDEd9Lp9TUCCUR8IPF9WQHKapGN91E9AoLwwLmFKVUBQd3XXei1XQLJOKVE+MjzAxzhGuGRYVEBQU71Cwb1RQAVssHj3sFRAtPO6bGMnV0BE+jJ3nH9WQHAroP4oG0tAptRrYxUhSEBIZVkOTKVAQP8CZ/fsVlFAjzevHDt5V0B3zqCw2lRXQAz865Kv701AuEjCQd0lKsD9+VlxGzxWQA4Mzt3dikpAF2aZjDHSSkDqDuOIzjxOQM2CcBfVlEFAwUeNXGlLREBDn/AlEyZUQGZs+EAWqFdAj09h0jyrU0D2seXP9ZhTQN4OZHl7iBhApIM912fRPkCw//YVA6ZJQDRhXUtCQNg/ytbikTbuNkDzXd+7R+cwQHP//IaMykVAeNGKUgBfPcB5I/3RyxgwQNYDeI0z6lBAuBX1deLuVUCES4s5nYBWQPmCcLcxk1VAP1BFDo6PV0BteCCf2fRUQFJff2KM1VZAtiVI/iQETUD27h4+mitSQOHMsvW49ldAUMpiVEq7V0Dk18li8cFPQFIpSbvz1R3AaD5vJqGOVkBNy0oaUxNLQNE4kWA5ik5Arxad4MG6QUDONSL1mnhEQLwG2VQDZlRA6nKqVN78UECYyw0bc65HQNVBDGOhDCfAIwa1gmj/JkARRcnRldhKQHzLwrAHx1NABIuzwyluF0AzHhen2z9VQPLXGSGcmEtASwFugMkOVkBvwHvcEYJPQNoSrs8+KUHALkZwoc8YVEBogGy9pIxRQDvGt6TfzFZA8cj2zskRRkBIfD81P748QIFgo2x/S0pAxgfPxRYdV0A=",
        "encoding": "base64",
        "path": [
         "_data",
         0,
         "dimensions",
         4,
         "values",
         "value"
        ]
       },
       {
        "data": "tHpwSRqYYcDpJ/UE9ZNCwOlMaHWPe/m/AAAAAAAAAAAJSITpR0hrwFFlV/5/5iHAPn1nZlbxMcBIaSom1YK4v5UcyfybPUDASowjaBz5MsDuGeJPcNJxwIW3iSxzOxrAiHnkbfemEsAMKspOfNMjwKUOW3pvq2/At5Lp7FWQNsBGGDja0apFwJxrqNygxnPA4O/v3rj4dMC3LmkspwBpwORRi6SckHLAANWuUBbEbcBlSQ5SKDFkwKfF9BhG8l3ATtkydlhYcMDQYz+cWlFcwCmSXWUQpV/Ape45HftsZ8ChDHtHraVMwGpqSnQVsTzArgHA35hgR8BWM/0KcSxQwLi+RbxeqHPAcKbK3mlxRsCBlpfXlS9BwJx5WHw5qkXAXEzphSkxUMA0at141PtLwPZ7DC13NmbAkJ37EwGKacBg7pBIwH9swJR9P1e6DmPA2sU7/os0VcCUTOY5EfdQwDNoieI1FWXApBCTaePIcMBETxJHEMpKwHqkSo7r6DXArM4AkWdoM8CEk+OaQF83wITNW9n8/iXADw5j1ERnKsAqISEpAE5EwMktJWzxY1nAqIG9YCiiYsAaC0X+PbtEwIQlZfNz+v2/bKtNNd/5bMD2HgiLf+M0wIdoSwsjtLy/TtZSK2rmHsBg2SEozP8VwDBgzzyOd2rAuM66PtDAc8AFo0/thb5vwJivNqbne2XAZCGuSsKaX8AE1c8/zPddwFZvGCt51EnARsKP0DGaUcBKQEiOmARIwFxSVpWerk7AqodXD4GeZ8A1tDv+VzlkwPZKHUTsyVbApoZjkRprUsAEqogrgXlmwIpG+WvX8nHAs6YzWFxqTcCQqpnVrYg2wG50mZBR5zrAIncvmtLaKcBwP7FE/PsuwAR46di3kkbAThKfZO+VPMCs1qWwnT4wwKRDeHzuqXDAcJqmVwKzbcCufHKiPG8zwIpVmjxQdEPArq2opXmabsDyI1khivxdwPUnKSY8BWbAM199gHsNSsCEKql7iAg5wMJ4kTF5eHLADIJrx7QuRMDE/4sycF8+wN3Nm5OAn03AuCKdpKUfaMDi7xHOz9pqwCBm/kL12TLASHb18uvFV8A=",
        "encoding": "base64",
        "path": [
         "_data",
         0,
         "dimensions",
         5,
         "values",
         "value"
        ]
       },
       {
        "data": "AQAAAAAATECamZmZmZlDQJqZmZmZmT9AAAAAAAAAAABmZmZmZmZPQM3MzMzMzEBAmpmZmZmZQkBmZmZmZmY+QAAAAAAAAENAzczMzMzMQUDNzMzMzExQQJqZmZmZmUBAMzMzMzMzQEDNzMzMzMxAQM3MzMzMzE9AZmZmZmZmQkAAAAAAAABEQDMzMzMzM1FAmpmZmZkZUUBmZmZmZmZOQM3MzMzMzFBAmpmZmZmZT0CZmZmZmZlMQM3MzMzMzEpAAAAAAAAAUEA0MzMzMzNKQDQzMzMzM0pA////////TECZmZmZmZlEQAAAAAAAAENAAAAAAAAARUDNzMzMzMxGQDMzMzMzs1BAAAAAAAAAREBnZmZmZmZDQAAAAAAAAEVAZmZmZmZmRUCamZmZmZlFQGZmZmZmZk1AzMzMzMzMTUCZmZmZmZlOQGZmZmZmZkxAzczMzMzMSEAAAAAAAABHQDMzMzMzM01AmpmZmZmZUEBmZmZmZmZFQDMzMzMzM0JAzczMzMzMQkAAAAAAAABDQDMzMzMzM0FAmZmZmZmZQUBmZmZmZmZEQDMzMzMzM0hAZ2ZmZmZmS0AAAAAAAABEQJqZmZmZmT9AzczMzMzMTkAzMzMzMzNCQDMzMzMzMz9AMzMzMzMzQUAAAAAAAABBQAAAAAAAAE5AMzMzMzOzUEDNzMzMzMxPQDIzMzMzM0xANDMzMzMzSkDNzMzMzMxJQJmZmZmZmURAAAAAAAAARkA0MzMzMzNEQM3MzMzMzERAMzMzMzMzTUDOzMzMzMxLQGdmZmZmZkdAAAAAAAAARkDMzMzMzMxMQM3MzMzMTFBAzczMzMzMREBmZmZmZmZCQM3MzMzMzEJAZmZmZmZmQUCZmZmZmZlBQAAAAAAAAERAmpmZmZmZQ0CamZmZmZlCQJqZmZmZmVBAmpmZmZmZT0DNzMzMzMxCQDQzMzMzM0RAmpmZmZkZUEDNzMzMzMxKQGZmZmZmZk1AZmZmZmZmRUAAAAAAAABDQDMzMzMzs1BAZmZmZmZmRECamZmZmZlDQM3MzMzMzEVAMzMzMzMzTkAzMzMzMzNPQJqZmZmZmUJAzczMzMzMSUA=",
        "encoding": "base64",
        "path": [
         "_data",
         0,
         "dimensions",
         6,
         "values",
         "value"
        ]
       },
       {
        "data": "fCdTkCmGZUAbPMafeqFJQFNKP/3N0ANAAAAAAAAAAAAKPj7o4BJwQIZa8wWcDStAHYc9YKNSOkC+FW3M6x/DP5a1XlPlb0ZAXr9MLKCROkBppfwdpYh1QASJ343N/iNAgofTcMikHEDYyYdgJt0tQJT8w9pfT3NAeK0hH6l5P0Bcepx0dalNQOfN+9r4sXZAiITt2uIqeUDG0f/aRKRtQJiA1g65bXVAbdVqgTdzcUAeZurwc2NoQMI8jZErm2JAunoNYWTdc0C6La2/NbFhQD4F9ahsqGRAr1Gs1FhEbUDAoPO40GlTQHJGcxau40NASILPyMqwT0AYp+yynldVQPiRIzYfp3dAns8+f+KvTkBGY6+m7rNHQA404mBfi01AvGrjIMDXVUCFNKPGb7NSQL8Vj08nmmpAWyW4NLXPb0CyOtkgoo9xQNaRs+v1I2dAesJVqPROW0A6tWMokUpWQPbV6pygXWlAouuzCN+Mc0DqjLqyMvVRQK/FpJmClT5AabQcQLdYPED/DS4kz9hAQKy5Cex8gTBAZRf2BlurM0DQwfnGz9NLQDno/TB0xWBACXdMmWreZ0B52jBTQmxMQCLTRC5q+QVAyck53iLTcUAKcKudtzA9QEx6NiNDNcU/1nfHhmwsJkBbmUDvlcMfQK4byp1zb3BAPm0SiVDDd0AcnRFT21lzQCjdtaqWC2tADGPEzgyiZEDME9Znmp5jQG6ROWtIklFAZD5Hx82qV0CaJle6pWFQQLKEN7/1vFRApI3K8AWAbUA2+qDISqlpQMIHY2uFSF5ApoUHcTe4WECWRvEYBCFsQOLYQLoUrnVAAH6fYP/pU0AWzZdqO28/QHoG1eegrkJASTbZgstNMkAW2+na4s81QFnHfJHZ205AMB5PkaU7REDhFTqTePU3QF7+g90ca3NAw/QjpcNpcUDroMeyHmI8QHYLGs2Ev0pAPp/cs9TpcUCIINgd66BiQPZR6PBWZGpAkraFk5uBUUD8uTtIgO9BQFqhgLlMVHVApZvJVyqsS0AOc4wC2l9FQGx6C4dyslNACNAU3bavbECl5Wt3A6xvQNCkM7dhlDtACoa0bWA/XkA=",
        "encoding": "base64",
        "path": [
         "_data",
         0,
         "dimensions",
         7,
         "values",
         "value"
        ]
       },
       {
        "data": "Mc0peqj8MUB4JcxuJbkjQEnhCAzka+U/AAAAAAAAAACq6S7qmMczQAxAVG/G5wpAeL9ZCfviF0BQQwmiWg2lPzkHG263ryBAwQDiALEaFkAPD3wnKV80QM2egjntaQRAFwZ6IM/f/T+a0+QoWWUNQI6IbymqDDRAPx3RYxtkGUCeSSF4MkwkQEo46ayLvzRASjjprIu/NEBDaaC1+HkzQIUbyV3cnjRARC3ir2QONECfqMxmnJ8yQLjHA1GXKTFA9uPFqVwjNEB+7fHy0dswQInXCL5sKzFAJTKWGWH9MkA7flB2jQ0oQPUvI8Vjfx5AN5V+wTKkJkC41aWXvuIqQPS/vdITnDRAEKSq6YnCJEBxLAH47V0hQLJpUU5bqSVAHcKf/Pm8KUDRllT90P4oQIMXGANmBjNAE2GdTHBYM0CiMNZ567kzQNGWY9s7XTJAWyFP7GlYLkAZCUhIf4ErQIUMiNQuzzJAhGoey9tjNEA3wKV+fmooQKqVEkBCzxhA1NQpSFddGUC+PLolkhEdQE+7yVDODxBA9LGXpUW1EkB/Tqn4E9YkQL89iKccuC9AMc0peqj8MUB4JcxuJbkjQEnhCAzka+U/quku6pjHM0B4v1kJ++IXQFBDCaJaDaU/zZ6COe1pBEAXBnogz9/9P0NpoLX4eTNAhRvJXdyeNEBELeKvZA40QJ+ozGacnzJAuMcDUZcpMUB+7fHy0dswQDeVfsEypCZAuNWll77iKkCyaVFOW6klQNGWVP3Q/ihAgxcYA2YGM0DRlmPbO10yQFshT+xpWC5AGQlISH+BK0CFDIjULs8yQIRqHsvbYzRAN8Clfn5qKEDU1ClIV10ZQL48uiWSER1AT7vJUM4PEED0sZelRbUSQH9OqfgT1iRAOQcbbrevIEDBAOIAsRoWQA8PfCcpXzRAjohvKaoMNEA/HdFjG2QZQJ5JIXgyTCRA9uPFqVwjNECJ1wi+bCsxQCUylhlh/TJAO35Qdo0NKED1LyPFY38eQPS/vdITnDRAEKSq6YnCJEBxLAH47V0hQB3Cn/z5vClAE2GdTHBYM0CiMNZ567kzQKqVEkBCzxhAvz2Ipxy4L0A=",
        "encoding": "base64",
        "path": [
         "_data",
         0,
         "dimensions",
         8,
         "values",
         "value"
        ]
       },
       {
        "data": "7hD/R761R0C2nR9h0zssQB6/u1H40+U/AAAAAAAAAAD+15Iow7RRQPjrD2nvzA1AKJZz5vn+HEAA632GHxGlP4i7upGpSSZAP4oOBFpkGkCgNSFr82NVQO6kdr6jBgZA8jEsfXWN/z/W5iIoxnIQQJBDZTV4LlNAvB50pQZEH0BdJC3+6XYtQAAAAAAAAFlAAAAAAAAAWUAzUsoAclNQQIWia2bSmldAqQL+0OE4U0AZt3qugN1KQL2zlgzkfkRA4jsqu4q7U0DSAnHAK31DQCS1Dgo5hURAm8NZqnkSTUBWnT4FvEgzQPotk7nJwSNA4lCaOFd0MUAqOvxoeYI3QNCDAR7RfldAbNl32pd7LkBi+Eu6iosnQDc1L6O7RTBAOj7AoYeyNUBHshgin5k0QBJ82hXBTU1Ab3OUGoCZT0CUXA1ytXFRQB0vfoeQfUlAzHUD6eoUPkDuo4j8F444QO+WPV4V8UtALhKpPCOJVUCVadc/EMgzQFLPSOZkYR5ARogqtqo5H0Bnkc8sy44iQDIWo8maLhJANgFzwreqFUAsYMIBRKcuQFS0JAfgqEBA7hD/R761R0C2nR9h0zssQB6/u1H40+U//teSKMO0UUAolnPm+f4cQADrfYYfEaU/7qR2vqMGBkDyMSx9dY3/PzNSygByU1BAhaJrZtKaV0CpAv7Q4ThTQBm3eq6A3UpAvbOWDOR+REDSAnHAK31DQOJQmjhXdDFAKjr8aHmCN0A3NS+ju0UwQEeyGCKfmTRAEnzaFcFNTUAdL36HkH1JQMx1A+nqFD5A7qOI/BeOOEDvlj1eFfFLQC4SqTwjiVVAlWnXPxDIM0BGiCq2qjkfQGeRzyzLjiJAMhajyZouEkA2AXPCt6oVQCxgwgFEpy5AiLu6kalJJkA/ig4EWmQaQKA1IWvzY1VAkENlNXguU0C8HnSlBkQfQF0kLf7pdi1A4jsqu4q7U0AktQ4KOYVEQJvDWap5Ek1AVp0+BbxIM0D6LZO5ycEjQNCDAR7RfldAbNl32pd7LkBi+Eu6iosnQDo+wKGHsjVAb3OUGoCZT0CUXA1ytXFRQFLPSOZkYR5AVLQkB+CoQEA=",
        "encoding": "base64",
        "path": [
         "_data",
         0,
         "line",
         "color",
         "value"
        ]
       }
      ],
      "model_module": "plotlywidget",
      "model_module_version": "^1.1.1",
      "model_name": "FigureModel",
      "state": {
       "_config": {
        "plotlyServerURL": "https://plot.ly"
       },
       "_data": [
        {
         "dimensions": [
          {
           "label": "(L) expand_capacity",
           "name": "expand_capacity",
           "range": [
            0,
            100
           ],
           "values": {
            "dtype": "float64",
            "shape": [
             103
            ]
           }
          },
          {
           "label": "(L) amortization_period",
           "name": "amortization_period",
           "range": [
            31,
            50
           ],
           "values": [
            50,
            50,
            50,
            31,
            50,
            50,
            50,
            50,
            50,
            50,
            50,
            50,
            50,
            50,
            50,
            50,
            50,
            50,
            50,
            50,
            50,
            50,
            50,
            50,
            50,
            50,
            50,
            50,
            50,
            50,
            50,
            50,
            50,
            50,
            50,
            50,
            50,
            50,
            50,
            50,
            50,
            50,
            50,
            50,
            50,
            50,
            50,
            50,
            50,
            50,
            50,
            50,
            50,
            50,
            50,
            50,
            50,
            50,
            50,
            50,
            50,
            50,
            50,
            50,
            50,
            50,
            50,
            50,
            50,
            50,
            50,
            50,
            50,
            50,
            50,
            50,
            50,
            50,
            50,
            50,
            50,
            50,
            50,
            50,
            50,
            50,
            50,
            50,
            50,
            50,
            50,
            50,
            50,
            50,
            50,
            50,
            50,
            50,
            50,
            50,
            50,
            50,
            50
           ]
          },
          {
           "label": "(L) debt_type",
           "name": "debt_type",
           "range": [
            -0.1,
            2.1
           ],
           "ticktext": [
            "",
            "GO Bond",
            "Rev Bond",
            "Paygo",
            ""
           ],
           "tickvals": [
            -0.1,
            0,
            1,
            2,
            2.1
           ],
           "values": {
            "dtype": "float64",
            "shape": [
             103
            ]
           }
          },
          {
           "label": "(L) interest_rate_lock",
           "name": "interest_rate_lock",
           "range": [
            -0.1,
            1.1
           ],
           "ticktext": [
            "",
            "False",
            "True",
            ""
           ],
           "tickvals": [
            -0.1,
            0,
            1,
            1.1
           ],
           "values": {
            "dtype": "float64",
            "shape": [
             103
            ]
           }
          },
          {
           "label": "(M+) Mean Net Benefits",
           "name": "Mean Net Benefits",
           "range": [
            -51.01004311308499,
            95.85503904782264
           ],
           "values": {
            "dtype": "float64",
            "shape": [
             103
            ]
           }
          },
          {
           "label": "(M+) 5%ile Net Benefits",
           "name": "5%ile Net Benefits",
           "range": [
            -335.54513448453326,
            0
           ],
           "values": {
            "dtype": "float64",
            "shape": [
             103
            ]
           }
          },
          {
           "label": "(M-) Possibility of<br>   Negative Net Benefits",
           "name": "Possibility of Negative Net Benefits",
           "range": [
            68.8,
            0
           ],
           "values": {
            "dtype": "float64",
            "shape": [
             103
            ]
           }
          },
          {
           "label": "(M-) 95%ile Capacity<br>   Expansion Cost",
           "name": "95%ile Capacity Expansion Cost",
           "range": [
            402.68038456707336,
            0
           ],
           "values": {
            "dtype": "float64",
            "shape": [
             103
            ]
           }
          },
          {
           "label": "(M+) Expected Time<br>   Savings",
           "name": "Expected Time Savings",
           "range": [
            0,
            20.748225027979323
           ],
           "values": {
            "dtype": "float64",
            "shape": [
             103
            ]
           }
          }
         ],
         "domain": {
          "y": [
           0,
           0.7
          ]
         },
         "labelangle": -90,
         "labelfont": {
          "color": "#AA0000"
         },
         "line": {
          "cmax": 100,
          "cmin": 0,
          "color": {
           "dtype": "float64",
           "shape": [
            103
           ]
          },
          "colorbar": {
           "title": {
            "side": "right",
            "text": "expand_capacity"
           }
          },
          "colorscale": [
           [
            0,
            "#440154"
           ],
           [
            0.1111111111111111,
            "#482878"
           ],
           [
            0.2222222222222222,
            "#3e4989"
           ],
           [
            0.3333333333333333,
            "#31688e"
           ],
           [
            0.4444444444444444,
            "#26828e"
           ],
           [
            0.5555555555555556,
            "#1f9e89"
           ],
           [
            0.6666666666666666,
            "#35b779"
           ],
           [
            0.7777777777777778,
            "#6ece58"
           ],
           [
            0.8888888888888888,
            "#b5de2b"
           ],
           [
            1,
            "#fde725"
           ]
          ],
          "reversescale": true,
          "showscale": true
         },
         "type": "parcoords",
         "uid": "8b447332-61b5-4f53-ac12-7bfea04dabfe"
        }
       ],
       "_js2py_pointsCallback": {},
       "_js2py_restyle": {},
       "_js2py_update": {},
       "_last_layout_edit_id": 1,
       "_layout": {
        "autosize": true,
        "template": {
         "data": {
          "bar": [
           {
            "error_x": {
             "color": "#2a3f5f"
            },
            "error_y": {
             "color": "#2a3f5f"
            },
            "marker": {
             "line": {
              "color": "#E5ECF6",
              "width": 0.5
             }
            },
            "type": "bar"
           }
          ],
          "barpolar": [
           {
            "marker": {
             "line": {
              "color": "#E5ECF6",
              "width": 0.5
             }
            },
            "type": "barpolar"
           }
          ],
          "carpet": [
           {
            "aaxis": {
             "endlinecolor": "#2a3f5f",
             "gridcolor": "white",
             "linecolor": "white",
             "minorgridcolor": "white",
             "startlinecolor": "#2a3f5f"
            },
            "baxis": {
             "endlinecolor": "#2a3f5f",
             "gridcolor": "white",
             "linecolor": "white",
             "minorgridcolor": "white",
             "startlinecolor": "#2a3f5f"
            },
            "type": "carpet"
           }
          ],
          "choropleth": [
           {
            "colorbar": {
             "outlinewidth": 0,
             "ticks": ""
            },
            "type": "choropleth"
           }
          ],
          "contour": [
           {
            "colorbar": {
             "outlinewidth": 0,
             "ticks": ""
            },
            "colorscale": [
             [
              0,
              "#0d0887"
             ],
             [
              0.1111111111111111,
              "#46039f"
             ],
             [
              0.2222222222222222,
              "#7201a8"
             ],
             [
              0.3333333333333333,
              "#9c179e"
             ],
             [
              0.4444444444444444,
              "#bd3786"
             ],
             [
              0.5555555555555556,
              "#d8576b"
             ],
             [
              0.6666666666666666,
              "#ed7953"
             ],
             [
              0.7777777777777778,
              "#fb9f3a"
             ],
             [
              0.8888888888888888,
              "#fdca26"
             ],
             [
              1,
              "#f0f921"
             ]
            ],
            "type": "contour"
           }
          ],
          "contourcarpet": [
           {
            "colorbar": {
             "outlinewidth": 0,
             "ticks": ""
            },
            "type": "contourcarpet"
           }
          ],
          "heatmap": [
           {
            "colorbar": {
             "outlinewidth": 0,
             "ticks": ""
            },
            "colorscale": [
             [
              0,
              "#0d0887"
             ],
             [
              0.1111111111111111,
              "#46039f"
             ],
             [
              0.2222222222222222,
              "#7201a8"
             ],
             [
              0.3333333333333333,
              "#9c179e"
             ],
             [
              0.4444444444444444,
              "#bd3786"
             ],
             [
              0.5555555555555556,
              "#d8576b"
             ],
             [
              0.6666666666666666,
              "#ed7953"
             ],
             [
              0.7777777777777778,
              "#fb9f3a"
             ],
             [
              0.8888888888888888,
              "#fdca26"
             ],
             [
              1,
              "#f0f921"
             ]
            ],
            "type": "heatmap"
           }
          ],
          "heatmapgl": [
           {
            "colorbar": {
             "outlinewidth": 0,
             "ticks": ""
            },
            "colorscale": [
             [
              0,
              "#0d0887"
             ],
             [
              0.1111111111111111,
              "#46039f"
             ],
             [
              0.2222222222222222,
              "#7201a8"
             ],
             [
              0.3333333333333333,
              "#9c179e"
             ],
             [
              0.4444444444444444,
              "#bd3786"
             ],
             [
              0.5555555555555556,
              "#d8576b"
             ],
             [
              0.6666666666666666,
              "#ed7953"
             ],
             [
              0.7777777777777778,
              "#fb9f3a"
             ],
             [
              0.8888888888888888,
              "#fdca26"
             ],
             [
              1,
              "#f0f921"
             ]
            ],
            "type": "heatmapgl"
           }
          ],
          "histogram": [
           {
            "marker": {
             "colorbar": {
              "outlinewidth": 0,
              "ticks": ""
             }
            },
            "type": "histogram"
           }
          ],
          "histogram2d": [
           {
            "colorbar": {
             "outlinewidth": 0,
             "ticks": ""
            },
            "colorscale": [
             [
              0,
              "#0d0887"
             ],
             [
              0.1111111111111111,
              "#46039f"
             ],
             [
              0.2222222222222222,
              "#7201a8"
             ],
             [
              0.3333333333333333,
              "#9c179e"
             ],
             [
              0.4444444444444444,
              "#bd3786"
             ],
             [
              0.5555555555555556,
              "#d8576b"
             ],
             [
              0.6666666666666666,
              "#ed7953"
             ],
             [
              0.7777777777777778,
              "#fb9f3a"
             ],
             [
              0.8888888888888888,
              "#fdca26"
             ],
             [
              1,
              "#f0f921"
             ]
            ],
            "type": "histogram2d"
           }
          ],
          "histogram2dcontour": [
           {
            "colorbar": {
             "outlinewidth": 0,
             "ticks": ""
            },
            "colorscale": [
             [
              0,
              "#0d0887"
             ],
             [
              0.1111111111111111,
              "#46039f"
             ],
             [
              0.2222222222222222,
              "#7201a8"
             ],
             [
              0.3333333333333333,
              "#9c179e"
             ],
             [
              0.4444444444444444,
              "#bd3786"
             ],
             [
              0.5555555555555556,
              "#d8576b"
             ],
             [
              0.6666666666666666,
              "#ed7953"
             ],
             [
              0.7777777777777778,
              "#fb9f3a"
             ],
             [
              0.8888888888888888,
              "#fdca26"
             ],
             [
              1,
              "#f0f921"
             ]
            ],
            "type": "histogram2dcontour"
           }
          ],
          "mesh3d": [
           {
            "colorbar": {
             "outlinewidth": 0,
             "ticks": ""
            },
            "type": "mesh3d"
           }
          ],
          "parcoords": [
           {
            "line": {
             "colorbar": {
              "outlinewidth": 0,
              "ticks": ""
             }
            },
            "type": "parcoords"
           }
          ],
          "scatter": [
           {
            "marker": {
             "colorbar": {
              "outlinewidth": 0,
              "ticks": ""
             }
            },
            "type": "scatter"
           }
          ],
          "scatter3d": [
           {
            "line": {
             "colorbar": {
              "outlinewidth": 0,
              "ticks": ""
             }
            },
            "marker": {
             "colorbar": {
              "outlinewidth": 0,
              "ticks": ""
             }
            },
            "type": "scatter3d"
           }
          ],
          "scattercarpet": [
           {
            "marker": {
             "colorbar": {
              "outlinewidth": 0,
              "ticks": ""
             }
            },
            "type": "scattercarpet"
           }
          ],
          "scattergeo": [
           {
            "marker": {
             "colorbar": {
              "outlinewidth": 0,
              "ticks": ""
             }
            },
            "type": "scattergeo"
           }
          ],
          "scattergl": [
           {
            "marker": {
             "colorbar": {
              "outlinewidth": 0,
              "ticks": ""
             }
            },
            "type": "scattergl"
           }
          ],
          "scattermapbox": [
           {
            "marker": {
             "colorbar": {
              "outlinewidth": 0,
              "ticks": ""
             }
            },
            "type": "scattermapbox"
           }
          ],
          "scatterpolar": [
           {
            "marker": {
             "colorbar": {
              "outlinewidth": 0,
              "ticks": ""
             }
            },
            "type": "scatterpolar"
           }
          ],
          "scatterpolargl": [
           {
            "marker": {
             "colorbar": {
              "outlinewidth": 0,
              "ticks": ""
             }
            },
            "type": "scatterpolargl"
           }
          ],
          "scatterternary": [
           {
            "marker": {
             "colorbar": {
              "outlinewidth": 0,
              "ticks": ""
             }
            },
            "type": "scatterternary"
           }
          ],
          "surface": [
           {
            "colorbar": {
             "outlinewidth": 0,
             "ticks": ""
            },
            "colorscale": [
             [
              0,
              "#0d0887"
             ],
             [
              0.1111111111111111,
              "#46039f"
             ],
             [
              0.2222222222222222,
              "#7201a8"
             ],
             [
              0.3333333333333333,
              "#9c179e"
             ],
             [
              0.4444444444444444,
              "#bd3786"
             ],
             [
              0.5555555555555556,
              "#d8576b"
             ],
             [
              0.6666666666666666,
              "#ed7953"
             ],
             [
              0.7777777777777778,
              "#fb9f3a"
             ],
             [
              0.8888888888888888,
              "#fdca26"
             ],
             [
              1,
              "#f0f921"
             ]
            ],
            "type": "surface"
           }
          ],
          "table": [
           {
            "cells": {
             "fill": {
              "color": "#EBF0F8"
             },
             "line": {
              "color": "white"
             }
            },
            "header": {
             "fill": {
              "color": "#C8D4E3"
             },
             "line": {
              "color": "white"
             }
            },
            "type": "table"
           }
          ]
         },
         "layout": {
          "annotationdefaults": {
           "arrowcolor": "#2a3f5f",
           "arrowhead": 0,
           "arrowwidth": 1
          },
          "colorscale": {
           "diverging": [
            [
             0,
             "#8e0152"
            ],
            [
             0.1,
             "#c51b7d"
            ],
            [
             0.2,
             "#de77ae"
            ],
            [
             0.3,
             "#f1b6da"
            ],
            [
             0.4,
             "#fde0ef"
            ],
            [
             0.5,
             "#f7f7f7"
            ],
            [
             0.6,
             "#e6f5d0"
            ],
            [
             0.7,
             "#b8e186"
            ],
            [
             0.8,
             "#7fbc41"
            ],
            [
             0.9,
             "#4d9221"
            ],
            [
             1,
             "#276419"
            ]
           ],
           "sequential": [
            [
             0,
             "#0d0887"
            ],
            [
             0.1111111111111111,
             "#46039f"
            ],
            [
             0.2222222222222222,
             "#7201a8"
            ],
            [
             0.3333333333333333,
             "#9c179e"
            ],
            [
             0.4444444444444444,
             "#bd3786"
            ],
            [
             0.5555555555555556,
             "#d8576b"
            ],
            [
             0.6666666666666666,
             "#ed7953"
            ],
            [
             0.7777777777777778,
             "#fb9f3a"
            ],
            [
             0.8888888888888888,
             "#fdca26"
            ],
            [
             1,
             "#f0f921"
            ]
           ],
           "sequentialminus": [
            [
             0,
             "#0d0887"
            ],
            [
             0.1111111111111111,
             "#46039f"
            ],
            [
             0.2222222222222222,
             "#7201a8"
            ],
            [
             0.3333333333333333,
             "#9c179e"
            ],
            [
             0.4444444444444444,
             "#bd3786"
            ],
            [
             0.5555555555555556,
             "#d8576b"
            ],
            [
             0.6666666666666666,
             "#ed7953"
            ],
            [
             0.7777777777777778,
             "#fb9f3a"
            ],
            [
             0.8888888888888888,
             "#fdca26"
            ],
            [
             1,
             "#f0f921"
            ]
           ]
          },
          "colorway": [
           "#636efa",
           "#EF553B",
           "#00cc96",
           "#ab63fa",
           "#FFA15A",
           "#19d3f3",
           "#FF6692",
           "#B6E880",
           "#FF97FF",
           "#FECB52"
          ],
          "font": {
           "color": "#2a3f5f"
          },
          "geo": {
           "bgcolor": "white",
           "lakecolor": "white",
           "landcolor": "#E5ECF6",
           "showlakes": true,
           "showland": true,
           "subunitcolor": "white"
          },
          "hoverlabel": {
           "align": "left"
          },
          "hovermode": "closest",
          "mapbox": {
           "style": "light"
          },
          "paper_bgcolor": "white",
          "plot_bgcolor": "#E5ECF6",
          "polar": {
           "angularaxis": {
            "gridcolor": "white",
            "linecolor": "white",
            "ticks": ""
           },
           "bgcolor": "#E5ECF6",
           "radialaxis": {
            "gridcolor": "white",
            "linecolor": "white",
            "ticks": ""
           }
          },
          "scene": {
           "xaxis": {
            "backgroundcolor": "#E5ECF6",
            "gridcolor": "white",
            "gridwidth": 2,
            "linecolor": "white",
            "showbackground": true,
            "ticks": "",
            "zerolinecolor": "white"
           },
           "yaxis": {
            "backgroundcolor": "#E5ECF6",
            "gridcolor": "white",
            "gridwidth": 2,
            "linecolor": "white",
            "showbackground": true,
            "ticks": "",
            "zerolinecolor": "white"
           },
           "zaxis": {
            "backgroundcolor": "#E5ECF6",
            "gridcolor": "white",
            "gridwidth": 2,
            "linecolor": "white",
            "showbackground": true,
            "ticks": "",
            "zerolinecolor": "white"
           }
          },
          "shapedefaults": {
           "line": {
            "color": "#2a3f5f"
           }
          },
          "ternary": {
           "aaxis": {
            "gridcolor": "white",
            "linecolor": "white",
            "ticks": ""
           },
           "baxis": {
            "gridcolor": "white",
            "linecolor": "white",
            "ticks": ""
           },
           "bgcolor": "#E5ECF6",
           "caxis": {
            "gridcolor": "white",
            "linecolor": "white",
            "ticks": ""
           }
          },
          "title": {
           "x": 0.05
          },
          "xaxis": {
           "automargin": true,
           "gridcolor": "white",
           "linecolor": "white",
           "ticks": "",
           "zerolinecolor": "white",
           "zerolinewidth": 2
          },
          "yaxis": {
           "automargin": true,
           "gridcolor": "white",
           "linecolor": "white",
           "ticks": "",
           "zerolinecolor": "white",
           "zerolinewidth": 2
          }
         }
        }
       },
       "_py2js_addTraces": {},
       "_py2js_animate": {},
       "_py2js_deleteTraces": {},
       "_py2js_moveTraces": {},
       "_py2js_removeLayoutProps": {},
       "_py2js_removeTraceProps": {},
       "_py2js_restyle": {},
       "_py2js_update": {},
       "_view_count": 1
      }
     },
     "cadf11bc41154f32ad6bd2e7029e6d5d": {
      "model_module": "@jupyter-widgets/base",
      "model_module_version": "1.2.0",
      "model_name": "LayoutModel",
      "state": {}
     },
     "cce51327254d4ab3859f9cff9a9a34ac": {
      "model_module": "@jupyter-widgets/controls",
      "model_module_version": "1.5.0",
      "model_name": "CheckboxModel",
      "state": {
       "description": "(M+) 5%ile Net Benefits",
       "description_tooltip": "5%ile Net Benefits",
       "disabled": false,
       "layout": "IPY_MODEL_63a4e7e555d24a039f223b91e1ad357c",
       "name": "5%ile Net Benefits",
       "style": "IPY_MODEL_3a4134f67d4b4c50bb745b03711d924d",
       "value": true
      }
     },
     "cdc1364c52ef4928b95410f39ca0e06f": {
      "model_module": "@jupyter-widgets/controls",
      "model_module_version": "1.5.0",
      "model_name": "CheckboxModel",
      "state": {
       "description": "(L) amortization_period",
       "description_tooltip": "amortization_period",
       "disabled": false,
       "layout": "IPY_MODEL_5b5f0aa83177454db973cceacf056f1b",
       "name": "amortization_period",
       "style": "IPY_MODEL_e1c7d28b61084c2db4c30a02f19722c8",
       "value": true
      }
     },
     "d2cdce4b62654644bbe0eda31f8e409a": {
      "model_module": "@jupyter-widgets/controls",
      "model_module_version": "1.5.0",
      "model_name": "CheckboxModel",
      "state": {
       "description": "(X) yield_curve",
       "description_tooltip": "yield_curve",
       "disabled": false,
       "layout": "IPY_MODEL_454f48e8b03b432fbab9b42fab287d6c",
       "name": "yield_curve",
       "style": "IPY_MODEL_22feef2381154dcbac8144283345cbf7",
       "value": true
      }
     },
     "d5893bb0d79d4fa398e5be29684ec442": {
      "model_module": "@jupyter-widgets/controls",
      "model_module_version": "1.5.0",
      "model_name": "DescriptionStyleModel",
      "state": {
       "description_width": ""
      }
     },
     "d753f01a2d7743ebbc294a185425bef3": {
      "model_module": "@jupyter-widgets/base",
      "model_module_version": "1.2.0",
      "model_name": "LayoutModel",
      "state": {}
     },
     "d86f4832c76a448380cf692d52aadc65": {
      "model_module": "@jupyter-widgets/base",
      "model_module_version": "1.2.0",
      "model_name": "LayoutModel",
      "state": {
       "flex_flow": "row wrap"
      }
     },
     "d974c7d5db7b439fba2735191ecd7ee4": {
      "model_module": "@jupyter-widgets/controls",
      "model_module_version": "1.5.0",
      "model_name": "VBoxModel",
      "state": {
       "children": [
        "IPY_MODEL_ee098bfdd2c14cfc9f446967c8ecc8f2",
        "IPY_MODEL_b36d2f85ab7d4c00b3dda34aad7cebd8",
        "IPY_MODEL_88d4f4b5bfe843a69185062b2c663448",
        "IPY_MODEL_762ac37290a24f489952beffe963063b"
       ],
       "layout": "IPY_MODEL_a18a4dc799cc452b9baee5c1b6fdf764"
      }
     },
     "d9826525102c433bb4344c070492ab5f": {
      "model_module": "@jupyter-widgets/controls",
      "model_module_version": "1.5.0",
      "model_name": "DescriptionStyleModel",
      "state": {
       "description_width": ""
      }
     },
     "da8f4af37fd14decab89b632e6b0bb10": {
      "model_module": "@jupyter-widgets/controls",
      "model_module_version": "1.5.0",
      "model_name": "DescriptionStyleModel",
      "state": {
       "description_width": ""
      }
     },
     "deb1aee4454a423b9359522ff89d5c6f": {
      "model_module": "@jupyter-widgets/controls",
      "model_module_version": "1.5.0",
      "model_name": "DropdownModel",
      "state": {
       "_options_labels": [
        "< None >",
        "expand_capacity",
        "amortization_period",
        "debt_type",
        "interest_rate_lock",
        "Mean Net Benefits",
        "5%ile Net Benefits",
        "Possibility of Negative Net Benefits",
        "95%ile Capacity Expansion Cost",
        "Expected Time Savings",
        "99%ile Present Cost"
       ],
       "description": "Colorize:",
       "index": 1,
       "layout": "IPY_MODEL_68e8f62325b346009606998edc31ee52",
       "style": "IPY_MODEL_f2d125764b54404a89a05c1c97ab7e73"
      }
     },
     "e1763523935341d39f8b21f5f6d8ab70": {
      "model_module": "@jupyter-widgets/controls",
      "model_module_version": "1.5.0",
      "model_name": "HBoxModel",
      "state": {
       "children": [
        "IPY_MODEL_927c1ae48f1a432d9ae948b345112582",
        "IPY_MODEL_f36e77911a244523ad9b74eeec8b5ffc"
       ],
       "layout": "IPY_MODEL_876d4595adee47c38edc4ee4c0b5535e"
      }
     },
     "e18264bd52a644b38754ed70073cf7aa": {
      "model_module": "@jupyter-widgets/controls",
      "model_module_version": "1.5.0",
      "model_name": "HTMLModel",
      "state": {
       "layout": "IPY_MODEL_3b3590eeecf64d87a51d5eeef505a5a7",
       "style": "IPY_MODEL_c3cc278e5656441a88ecca5ddd4c7296",
       "value": "\n\t\t\t(M-) Performance Measure to Minimize<br>\n\t\t\t(M+) Performance Measure to Maximize<br>\n\t\t\t(M) Performance Measure without preferred direction<br>\n\t\t\t(L) Policy Lever<br>\n\t\t\t(X) Exogenous Uncertainty\n\t\t"
      }
     },
     "e1c7d28b61084c2db4c30a02f19722c8": {
      "model_module": "@jupyter-widgets/controls",
      "model_module_version": "1.5.0",
      "model_name": "DescriptionStyleModel",
      "state": {
       "description_width": ""
      }
     },
     "e3af8f0fcfda44199cee867f6ece167b": {
      "model_module": "@jupyter-widgets/base",
      "model_module_version": "1.2.0",
      "model_name": "LayoutModel",
      "state": {}
     },
     "e47e7abf16eb4fc58175f73e69485d04": {
      "model_module": "@jupyter-widgets/controls",
      "model_module_version": "1.5.0",
      "model_name": "CheckboxModel",
      "state": {
       "description": "(M+) Mean Net Benefits",
       "description_tooltip": "Mean Net Benefits",
       "disabled": false,
       "layout": "IPY_MODEL_c750cbd5efd64b60b4d65d7165e445e5",
       "name": "Mean Net Benefits",
       "style": "IPY_MODEL_6951e04071a649eb905d6f0e039d30a0",
       "value": true
      }
     },
     "e52807d95faf4e7eb9fb3b2e6ab41ae3": {
      "model_module": "@jupyter-widgets/base",
      "model_module_version": "1.2.0",
      "model_name": "LayoutModel",
      "state": {
       "flex_flow": "row wrap"
      }
     },
     "ed24d3b364ff4fd6b985766c58802a79": {
      "model_module": "@jupyter-widgets/controls",
      "model_module_version": "1.5.0",
      "model_name": "DescriptionStyleModel",
      "state": {
       "description_width": ""
      }
     },
     "ee098bfdd2c14cfc9f446967c8ecc8f2": {
      "buffers": [
       {
        "data": "QnDL1t4BSUAAJq1MMwAYQE38DWvPSUFAVUbltOMoLEAB08m/oJQHQDng/////1hAd3oDxwgs0D9MK/zICwNUQCeTLclNqlRAAAAAAAAAAAAAAAAAAABZQHJM9BC82BVAbTGCuEjGN0AM+WeX5IwzQGHzfk9qJz5AizdDV3XcSkAh1tK6GEtVQC6E6N/sfFZAZOvlBQlSJUDyMHMG4IREQKzJIyj+71VAIA9zhRRZNEBcZcu+W3wsQDhSVK2pYztAZeEQKuCTOUAYiZJCkFFJQKqRupUn4DhARp4rp8JTGkA8KhtWwRI2QLNrUH6cPwhAID1Cp98D7D9Jv9f9l6QCQLeFk3QjmFJApDUySqmi8j8UW05JVofkP+CSbZNRDL8/EP9EzqObxj8KPUnlgOYgQKhVEopoW/s/GMSW0K3T4j8i3FlQqcXxP5ihHTz6Tx1A0E4o5GkAIUBU2Cin5IMRQHvP1D/x9xtAz/MxFfAQ3j8AXDfnYmt2P4oKkIhogqw/mCi79ArGDUC2z4mfL3kgQLAadLY7yuc/+J2F+LIJ1j+rtka6oS8kQB6p8y4TBf4/LVTRLupOMUC7jLYBDWQLQEBdx0rumbM/xu+5kJxgRUA+ncZmTO4mQFgUmmzTBNE/NPI5EXFXMECU7QKwYNkQQLRjqSF/Pf8/INGfBT1t1D/We0fSV2L3P8ABRzUVLds/wQNHYJvzCEBmVn5CfUruPyCq8NdYoTFAEk4SQAWiV0DGOnL+sQc6QMwWHF9N5TBAFWL+fTEQR0DnrFRsWM4pQHT+M4TPnU9AEwLuHrOaIkChL5G3/DRMQIky2A0MOxxA3Y1B5/B5UUC+9tXM1IFMQNohAZYIhENAx5iXH5fnT0DSX3RvvY0wQI0VPbphAUxAgZPU9veaSUA=",
        "encoding": "base64",
        "path": [
         "_data",
         0,
         "dimensions",
         0,
         "values",
         "value"
        ]
       },
       {
        "data": "6CNY5MdK/z+w3aF0wF4AQGgdJ7ycRgBA7Qj1FkEyAEDn7KrlVA4AQGrND7a3AABAw/73HK/k/z9p2E9WExEAQClgKYm6QgBAV6yqSlhW/z8nrkBR+i8AQPEIVb6IOgBApJEJBDyC/z/zd1vgADX/P3jvJwY2gf8/PHsq+a+j/z+b6QkgOPD/P2TLx4DfSABAesZ7YitSAEDTvtsIdSgAQOMVzCGQt/8/fRL7iucyAEALqeLTfKT/P4rQI1Wekf8/NI/Q/SSA/z/uj11wB3T/P3o40B9lWQBAili9pcIbAEABN/KUllIAQKQBIuAPgP8/ou4vkr9y/z+A2AOYqiEAQE2/3U0uPf8/haUR8VwKAEBZ8jjvTB4AQBtovALoHQBAuErHA47q/z+/CGFXSE//P/BAHVHv+/8/6HpplyVAAEAseOHlV1MAQGye4R7RDQBAN045jvUzAEAF6dmj/WT/P5NA/7GuSP8/agnUzjEdAECdrgVKLRwAQOEF/1OQCABACsW3rjxgAEDqF6dkEyMAQALwQ0NZGgBADC6doToDAECIeeaCTPT/Pw95D8WWtv8/XtoO2iOa/z/ukWZR4w4AQB1e3dlWWgBAlUbhxRMGAEB1yh6YFyYAQEm7ElgTxv8/V/7IF55dAEDMl2y+AxMAQA6oO4Qn8/8/ibSDHUJRAECs02mGYeT/P6eP+UQUZgBAHXCxnwc0/z/ULhHATyIAQGsrUNOX7P8/xGGKbhsNAECaUmmkBVL/P6P5VvGGz/8/skQIbxgqAEA0JaS63goAQJ/x6wPl1v8/tgREJA3J/z9f2P6Hsy4AQOJTKNdiOv8/AqmiGuz3/z/kMALlQvL/PxIuyHRl2P8/UcOShyYdAEB3WdrWob3/P7KQ4vVV9P8/Ry2MQAlkAEA=",
        "encoding": "base64",
        "path": [
         "_data",
         0,
         "dimensions",
         2,
         "values",
         "value"
        ]
       },
       {
        "data": "NyzrN6Yr7z++7TZMmQ/wPwrnlkZUBKk/7J2BT/O97j8hkL+TTq3uPyrEeE1z+5W/V+c0OhJRnb9Ml2uzBorvP+Co5gxN95S/Brv4Oq/U7j+4DPUwzYXwP9E/LlE1QPA/P0Ef4oBs8D8EiRWogY3wP7KDyyW50+4/Cn1fCOd08D+Q3VQofGjuP4EciFvHOfA/MDZT6we18D8U3LfWhrbuPzPjgQsdPO8/pokYi21/8D9475rXTpmgv7isTpNaXYa/qHlGcPAupL+SVRojVOGgP+JvqayXHaG/qJymUjEtlz9Wkh6Ze+GgvzRhFCz2de4/RK+nfmg0kb+qK7ia1ErvP5YzETZuNqc/myvXXbcl8D801Xoyzi+YP8z92bv3LPA/FnT8oI8Xob8Yz8b8G2yXP7c0gvS/nJq/bA5E9+wjpL9YaTqEB3Z1v4zVRiSyoqG/fqzRk6XA8D9UoirR6fyfv8VM/n+ZU/A/14y0wFzHnb946yh1Nq+NP+D5kfkhEJQ/yiqsueZ9pL9fUPMX8lnwP9wwq27pu/A/HTU/X2Bl8D/MK84aQAOZP1w1Tqmbh+4/BLHAYWjJ8D8wOUbNRgunP/x7M8xzdI6/tBDNh6e8pL8MxxohUheNv/qFiSAocKg/kMnzpV4u8D/OoUjpWtTvP5SkN8TSWpy/2J4c/C21mz84C00BjUulv6iutr9nvYe/tjizkza97j85TtZ776XuP3gKoGWyiaE/BkzWFOJ7oz+OVczhmIKSvytXrbiwnPA/4GEccntLnr9M9R39Vp3vP/01CsIFU/A/bBtjGZVo8D+FNh6qjknwPwn1u7CA8u4/RWO6bqoZ7z+9sqePlN/uP68emRsCsPA/6ifojcYSoz+gi1Kcz4KRPyhKSPqdzoi/Jp6/Rfk1pj8=",
        "encoding": "base64",
        "path": [
         "_data",
         0,
         "dimensions",
         3,
         "values",
         "value"
        ]
       },
       {
        "data": "m7L4hnfjTkDcMscZPshQQCtwqC03X09A+zD/kRVUUEBEXfDUzwBRQLcAAAAASE5A+uGb9DY6UUAy7c+Vn21OQIIHf6h7Z05AAAAAAABAUUD//////0dOQEIHpCii0VBAEcdLUtPqT0Drofj5+hlQQEZdxylxkU9AfcgZdU3OTkCng+vs+mFOQBAbKJB8WE5AP1rxTxyAUECWiGexJCNPQE1vrSa2XE5A1oFcPZQSUECDMwqvJVJQQOK2zSxxtU9ARuW4qjzPT0BawG/Eut9OQFyevgC+2U9A37GffV2+UECdRgfcYQNQQHRZtdUm/1BAu0PuUUMsUUB0CB3aSw1RQIhCRtaXfE5Ax4intu0lUUDhX5sSdDFRQOJjptA2PVFA2mIHz/I7UUDsMNkEZKBQQGHJBd07GlFAij8TR6QyUUAfjqNzGidRQPbBZDIUslBA1cfoSZ2fUECMq3k0QuVQQLVx0ZKOt1BA3G2ZV001UUC1Gmq43z9RQPk7Pwe4PlFAENlgQazxUEDMmqObr6NQQD4xolUvL1FAK3lKWiI4UUB81NBwFohQQJJTQri5FlFAdhgcCSowUECM4n09bvdQQBYy1z89PlFAMV/4r2MVT0DZ9+agIXVQQChyIerpOVFAyAauc2Y6UEC+1RcbXuhQQP7DNocgFVFAGwldZrQ4UUBrdDOohR9RQCpTQtBRNlFAO3kdS2n9UECbFu9usipRQEcdn+3YLFBAWAssl3FQTkA4F+37nshPQHCr3xZ7NFBASoFG86j8TkC8ouWpfGJQQOiK2YpDok5AhzntQo+TUECZJtridsBOQFuQ4k57tlBAimnPrzyKTkC1Udilib1OQKZYE4VRNE9A/A+28/2fTkBmmzQtHjhQQMmQKyx2wk5ADvS/0lrcTkA=",
        "encoding": "base64",
        "path": [
         "_data",
         0,
         "dimensions",
         4,
         "values",
         "value"
        ]
       },
       {
        "data": "KGs6yEPkHEAASTOOefD9P6h+vJJGBhlAoOAZwE19DUAAXtGHFZjvPyT9////3yBAABh4kC0ktz84S8CogUkgQPjhA14RYiBAAAAAAAAAAAAEAAAAAOAgQIAv/tZ1l/s/eMehbWWpFEBQ4XVgUGASQNAVxbF2dBdAGLwxV5SNHUBk8VFMFHggQMCTX78NniBAILjUAXb8B0BQu8N02uYaQMxCSmUnjSBAoOI3KrzWEkCgj7keSrsNQPBIkpl2VBZA0NU4qhqGFUAw/YHcKQIdQCANC/oPMhVAIMQJTFA0AEAwlos/4skTQACjqZJKNvA/AEW8Ea680z8AxnvxElrpP+D15qagDSBAADl3WEkS2j8APkDJ2hfNPwDw4Mx6SaY/AJh04sM0sD+A4tlkf/MDQIBPG30R4uI/AOyA2XG3yj8A4XFcjOXYP0DBZ7N5vQFAYAXnwlYMBEAAHZXhcq/2P2DJ0aUtDgFAAEgkzVBlxT8AgKXyyiNgPwBwQAyMf5Q/ALzJp++U8z+ApoyLDIoDQADCzl2q0NA/AFQb1pZ2vz+AcOXlMf0GQAA31t4jo+Q/oHg+bl/9EEAAXYegcCTyPwCg3owCLJw/eAY9gOJUG0DgBCHjy1sJQABgN3pXWLg/gJMfxZhZEECAkAo6eej1PwABnmS8b+U/AJTbi2YuvT+AykXmKz3gPwCsWXtfXMM/QLGhOK2l8D8AZekQkU3VP5ArDiZxMhFAoNJPozm+IEBARpcgCLsVQABJBZJOuBBAsPXLZbgaHECAqEvDarALQMCoM6nj7R5AIM9YoheOBUA4yy7pSPwdQKD0rSOWMAFAsLOEgRquH0BYcj3RshMeQNA6ZddzXRpAIIBPYhAAH0CgSbYsHX4QQLh5o55O7B1AkF8AaikdHUA=",
        "encoding": "base64",
        "path": [
         "_data",
         0,
         "dimensions",
         5,
         "values",
         "value"
        ]
       },
       {
        "data": "dsS2i/8VS0BvFFD1cREsQL22kCnidUdAlkIY5HilO0AgSFQvlJ4dQKP6////o09AgJZwt+qx5T8JjWgc04lOQLFHR5Dgt05AAAAAAAAAAAAIAAAAAKRPQIhMjnn+3SlAAavHFs9eQ0A7g25aSzpBQHPEqEYv/UVAVqC+Ebu0S0CcpBkPJuFOQAc108ZZKE9Anmy3oa58NkCbf3fNbDhJQD49692pCE9AdmSUZ1CpQUCm9s18ld87QGEk+S8v70RAc0iV/7gtREBd3bk+BzJLQE5cavru3kNAvE+SjhZiLkDN3JIbRI1CQJ8R/tLLZR5AsICgMOOAAkCgCWTCccQXQAQN8TiNGU5AcMXvwiRxCEAgOqwcXUb7PwDhEiDj5NQ//5yaSO9i3j9YRIxuR7QyQIiaSWXwsxFAQN3ou/oL+T/wwqqWM1cHQCxFMRiioTBACpW4VpHLMkAwy3uze0QlQJNZ6ZaV+i9AgANSwPsO9D//T/aGHEOOPwBpfEuTN8M/QCBNraBbIkAY3NPCa1EyQL+r428/h/8/v565aC1/7T94GYfHXo01QJDT6KDxWBNALCK17hLbP0Aw536WKQIhQP+1EGRCaco/EDY5WJSfSUCS9O4kD8Y3QADqkwLS0uY/kDSbcf6nPkB452mm8YkkQPAgVJ7AGBRAwNodI4Bb6z+w28JPsnIOQEARpIOZJvI/VywvyqQ2H0Cwztr/t/gDQNdIrRNKH0BA7Ko1EqxkT0Dc0Y2eV19EQN/oyVGTWT9AVTZv3wxZSkD47RYXZPU5QDNuoG4F/0xALkIzKDY1NECE3ptahBxMQFYVc8GMHTBAdWhs2TizTUAymymkdzJMQCPn7pmct0hAHYgqXA8QTUAMytWzduw+QBxCubSJDUxAlllg01ZLS0A=",
        "encoding": "base64",
        "path": [
         "_data",
         0,
         "dimensions",
         6,
         "values",
         "value"
        ]
       },
       {
        "data": "/I4m+HVbUsDYXPpBkmL0v/eRdy2RpUTACPtUu+aMIMDAmR31t329v48E6uoS+2fA4MCBHs4LoT8LLltHsORhwD2dRx+JrmLAAAAAAAAAAAASOYBz0kVowFBgMdRrAvC/pKPGpifqNcD0vjgchdguwHVpRcv7eUDAhX3GCH9pVMChVje0VHFjwJyIiBio5WTAOKJo9yXXEsBDHhEJGCFLwFwNBL7MOWTArHupayiXMMAMVaY9oe0gwOaa/EhMAjzAxiGAQPnlOMAIIf7qGrNSwA5fcNcIuTfAsIzyEiyb+b886ppwFjYzwICvNEuCG8G/wC1X9yFRtD8A2H3CajRtv9XfsZfRMWDAQE/gTnBwtT8wo1pXa2exP7AkRYfedJE/EJF8BSjAmD8oHOm2ItYGwECqh9NhQrA/IJN/ACJ9sD8gm1gEl2+1PwgLuYJThADAuOGyyj0kB8DA57pUWzXhv7i0cd0yl/2/4OhDxYs3rD+gfyfx2JtKP+A6CFRGiIA/QCvmizc71L8AE1TKZ5EFwPCsHNMt5bI/wCaPkrcmpj+ow/tGmcoQwIBCSBaeoak/5NJrpMyaKMAAGzmbG5DNv3DK4RJBg4Y/fBnhFYzqTMCEGBF4O+kVwMBJOC6B0aE/bGLbazcSJsAAAzvwdovevwB6bLvG5qU/IOGVlUnOpD8gFUG+jcmzP4BlPdnXJ6o/oF4qaeCzw7+ANVrZcNi0P0RGEIBneCnAM+kPkHVMZsCwg47SOKo5wD5eHkrngifAcF2eYxQ/UMC4nGNentcbwJbQWwBA1VnAuJkzDhkyDMC+rFa9GO1VwBCdk8fiP/6/IB2NY6K8XcBjMSmGJURWwIGe5VuiEknAdEtbwtgqWsCc14wsVp4mwCCXeqTBslXAWXkdgxYEU8A=",
        "encoding": "base64",
        "path": [
         "_data",
         0,
         "dimensions",
         7,
         "values",
         "value"
        ]
       },
       {
        "data": "N/EBvnXmX0AKYI89xJ0uQFokhKu5DVZADWDhIPb1QUCHvigPixQeQDgD6uoS5G9AcnqI1S2h5D9NUXUOJYdpQClvWUOBXGpAAAAAAAAAAACKHMA5aRdwQJJ4FPRL3itA0/wq6uJTTkD4snyhbPBIQPQW94iVO1NA2ObSSO4hYUDIv/03nilrQN5VPYq+r2xALJWRH3gyO0DvTkRrwixaQKvcfjX3+2tATCJpneT0SUCWkNANMytCQOq4O6oqeFFAq6zqz1pQUEDbhy1FDyZgQNWLImZzu09AqVB4CL7KMEDrUeBTTyhMQBu3V+Wn7h5AQsflIFreAUBbWbxPGMgXQBYj7uU0uGdA9sJ4QKHFB0DtjzZn5i/6P7WOnjeVzdM/7tNCyOzW3D/dZ2nFC481QN97+93mchFADuTgmygE+D8X/ofetqsGQI1miIgssjJAQfEOEBmwNUCsecdo0VcmQBXIS/m91jFAOeQnYj8t8z8F2OP3XpmMP1LlO+YOL8I/mlGsaXr9IkB4Xh68mAM1QPDgsZLsWP4/U6yQ78Ec7D9iCkYZBcA5QAtDvGSuJRNAz4V1oDwURkCcy+sEanghQFiZ4lIOAck/xicNNxBFW0CzOvMCXkA9QGRlsO+5teU/43LEE43YRECQv+tdTX4lQPxH3RDz7BNArnzEiZsO6j8H09DhZdQNQBQm2sRaVfE/TH94zUPUH0AE/Q959FEDQGhasfNjfUZA7lOdlKAlbkDaieoDOppQQP+LbHuDjUVAm/hV05prXUCT6lfXpXVAQNgD1lthKmRAZbX5SXm7N0AATlJ1rf1hQCdP7O2KATJAraghaB9LZkB+/x6ssC5iQNJC6nof5VhAwUc4OHBZZEDtGg7l0B1FQBecaz/D3GFAEtNm9uBUYEA=",
        "encoding": "base64",
        "path": [
         "_data",
         0,
         "dimensions",
         8,
         "values",
         "value"
        ]
       },
       {
        "data": "QnDL1t4BSUAAJq1MMwAYQE38DWvPSUFAVUbltOMoLEAB08m/oJQHQDng/////1hAd3oDxwgs0D9MK/zICwNUQCeTLclNqlRAAAAAAAAAAAAAAAAAAABZQHJM9BC82BVAbTGCuEjGN0AM+WeX5IwzQGHzfk9qJz5AizdDV3XcSkAh1tK6GEtVQC6E6N/sfFZAZOvlBQlSJUDyMHMG4IREQKzJIyj+71VAIA9zhRRZNEBcZcu+W3wsQDhSVK2pYztAZeEQKuCTOUAYiZJCkFFJQKqRupUn4DhARp4rp8JTGkA8KhtWwRI2QLNrUH6cPwhAID1Cp98D7D9Jv9f9l6QCQLeFk3QjmFJApDUySqmi8j8UW05JVofkP+CSbZNRDL8/EP9EzqObxj8KPUnlgOYgQKhVEopoW/s/GMSW0K3T4j8i3FlQqcXxP5ihHTz6Tx1A0E4o5GkAIUBU2Cin5IMRQHvP1D/x9xtAz/MxFfAQ3j8AXDfnYmt2P4oKkIhogqw/mCi79ArGDUC2z4mfL3kgQLAadLY7yuc/+J2F+LIJ1j+rtka6oS8kQB6p8y4TBf4/LVTRLupOMUC7jLYBDWQLQEBdx0rumbM/xu+5kJxgRUA+ncZmTO4mQFgUmmzTBNE/NPI5EXFXMECU7QKwYNkQQLRjqSF/Pf8/INGfBT1t1D/We0fSV2L3P8ABRzUVLds/wQNHYJvzCEBmVn5CfUruPyCq8NdYoTFAEk4SQAWiV0DGOnL+sQc6QMwWHF9N5TBAFWL+fTEQR0DnrFRsWM4pQHT+M4TPnU9AEwLuHrOaIkChL5G3/DRMQIky2A0MOxxA3Y1B5/B5UUC+9tXM1IFMQNohAZYIhENAx5iXH5fnT0DSX3RvvY0wQI0VPbphAUxAgZPU9veaSUA=",
        "encoding": "base64",
        "path": [
         "_data",
         0,
         "line",
         "color",
         "value"
        ]
       }
      ],
      "model_module": "plotlywidget",
      "model_module_version": "^1.1.1",
      "model_name": "FigureModel",
      "state": {
       "_config": {
        "plotlyServerURL": "https://plot.ly"
       },
       "_data": [
        {
         "dimensions": [
          {
           "label": "(L) expand_capacity",
           "name": "expand_capacity",
           "range": [
            0,
            100
           ],
           "values": {
            "dtype": "float64",
            "shape": [
             85
            ]
           }
          },
          {
           "label": "(L) amortization_period",
           "name": "amortization_period",
           "range": [
            47,
            50
           ],
           "values": [
            50,
            50,
            50,
            50,
            50,
            50,
            50,
            50,
            50,
            47,
            49,
            50,
            50,
            50,
            50,
            50,
            50,
            50,
            50,
            50,
            50,
            50,
            50,
            50,
            50,
            50,
            50,
            50,
            50,
            50,
            50,
            50,
            50,
            50,
            50,
            50,
            50,
            50,
            50,
            50,
            50,
            50,
            50,
            50,
            50,
            50,
            50,
            50,
            50,
            50,
            50,
            50,
            50,
            50,
            50,
            50,
            50,
            50,
            50,
            50,
            50,
            50,
            50,
            50,
            50,
            50,
            50,
            50,
            50,
            50,
            50,
            50,
            50,
            50,
            50,
            50,
            50,
            50,
            50,
            50,
            50,
            50,
            50,
            50,
            50
           ]
          },
          {
           "label": "(L) debt_type",
           "name": "debt_type",
           "range": [
            -0.1,
            2.1
           ],
           "ticktext": [
            "",
            "GO Bond",
            "Rev Bond",
            "Paygo",
            ""
           ],
           "tickvals": [
            -0.1,
            0,
            1,
            2,
            2.1
           ],
           "values": {
            "dtype": "float64",
            "shape": [
             85
            ]
           }
          },
          {
           "label": "(L) interest_rate_lock",
           "name": "interest_rate_lock",
           "range": [
            -0.1,
            1.1
           ],
           "ticktext": [
            "",
            "False",
            "True",
            ""
           ],
           "tickvals": [
            -0.1,
            0,
            1,
            1.1
           ],
           "values": {
            "dtype": "float64",
            "shape": [
             85
            ]
           }
          },
          {
           "label": "(M-) build_travel_time",
           "name": "build_travel_time",
           "range": [
            69,
            60.56249999999999
           ],
           "values": {
            "dtype": "float64",
            "shape": [
             85
            ]
           }
          },
          {
           "label": "(M+) time_savings",
           "name": "time_savings",
           "range": [
            0,
            8.437500000000007
           ],
           "values": {
            "dtype": "float64",
            "shape": [
             85
            ]
           }
          },
          {
           "label": "(M+)<br>   value_of_time_savings",
           "name": "value_of_time_savings",
           "range": [
            0,
            63.28125000000006
           ],
           "values": {
            "dtype": "float64",
            "shape": [
             85
            ]
           }
          },
          {
           "label": "(M+) net_benefits",
           "name": "net_benefits",
           "range": [
            -194.181939840732,
            0.08374692846001341
           ],
           "values": {
            "dtype": "float64",
            "shape": [
             85
            ]
           }
          },
          {
           "label": "(M-) cost_of_capacity_ex<br>   pansion",
           "name": "cost_of_capacity_expansion",
           "range": [
            257.46318984073207,
            0
           ],
           "values": {
            "dtype": "float64",
            "shape": [
             85
            ]
           }
          }
         ],
         "domain": {
          "y": [
           0,
           0.7
          ]
         },
         "labelangle": -90,
         "labelfont": {
          "color": "#AA0000"
         },
         "line": {
          "cmax": 100,
          "cmin": 0,
          "color": {
           "dtype": "float64",
           "shape": [
            85
           ]
          },
          "colorbar": {
           "title": {
            "side": "right",
            "text": "expand_capacity"
           }
          },
          "colorscale": [
           [
            0,
            "#440154"
           ],
           [
            0.1111111111111111,
            "#482878"
           ],
           [
            0.2222222222222222,
            "#3e4989"
           ],
           [
            0.3333333333333333,
            "#31688e"
           ],
           [
            0.4444444444444444,
            "#26828e"
           ],
           [
            0.5555555555555556,
            "#1f9e89"
           ],
           [
            0.6666666666666666,
            "#35b779"
           ],
           [
            0.7777777777777778,
            "#6ece58"
           ],
           [
            0.8888888888888888,
            "#b5de2b"
           ],
           [
            1,
            "#fde725"
           ]
          ],
          "reversescale": true,
          "showscale": true
         },
         "type": "parcoords",
         "uid": "058c1a37-2181-42d1-ab62-74d4377b9f32"
        }
       ],
       "_js2py_pointsCallback": {},
       "_js2py_restyle": {},
       "_js2py_update": {},
       "_last_layout_edit_id": 1,
       "_layout": {
        "autosize": true,
        "template": {
         "data": {
          "bar": [
           {
            "error_x": {
             "color": "#2a3f5f"
            },
            "error_y": {
             "color": "#2a3f5f"
            },
            "marker": {
             "line": {
              "color": "#E5ECF6",
              "width": 0.5
             }
            },
            "type": "bar"
           }
          ],
          "barpolar": [
           {
            "marker": {
             "line": {
              "color": "#E5ECF6",
              "width": 0.5
             }
            },
            "type": "barpolar"
           }
          ],
          "carpet": [
           {
            "aaxis": {
             "endlinecolor": "#2a3f5f",
             "gridcolor": "white",
             "linecolor": "white",
             "minorgridcolor": "white",
             "startlinecolor": "#2a3f5f"
            },
            "baxis": {
             "endlinecolor": "#2a3f5f",
             "gridcolor": "white",
             "linecolor": "white",
             "minorgridcolor": "white",
             "startlinecolor": "#2a3f5f"
            },
            "type": "carpet"
           }
          ],
          "choropleth": [
           {
            "colorbar": {
             "outlinewidth": 0,
             "ticks": ""
            },
            "type": "choropleth"
           }
          ],
          "contour": [
           {
            "colorbar": {
             "outlinewidth": 0,
             "ticks": ""
            },
            "colorscale": [
             [
              0,
              "#0d0887"
             ],
             [
              0.1111111111111111,
              "#46039f"
             ],
             [
              0.2222222222222222,
              "#7201a8"
             ],
             [
              0.3333333333333333,
              "#9c179e"
             ],
             [
              0.4444444444444444,
              "#bd3786"
             ],
             [
              0.5555555555555556,
              "#d8576b"
             ],
             [
              0.6666666666666666,
              "#ed7953"
             ],
             [
              0.7777777777777778,
              "#fb9f3a"
             ],
             [
              0.8888888888888888,
              "#fdca26"
             ],
             [
              1,
              "#f0f921"
             ]
            ],
            "type": "contour"
           }
          ],
          "contourcarpet": [
           {
            "colorbar": {
             "outlinewidth": 0,
             "ticks": ""
            },
            "type": "contourcarpet"
           }
          ],
          "heatmap": [
           {
            "colorbar": {
             "outlinewidth": 0,
             "ticks": ""
            },
            "colorscale": [
             [
              0,
              "#0d0887"
             ],
             [
              0.1111111111111111,
              "#46039f"
             ],
             [
              0.2222222222222222,
              "#7201a8"
             ],
             [
              0.3333333333333333,
              "#9c179e"
             ],
             [
              0.4444444444444444,
              "#bd3786"
             ],
             [
              0.5555555555555556,
              "#d8576b"
             ],
             [
              0.6666666666666666,
              "#ed7953"
             ],
             [
              0.7777777777777778,
              "#fb9f3a"
             ],
             [
              0.8888888888888888,
              "#fdca26"
             ],
             [
              1,
              "#f0f921"
             ]
            ],
            "type": "heatmap"
           }
          ],
          "heatmapgl": [
           {
            "colorbar": {
             "outlinewidth": 0,
             "ticks": ""
            },
            "colorscale": [
             [
              0,
              "#0d0887"
             ],
             [
              0.1111111111111111,
              "#46039f"
             ],
             [
              0.2222222222222222,
              "#7201a8"
             ],
             [
              0.3333333333333333,
              "#9c179e"
             ],
             [
              0.4444444444444444,
              "#bd3786"
             ],
             [
              0.5555555555555556,
              "#d8576b"
             ],
             [
              0.6666666666666666,
              "#ed7953"
             ],
             [
              0.7777777777777778,
              "#fb9f3a"
             ],
             [
              0.8888888888888888,
              "#fdca26"
             ],
             [
              1,
              "#f0f921"
             ]
            ],
            "type": "heatmapgl"
           }
          ],
          "histogram": [
           {
            "marker": {
             "colorbar": {
              "outlinewidth": 0,
              "ticks": ""
             }
            },
            "type": "histogram"
           }
          ],
          "histogram2d": [
           {
            "colorbar": {
             "outlinewidth": 0,
             "ticks": ""
            },
            "colorscale": [
             [
              0,
              "#0d0887"
             ],
             [
              0.1111111111111111,
              "#46039f"
             ],
             [
              0.2222222222222222,
              "#7201a8"
             ],
             [
              0.3333333333333333,
              "#9c179e"
             ],
             [
              0.4444444444444444,
              "#bd3786"
             ],
             [
              0.5555555555555556,
              "#d8576b"
             ],
             [
              0.6666666666666666,
              "#ed7953"
             ],
             [
              0.7777777777777778,
              "#fb9f3a"
             ],
             [
              0.8888888888888888,
              "#fdca26"
             ],
             [
              1,
              "#f0f921"
             ]
            ],
            "type": "histogram2d"
           }
          ],
          "histogram2dcontour": [
           {
            "colorbar": {
             "outlinewidth": 0,
             "ticks": ""
            },
            "colorscale": [
             [
              0,
              "#0d0887"
             ],
             [
              0.1111111111111111,
              "#46039f"
             ],
             [
              0.2222222222222222,
              "#7201a8"
             ],
             [
              0.3333333333333333,
              "#9c179e"
             ],
             [
              0.4444444444444444,
              "#bd3786"
             ],
             [
              0.5555555555555556,
              "#d8576b"
             ],
             [
              0.6666666666666666,
              "#ed7953"
             ],
             [
              0.7777777777777778,
              "#fb9f3a"
             ],
             [
              0.8888888888888888,
              "#fdca26"
             ],
             [
              1,
              "#f0f921"
             ]
            ],
            "type": "histogram2dcontour"
           }
          ],
          "mesh3d": [
           {
            "colorbar": {
             "outlinewidth": 0,
             "ticks": ""
            },
            "type": "mesh3d"
           }
          ],
          "parcoords": [
           {
            "line": {
             "colorbar": {
              "outlinewidth": 0,
              "ticks": ""
             }
            },
            "type": "parcoords"
           }
          ],
          "scatter": [
           {
            "marker": {
             "colorbar": {
              "outlinewidth": 0,
              "ticks": ""
             }
            },
            "type": "scatter"
           }
          ],
          "scatter3d": [
           {
            "line": {
             "colorbar": {
              "outlinewidth": 0,
              "ticks": ""
             }
            },
            "marker": {
             "colorbar": {
              "outlinewidth": 0,
              "ticks": ""
             }
            },
            "type": "scatter3d"
           }
          ],
          "scattercarpet": [
           {
            "marker": {
             "colorbar": {
              "outlinewidth": 0,
              "ticks": ""
             }
            },
            "type": "scattercarpet"
           }
          ],
          "scattergeo": [
           {
            "marker": {
             "colorbar": {
              "outlinewidth": 0,
              "ticks": ""
             }
            },
            "type": "scattergeo"
           }
          ],
          "scattergl": [
           {
            "marker": {
             "colorbar": {
              "outlinewidth": 0,
              "ticks": ""
             }
            },
            "type": "scattergl"
           }
          ],
          "scattermapbox": [
           {
            "marker": {
             "colorbar": {
              "outlinewidth": 0,
              "ticks": ""
             }
            },
            "type": "scattermapbox"
           }
          ],
          "scatterpolar": [
           {
            "marker": {
             "colorbar": {
              "outlinewidth": 0,
              "ticks": ""
             }
            },
            "type": "scatterpolar"
           }
          ],
          "scatterpolargl": [
           {
            "marker": {
             "colorbar": {
              "outlinewidth": 0,
              "ticks": ""
             }
            },
            "type": "scatterpolargl"
           }
          ],
          "scatterternary": [
           {
            "marker": {
             "colorbar": {
              "outlinewidth": 0,
              "ticks": ""
             }
            },
            "type": "scatterternary"
           }
          ],
          "surface": [
           {
            "colorbar": {
             "outlinewidth": 0,
             "ticks": ""
            },
            "colorscale": [
             [
              0,
              "#0d0887"
             ],
             [
              0.1111111111111111,
              "#46039f"
             ],
             [
              0.2222222222222222,
              "#7201a8"
             ],
             [
              0.3333333333333333,
              "#9c179e"
             ],
             [
              0.4444444444444444,
              "#bd3786"
             ],
             [
              0.5555555555555556,
              "#d8576b"
             ],
             [
              0.6666666666666666,
              "#ed7953"
             ],
             [
              0.7777777777777778,
              "#fb9f3a"
             ],
             [
              0.8888888888888888,
              "#fdca26"
             ],
             [
              1,
              "#f0f921"
             ]
            ],
            "type": "surface"
           }
          ],
          "table": [
           {
            "cells": {
             "fill": {
              "color": "#EBF0F8"
             },
             "line": {
              "color": "white"
             }
            },
            "header": {
             "fill": {
              "color": "#C8D4E3"
             },
             "line": {
              "color": "white"
             }
            },
            "type": "table"
           }
          ]
         },
         "layout": {
          "annotationdefaults": {
           "arrowcolor": "#2a3f5f",
           "arrowhead": 0,
           "arrowwidth": 1
          },
          "colorscale": {
           "diverging": [
            [
             0,
             "#8e0152"
            ],
            [
             0.1,
             "#c51b7d"
            ],
            [
             0.2,
             "#de77ae"
            ],
            [
             0.3,
             "#f1b6da"
            ],
            [
             0.4,
             "#fde0ef"
            ],
            [
             0.5,
             "#f7f7f7"
            ],
            [
             0.6,
             "#e6f5d0"
            ],
            [
             0.7,
             "#b8e186"
            ],
            [
             0.8,
             "#7fbc41"
            ],
            [
             0.9,
             "#4d9221"
            ],
            [
             1,
             "#276419"
            ]
           ],
           "sequential": [
            [
             0,
             "#0d0887"
            ],
            [
             0.1111111111111111,
             "#46039f"
            ],
            [
             0.2222222222222222,
             "#7201a8"
            ],
            [
             0.3333333333333333,
             "#9c179e"
            ],
            [
             0.4444444444444444,
             "#bd3786"
            ],
            [
             0.5555555555555556,
             "#d8576b"
            ],
            [
             0.6666666666666666,
             "#ed7953"
            ],
            [
             0.7777777777777778,
             "#fb9f3a"
            ],
            [
             0.8888888888888888,
             "#fdca26"
            ],
            [
             1,
             "#f0f921"
            ]
           ],
           "sequentialminus": [
            [
             0,
             "#0d0887"
            ],
            [
             0.1111111111111111,
             "#46039f"
            ],
            [
             0.2222222222222222,
             "#7201a8"
            ],
            [
             0.3333333333333333,
             "#9c179e"
            ],
            [
             0.4444444444444444,
             "#bd3786"
            ],
            [
             0.5555555555555556,
             "#d8576b"
            ],
            [
             0.6666666666666666,
             "#ed7953"
            ],
            [
             0.7777777777777778,
             "#fb9f3a"
            ],
            [
             0.8888888888888888,
             "#fdca26"
            ],
            [
             1,
             "#f0f921"
            ]
           ]
          },
          "colorway": [
           "#636efa",
           "#EF553B",
           "#00cc96",
           "#ab63fa",
           "#FFA15A",
           "#19d3f3",
           "#FF6692",
           "#B6E880",
           "#FF97FF",
           "#FECB52"
          ],
          "font": {
           "color": "#2a3f5f"
          },
          "geo": {
           "bgcolor": "white",
           "lakecolor": "white",
           "landcolor": "#E5ECF6",
           "showlakes": true,
           "showland": true,
           "subunitcolor": "white"
          },
          "hoverlabel": {
           "align": "left"
          },
          "hovermode": "closest",
          "mapbox": {
           "style": "light"
          },
          "paper_bgcolor": "white",
          "plot_bgcolor": "#E5ECF6",
          "polar": {
           "angularaxis": {
            "gridcolor": "white",
            "linecolor": "white",
            "ticks": ""
           },
           "bgcolor": "#E5ECF6",
           "radialaxis": {
            "gridcolor": "white",
            "linecolor": "white",
            "ticks": ""
           }
          },
          "scene": {
           "xaxis": {
            "backgroundcolor": "#E5ECF6",
            "gridcolor": "white",
            "gridwidth": 2,
            "linecolor": "white",
            "showbackground": true,
            "ticks": "",
            "zerolinecolor": "white"
           },
           "yaxis": {
            "backgroundcolor": "#E5ECF6",
            "gridcolor": "white",
            "gridwidth": 2,
            "linecolor": "white",
            "showbackground": true,
            "ticks": "",
            "zerolinecolor": "white"
           },
           "zaxis": {
            "backgroundcolor": "#E5ECF6",
            "gridcolor": "white",
            "gridwidth": 2,
            "linecolor": "white",
            "showbackground": true,
            "ticks": "",
            "zerolinecolor": "white"
           }
          },
          "shapedefaults": {
           "line": {
            "color": "#2a3f5f"
           }
          },
          "ternary": {
           "aaxis": {
            "gridcolor": "white",
            "linecolor": "white",
            "ticks": ""
           },
           "baxis": {
            "gridcolor": "white",
            "linecolor": "white",
            "ticks": ""
           },
           "bgcolor": "#E5ECF6",
           "caxis": {
            "gridcolor": "white",
            "linecolor": "white",
            "ticks": ""
           }
          },
          "title": {
           "x": 0.05
          },
          "xaxis": {
           "automargin": true,
           "gridcolor": "white",
           "linecolor": "white",
           "ticks": "",
           "zerolinecolor": "white",
           "zerolinewidth": 2
          },
          "yaxis": {
           "automargin": true,
           "gridcolor": "white",
           "linecolor": "white",
           "ticks": "",
           "zerolinecolor": "white",
           "zerolinewidth": 2
          }
         }
        }
       },
       "_py2js_addTraces": {},
       "_py2js_animate": {},
       "_py2js_deleteTraces": {},
       "_py2js_moveTraces": {},
       "_py2js_removeLayoutProps": {},
       "_py2js_removeTraceProps": {},
       "_py2js_restyle": {},
       "_py2js_update": {},
       "_view_count": 1
      }
     },
     "ee4ab27624ce49f0be7a50072fd5ed18": {
      "model_module": "@jupyter-widgets/base",
      "model_module_version": "1.2.0",
      "model_name": "LayoutModel",
      "state": {
       "flex_flow": "row wrap"
      }
     },
     "ee7a5421686a4b9e834a6769a7dc3d16": {
      "model_module": "@jupyter-widgets/controls",
      "model_module_version": "1.5.0",
      "model_name": "BoxModel",
      "state": {
       "children": [
        "IPY_MODEL_7d0f1a29d48a48c9baa3dfc6cb03ec22",
        "IPY_MODEL_4c77cf1636174edb991173d891c4378b",
        "IPY_MODEL_51eec4a43cf743d0adb6b12cf81efddf",
        "IPY_MODEL_79723061b39b4b5ab98543b55beb6ae5",
        "IPY_MODEL_e47e7abf16eb4fc58175f73e69485d04",
        "IPY_MODEL_cce51327254d4ab3859f9cff9a9a34ac",
        "IPY_MODEL_8edb5d1bb9074348aa331272d6e3c906",
        "IPY_MODEL_7f265ee565a146e88b8a34f76c79476a",
        "IPY_MODEL_acef40421f2348ccbdc62ae096b19472",
        "IPY_MODEL_77b060f255584e62b2287e696eeaa11a"
       ],
       "layout": "IPY_MODEL_d86f4832c76a448380cf692d52aadc65"
      }
     },
     "f18b5f7fb7b84f61a8f51fd6d5d6bf99": {
      "model_module": "@jupyter-widgets/controls",
      "model_module_version": "1.5.0",
      "model_name": "CheckboxModel",
      "state": {
       "description": "(M+) Mean Net Benefits",
       "description_tooltip": "Mean Net Benefits",
       "disabled": false,
       "layout": "IPY_MODEL_263d730bde5e454bb32f85cf96fce038",
       "name": "Mean Net Benefits",
       "style": "IPY_MODEL_906f2798d7d842aeb36b63c7604a966e",
       "value": true
      }
     },
     "f2d125764b54404a89a05c1c97ab7e73": {
      "model_module": "@jupyter-widgets/controls",
      "model_module_version": "1.5.0",
      "model_name": "DescriptionStyleModel",
      "state": {
       "description_width": ""
      }
     },
     "f36e77911a244523ad9b74eeec8b5ffc": {
      "model_module": "plotlywidget",
      "model_module_version": "^1.1.1",
      "model_name": "FigureModel",
      "state": {
       "_config": {
        "plotlyServerURL": "https://plot.ly"
       },
       "_data": [
        {
         "fill": "tonexty",
         "line": {
          "shape": "linear"
         },
         "mode": "lines+markers",
         "name": "",
         "type": "scatter",
         "uid": "dd68199d-0021-4bea-853c-ee4b627176a8",
         "x": [
          0,
          100,
          200,
          300,
          400,
          500,
          600,
          700,
          800,
          900,
          1000,
          1100,
          1200,
          1300,
          1400,
          1500,
          1600,
          1700,
          1800,
          1900,
          2000,
          2100,
          2200,
          2300,
          2400,
          2500,
          2600,
          2700,
          2800,
          2900,
          3000,
          3100,
          3200,
          3300,
          3400,
          3500,
          3600,
          3700,
          3800,
          3900,
          4000,
          4100,
          4200,
          4300,
          4400,
          4500,
          4600,
          4700,
          4800,
          4900,
          5000,
          5100,
          5200,
          5300,
          5400,
          5500,
          5600,
          5700,
          5800,
          5900,
          6000,
          6100,
          6200,
          6300,
          6400,
          6500,
          6600,
          6700,
          6800,
          6900,
          7000,
          7100,
          7200,
          7300,
          7400,
          7500,
          7600,
          7700,
          7800,
          7900,
          8000,
          8100,
          8200,
          8300,
          8400,
          8500,
          8600,
          8700,
          8800,
          8900,
          9000,
          9100,
          9200,
          9300,
          9400,
          9500,
          9600,
          9700,
          9800,
          9900,
          10000
         ],
         "y": [
          0,
          21,
          25,
          33,
          39,
          41,
          44,
          45,
          45,
          47,
          49,
          49,
          50,
          54,
          56,
          55,
          55,
          55,
          55,
          55,
          55,
          55,
          55,
          55,
          57,
          57,
          58,
          58,
          58,
          59,
          59,
          60,
          61,
          62,
          63,
          63,
          63,
          63,
          64,
          65,
          65,
          65,
          66,
          66,
          66,
          66,
          66,
          66,
          66,
          66,
          66,
          66,
          66,
          66,
          66,
          66,
          66,
          66,
          66,
          66,
          66,
          66,
          66,
          67,
          67,
          67,
          67,
          68,
          68,
          68,
          68,
          68,
          68,
          68,
          68,
          68,
          68,
          68,
          68,
          68,
          68,
          69,
          69,
          70,
          70,
          70,
          70,
          70,
          70,
          70,
          70,
          70,
          70,
          70,
          70,
          70,
          70,
          70,
          70,
          70,
          70
         ]
        }
       ],
       "_js2py_pointsCallback": {},
       "_js2py_relayout": {},
       "_js2py_restyle": {},
       "_js2py_update": {},
       "_last_layout_edit_id": 4,
       "_last_trace_edit_id": 1,
       "_layout": {
        "height": 240,
        "hovermode": "closest",
        "margin": {
         "b": 15,
         "l": 15,
         "r": 15,
         "t": 40
        },
        "showlegend": false,
        "template": {
         "data": {
          "bar": [
           {
            "error_x": {
             "color": "#2a3f5f"
            },
            "error_y": {
             "color": "#2a3f5f"
            },
            "marker": {
             "line": {
              "color": "#E5ECF6",
              "width": 0.5
             }
            },
            "type": "bar"
           }
          ],
          "barpolar": [
           {
            "marker": {
             "line": {
              "color": "#E5ECF6",
              "width": 0.5
             }
            },
            "type": "barpolar"
           }
          ],
          "carpet": [
           {
            "aaxis": {
             "endlinecolor": "#2a3f5f",
             "gridcolor": "white",
             "linecolor": "white",
             "minorgridcolor": "white",
             "startlinecolor": "#2a3f5f"
            },
            "baxis": {
             "endlinecolor": "#2a3f5f",
             "gridcolor": "white",
             "linecolor": "white",
             "minorgridcolor": "white",
             "startlinecolor": "#2a3f5f"
            },
            "type": "carpet"
           }
          ],
          "choropleth": [
           {
            "colorbar": {
             "outlinewidth": 0,
             "ticks": ""
            },
            "type": "choropleth"
           }
          ],
          "contour": [
           {
            "colorbar": {
             "outlinewidth": 0,
             "ticks": ""
            },
            "colorscale": [
             [
              0,
              "#0d0887"
             ],
             [
              0.1111111111111111,
              "#46039f"
             ],
             [
              0.2222222222222222,
              "#7201a8"
             ],
             [
              0.3333333333333333,
              "#9c179e"
             ],
             [
              0.4444444444444444,
              "#bd3786"
             ],
             [
              0.5555555555555556,
              "#d8576b"
             ],
             [
              0.6666666666666666,
              "#ed7953"
             ],
             [
              0.7777777777777778,
              "#fb9f3a"
             ],
             [
              0.8888888888888888,
              "#fdca26"
             ],
             [
              1,
              "#f0f921"
             ]
            ],
            "type": "contour"
           }
          ],
          "contourcarpet": [
           {
            "colorbar": {
             "outlinewidth": 0,
             "ticks": ""
            },
            "type": "contourcarpet"
           }
          ],
          "heatmap": [
           {
            "colorbar": {
             "outlinewidth": 0,
             "ticks": ""
            },
            "colorscale": [
             [
              0,
              "#0d0887"
             ],
             [
              0.1111111111111111,
              "#46039f"
             ],
             [
              0.2222222222222222,
              "#7201a8"
             ],
             [
              0.3333333333333333,
              "#9c179e"
             ],
             [
              0.4444444444444444,
              "#bd3786"
             ],
             [
              0.5555555555555556,
              "#d8576b"
             ],
             [
              0.6666666666666666,
              "#ed7953"
             ],
             [
              0.7777777777777778,
              "#fb9f3a"
             ],
             [
              0.8888888888888888,
              "#fdca26"
             ],
             [
              1,
              "#f0f921"
             ]
            ],
            "type": "heatmap"
           }
          ],
          "heatmapgl": [
           {
            "colorbar": {
             "outlinewidth": 0,
             "ticks": ""
            },
            "colorscale": [
             [
              0,
              "#0d0887"
             ],
             [
              0.1111111111111111,
              "#46039f"
             ],
             [
              0.2222222222222222,
              "#7201a8"
             ],
             [
              0.3333333333333333,
              "#9c179e"
             ],
             [
              0.4444444444444444,
              "#bd3786"
             ],
             [
              0.5555555555555556,
              "#d8576b"
             ],
             [
              0.6666666666666666,
              "#ed7953"
             ],
             [
              0.7777777777777778,
              "#fb9f3a"
             ],
             [
              0.8888888888888888,
              "#fdca26"
             ],
             [
              1,
              "#f0f921"
             ]
            ],
            "type": "heatmapgl"
           }
          ],
          "histogram": [
           {
            "marker": {
             "colorbar": {
              "outlinewidth": 0,
              "ticks": ""
             }
            },
            "type": "histogram"
           }
          ],
          "histogram2d": [
           {
            "colorbar": {
             "outlinewidth": 0,
             "ticks": ""
            },
            "colorscale": [
             [
              0,
              "#0d0887"
             ],
             [
              0.1111111111111111,
              "#46039f"
             ],
             [
              0.2222222222222222,
              "#7201a8"
             ],
             [
              0.3333333333333333,
              "#9c179e"
             ],
             [
              0.4444444444444444,
              "#bd3786"
             ],
             [
              0.5555555555555556,
              "#d8576b"
             ],
             [
              0.6666666666666666,
              "#ed7953"
             ],
             [
              0.7777777777777778,
              "#fb9f3a"
             ],
             [
              0.8888888888888888,
              "#fdca26"
             ],
             [
              1,
              "#f0f921"
             ]
            ],
            "type": "histogram2d"
           }
          ],
          "histogram2dcontour": [
           {
            "colorbar": {
             "outlinewidth": 0,
             "ticks": ""
            },
            "colorscale": [
             [
              0,
              "#0d0887"
             ],
             [
              0.1111111111111111,
              "#46039f"
             ],
             [
              0.2222222222222222,
              "#7201a8"
             ],
             [
              0.3333333333333333,
              "#9c179e"
             ],
             [
              0.4444444444444444,
              "#bd3786"
             ],
             [
              0.5555555555555556,
              "#d8576b"
             ],
             [
              0.6666666666666666,
              "#ed7953"
             ],
             [
              0.7777777777777778,
              "#fb9f3a"
             ],
             [
              0.8888888888888888,
              "#fdca26"
             ],
             [
              1,
              "#f0f921"
             ]
            ],
            "type": "histogram2dcontour"
           }
          ],
          "mesh3d": [
           {
            "colorbar": {
             "outlinewidth": 0,
             "ticks": ""
            },
            "type": "mesh3d"
           }
          ],
          "parcoords": [
           {
            "line": {
             "colorbar": {
              "outlinewidth": 0,
              "ticks": ""
             }
            },
            "type": "parcoords"
           }
          ],
          "scatter": [
           {
            "marker": {
             "colorbar": {
              "outlinewidth": 0,
              "ticks": ""
             }
            },
            "type": "scatter"
           }
          ],
          "scatter3d": [
           {
            "line": {
             "colorbar": {
              "outlinewidth": 0,
              "ticks": ""
             }
            },
            "marker": {
             "colorbar": {
              "outlinewidth": 0,
              "ticks": ""
             }
            },
            "type": "scatter3d"
           }
          ],
          "scattercarpet": [
           {
            "marker": {
             "colorbar": {
              "outlinewidth": 0,
              "ticks": ""
             }
            },
            "type": "scattercarpet"
           }
          ],
          "scattergeo": [
           {
            "marker": {
             "colorbar": {
              "outlinewidth": 0,
              "ticks": ""
             }
            },
            "type": "scattergeo"
           }
          ],
          "scattergl": [
           {
            "marker": {
             "colorbar": {
              "outlinewidth": 0,
              "ticks": ""
             }
            },
            "type": "scattergl"
           }
          ],
          "scattermapbox": [
           {
            "marker": {
             "colorbar": {
              "outlinewidth": 0,
              "ticks": ""
             }
            },
            "type": "scattermapbox"
           }
          ],
          "scatterpolar": [
           {
            "marker": {
             "colorbar": {
              "outlinewidth": 0,
              "ticks": ""
             }
            },
            "type": "scatterpolar"
           }
          ],
          "scatterpolargl": [
           {
            "marker": {
             "colorbar": {
              "outlinewidth": 0,
              "ticks": ""
             }
            },
            "type": "scatterpolargl"
           }
          ],
          "scatterternary": [
           {
            "marker": {
             "colorbar": {
              "outlinewidth": 0,
              "ticks": ""
             }
            },
            "type": "scatterternary"
           }
          ],
          "surface": [
           {
            "colorbar": {
             "outlinewidth": 0,
             "ticks": ""
            },
            "colorscale": [
             [
              0,
              "#0d0887"
             ],
             [
              0.1111111111111111,
              "#46039f"
             ],
             [
              0.2222222222222222,
              "#7201a8"
             ],
             [
              0.3333333333333333,
              "#9c179e"
             ],
             [
              0.4444444444444444,
              "#bd3786"
             ],
             [
              0.5555555555555556,
              "#d8576b"
             ],
             [
              0.6666666666666666,
              "#ed7953"
             ],
             [
              0.7777777777777778,
              "#fb9f3a"
             ],
             [
              0.8888888888888888,
              "#fdca26"
             ],
             [
              1,
              "#f0f921"
             ]
            ],
            "type": "surface"
           }
          ],
          "table": [
           {
            "cells": {
             "fill": {
              "color": "#EBF0F8"
             },
             "line": {
              "color": "white"
             }
            },
            "header": {
             "fill": {
              "color": "#C8D4E3"
             },
             "line": {
              "color": "white"
             }
            },
            "type": "table"
           }
          ]
         },
         "layout": {
          "annotationdefaults": {
           "arrowcolor": "#2a3f5f",
           "arrowhead": 0,
           "arrowwidth": 1
          },
          "colorscale": {
           "diverging": [
            [
             0,
             "#8e0152"
            ],
            [
             0.1,
             "#c51b7d"
            ],
            [
             0.2,
             "#de77ae"
            ],
            [
             0.3,
             "#f1b6da"
            ],
            [
             0.4,
             "#fde0ef"
            ],
            [
             0.5,
             "#f7f7f7"
            ],
            [
             0.6,
             "#e6f5d0"
            ],
            [
             0.7,
             "#b8e186"
            ],
            [
             0.8,
             "#7fbc41"
            ],
            [
             0.9,
             "#4d9221"
            ],
            [
             1,
             "#276419"
            ]
           ],
           "sequential": [
            [
             0,
             "#0d0887"
            ],
            [
             0.1111111111111111,
             "#46039f"
            ],
            [
             0.2222222222222222,
             "#7201a8"
            ],
            [
             0.3333333333333333,
             "#9c179e"
            ],
            [
             0.4444444444444444,
             "#bd3786"
            ],
            [
             0.5555555555555556,
             "#d8576b"
            ],
            [
             0.6666666666666666,
             "#ed7953"
            ],
            [
             0.7777777777777778,
             "#fb9f3a"
            ],
            [
             0.8888888888888888,
             "#fdca26"
            ],
            [
             1,
             "#f0f921"
            ]
           ],
           "sequentialminus": [
            [
             0,
             "#0d0887"
            ],
            [
             0.1111111111111111,
             "#46039f"
            ],
            [
             0.2222222222222222,
             "#7201a8"
            ],
            [
             0.3333333333333333,
             "#9c179e"
            ],
            [
             0.4444444444444444,
             "#bd3786"
            ],
            [
             0.5555555555555556,
             "#d8576b"
            ],
            [
             0.6666666666666666,
             "#ed7953"
            ],
            [
             0.7777777777777778,
             "#fb9f3a"
            ],
            [
             0.8888888888888888,
             "#fdca26"
            ],
            [
             1,
             "#f0f921"
            ]
           ]
          },
          "colorway": [
           "#636efa",
           "#EF553B",
           "#00cc96",
           "#ab63fa",
           "#FFA15A",
           "#19d3f3",
           "#FF6692",
           "#B6E880",
           "#FF97FF",
           "#FECB52"
          ],
          "font": {
           "color": "#2a3f5f"
          },
          "geo": {
           "bgcolor": "white",
           "lakecolor": "white",
           "landcolor": "#E5ECF6",
           "showlakes": true,
           "showland": true,
           "subunitcolor": "white"
          },
          "hoverlabel": {
           "align": "left"
          },
          "hovermode": "closest",
          "mapbox": {
           "style": "light"
          },
          "paper_bgcolor": "white",
          "plot_bgcolor": "#E5ECF6",
          "polar": {
           "angularaxis": {
            "gridcolor": "white",
            "linecolor": "white",
            "ticks": ""
           },
           "bgcolor": "#E5ECF6",
           "radialaxis": {
            "gridcolor": "white",
            "linecolor": "white",
            "ticks": ""
           }
          },
          "scene": {
           "xaxis": {
            "backgroundcolor": "#E5ECF6",
            "gridcolor": "white",
            "gridwidth": 2,
            "linecolor": "white",
            "showbackground": true,
            "ticks": "",
            "zerolinecolor": "white"
           },
           "yaxis": {
            "backgroundcolor": "#E5ECF6",
            "gridcolor": "white",
            "gridwidth": 2,
            "linecolor": "white",
            "showbackground": true,
            "ticks": "",
            "zerolinecolor": "white"
           },
           "zaxis": {
            "backgroundcolor": "#E5ECF6",
            "gridcolor": "white",
            "gridwidth": 2,
            "linecolor": "white",
            "showbackground": true,
            "ticks": "",
            "zerolinecolor": "white"
           }
          },
          "shapedefaults": {
           "line": {
            "color": "#2a3f5f"
           }
          },
          "ternary": {
           "aaxis": {
            "gridcolor": "white",
            "linecolor": "white",
            "ticks": ""
           },
           "baxis": {
            "gridcolor": "white",
            "linecolor": "white",
            "ticks": ""
           },
           "bgcolor": "#E5ECF6",
           "caxis": {
            "gridcolor": "white",
            "linecolor": "white",
            "ticks": ""
           }
          },
          "title": {
           "x": 0.05
          },
          "xaxis": {
           "automargin": true,
           "gridcolor": "white",
           "linecolor": "white",
           "ticks": "",
           "zerolinecolor": "white",
           "zerolinewidth": 2
          },
          "yaxis": {
           "automargin": true,
           "gridcolor": "white",
           "linecolor": "white",
           "ticks": "",
           "zerolinecolor": "white",
           "zerolinewidth": 2
          }
         }
        },
        "title": {
         "text": "Number of Solutions"
        },
        "width": 340
       },
       "_py2js_addTraces": {},
       "_py2js_animate": {},
       "_py2js_deleteTraces": {},
       "_py2js_moveTraces": {},
       "_py2js_removeLayoutProps": {},
       "_py2js_removeTraceProps": {},
       "_py2js_restyle": {},
       "_view_count": 1
      }
     },
     "f3e4d5c6c68245c085c9d69ada530ae2": {
      "model_module": "plotlywidget",
      "model_module_version": "^1.1.1",
      "model_name": "FigureModel",
      "state": {
       "_config": {
        "plotlyServerURL": "https://plot.ly"
       },
       "_data": [
        {
         "fill": "tonexty",
         "line": {
          "shape": "linear"
         },
         "mode": "lines+markers",
         "name": "",
         "type": "scatter",
         "uid": "dc649a55-146b-46f7-aa04-ccd2fa011dd9",
         "x": [
          0,
          100,
          200,
          300,
          400,
          500,
          600,
          700,
          800,
          900,
          1000,
          1100,
          1200,
          1300,
          1400,
          1500,
          1600,
          1700,
          1800,
          1900,
          2000,
          2100,
          2200,
          2300,
          2400,
          2500,
          2600,
          2700,
          2800,
          2900,
          3000,
          3100,
          3200,
          3300,
          3400,
          3500,
          3600,
          3700,
          3800,
          3900,
          4000,
          4100,
          4200,
          4300,
          4400,
          4500,
          4600,
          4700,
          4800,
          4900,
          5000,
          5100,
          5200,
          5300,
          5400,
          5500,
          5600,
          5700,
          5800,
          5900,
          6000,
          6100,
          6200,
          6300,
          6400,
          6500,
          6600,
          6700,
          6800,
          6900,
          7000,
          7100,
          7200,
          7300,
          7400,
          7500,
          7600,
          7700,
          7800,
          7900,
          8000,
          8100,
          8200,
          8300,
          8400,
          8500,
          8600,
          8700,
          8800,
          8900,
          9000,
          9100,
          9200,
          9300,
          9400,
          9500,
          9600,
          9700,
          9800,
          9900,
          10000
         ],
         "y": [
          0,
          9,
          14,
          21,
          29,
          31,
          35,
          36,
          40,
          41,
          42,
          42,
          43,
          44,
          45,
          45,
          47,
          48,
          49,
          49,
          49,
          50,
          50,
          50,
          50,
          51,
          51,
          51,
          51,
          53,
          53,
          53,
          54,
          54,
          54,
          54,
          55,
          55,
          55,
          55,
          56,
          56,
          56,
          56,
          56,
          56,
          56,
          56,
          56,
          56,
          56,
          56,
          56,
          56,
          56,
          56,
          56,
          56,
          56,
          56,
          56,
          56,
          56,
          56,
          56,
          56,
          56,
          56,
          56,
          56,
          56,
          56,
          56,
          56,
          57,
          57,
          57,
          57,
          58,
          59,
          59,
          60,
          60,
          60,
          60,
          60,
          61,
          61,
          61,
          61,
          61,
          61,
          61,
          61,
          62,
          62,
          63,
          63,
          63,
          63,
          63
         ]
        }
       ],
       "_js2py_pointsCallback": {},
       "_js2py_relayout": {},
       "_js2py_restyle": {},
       "_js2py_update": {},
       "_last_layout_edit_id": 4,
       "_last_trace_edit_id": 1,
       "_layout": {
        "height": 240,
        "hovermode": "closest",
        "margin": {
         "b": 15,
         "l": 15,
         "r": 15,
         "t": 40
        },
        "showlegend": false,
        "template": {
         "data": {
          "bar": [
           {
            "error_x": {
             "color": "#2a3f5f"
            },
            "error_y": {
             "color": "#2a3f5f"
            },
            "marker": {
             "line": {
              "color": "#E5ECF6",
              "width": 0.5
             }
            },
            "type": "bar"
           }
          ],
          "barpolar": [
           {
            "marker": {
             "line": {
              "color": "#E5ECF6",
              "width": 0.5
             }
            },
            "type": "barpolar"
           }
          ],
          "carpet": [
           {
            "aaxis": {
             "endlinecolor": "#2a3f5f",
             "gridcolor": "white",
             "linecolor": "white",
             "minorgridcolor": "white",
             "startlinecolor": "#2a3f5f"
            },
            "baxis": {
             "endlinecolor": "#2a3f5f",
             "gridcolor": "white",
             "linecolor": "white",
             "minorgridcolor": "white",
             "startlinecolor": "#2a3f5f"
            },
            "type": "carpet"
           }
          ],
          "choropleth": [
           {
            "colorbar": {
             "outlinewidth": 0,
             "ticks": ""
            },
            "type": "choropleth"
           }
          ],
          "contour": [
           {
            "colorbar": {
             "outlinewidth": 0,
             "ticks": ""
            },
            "colorscale": [
             [
              0,
              "#0d0887"
             ],
             [
              0.1111111111111111,
              "#46039f"
             ],
             [
              0.2222222222222222,
              "#7201a8"
             ],
             [
              0.3333333333333333,
              "#9c179e"
             ],
             [
              0.4444444444444444,
              "#bd3786"
             ],
             [
              0.5555555555555556,
              "#d8576b"
             ],
             [
              0.6666666666666666,
              "#ed7953"
             ],
             [
              0.7777777777777778,
              "#fb9f3a"
             ],
             [
              0.8888888888888888,
              "#fdca26"
             ],
             [
              1,
              "#f0f921"
             ]
            ],
            "type": "contour"
           }
          ],
          "contourcarpet": [
           {
            "colorbar": {
             "outlinewidth": 0,
             "ticks": ""
            },
            "type": "contourcarpet"
           }
          ],
          "heatmap": [
           {
            "colorbar": {
             "outlinewidth": 0,
             "ticks": ""
            },
            "colorscale": [
             [
              0,
              "#0d0887"
             ],
             [
              0.1111111111111111,
              "#46039f"
             ],
             [
              0.2222222222222222,
              "#7201a8"
             ],
             [
              0.3333333333333333,
              "#9c179e"
             ],
             [
              0.4444444444444444,
              "#bd3786"
             ],
             [
              0.5555555555555556,
              "#d8576b"
             ],
             [
              0.6666666666666666,
              "#ed7953"
             ],
             [
              0.7777777777777778,
              "#fb9f3a"
             ],
             [
              0.8888888888888888,
              "#fdca26"
             ],
             [
              1,
              "#f0f921"
             ]
            ],
            "type": "heatmap"
           }
          ],
          "heatmapgl": [
           {
            "colorbar": {
             "outlinewidth": 0,
             "ticks": ""
            },
            "colorscale": [
             [
              0,
              "#0d0887"
             ],
             [
              0.1111111111111111,
              "#46039f"
             ],
             [
              0.2222222222222222,
              "#7201a8"
             ],
             [
              0.3333333333333333,
              "#9c179e"
             ],
             [
              0.4444444444444444,
              "#bd3786"
             ],
             [
              0.5555555555555556,
              "#d8576b"
             ],
             [
              0.6666666666666666,
              "#ed7953"
             ],
             [
              0.7777777777777778,
              "#fb9f3a"
             ],
             [
              0.8888888888888888,
              "#fdca26"
             ],
             [
              1,
              "#f0f921"
             ]
            ],
            "type": "heatmapgl"
           }
          ],
          "histogram": [
           {
            "marker": {
             "colorbar": {
              "outlinewidth": 0,
              "ticks": ""
             }
            },
            "type": "histogram"
           }
          ],
          "histogram2d": [
           {
            "colorbar": {
             "outlinewidth": 0,
             "ticks": ""
            },
            "colorscale": [
             [
              0,
              "#0d0887"
             ],
             [
              0.1111111111111111,
              "#46039f"
             ],
             [
              0.2222222222222222,
              "#7201a8"
             ],
             [
              0.3333333333333333,
              "#9c179e"
             ],
             [
              0.4444444444444444,
              "#bd3786"
             ],
             [
              0.5555555555555556,
              "#d8576b"
             ],
             [
              0.6666666666666666,
              "#ed7953"
             ],
             [
              0.7777777777777778,
              "#fb9f3a"
             ],
             [
              0.8888888888888888,
              "#fdca26"
             ],
             [
              1,
              "#f0f921"
             ]
            ],
            "type": "histogram2d"
           }
          ],
          "histogram2dcontour": [
           {
            "colorbar": {
             "outlinewidth": 0,
             "ticks": ""
            },
            "colorscale": [
             [
              0,
              "#0d0887"
             ],
             [
              0.1111111111111111,
              "#46039f"
             ],
             [
              0.2222222222222222,
              "#7201a8"
             ],
             [
              0.3333333333333333,
              "#9c179e"
             ],
             [
              0.4444444444444444,
              "#bd3786"
             ],
             [
              0.5555555555555556,
              "#d8576b"
             ],
             [
              0.6666666666666666,
              "#ed7953"
             ],
             [
              0.7777777777777778,
              "#fb9f3a"
             ],
             [
              0.8888888888888888,
              "#fdca26"
             ],
             [
              1,
              "#f0f921"
             ]
            ],
            "type": "histogram2dcontour"
           }
          ],
          "mesh3d": [
           {
            "colorbar": {
             "outlinewidth": 0,
             "ticks": ""
            },
            "type": "mesh3d"
           }
          ],
          "parcoords": [
           {
            "line": {
             "colorbar": {
              "outlinewidth": 0,
              "ticks": ""
             }
            },
            "type": "parcoords"
           }
          ],
          "scatter": [
           {
            "marker": {
             "colorbar": {
              "outlinewidth": 0,
              "ticks": ""
             }
            },
            "type": "scatter"
           }
          ],
          "scatter3d": [
           {
            "line": {
             "colorbar": {
              "outlinewidth": 0,
              "ticks": ""
             }
            },
            "marker": {
             "colorbar": {
              "outlinewidth": 0,
              "ticks": ""
             }
            },
            "type": "scatter3d"
           }
          ],
          "scattercarpet": [
           {
            "marker": {
             "colorbar": {
              "outlinewidth": 0,
              "ticks": ""
             }
            },
            "type": "scattercarpet"
           }
          ],
          "scattergeo": [
           {
            "marker": {
             "colorbar": {
              "outlinewidth": 0,
              "ticks": ""
             }
            },
            "type": "scattergeo"
           }
          ],
          "scattergl": [
           {
            "marker": {
             "colorbar": {
              "outlinewidth": 0,
              "ticks": ""
             }
            },
            "type": "scattergl"
           }
          ],
          "scattermapbox": [
           {
            "marker": {
             "colorbar": {
              "outlinewidth": 0,
              "ticks": ""
             }
            },
            "type": "scattermapbox"
           }
          ],
          "scatterpolar": [
           {
            "marker": {
             "colorbar": {
              "outlinewidth": 0,
              "ticks": ""
             }
            },
            "type": "scatterpolar"
           }
          ],
          "scatterpolargl": [
           {
            "marker": {
             "colorbar": {
              "outlinewidth": 0,
              "ticks": ""
             }
            },
            "type": "scatterpolargl"
           }
          ],
          "scatterternary": [
           {
            "marker": {
             "colorbar": {
              "outlinewidth": 0,
              "ticks": ""
             }
            },
            "type": "scatterternary"
           }
          ],
          "surface": [
           {
            "colorbar": {
             "outlinewidth": 0,
             "ticks": ""
            },
            "colorscale": [
             [
              0,
              "#0d0887"
             ],
             [
              0.1111111111111111,
              "#46039f"
             ],
             [
              0.2222222222222222,
              "#7201a8"
             ],
             [
              0.3333333333333333,
              "#9c179e"
             ],
             [
              0.4444444444444444,
              "#bd3786"
             ],
             [
              0.5555555555555556,
              "#d8576b"
             ],
             [
              0.6666666666666666,
              "#ed7953"
             ],
             [
              0.7777777777777778,
              "#fb9f3a"
             ],
             [
              0.8888888888888888,
              "#fdca26"
             ],
             [
              1,
              "#f0f921"
             ]
            ],
            "type": "surface"
           }
          ],
          "table": [
           {
            "cells": {
             "fill": {
              "color": "#EBF0F8"
             },
             "line": {
              "color": "white"
             }
            },
            "header": {
             "fill": {
              "color": "#C8D4E3"
             },
             "line": {
              "color": "white"
             }
            },
            "type": "table"
           }
          ]
         },
         "layout": {
          "annotationdefaults": {
           "arrowcolor": "#2a3f5f",
           "arrowhead": 0,
           "arrowwidth": 1
          },
          "colorscale": {
           "diverging": [
            [
             0,
             "#8e0152"
            ],
            [
             0.1,
             "#c51b7d"
            ],
            [
             0.2,
             "#de77ae"
            ],
            [
             0.3,
             "#f1b6da"
            ],
            [
             0.4,
             "#fde0ef"
            ],
            [
             0.5,
             "#f7f7f7"
            ],
            [
             0.6,
             "#e6f5d0"
            ],
            [
             0.7,
             "#b8e186"
            ],
            [
             0.8,
             "#7fbc41"
            ],
            [
             0.9,
             "#4d9221"
            ],
            [
             1,
             "#276419"
            ]
           ],
           "sequential": [
            [
             0,
             "#0d0887"
            ],
            [
             0.1111111111111111,
             "#46039f"
            ],
            [
             0.2222222222222222,
             "#7201a8"
            ],
            [
             0.3333333333333333,
             "#9c179e"
            ],
            [
             0.4444444444444444,
             "#bd3786"
            ],
            [
             0.5555555555555556,
             "#d8576b"
            ],
            [
             0.6666666666666666,
             "#ed7953"
            ],
            [
             0.7777777777777778,
             "#fb9f3a"
            ],
            [
             0.8888888888888888,
             "#fdca26"
            ],
            [
             1,
             "#f0f921"
            ]
           ],
           "sequentialminus": [
            [
             0,
             "#0d0887"
            ],
            [
             0.1111111111111111,
             "#46039f"
            ],
            [
             0.2222222222222222,
             "#7201a8"
            ],
            [
             0.3333333333333333,
             "#9c179e"
            ],
            [
             0.4444444444444444,
             "#bd3786"
            ],
            [
             0.5555555555555556,
             "#d8576b"
            ],
            [
             0.6666666666666666,
             "#ed7953"
            ],
            [
             0.7777777777777778,
             "#fb9f3a"
            ],
            [
             0.8888888888888888,
             "#fdca26"
            ],
            [
             1,
             "#f0f921"
            ]
           ]
          },
          "colorway": [
           "#636efa",
           "#EF553B",
           "#00cc96",
           "#ab63fa",
           "#FFA15A",
           "#19d3f3",
           "#FF6692",
           "#B6E880",
           "#FF97FF",
           "#FECB52"
          ],
          "font": {
           "color": "#2a3f5f"
          },
          "geo": {
           "bgcolor": "white",
           "lakecolor": "white",
           "landcolor": "#E5ECF6",
           "showlakes": true,
           "showland": true,
           "subunitcolor": "white"
          },
          "hoverlabel": {
           "align": "left"
          },
          "hovermode": "closest",
          "mapbox": {
           "style": "light"
          },
          "paper_bgcolor": "white",
          "plot_bgcolor": "#E5ECF6",
          "polar": {
           "angularaxis": {
            "gridcolor": "white",
            "linecolor": "white",
            "ticks": ""
           },
           "bgcolor": "#E5ECF6",
           "radialaxis": {
            "gridcolor": "white",
            "linecolor": "white",
            "ticks": ""
           }
          },
          "scene": {
           "xaxis": {
            "backgroundcolor": "#E5ECF6",
            "gridcolor": "white",
            "gridwidth": 2,
            "linecolor": "white",
            "showbackground": true,
            "ticks": "",
            "zerolinecolor": "white"
           },
           "yaxis": {
            "backgroundcolor": "#E5ECF6",
            "gridcolor": "white",
            "gridwidth": 2,
            "linecolor": "white",
            "showbackground": true,
            "ticks": "",
            "zerolinecolor": "white"
           },
           "zaxis": {
            "backgroundcolor": "#E5ECF6",
            "gridcolor": "white",
            "gridwidth": 2,
            "linecolor": "white",
            "showbackground": true,
            "ticks": "",
            "zerolinecolor": "white"
           }
          },
          "shapedefaults": {
           "line": {
            "color": "#2a3f5f"
           }
          },
          "ternary": {
           "aaxis": {
            "gridcolor": "white",
            "linecolor": "white",
            "ticks": ""
           },
           "baxis": {
            "gridcolor": "white",
            "linecolor": "white",
            "ticks": ""
           },
           "bgcolor": "#E5ECF6",
           "caxis": {
            "gridcolor": "white",
            "linecolor": "white",
            "ticks": ""
           }
          },
          "title": {
           "x": 0.05
          },
          "xaxis": {
           "automargin": true,
           "gridcolor": "white",
           "linecolor": "white",
           "ticks": "",
           "zerolinecolor": "white",
           "zerolinewidth": 2
          },
          "yaxis": {
           "automargin": true,
           "gridcolor": "white",
           "linecolor": "white",
           "ticks": "",
           "zerolinecolor": "white",
           "zerolinewidth": 2
          }
         }
        },
        "title": {
         "text": "ε-Progress"
        },
        "width": 340
       },
       "_py2js_addTraces": {},
       "_py2js_animate": {},
       "_py2js_deleteTraces": {},
       "_py2js_moveTraces": {},
       "_py2js_removeLayoutProps": {},
       "_py2js_removeTraceProps": {},
       "_py2js_restyle": {},
       "_view_count": 1
      }
     },
     "f4d06f4902f94153b55d68cf1a300908": {
      "model_module": "@jupyter-widgets/controls",
      "model_module_version": "1.5.0",
      "model_name": "DescriptionStyleModel",
      "state": {
       "description_width": ""
      }
     },
     "f5bf4d33476549148b04bac8154e88ac": {
      "model_module": "@jupyter-widgets/base",
      "model_module_version": "1.2.0",
      "model_name": "LayoutModel",
      "state": {}
     },
     "f89b67dfa3054dbdafaafcfb1a20583e": {
      "model_module": "@jupyter-widgets/base",
      "model_module_version": "1.2.0",
      "model_name": "LayoutModel",
      "state": {}
     },
     "f979ed7b9d7f4d69a47b77e83ff43b80": {
      "model_module": "@jupyter-widgets/controls",
      "model_module_version": "1.5.0",
      "model_name": "HTMLModel",
      "state": {
       "layout": "IPY_MODEL_65111d9708064c24b03ed3a7d3d10c52",
       "style": "IPY_MODEL_51df40102bd04cb68b3548de2e5da656",
       "value": "\n\t\t\t(M-) Performance Measure to Minimize<br>\n\t\t\t(M+) Performance Measure to Maximize<br>\n\t\t\t(M) Performance Measure without preferred direction<br>\n\t\t\t(L) Policy Lever<br>\n\t\t\t(X) Exogenous Uncertainty\n\t\t"
      }
     },
     "fa6ac134994f4eaf8d5d99de3a9f8ecc": {
      "model_module": "@jupyter-widgets/base",
      "model_module_version": "1.2.0",
      "model_name": "LayoutModel",
      "state": {}
     },
     "fc109692aca7422f806773894f3a0c9b": {
      "model_module": "@jupyter-widgets/base",
      "model_module_version": "1.2.0",
      "model_name": "LayoutModel",
      "state": {}
     },
     "fc7435ce9a214454b55a90136da68029": {
      "model_module": "@jupyter-widgets/controls",
      "model_module_version": "1.5.0",
      "model_name": "DescriptionStyleModel",
      "state": {
       "description_width": ""
      }
     },
     "fecb1536ada041dcbe6f839194af86d0": {
      "model_module": "@jupyter-widgets/base",
      "model_module_version": "1.2.0",
      "model_name": "LayoutModel",
      "state": {}
     }
    },
    "version_major": 2,
    "version_minor": 0
   }
  }
 },
 "nbformat": 4,
 "nbformat_minor": 4
}
