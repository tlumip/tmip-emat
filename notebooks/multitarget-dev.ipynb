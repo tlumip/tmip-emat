{
 "cells": [
  {
   "cell_type": "code",
   "execution_count": 1,
   "metadata": {},
   "outputs": [
    {
     "data": {
      "text/plain": [
       "('0.1.4', ['/Users/jpn/Git/private-emat/emat'])"
      ]
     },
     "execution_count": 1,
     "metadata": {},
     "output_type": "execute_result"
    }
   ],
   "source": [
    "import emat\n",
    "emat.__version__, emat.__path__"
   ]
  },
  {
   "cell_type": "code",
   "execution_count": 2,
   "metadata": {},
   "outputs": [
    {
     "data": {
      "text/plain": [
       "('2.1.CS1', ['/Users/jpn/Git/EMAworkbench/ema_workbench'])"
      ]
     },
     "execution_count": 2,
     "metadata": {},
     "output_type": "execute_result"
    }
   ],
   "source": [
    "import ema_workbench\n",
    "ema_workbench.__version__, ema_workbench.__path__"
   ]
  },
  {
   "cell_type": "code",
   "execution_count": 3,
   "metadata": {},
   "outputs": [],
   "source": [
    "import os, numpy, pandas, functools\n",
    "from emat.util.xmle import Show\n",
    "from emat.viz.scatter import scatter_graph"
   ]
  },
  {
   "cell_type": "code",
   "execution_count": 4,
   "metadata": {},
   "outputs": [],
   "source": [
    "from sklearn.ensemble import VotingRegressor\n",
    "from sklearn.multioutput import RegressorChain\n",
    "from sklearn.gaussian_process import GaussianProcessRegressor\n",
    "from emat.multitarget import DetrendedMultipleTargetRegression"
   ]
  },
  {
   "cell_type": "code",
   "execution_count": 5,
   "metadata": {},
   "outputs": [
    {
     "data": {
      "text/plain": [
       "<emat.Scope with 2 constants, 7 uncertainties, 4 levers, 7 measures>"
      ]
     },
     "execution_count": 5,
     "metadata": {},
     "output_type": "execute_result"
    }
   ],
   "source": [
    "road_test_scope_file = emat.package_file('model','tests','road_test.yaml')\n",
    "\n",
    "s = emat.Scope(road_test_scope_file)\n",
    "s"
   ]
  },
  {
   "cell_type": "code",
   "execution_count": 6,
   "metadata": {},
   "outputs": [
    {
     "name": "stdout",
     "output_type": "stream",
     "text": [
      "name: EMAT Road Test\n",
      "desc: prototype run\n",
      "constants:\n",
      "  free_flow_time = 60\n",
      "  initial_capacity = 100\n",
      "uncertainties:\n",
      "  alpha = 0.1 to 0.2\n",
      "  beta = 3.5 to 5.5\n",
      "  input_flow = 80 to 150\n",
      "  value_of_time = 0.001 to 0.08\n",
      "  unit_cost_expansion = 95.0 to 145.0\n",
      "  interest_rate = 0.025 to 0.04\n",
      "  yield_curve = -0.0025 to 0.02\n",
      "levers:\n",
      "  expand_capacity = 0.0 to 100.0\n",
      "  amortization_period = 15 to 50\n",
      "  debt_type = categorical\n",
      "  interest_rate_lock = boolean\n",
      "measures:\n",
      "  no_build_travel_time\n",
      "  build_travel_time\n",
      "  time_savings\n",
      "  value_of_time_savings\n",
      "  net_benefits\n",
      "  cost_of_capacity_expansion\n",
      "  present_cost_expansion\n"
     ]
    }
   ],
   "source": [
    "s.info()"
   ]
  },
  {
   "cell_type": "code",
   "execution_count": 7,
   "metadata": {},
   "outputs": [],
   "source": [
    "db = emat.SQLiteDB()"
   ]
  },
  {
   "cell_type": "code",
   "execution_count": 8,
   "metadata": {},
   "outputs": [],
   "source": [
    "s.store_scope(db)"
   ]
  },
  {
   "cell_type": "code",
   "execution_count": 9,
   "metadata": {},
   "outputs": [
    {
     "data": {
      "text/html": [
       "<div>\n",
       "<style scoped>\n",
       "    .dataframe tbody tr th:only-of-type {\n",
       "        vertical-align: middle;\n",
       "    }\n",
       "\n",
       "    .dataframe tbody tr th {\n",
       "        vertical-align: top;\n",
       "    }\n",
       "\n",
       "    .dataframe thead th {\n",
       "        text-align: right;\n",
       "    }\n",
       "</style>\n",
       "<table border=\"1\" class=\"dataframe\">\n",
       "  <thead>\n",
       "    <tr style=\"text-align: right;\">\n",
       "      <th></th>\n",
       "      <th>alpha</th>\n",
       "      <th>amortization_period</th>\n",
       "      <th>beta</th>\n",
       "      <th>debt_type</th>\n",
       "      <th>expand_capacity</th>\n",
       "      <th>input_flow</th>\n",
       "      <th>interest_rate</th>\n",
       "      <th>interest_rate_lock</th>\n",
       "      <th>unit_cost_expansion</th>\n",
       "      <th>value_of_time</th>\n",
       "      <th>yield_curve</th>\n",
       "      <th>free_flow_time</th>\n",
       "      <th>initial_capacity</th>\n",
       "    </tr>\n",
       "    <tr>\n",
       "      <th>experiment</th>\n",
       "      <th></th>\n",
       "      <th></th>\n",
       "      <th></th>\n",
       "      <th></th>\n",
       "      <th></th>\n",
       "      <th></th>\n",
       "      <th></th>\n",
       "      <th></th>\n",
       "      <th></th>\n",
       "      <th></th>\n",
       "      <th></th>\n",
       "      <th></th>\n",
       "      <th></th>\n",
       "    </tr>\n",
       "  </thead>\n",
       "  <tbody>\n",
       "    <tr>\n",
       "      <th>1</th>\n",
       "      <td>0.184682</td>\n",
       "      <td>38</td>\n",
       "      <td>5.237143</td>\n",
       "      <td>Rev Bond</td>\n",
       "      <td>18.224793</td>\n",
       "      <td>115</td>\n",
       "      <td>0.031645</td>\n",
       "      <td>False</td>\n",
       "      <td>118.213466</td>\n",
       "      <td>0.022518</td>\n",
       "      <td>0.015659</td>\n",
       "      <td>60</td>\n",
       "      <td>100</td>\n",
       "    </tr>\n",
       "    <tr>\n",
       "      <th>2</th>\n",
       "      <td>0.166133</td>\n",
       "      <td>36</td>\n",
       "      <td>4.121963</td>\n",
       "      <td>Paygo</td>\n",
       "      <td>87.525790</td>\n",
       "      <td>129</td>\n",
       "      <td>0.037612</td>\n",
       "      <td>True</td>\n",
       "      <td>141.322696</td>\n",
       "      <td>0.052306</td>\n",
       "      <td>0.007307</td>\n",
       "      <td>60</td>\n",
       "      <td>100</td>\n",
       "    </tr>\n",
       "    <tr>\n",
       "      <th>3</th>\n",
       "      <td>0.198937</td>\n",
       "      <td>44</td>\n",
       "      <td>4.719838</td>\n",
       "      <td>GO Bond</td>\n",
       "      <td>45.698048</td>\n",
       "      <td>105</td>\n",
       "      <td>0.028445</td>\n",
       "      <td>False</td>\n",
       "      <td>97.783320</td>\n",
       "      <td>0.011923</td>\n",
       "      <td>-0.001545</td>\n",
       "      <td>60</td>\n",
       "      <td>100</td>\n",
       "    </tr>\n",
       "    <tr>\n",
       "      <th>4</th>\n",
       "      <td>0.158758</td>\n",
       "      <td>42</td>\n",
       "      <td>4.915816</td>\n",
       "      <td>GO Bond</td>\n",
       "      <td>51.297546</td>\n",
       "      <td>113</td>\n",
       "      <td>0.036234</td>\n",
       "      <td>True</td>\n",
       "      <td>127.224901</td>\n",
       "      <td>0.077527</td>\n",
       "      <td>0.004342</td>\n",
       "      <td>60</td>\n",
       "      <td>100</td>\n",
       "    </tr>\n",
       "    <tr>\n",
       "      <th>5</th>\n",
       "      <td>0.157671</td>\n",
       "      <td>42</td>\n",
       "      <td>3.845952</td>\n",
       "      <td>Paygo</td>\n",
       "      <td>22.824149</td>\n",
       "      <td>133</td>\n",
       "      <td>0.039257</td>\n",
       "      <td>False</td>\n",
       "      <td>107.820482</td>\n",
       "      <td>0.027270</td>\n",
       "      <td>0.001558</td>\n",
       "      <td>60</td>\n",
       "      <td>100</td>\n",
       "    </tr>\n",
       "  </tbody>\n",
       "</table>\n",
       "</div>"
      ],
      "text/plain": [
       "               alpha  amortization_period      beta debt_type  \\\n",
       "experiment                                                      \n",
       "1           0.184682                   38  5.237143  Rev Bond   \n",
       "2           0.166133                   36  4.121963     Paygo   \n",
       "3           0.198937                   44  4.719838   GO Bond   \n",
       "4           0.158758                   42  4.915816   GO Bond   \n",
       "5           0.157671                   42  3.845952     Paygo   \n",
       "\n",
       "            expand_capacity  input_flow  interest_rate  interest_rate_lock  \\\n",
       "experiment                                                                   \n",
       "1                 18.224793         115       0.031645               False   \n",
       "2                 87.525790         129       0.037612                True   \n",
       "3                 45.698048         105       0.028445               False   \n",
       "4                 51.297546         113       0.036234                True   \n",
       "5                 22.824149         133       0.039257               False   \n",
       "\n",
       "            unit_cost_expansion  value_of_time  yield_curve  free_flow_time  \\\n",
       "experiment                                                                    \n",
       "1                    118.213466       0.022518     0.015659              60   \n",
       "2                    141.322696       0.052306     0.007307              60   \n",
       "3                     97.783320       0.011923    -0.001545              60   \n",
       "4                    127.224901       0.077527     0.004342              60   \n",
       "5                    107.820482       0.027270     0.001558              60   \n",
       "\n",
       "            initial_capacity  \n",
       "experiment                    \n",
       "1                        100  \n",
       "2                        100  \n",
       "3                        100  \n",
       "4                        100  \n",
       "5                        100  "
      ]
     },
     "execution_count": 9,
     "metadata": {},
     "output_type": "execute_result"
    }
   ],
   "source": [
    "from emat.experiment.experimental_design import design_experiments\n",
    "design = design_experiments(s, db=db, n_samples_per_factor=10, sampler='lhs')\n",
    "design.head()\n"
   ]
  },
  {
   "cell_type": "code",
   "execution_count": 10,
   "metadata": {},
   "outputs": [],
   "source": [
    "from emat.model.core_python import PythonCoreModel\n",
    "from emat.model.core_python import Road_Capacity_Investment\n"
   ]
  },
  {
   "cell_type": "code",
   "execution_count": 11,
   "metadata": {},
   "outputs": [],
   "source": [
    "cm = PythonCoreModel(Road_Capacity_Investment, scope=s, db=db)"
   ]
  },
  {
   "cell_type": "code",
   "execution_count": 12,
   "metadata": {},
   "outputs": [],
   "source": [
    "# from ema_workbench import SequentialEvaluator"
   ]
  },
  {
   "cell_type": "code",
   "execution_count": 13,
   "metadata": {},
   "outputs": [
    {
     "data": {
      "text/html": [
       "<div>\n",
       "<style scoped>\n",
       "    .dataframe tbody tr th:only-of-type {\n",
       "        vertical-align: middle;\n",
       "    }\n",
       "\n",
       "    .dataframe tbody tr th {\n",
       "        vertical-align: top;\n",
       "    }\n",
       "\n",
       "    .dataframe thead th {\n",
       "        text-align: right;\n",
       "    }\n",
       "</style>\n",
       "<table border=\"1\" class=\"dataframe\">\n",
       "  <thead>\n",
       "    <tr style=\"text-align: right;\">\n",
       "      <th></th>\n",
       "      <th>alpha</th>\n",
       "      <th>beta</th>\n",
       "      <th>input_flow</th>\n",
       "      <th>value_of_time</th>\n",
       "      <th>unit_cost_expansion</th>\n",
       "      <th>interest_rate</th>\n",
       "      <th>yield_curve</th>\n",
       "      <th>expand_capacity</th>\n",
       "      <th>amortization_period</th>\n",
       "      <th>debt_type</th>\n",
       "      <th>interest_rate_lock</th>\n",
       "      <th>no_build_travel_time</th>\n",
       "      <th>build_travel_time</th>\n",
       "      <th>time_savings</th>\n",
       "      <th>value_of_time_savings</th>\n",
       "      <th>net_benefits</th>\n",
       "      <th>cost_of_capacity_expansion</th>\n",
       "      <th>present_cost_expansion</th>\n",
       "    </tr>\n",
       "    <tr>\n",
       "      <th>experiment</th>\n",
       "      <th></th>\n",
       "      <th></th>\n",
       "      <th></th>\n",
       "      <th></th>\n",
       "      <th></th>\n",
       "      <th></th>\n",
       "      <th></th>\n",
       "      <th></th>\n",
       "      <th></th>\n",
       "      <th></th>\n",
       "      <th></th>\n",
       "      <th></th>\n",
       "      <th></th>\n",
       "      <th></th>\n",
       "      <th></th>\n",
       "      <th></th>\n",
       "      <th></th>\n",
       "      <th></th>\n",
       "    </tr>\n",
       "  </thead>\n",
       "  <tbody>\n",
       "    <tr>\n",
       "      <th>1</th>\n",
       "      <td>0.184682</td>\n",
       "      <td>5.237143</td>\n",
       "      <td>115</td>\n",
       "      <td>0.022518</td>\n",
       "      <td>118.213466</td>\n",
       "      <td>0.031645</td>\n",
       "      <td>0.015659</td>\n",
       "      <td>18.224793</td>\n",
       "      <td>38</td>\n",
       "      <td>Rev Bond</td>\n",
       "      <td>False</td>\n",
       "      <td>83.038716</td>\n",
       "      <td>69.586789</td>\n",
       "      <td>13.451927</td>\n",
       "      <td>34.835362</td>\n",
       "      <td>-79.515515</td>\n",
       "      <td>114.350877</td>\n",
       "      <td>2154.415985</td>\n",
       "    </tr>\n",
       "    <tr>\n",
       "      <th>2</th>\n",
       "      <td>0.166133</td>\n",
       "      <td>4.121963</td>\n",
       "      <td>129</td>\n",
       "      <td>0.052306</td>\n",
       "      <td>141.322696</td>\n",
       "      <td>0.037612</td>\n",
       "      <td>0.007307</td>\n",
       "      <td>87.525790</td>\n",
       "      <td>36</td>\n",
       "      <td>Paygo</td>\n",
       "      <td>True</td>\n",
       "      <td>88.474313</td>\n",
       "      <td>62.132583</td>\n",
       "      <td>26.341730</td>\n",
       "      <td>177.741192</td>\n",
       "      <td>-205.321480</td>\n",
       "      <td>383.062672</td>\n",
       "      <td>12369.380535</td>\n",
       "    </tr>\n",
       "    <tr>\n",
       "      <th>3</th>\n",
       "      <td>0.198937</td>\n",
       "      <td>4.719838</td>\n",
       "      <td>105</td>\n",
       "      <td>0.011923</td>\n",
       "      <td>97.783320</td>\n",
       "      <td>0.028445</td>\n",
       "      <td>-0.001545</td>\n",
       "      <td>45.698048</td>\n",
       "      <td>44</td>\n",
       "      <td>GO Bond</td>\n",
       "      <td>False</td>\n",
       "      <td>75.027180</td>\n",
       "      <td>62.543328</td>\n",
       "      <td>12.483852</td>\n",
       "      <td>15.629037</td>\n",
       "      <td>-151.944318</td>\n",
       "      <td>167.573355</td>\n",
       "      <td>4468.506839</td>\n",
       "    </tr>\n",
       "    <tr>\n",
       "      <th>4</th>\n",
       "      <td>0.158758</td>\n",
       "      <td>4.915816</td>\n",
       "      <td>113</td>\n",
       "      <td>0.077527</td>\n",
       "      <td>127.224901</td>\n",
       "      <td>0.036234</td>\n",
       "      <td>0.004342</td>\n",
       "      <td>51.297546</td>\n",
       "      <td>42</td>\n",
       "      <td>GO Bond</td>\n",
       "      <td>True</td>\n",
       "      <td>77.370428</td>\n",
       "      <td>62.268768</td>\n",
       "      <td>15.101660</td>\n",
       "      <td>132.298475</td>\n",
       "      <td>-167.624871</td>\n",
       "      <td>299.923347</td>\n",
       "      <td>6526.325171</td>\n",
       "    </tr>\n",
       "    <tr>\n",
       "      <th>5</th>\n",
       "      <td>0.157671</td>\n",
       "      <td>3.845952</td>\n",
       "      <td>133</td>\n",
       "      <td>0.027270</td>\n",
       "      <td>107.820482</td>\n",
       "      <td>0.039257</td>\n",
       "      <td>0.001558</td>\n",
       "      <td>22.824149</td>\n",
       "      <td>42</td>\n",
       "      <td>Paygo</td>\n",
       "      <td>False</td>\n",
       "      <td>88.328990</td>\n",
       "      <td>72.848428</td>\n",
       "      <td>15.480561</td>\n",
       "      <td>56.146908</td>\n",
       "      <td>-3.972940</td>\n",
       "      <td>60.119848</td>\n",
       "      <td>2460.910705</td>\n",
       "    </tr>\n",
       "  </tbody>\n",
       "</table>\n",
       "</div>"
      ],
      "text/plain": [
       "               alpha      beta  input_flow  value_of_time  \\\n",
       "experiment                                                  \n",
       "1           0.184682  5.237143         115       0.022518   \n",
       "2           0.166133  4.121963         129       0.052306   \n",
       "3           0.198937  4.719838         105       0.011923   \n",
       "4           0.158758  4.915816         113       0.077527   \n",
       "5           0.157671  3.845952         133       0.027270   \n",
       "\n",
       "            unit_cost_expansion  interest_rate  yield_curve  expand_capacity  \\\n",
       "experiment                                                                     \n",
       "1                    118.213466       0.031645     0.015659        18.224793   \n",
       "2                    141.322696       0.037612     0.007307        87.525790   \n",
       "3                     97.783320       0.028445    -0.001545        45.698048   \n",
       "4                    127.224901       0.036234     0.004342        51.297546   \n",
       "5                    107.820482       0.039257     0.001558        22.824149   \n",
       "\n",
       "            amortization_period debt_type  interest_rate_lock  \\\n",
       "experiment                                                      \n",
       "1                            38  Rev Bond               False   \n",
       "2                            36     Paygo                True   \n",
       "3                            44   GO Bond               False   \n",
       "4                            42   GO Bond                True   \n",
       "5                            42     Paygo               False   \n",
       "\n",
       "            no_build_travel_time  build_travel_time  time_savings  \\\n",
       "experiment                                                          \n",
       "1                      83.038716          69.586789     13.451927   \n",
       "2                      88.474313          62.132583     26.341730   \n",
       "3                      75.027180          62.543328     12.483852   \n",
       "4                      77.370428          62.268768     15.101660   \n",
       "5                      88.328990          72.848428     15.480561   \n",
       "\n",
       "            value_of_time_savings  net_benefits  cost_of_capacity_expansion  \\\n",
       "experiment                                                                    \n",
       "1                       34.835362    -79.515515                  114.350877   \n",
       "2                      177.741192   -205.321480                  383.062672   \n",
       "3                       15.629037   -151.944318                  167.573355   \n",
       "4                      132.298475   -167.624871                  299.923347   \n",
       "5                       56.146908     -3.972940                   60.119848   \n",
       "\n",
       "            present_cost_expansion  \n",
       "experiment                          \n",
       "1                      2154.415985  \n",
       "2                     12369.380535  \n",
       "3                      4468.506839  \n",
       "4                      6526.325171  \n",
       "5                      2460.910705  "
      ]
     },
     "execution_count": 13,
     "metadata": {},
     "output_type": "execute_result"
    }
   ],
   "source": [
    "lhs_results = cm.run_experiments(design=design)\n",
    "lhs_results.head()"
   ]
  },
  {
   "cell_type": "code",
   "execution_count": 14,
   "metadata": {},
   "outputs": [],
   "source": [
    "# reload_results = m.read_experiments(design_name='lhs')\n",
    "# reload_results.head()\n"
   ]
  },
  {
   "cell_type": "code",
   "execution_count": 15,
   "metadata": {},
   "outputs": [
    {
     "data": {
      "text/plain": [
       "<emat.PythonCoreModel \"EMATMeta\", metamodel_id=1 with 2 constants, 7 uncertainties, 4 levers, 7 measures>"
      ]
     },
     "execution_count": 15,
     "metadata": {},
     "output_type": "execute_result"
    }
   ],
   "source": [
    "mm = cm.create_metamodel_from_design('lhs')\n",
    "mm"
   ]
  },
  {
   "cell_type": "code",
   "execution_count": 16,
   "metadata": {},
   "outputs": [
    {
     "data": {
      "text/plain": [
       "<emat.PythonCoreModel \"EMATMeta\", metamodel_id=2 with 2 constants, 7 uncertainties, 4 levers, 7 measures>"
      ]
     },
     "execution_count": 16,
     "metadata": {},
     "output_type": "execute_result"
    }
   ],
   "source": [
    "from emat.multitarget.stacked import DetrendedStackedSingleTargetRegression\n",
    "\n",
    "mm_sst = cm.create_metamodel_from_design(\n",
    "    'lhs',\n",
    "    regressor=DetrendedStackedSingleTargetRegression\n",
    ")\n",
    "mm_sst"
   ]
  },
  {
   "cell_type": "code",
   "execution_count": 17,
   "metadata": {},
   "outputs": [],
   "source": [
    "import emat.multitarget.boosting\n",
    "import imp\n",
    "imp.reload(emat.multitarget.boosting)\n",
    "from emat.multitarget.boosting import BoostedRegressor"
   ]
  },
  {
   "cell_type": "code",
   "execution_count": 18,
   "metadata": {},
   "outputs": [],
   "source": [
    "from emat.multitarget.linear import LinearRegression\n",
    "#from sklearn.gaussian_process.kernels import RBF, ConstantKernel as C, RationalQuadratic as RQ\n",
    "from emat.multitarget.anisotropic import AnisotropicGaussianProcessRegressor as AGPR\n",
    "from emat.multitarget.base import MultiOutputRegressor\n",
    "from emat.multitarget import MultipleTargetRegression\n",
    "from emat.multitarget.ensemble import EnsembleRegressorChain2\n",
    "from emat.multitarget.ensemble import DetrendedEnsembleRegressorChains\n",
    "from emat.multitarget.chained import RegressorChain\n"
   ]
  },
  {
   "cell_type": "code",
   "execution_count": 19,
   "metadata": {},
   "outputs": [],
   "source": [
    "boosts = BoostedRegressor([\n",
    "    LinearRegression(\n",
    "        frame_out=True,   \n",
    "    ),\n",
    "    MultipleTargetRegression(\n",
    "    ),\n",
    "])"
   ]
  },
  {
   "cell_type": "code",
   "execution_count": 20,
   "metadata": {},
   "outputs": [
    {
     "data": {
      "text/plain": [
       "<emat.PythonCoreModel \"EMATMeta\", metamodel_id=3 with 2 constants, 7 uncertainties, 4 levers, 7 measures>"
      ]
     },
     "execution_count": 20,
     "metadata": {},
     "output_type": "execute_result"
    }
   ],
   "source": [
    "mm_boo = cm.create_metamodel_from_design('lhs', regressor=boosts,)\n",
    "mm_boo"
   ]
  },
  {
   "cell_type": "code",
   "execution_count": 21,
   "metadata": {},
   "outputs": [
    {
     "data": {
      "text/plain": [
       "<emat.PythonCoreModel \"EMATMeta\", metamodel_id=4 with 2 constants, 7 uncertainties, 4 levers, 7 measures>"
      ]
     },
     "execution_count": 21,
     "metadata": {},
     "output_type": "execute_result"
    }
   ],
   "source": [
    "mm_lr = cm.create_metamodel_from_design('lhs', regressor=LinearRegression(frame_out=True))\n",
    "mm_lr"
   ]
  },
  {
   "cell_type": "code",
   "execution_count": 22,
   "metadata": {},
   "outputs": [],
   "source": [
    "boost1 = BoostedRegressor([\n",
    "    LinearRegression(\n",
    "        frame_out=True,   \n",
    "    ),\n",
    "    AGPR(\n",
    "        n_restarts_optimizer=250,\n",
    "    ),\n",
    "])"
   ]
  },
  {
   "cell_type": "code",
   "execution_count": 23,
   "metadata": {},
   "outputs": [
    {
     "data": {
      "text/plain": [
       "<emat.PythonCoreModel \"EMATMeta\", metamodel_id=5 with 2 constants, 7 uncertainties, 4 levers, 7 measures>"
      ]
     },
     "execution_count": 23,
     "metadata": {},
     "output_type": "execute_result"
    }
   ],
   "source": [
    "mm_rc = cm.create_metamodel_from_design('lhs', regressor=RegressorChain(boost1))\n",
    "mm_rc"
   ]
  },
  {
   "cell_type": "code",
   "execution_count": 24,
   "metadata": {},
   "outputs": [
    {
     "data": {
      "text/plain": [
       "<emat.PythonCoreModel \"EMATMeta\", metamodel_id=6 with 2 constants, 7 uncertainties, 4 levers, 7 measures>"
      ]
     },
     "execution_count": 24,
     "metadata": {},
     "output_type": "execute_result"
    }
   ],
   "source": [
    "mm_lrc = cm.create_metamodel_from_design('lhs', regressor=LinearRegression(frame_out=True))\n",
    "mm_lrc"
   ]
  },
  {
   "cell_type": "code",
   "execution_count": 25,
   "metadata": {},
   "outputs": [
    {
     "data": {
      "text/plain": [
       "<emat.PythonCoreModel \"EMATMeta\", metamodel_id=7 with 2 constants, 7 uncertainties, 4 levers, 7 measures>"
      ]
     },
     "execution_count": 25,
     "metadata": {},
     "output_type": "execute_result"
    }
   ],
   "source": [
    "mm_erc1 = cm.create_metamodel_from_design('lhs', regressor=EnsembleRegressorChain2(n_chains=1))\n",
    "mm_erc1"
   ]
  },
  {
   "cell_type": "code",
   "execution_count": 26,
   "metadata": {},
   "outputs": [
    {
     "data": {
      "text/plain": [
       "<emat.PythonCoreModel \"EMATMeta\", metamodel_id=8 with 2 constants, 7 uncertainties, 4 levers, 7 measures>"
      ]
     },
     "execution_count": 26,
     "metadata": {},
     "output_type": "execute_result"
    }
   ],
   "source": [
    "mm_erc = cm.create_metamodel_from_design('lhs', regressor=EnsembleRegressorChain2(n_chains=6))\n",
    "mm_erc"
   ]
  },
  {
   "cell_type": "code",
   "execution_count": 27,
   "metadata": {},
   "outputs": [
    {
     "data": {
      "text/plain": [
       "<emat.PythonCoreModel \"EMATMeta\", metamodel_id=9 with 2 constants, 7 uncertainties, 4 levers, 7 measures>"
      ]
     },
     "execution_count": 27,
     "metadata": {},
     "output_type": "execute_result"
    }
   ],
   "source": [
    "mm_erc5 = cm.create_metamodel_from_design('lhs', regressor=EnsembleRegressorChain2(n_chains=2, cv=5))\n",
    "mm_erc5"
   ]
  },
  {
   "cell_type": "code",
   "execution_count": 28,
   "metadata": {},
   "outputs": [],
   "source": [
    "validation_data = design_experiments(s, db=db, n_samples_per_factor=10, sampler='lhs', random_seed=444)"
   ]
  },
  {
   "cell_type": "code",
   "execution_count": 29,
   "metadata": {},
   "outputs": [
    {
     "data": {
      "text/html": [
       "<div>\n",
       "<style scoped>\n",
       "    .dataframe tbody tr th:only-of-type {\n",
       "        vertical-align: middle;\n",
       "    }\n",
       "\n",
       "    .dataframe tbody tr th {\n",
       "        vertical-align: top;\n",
       "    }\n",
       "\n",
       "    .dataframe thead th {\n",
       "        text-align: right;\n",
       "    }\n",
       "</style>\n",
       "<table border=\"1\" class=\"dataframe\">\n",
       "  <thead>\n",
       "    <tr style=\"text-align: right;\">\n",
       "      <th></th>\n",
       "      <th>alpha</th>\n",
       "      <th>amortization_period</th>\n",
       "      <th>beta</th>\n",
       "      <th>debt_type</th>\n",
       "      <th>expand_capacity</th>\n",
       "      <th>input_flow</th>\n",
       "      <th>interest_rate</th>\n",
       "      <th>interest_rate_lock</th>\n",
       "      <th>unit_cost_expansion</th>\n",
       "      <th>value_of_time</th>\n",
       "      <th>yield_curve</th>\n",
       "      <th>free_flow_time</th>\n",
       "      <th>initial_capacity</th>\n",
       "    </tr>\n",
       "    <tr>\n",
       "      <th>experiment</th>\n",
       "      <th></th>\n",
       "      <th></th>\n",
       "      <th></th>\n",
       "      <th></th>\n",
       "      <th></th>\n",
       "      <th></th>\n",
       "      <th></th>\n",
       "      <th></th>\n",
       "      <th></th>\n",
       "      <th></th>\n",
       "      <th></th>\n",
       "      <th></th>\n",
       "      <th></th>\n",
       "    </tr>\n",
       "  </thead>\n",
       "  <tbody>\n",
       "    <tr>\n",
       "      <th>111</th>\n",
       "      <td>0.118865</td>\n",
       "      <td>27</td>\n",
       "      <td>4.595404</td>\n",
       "      <td>GO Bond</td>\n",
       "      <td>41.407414</td>\n",
       "      <td>141</td>\n",
       "      <td>0.031256</td>\n",
       "      <td>True</td>\n",
       "      <td>127.842399</td>\n",
       "      <td>0.026021</td>\n",
       "      <td>-0.002180</td>\n",
       "      <td>60</td>\n",
       "      <td>100</td>\n",
       "    </tr>\n",
       "    <tr>\n",
       "      <th>112</th>\n",
       "      <td>0.144928</td>\n",
       "      <td>27</td>\n",
       "      <td>4.058454</td>\n",
       "      <td>Paygo</td>\n",
       "      <td>69.520526</td>\n",
       "      <td>114</td>\n",
       "      <td>0.034399</td>\n",
       "      <td>False</td>\n",
       "      <td>128.643815</td>\n",
       "      <td>0.037977</td>\n",
       "      <td>0.017485</td>\n",
       "      <td>60</td>\n",
       "      <td>100</td>\n",
       "    </tr>\n",
       "    <tr>\n",
       "      <th>113</th>\n",
       "      <td>0.140603</td>\n",
       "      <td>21</td>\n",
       "      <td>4.660208</td>\n",
       "      <td>GO Bond</td>\n",
       "      <td>3.283425</td>\n",
       "      <td>114</td>\n",
       "      <td>0.039105</td>\n",
       "      <td>True</td>\n",
       "      <td>130.959208</td>\n",
       "      <td>0.074024</td>\n",
       "      <td>-0.001967</td>\n",
       "      <td>60</td>\n",
       "      <td>100</td>\n",
       "    </tr>\n",
       "    <tr>\n",
       "      <th>114</th>\n",
       "      <td>0.115624</td>\n",
       "      <td>42</td>\n",
       "      <td>4.754447</td>\n",
       "      <td>Rev Bond</td>\n",
       "      <td>86.519772</td>\n",
       "      <td>145</td>\n",
       "      <td>0.038980</td>\n",
       "      <td>False</td>\n",
       "      <td>143.229074</td>\n",
       "      <td>0.071638</td>\n",
       "      <td>0.007511</td>\n",
       "      <td>60</td>\n",
       "      <td>100</td>\n",
       "    </tr>\n",
       "    <tr>\n",
       "      <th>115</th>\n",
       "      <td>0.150072</td>\n",
       "      <td>17</td>\n",
       "      <td>5.126105</td>\n",
       "      <td>Paygo</td>\n",
       "      <td>67.684449</td>\n",
       "      <td>144</td>\n",
       "      <td>0.032431</td>\n",
       "      <td>False</td>\n",
       "      <td>126.025730</td>\n",
       "      <td>0.021973</td>\n",
       "      <td>-0.001872</td>\n",
       "      <td>60</td>\n",
       "      <td>100</td>\n",
       "    </tr>\n",
       "  </tbody>\n",
       "</table>\n",
       "</div>"
      ],
      "text/plain": [
       "               alpha  amortization_period      beta debt_type  \\\n",
       "experiment                                                      \n",
       "111         0.118865                   27  4.595404   GO Bond   \n",
       "112         0.144928                   27  4.058454     Paygo   \n",
       "113         0.140603                   21  4.660208   GO Bond   \n",
       "114         0.115624                   42  4.754447  Rev Bond   \n",
       "115         0.150072                   17  5.126105     Paygo   \n",
       "\n",
       "            expand_capacity  input_flow  interest_rate  interest_rate_lock  \\\n",
       "experiment                                                                   \n",
       "111               41.407414         141       0.031256                True   \n",
       "112               69.520526         114       0.034399               False   \n",
       "113                3.283425         114       0.039105                True   \n",
       "114               86.519772         145       0.038980               False   \n",
       "115               67.684449         144       0.032431               False   \n",
       "\n",
       "            unit_cost_expansion  value_of_time  yield_curve  free_flow_time  \\\n",
       "experiment                                                                    \n",
       "111                  127.842399       0.026021    -0.002180              60   \n",
       "112                  128.643815       0.037977     0.017485              60   \n",
       "113                  130.959208       0.074024    -0.001967              60   \n",
       "114                  143.229074       0.071638     0.007511              60   \n",
       "115                  126.025730       0.021973    -0.001872              60   \n",
       "\n",
       "            initial_capacity  \n",
       "experiment                    \n",
       "111                      100  \n",
       "112                      100  \n",
       "113                      100  \n",
       "114                      100  \n",
       "115                      100  "
      ]
     },
     "execution_count": 29,
     "metadata": {},
     "output_type": "execute_result"
    }
   ],
   "source": [
    "validation_data.head()"
   ]
  },
  {
   "cell_type": "code",
   "execution_count": 30,
   "metadata": {},
   "outputs": [],
   "source": [
    "val = {}"
   ]
  },
  {
   "cell_type": "code",
   "execution_count": 31,
   "metadata": {},
   "outputs": [],
   "source": [
    "val['cm'] = cm.run_experiments(design=validation_data)"
   ]
  },
  {
   "cell_type": "code",
   "execution_count": 32,
   "metadata": {},
   "outputs": [],
   "source": [
    "val['mm'] = mm.run_experiments(design=validation_data)"
   ]
  },
  {
   "cell_type": "code",
   "execution_count": 33,
   "metadata": {},
   "outputs": [],
   "source": [
    "val['rc'] = mm_rc.run_experiments(design=validation_data)"
   ]
  },
  {
   "cell_type": "code",
   "execution_count": 34,
   "metadata": {},
   "outputs": [],
   "source": [
    "val['boo'] = mm_boo.run_experiments(design=validation_data)"
   ]
  },
  {
   "cell_type": "code",
   "execution_count": 35,
   "metadata": {},
   "outputs": [],
   "source": [
    "val['sst'] = mm_sst.run_experiments(design=validation_data)"
   ]
  },
  {
   "cell_type": "code",
   "execution_count": 36,
   "metadata": {},
   "outputs": [],
   "source": [
    "val['lr'] = mm_lr.run_experiments(design=validation_data)"
   ]
  },
  {
   "cell_type": "code",
   "execution_count": 37,
   "metadata": {},
   "outputs": [],
   "source": [
    "val['erc1'] = mm_erc1.run_experiments(design=validation_data)"
   ]
  },
  {
   "cell_type": "code",
   "execution_count": 38,
   "metadata": {},
   "outputs": [],
   "source": [
    "val['erc'] = mm_erc.run_experiments(design=validation_data)"
   ]
  },
  {
   "cell_type": "code",
   "execution_count": 49,
   "metadata": {},
   "outputs": [],
   "source": [
    "val['erc5'] = mm_erc5.run_experiments(design=validation_data)"
   ]
  },
  {
   "cell_type": "code",
   "execution_count": 40,
   "metadata": {},
   "outputs": [
    {
     "data": {
      "text/html": [
       "<div>\n",
       "<style scoped>\n",
       "    .dataframe tbody tr th:only-of-type {\n",
       "        vertical-align: middle;\n",
       "    }\n",
       "\n",
       "    .dataframe tbody tr th {\n",
       "        vertical-align: top;\n",
       "    }\n",
       "\n",
       "    .dataframe thead th {\n",
       "        text-align: right;\n",
       "    }\n",
       "</style>\n",
       "<table border=\"1\" class=\"dataframe\">\n",
       "  <thead>\n",
       "    <tr style=\"text-align: right;\">\n",
       "      <th></th>\n",
       "      <th>alpha</th>\n",
       "      <th>beta</th>\n",
       "      <th>input_flow</th>\n",
       "      <th>value_of_time</th>\n",
       "      <th>unit_cost_expansion</th>\n",
       "      <th>interest_rate</th>\n",
       "      <th>yield_curve</th>\n",
       "      <th>expand_capacity</th>\n",
       "      <th>amortization_period</th>\n",
       "      <th>debt_type</th>\n",
       "      <th>interest_rate_lock</th>\n",
       "      <th>no_build_travel_time</th>\n",
       "      <th>build_travel_time</th>\n",
       "      <th>time_savings</th>\n",
       "      <th>value_of_time_savings</th>\n",
       "      <th>net_benefits</th>\n",
       "      <th>cost_of_capacity_expansion</th>\n",
       "      <th>present_cost_expansion</th>\n",
       "    </tr>\n",
       "    <tr>\n",
       "      <th>experiment</th>\n",
       "      <th></th>\n",
       "      <th></th>\n",
       "      <th></th>\n",
       "      <th></th>\n",
       "      <th></th>\n",
       "      <th></th>\n",
       "      <th></th>\n",
       "      <th></th>\n",
       "      <th></th>\n",
       "      <th></th>\n",
       "      <th></th>\n",
       "      <th></th>\n",
       "      <th></th>\n",
       "      <th></th>\n",
       "      <th></th>\n",
       "      <th></th>\n",
       "      <th></th>\n",
       "      <th></th>\n",
       "    </tr>\n",
       "  </thead>\n",
       "  <tbody>\n",
       "    <tr>\n",
       "      <th>111</th>\n",
       "      <td>0.118865</td>\n",
       "      <td>4.595404</td>\n",
       "      <td>141</td>\n",
       "      <td>0.026021</td>\n",
       "      <td>127.842399</td>\n",
       "      <td>0.031256</td>\n",
       "      <td>-0.00218</td>\n",
       "      <td>41.407414</td>\n",
       "      <td>27</td>\n",
       "      <td>GO Bond</td>\n",
       "      <td>True</td>\n",
       "      <td>94.58819</td>\n",
       "      <td>67.037969</td>\n",
       "      <td>27.550221</td>\n",
       "      <td>101.082456</td>\n",
       "      <td>-190.952623</td>\n",
       "      <td>292.03508</td>\n",
       "      <td>5293.623191</td>\n",
       "    </tr>\n",
       "  </tbody>\n",
       "</table>\n",
       "</div>"
      ],
      "text/plain": [
       "               alpha      beta  input_flow  value_of_time  \\\n",
       "experiment                                                  \n",
       "111         0.118865  4.595404         141       0.026021   \n",
       "\n",
       "            unit_cost_expansion  interest_rate  yield_curve  expand_capacity  \\\n",
       "experiment                                                                     \n",
       "111                  127.842399       0.031256     -0.00218        41.407414   \n",
       "\n",
       "            amortization_period debt_type  interest_rate_lock  \\\n",
       "experiment                                                      \n",
       "111                          27   GO Bond                True   \n",
       "\n",
       "            no_build_travel_time  build_travel_time  time_savings  \\\n",
       "experiment                                                          \n",
       "111                     94.58819          67.037969     27.550221   \n",
       "\n",
       "            value_of_time_savings  net_benefits  cost_of_capacity_expansion  \\\n",
       "experiment                                                                    \n",
       "111                    101.082456   -190.952623                   292.03508   \n",
       "\n",
       "            present_cost_expansion  \n",
       "experiment                          \n",
       "111                    5293.623191  "
      ]
     },
     "execution_count": 40,
     "metadata": {},
     "output_type": "execute_result"
    }
   ],
   "source": [
    "val['cm'].head(1)"
   ]
  },
  {
   "cell_type": "code",
   "execution_count": 41,
   "metadata": {},
   "outputs": [
    {
     "data": {
      "text/html": [
       "<div>\n",
       "<style scoped>\n",
       "    .dataframe tbody tr th:only-of-type {\n",
       "        vertical-align: middle;\n",
       "    }\n",
       "\n",
       "    .dataframe tbody tr th {\n",
       "        vertical-align: top;\n",
       "    }\n",
       "\n",
       "    .dataframe thead th {\n",
       "        text-align: right;\n",
       "    }\n",
       "</style>\n",
       "<table border=\"1\" class=\"dataframe\">\n",
       "  <thead>\n",
       "    <tr style=\"text-align: right;\">\n",
       "      <th></th>\n",
       "      <th>alpha</th>\n",
       "      <th>beta</th>\n",
       "      <th>input_flow</th>\n",
       "      <th>value_of_time</th>\n",
       "      <th>unit_cost_expansion</th>\n",
       "      <th>interest_rate</th>\n",
       "      <th>yield_curve</th>\n",
       "      <th>expand_capacity</th>\n",
       "      <th>amortization_period</th>\n",
       "      <th>debt_type</th>\n",
       "      <th>interest_rate_lock</th>\n",
       "      <th>no_build_travel_time</th>\n",
       "      <th>build_travel_time</th>\n",
       "      <th>time_savings</th>\n",
       "      <th>value_of_time_savings</th>\n",
       "      <th>net_benefits</th>\n",
       "      <th>cost_of_capacity_expansion</th>\n",
       "      <th>present_cost_expansion</th>\n",
       "    </tr>\n",
       "    <tr>\n",
       "      <th>experiment</th>\n",
       "      <th></th>\n",
       "      <th></th>\n",
       "      <th></th>\n",
       "      <th></th>\n",
       "      <th></th>\n",
       "      <th></th>\n",
       "      <th></th>\n",
       "      <th></th>\n",
       "      <th></th>\n",
       "      <th></th>\n",
       "      <th></th>\n",
       "      <th></th>\n",
       "      <th></th>\n",
       "      <th></th>\n",
       "      <th></th>\n",
       "      <th></th>\n",
       "      <th></th>\n",
       "      <th></th>\n",
       "    </tr>\n",
       "  </thead>\n",
       "  <tbody>\n",
       "    <tr>\n",
       "      <th>111</th>\n",
       "      <td>0.118865</td>\n",
       "      <td>4.595404</td>\n",
       "      <td>141</td>\n",
       "      <td>0.026021</td>\n",
       "      <td>127.842399</td>\n",
       "      <td>0.031256</td>\n",
       "      <td>-0.00218</td>\n",
       "      <td>41.407414</td>\n",
       "      <td>27</td>\n",
       "      <td>GO Bond</td>\n",
       "      <td>True</td>\n",
       "      <td>96.821233</td>\n",
       "      <td>67.204716</td>\n",
       "      <td>28.015143</td>\n",
       "      <td>91.923001</td>\n",
       "      <td>-196.039541</td>\n",
       "      <td>274.859355</td>\n",
       "      <td>4910.682168</td>\n",
       "    </tr>\n",
       "  </tbody>\n",
       "</table>\n",
       "</div>"
      ],
      "text/plain": [
       "               alpha      beta  input_flow  value_of_time  \\\n",
       "experiment                                                  \n",
       "111         0.118865  4.595404         141       0.026021   \n",
       "\n",
       "            unit_cost_expansion  interest_rate  yield_curve  expand_capacity  \\\n",
       "experiment                                                                     \n",
       "111                  127.842399       0.031256     -0.00218        41.407414   \n",
       "\n",
       "            amortization_period debt_type  interest_rate_lock  \\\n",
       "experiment                                                      \n",
       "111                          27   GO Bond                True   \n",
       "\n",
       "            no_build_travel_time  build_travel_time  time_savings  \\\n",
       "experiment                                                          \n",
       "111                    96.821233          67.204716     28.015143   \n",
       "\n",
       "            value_of_time_savings  net_benefits  cost_of_capacity_expansion  \\\n",
       "experiment                                                                    \n",
       "111                     91.923001   -196.039541                  274.859355   \n",
       "\n",
       "            present_cost_expansion  \n",
       "experiment                          \n",
       "111                    4910.682168  "
      ]
     },
     "execution_count": 41,
     "metadata": {},
     "output_type": "execute_result"
    }
   ],
   "source": [
    "val['erc'].head(1)"
   ]
  },
  {
   "cell_type": "code",
   "execution_count": 42,
   "metadata": {},
   "outputs": [
    {
     "data": {
      "text/html": [
       "<div>\n",
       "<style scoped>\n",
       "    .dataframe tbody tr th:only-of-type {\n",
       "        vertical-align: middle;\n",
       "    }\n",
       "\n",
       "    .dataframe tbody tr th {\n",
       "        vertical-align: top;\n",
       "    }\n",
       "\n",
       "    .dataframe thead th {\n",
       "        text-align: right;\n",
       "    }\n",
       "</style>\n",
       "<table border=\"1\" class=\"dataframe\">\n",
       "  <thead>\n",
       "    <tr style=\"text-align: right;\">\n",
       "      <th></th>\n",
       "      <th>no_build_travel_time</th>\n",
       "      <th>build_travel_time</th>\n",
       "      <th>time_savings</th>\n",
       "      <th>value_of_time_savings</th>\n",
       "      <th>net_benefits</th>\n",
       "      <th>cost_of_capacity_expansion</th>\n",
       "      <th>present_cost_expansion</th>\n",
       "    </tr>\n",
       "    <tr>\n",
       "      <th>experiment</th>\n",
       "      <th></th>\n",
       "      <th></th>\n",
       "      <th></th>\n",
       "      <th></th>\n",
       "      <th></th>\n",
       "      <th></th>\n",
       "      <th></th>\n",
       "    </tr>\n",
       "  </thead>\n",
       "  <tbody>\n",
       "    <tr>\n",
       "      <th>111</th>\n",
       "      <td>3.632871</td>\n",
       "      <td>2.104709</td>\n",
       "      <td>3.332745</td>\n",
       "      <td>4.520951</td>\n",
       "      <td>-196.039541</td>\n",
       "      <td>5.61626</td>\n",
       "      <td>8.499168</td>\n",
       "    </tr>\n",
       "  </tbody>\n",
       "</table>\n",
       "</div>"
      ],
      "text/plain": [
       "            no_build_travel_time  build_travel_time  time_savings  \\\n",
       "experiment                                                          \n",
       "111                     3.632871           2.104709      3.332745   \n",
       "\n",
       "            value_of_time_savings  net_benefits  cost_of_capacity_expansion  \\\n",
       "experiment                                                                    \n",
       "111                      4.520951   -196.039541                     5.61626   \n",
       "\n",
       "            present_cost_expansion  \n",
       "experiment                          \n",
       "111                       8.499168  "
      ]
     },
     "execution_count": 42,
     "metadata": {},
     "output_type": "execute_result"
    }
   ],
   "source": [
    "mm_erc.function.regression.predict(\n",
    "    mm_erc.function.preprocess_raw_input(validation_data, to_type=float)\n",
    ").head(1)"
   ]
  },
  {
   "cell_type": "code",
   "execution_count": 43,
   "metadata": {},
   "outputs": [
    {
     "data": {
      "text/plain": [
       "array([[   3.64246891,    3.63643421,    3.57238326,    3.62747379,\n",
       "           3.67378754,    3.64467633],\n",
       "       [   2.10823535,    2.12831627,    2.1069379 ,    2.14754804,\n",
       "           2.03328881,    2.10392823],\n",
       "       [   3.45845639,    3.2386993 ,    3.29467094,    3.37051493,\n",
       "           3.24524631,    3.38888331],\n",
       "       [   4.63915672,    4.57869837,    4.27123863,    4.5391098 ,\n",
       "           4.39978514,    4.697719  ],\n",
       "       [-191.73046569, -250.88232787, -151.0347015 , -196.64386412,\n",
       "        -198.30039465, -187.64548976],\n",
       "       [   5.77351365,    5.54709335,    5.60217215,    5.59837514,\n",
       "           5.47869866,    5.69770422],\n",
       "       [   8.61878256,    8.36570842,    8.54497382,    8.54029534,\n",
       "           8.3751744 ,    8.55007432]])"
      ]
     },
     "execution_count": 43,
     "metadata": {},
     "output_type": "execute_result"
    }
   ],
   "source": [
    "mm_erc.function.regression._predict(\n",
    "    mm_erc.function.preprocess_raw_input(validation_data, to_type=float)\n",
    ")[:,0,:]"
   ]
  },
  {
   "cell_type": "code",
   "execution_count": 44,
   "metadata": {},
   "outputs": [
    {
     "data": {
      "text/plain": [
       "array([   3.63643421,    2.12831627,    3.2386993 ,    4.57869837,\n",
       "       -250.88232787,    5.54709335,    8.36570842])"
      ]
     },
     "execution_count": 44,
     "metadata": {},
     "output_type": "execute_result"
    }
   ],
   "source": [
    "mm_erc.function.regression.estimators_[1].predict(\n",
    "    mm_erc.function.preprocess_raw_input(validation_data, to_type=float)\n",
    ")[0]"
   ]
  },
  {
   "cell_type": "code",
   "execution_count": 45,
   "metadata": {},
   "outputs": [
    {
     "data": {
      "text/plain": [
       "array([ 5.00340699e+00,  4.01810944e-01,  5.45911896e-02,  3.37152951e+01,\n",
       "       -1.59959354e-03,  4.16460123e+00,  4.42283662e+00,  1.72907294e-02,\n",
       "        1.48089030e-03, -1.60679272e-01,  2.69196432e-02, -7.59860051e-03,\n",
       "       -1.93210427e-02])"
      ]
     },
     "execution_count": 45,
     "metadata": {},
     "output_type": "execute_result"
    }
   ],
   "source": [
    "mm_erc.function.regression.estimators_[1].estimators_[0].estimators_[0].coef_"
   ]
  },
  {
   "cell_type": "code",
   "execution_count": 46,
   "metadata": {},
   "outputs": [
    {
     "data": {
      "text/plain": [
       "RBF(length_scale=[0.157, 2.01, 216, 6.95e+04, 109, 0.022, 0.0895, 11.7, 126, 1e+05, 0.0209, 1.49e+03, 0.00156])"
      ]
     },
     "execution_count": 46,
     "metadata": {},
     "output_type": "execute_result"
    }
   ],
   "source": [
    "mm_erc.function.regression.estimators_[0].estimators_[0].estimators_[1].kernel_"
   ]
  },
  {
   "cell_type": "code",
   "execution_count": 50,
   "metadata": {},
   "outputs": [],
   "source": [
    "\n",
    "systems = ['cm','mm','rc','boo','sst','erc1','erc','erc5','lr']\n",
    "\n",
    "# pandas.concat([\n",
    "#     val[k].present_cost_expansion.rename(k)\n",
    "#     for k in systems\n",
    "# ], axis=1).head()"
   ]
  },
  {
   "cell_type": "code",
   "execution_count": 51,
   "metadata": {},
   "outputs": [
    {
     "data": {
      "text/html": [
       "<div>\n",
       "<style scoped>\n",
       "    .dataframe tbody tr th:only-of-type {\n",
       "        vertical-align: middle;\n",
       "    }\n",
       "\n",
       "    .dataframe tbody tr th {\n",
       "        vertical-align: top;\n",
       "    }\n",
       "\n",
       "    .dataframe thead th {\n",
       "        text-align: right;\n",
       "    }\n",
       "</style>\n",
       "<table border=\"1\" class=\"dataframe\">\n",
       "  <thead>\n",
       "    <tr style=\"text-align: right;\">\n",
       "      <th></th>\n",
       "      <th>no_build_travel_time</th>\n",
       "      <th>build_travel_time</th>\n",
       "      <th>time_savings</th>\n",
       "      <th>value_of_time_savings</th>\n",
       "      <th>net_benefits</th>\n",
       "      <th>cost_of_capacity_expansion</th>\n",
       "      <th>present_cost_expansion</th>\n",
       "    </tr>\n",
       "  </thead>\n",
       "  <tbody>\n",
       "    <tr>\n",
       "      <th>cm</th>\n",
       "      <td>1.000000</td>\n",
       "      <td>1.000000</td>\n",
       "      <td>1.000000</td>\n",
       "      <td>1.000000</td>\n",
       "      <td>1.000000</td>\n",
       "      <td>1.000000</td>\n",
       "      <td>1.000000</td>\n",
       "    </tr>\n",
       "    <tr>\n",
       "      <th>mm</th>\n",
       "      <td>0.991611</td>\n",
       "      <td>0.900000</td>\n",
       "      <td>0.963781</td>\n",
       "      <td>0.878246</td>\n",
       "      <td>0.843721</td>\n",
       "      <td>0.918833</td>\n",
       "      <td>0.985319</td>\n",
       "    </tr>\n",
       "    <tr>\n",
       "      <th>rc</th>\n",
       "      <td>0.990185</td>\n",
       "      <td>0.854174</td>\n",
       "      <td>0.980190</td>\n",
       "      <td>0.955830</td>\n",
       "      <td>0.739517</td>\n",
       "      <td>0.965363</td>\n",
       "      <td>0.953689</td>\n",
       "    </tr>\n",
       "    <tr>\n",
       "      <th>boo</th>\n",
       "      <td>0.976984</td>\n",
       "      <td>0.929032</td>\n",
       "      <td>0.903375</td>\n",
       "      <td>0.884694</td>\n",
       "      <td>0.764306</td>\n",
       "      <td>0.920677</td>\n",
       "      <td>0.915053</td>\n",
       "    </tr>\n",
       "    <tr>\n",
       "      <th>sst</th>\n",
       "      <td>0.995840</td>\n",
       "      <td>0.971186</td>\n",
       "      <td>0.984708</td>\n",
       "      <td>0.902150</td>\n",
       "      <td>0.783985</td>\n",
       "      <td>0.991933</td>\n",
       "      <td>0.997227</td>\n",
       "    </tr>\n",
       "    <tr>\n",
       "      <th>erc1</th>\n",
       "      <td>0.993925</td>\n",
       "      <td>0.746095</td>\n",
       "      <td>0.969251</td>\n",
       "      <td>0.821054</td>\n",
       "      <td>0.809351</td>\n",
       "      <td>0.950306</td>\n",
       "      <td>0.946786</td>\n",
       "    </tr>\n",
       "    <tr>\n",
       "      <th>erc</th>\n",
       "      <td>0.984212</td>\n",
       "      <td>0.787676</td>\n",
       "      <td>0.943099</td>\n",
       "      <td>0.917562</td>\n",
       "      <td>0.861769</td>\n",
       "      <td>0.885932</td>\n",
       "      <td>0.882521</td>\n",
       "    </tr>\n",
       "    <tr>\n",
       "      <th>erc5</th>\n",
       "      <td>0.986858</td>\n",
       "      <td>0.794837</td>\n",
       "      <td>0.943983</td>\n",
       "      <td>0.903543</td>\n",
       "      <td>0.817583</td>\n",
       "      <td>0.884182</td>\n",
       "      <td>0.629309</td>\n",
       "    </tr>\n",
       "    <tr>\n",
       "      <th>lr</th>\n",
       "      <td>0.971534</td>\n",
       "      <td>0.624780</td>\n",
       "      <td>0.802494</td>\n",
       "      <td>0.663875</td>\n",
       "      <td>0.810166</td>\n",
       "      <td>0.508537</td>\n",
       "      <td>0.374351</td>\n",
       "    </tr>\n",
       "  </tbody>\n",
       "</table>\n",
       "</div>"
      ],
      "text/plain": [
       "      no_build_travel_time  build_travel_time  time_savings  \\\n",
       "cm                1.000000           1.000000      1.000000   \n",
       "mm                0.991611           0.900000      0.963781   \n",
       "rc                0.990185           0.854174      0.980190   \n",
       "boo               0.976984           0.929032      0.903375   \n",
       "sst               0.995840           0.971186      0.984708   \n",
       "erc1              0.993925           0.746095      0.969251   \n",
       "erc               0.984212           0.787676      0.943099   \n",
       "erc5              0.986858           0.794837      0.943983   \n",
       "lr                0.971534           0.624780      0.802494   \n",
       "\n",
       "      value_of_time_savings  net_benefits  cost_of_capacity_expansion  \\\n",
       "cm                 1.000000      1.000000                    1.000000   \n",
       "mm                 0.878246      0.843721                    0.918833   \n",
       "rc                 0.955830      0.739517                    0.965363   \n",
       "boo                0.884694      0.764306                    0.920677   \n",
       "sst                0.902150      0.783985                    0.991933   \n",
       "erc1               0.821054      0.809351                    0.950306   \n",
       "erc                0.917562      0.861769                    0.885932   \n",
       "erc5               0.903543      0.817583                    0.884182   \n",
       "lr                 0.663875      0.810166                    0.508537   \n",
       "\n",
       "      present_cost_expansion  \n",
       "cm                  1.000000  \n",
       "mm                  0.985319  \n",
       "rc                  0.953689  \n",
       "boo                 0.915053  \n",
       "sst                 0.997227  \n",
       "erc1                0.946786  \n",
       "erc                 0.882521  \n",
       "erc5                0.629309  \n",
       "lr                  0.374351  "
      ]
     },
     "execution_count": 51,
     "metadata": {},
     "output_type": "execute_result"
    }
   ],
   "source": [
    "from sklearn.metrics import r2_score\n",
    "scores = {}\n",
    "for comp in systems:\n",
    "    scores[comp] = pandas.Series({\n",
    "        i: r2_score(val['cm'][i], val[comp][i])\n",
    "        for i in s.get_measure_names()\n",
    "    })\n",
    "pandas.DataFrame.from_dict(scores).T"
   ]
  },
  {
   "cell_type": "code",
   "execution_count": null,
   "metadata": {},
   "outputs": [],
   "source": []
  },
  {
   "cell_type": "code",
   "execution_count": null,
   "metadata": {},
   "outputs": [],
   "source": []
  },
  {
   "cell_type": "code",
   "execution_count": null,
   "metadata": {},
   "outputs": [],
   "source": []
  },
  {
   "cell_type": "code",
   "execution_count": null,
   "metadata": {},
   "outputs": [],
   "source": []
  }
 ],
 "metadata": {
  "kernelspec": {
   "display_name": "EMAT",
   "language": "python",
   "name": "emat"
  },
  "language_info": {
   "codemirror_mode": {
    "name": "ipython",
    "version": 3
   },
   "file_extension": ".py",
   "mimetype": "text/x-python",
   "name": "python",
   "nbconvert_exporter": "python",
   "pygments_lexer": "ipython3",
   "version": "3.6.7"
  }
 },
 "nbformat": 4,
 "nbformat_minor": 4
}
