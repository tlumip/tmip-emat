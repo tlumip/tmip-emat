{
 "cells": [
  {
   "cell_type": "code",
   "execution_count": 1,
   "metadata": {
    "ExecuteTime": {
     "end_time": "2019-09-03T17:27:26.575391Z",
     "start_time": "2019-09-03T17:27:23.909687Z"
    }
   },
   "outputs": [
    {
     "data": {
      "text/plain": [
       "('0.1.4', ['/Users/jpn/Git/private-emat/emat'])"
      ]
     },
     "execution_count": 1,
     "metadata": {},
     "output_type": "execute_result"
    }
   ],
   "source": [
    "import emat\n",
    "emat.__version__, emat.__path__"
   ]
  },
  {
   "cell_type": "code",
   "execution_count": 2,
   "metadata": {
    "ExecuteTime": {
     "end_time": "2019-09-03T17:27:26.580887Z",
     "start_time": "2019-09-03T17:27:26.577279Z"
    }
   },
   "outputs": [
    {
     "data": {
      "text/plain": [
       "('2.1.CS4', ['/Users/jpn/Git/EMAworkbench/ema_workbench'])"
      ]
     },
     "execution_count": 2,
     "metadata": {},
     "output_type": "execute_result"
    }
   ],
   "source": [
    "import ema_workbench\n",
    "ema_workbench.__version__, ema_workbench.__path__"
   ]
  },
  {
   "cell_type": "code",
   "execution_count": 3,
   "metadata": {
    "ExecuteTime": {
     "end_time": "2019-09-03T17:27:26.584351Z",
     "start_time": "2019-09-03T17:27:26.582362Z"
    }
   },
   "outputs": [],
   "source": [
    "import os, numpy, pandas, functools"
   ]
  },
  {
   "cell_type": "code",
   "execution_count": 4,
   "metadata": {
    "ExecuteTime": {
     "end_time": "2019-09-03T17:27:26.618621Z",
     "start_time": "2019-09-03T17:27:26.585769Z"
    }
   },
   "outputs": [
    {
     "data": {
      "text/plain": [
       "<emat.Scope with 2 constants, 7 uncertainties, 4 levers, 7 measures>"
      ]
     },
     "execution_count": 4,
     "metadata": {},
     "output_type": "execute_result"
    }
   ],
   "source": [
    "road_test_scope_file = emat.package_file('model','tests','road_test.yaml')\n",
    "\n",
    "s = emat.Scope(road_test_scope_file)\n",
    "s"
   ]
  },
  {
   "cell_type": "code",
   "execution_count": 5,
   "metadata": {
    "ExecuteTime": {
     "end_time": "2019-09-03T17:27:26.623652Z",
     "start_time": "2019-09-03T17:27:26.619739Z"
    }
   },
   "outputs": [
    {
     "name": "stdout",
     "output_type": "stream",
     "text": [
      "name: EMAT Road Test\n",
      "desc: prototype run\n",
      "constants:\n",
      "  free_flow_time = 60\n",
      "  initial_capacity = 100\n",
      "uncertainties:\n",
      "  alpha = 0.1 to 0.2\n",
      "  beta = 3.5 to 5.5\n",
      "  input_flow = 80 to 150\n",
      "  value_of_time = 0.001 to 0.08\n",
      "  unit_cost_expansion = 95.0 to 145.0\n",
      "  interest_rate = 0.025 to 0.04\n",
      "  yield_curve = -0.0025 to 0.02\n",
      "levers:\n",
      "  expand_capacity = 0.0 to 100.0\n",
      "  amortization_period = 15 to 50\n",
      "  debt_type = categorical\n",
      "  interest_rate_lock = boolean\n",
      "measures:\n",
      "  no_build_travel_time\n",
      "  build_travel_time\n",
      "  time_savings\n",
      "  value_of_time_savings\n",
      "  net_benefits\n",
      "  cost_of_capacity_expansion\n",
      "  present_cost_expansion\n"
     ]
    }
   ],
   "source": [
    "s.info()"
   ]
  },
  {
   "cell_type": "code",
   "execution_count": 6,
   "metadata": {
    "ExecuteTime": {
     "end_time": "2019-09-03T17:27:26.629781Z",
     "start_time": "2019-09-03T17:27:26.624903Z"
    }
   },
   "outputs": [],
   "source": [
    "db = emat.SQLiteDB()"
   ]
  },
  {
   "cell_type": "code",
   "execution_count": 7,
   "metadata": {
    "ExecuteTime": {
     "end_time": "2019-09-03T17:27:26.639343Z",
     "start_time": "2019-09-03T17:27:26.631059Z"
    }
   },
   "outputs": [],
   "source": [
    "s.store_scope(db)"
   ]
  },
  {
   "cell_type": "code",
   "execution_count": 8,
   "metadata": {
    "ExecuteTime": {
     "end_time": "2019-09-03T17:27:26.700797Z",
     "start_time": "2019-09-03T17:27:26.641355Z"
    }
   },
   "outputs": [
    {
     "data": {
      "text/html": [
       "<div>\n",
       "<style scoped>\n",
       "    .dataframe tbody tr th:only-of-type {\n",
       "        vertical-align: middle;\n",
       "    }\n",
       "\n",
       "    .dataframe tbody tr th {\n",
       "        vertical-align: top;\n",
       "    }\n",
       "\n",
       "    .dataframe thead th {\n",
       "        text-align: right;\n",
       "    }\n",
       "</style>\n",
       "<table border=\"1\" class=\"dataframe\">\n",
       "  <thead>\n",
       "    <tr style=\"text-align: right;\">\n",
       "      <th></th>\n",
       "      <th>alpha</th>\n",
       "      <th>amortization_period</th>\n",
       "      <th>beta</th>\n",
       "      <th>debt_type</th>\n",
       "      <th>expand_capacity</th>\n",
       "      <th>input_flow</th>\n",
       "      <th>interest_rate</th>\n",
       "      <th>interest_rate_lock</th>\n",
       "      <th>unit_cost_expansion</th>\n",
       "      <th>value_of_time</th>\n",
       "      <th>yield_curve</th>\n",
       "      <th>free_flow_time</th>\n",
       "      <th>initial_capacity</th>\n",
       "    </tr>\n",
       "    <tr>\n",
       "      <th>experiment</th>\n",
       "      <th></th>\n",
       "      <th></th>\n",
       "      <th></th>\n",
       "      <th></th>\n",
       "      <th></th>\n",
       "      <th></th>\n",
       "      <th></th>\n",
       "      <th></th>\n",
       "      <th></th>\n",
       "      <th></th>\n",
       "      <th></th>\n",
       "      <th></th>\n",
       "      <th></th>\n",
       "    </tr>\n",
       "  </thead>\n",
       "  <tbody>\n",
       "    <tr>\n",
       "      <td>1</td>\n",
       "      <td>0.184682</td>\n",
       "      <td>38</td>\n",
       "      <td>5.237143</td>\n",
       "      <td>Rev Bond</td>\n",
       "      <td>18.224793</td>\n",
       "      <td>115</td>\n",
       "      <td>0.031645</td>\n",
       "      <td>False</td>\n",
       "      <td>118.213466</td>\n",
       "      <td>0.022518</td>\n",
       "      <td>0.015659</td>\n",
       "      <td>60</td>\n",
       "      <td>100</td>\n",
       "    </tr>\n",
       "    <tr>\n",
       "      <td>2</td>\n",
       "      <td>0.166133</td>\n",
       "      <td>36</td>\n",
       "      <td>4.121963</td>\n",
       "      <td>Paygo</td>\n",
       "      <td>87.525790</td>\n",
       "      <td>129</td>\n",
       "      <td>0.037612</td>\n",
       "      <td>True</td>\n",
       "      <td>141.322696</td>\n",
       "      <td>0.052306</td>\n",
       "      <td>0.007307</td>\n",
       "      <td>60</td>\n",
       "      <td>100</td>\n",
       "    </tr>\n",
       "    <tr>\n",
       "      <td>3</td>\n",
       "      <td>0.198937</td>\n",
       "      <td>44</td>\n",
       "      <td>4.719838</td>\n",
       "      <td>GO Bond</td>\n",
       "      <td>45.698048</td>\n",
       "      <td>105</td>\n",
       "      <td>0.028445</td>\n",
       "      <td>False</td>\n",
       "      <td>97.783320</td>\n",
       "      <td>0.011923</td>\n",
       "      <td>-0.001545</td>\n",
       "      <td>60</td>\n",
       "      <td>100</td>\n",
       "    </tr>\n",
       "    <tr>\n",
       "      <td>4</td>\n",
       "      <td>0.158758</td>\n",
       "      <td>42</td>\n",
       "      <td>4.915816</td>\n",
       "      <td>GO Bond</td>\n",
       "      <td>51.297546</td>\n",
       "      <td>113</td>\n",
       "      <td>0.036234</td>\n",
       "      <td>True</td>\n",
       "      <td>127.224901</td>\n",
       "      <td>0.077527</td>\n",
       "      <td>0.004342</td>\n",
       "      <td>60</td>\n",
       "      <td>100</td>\n",
       "    </tr>\n",
       "    <tr>\n",
       "      <td>5</td>\n",
       "      <td>0.157671</td>\n",
       "      <td>42</td>\n",
       "      <td>3.845952</td>\n",
       "      <td>Paygo</td>\n",
       "      <td>22.824149</td>\n",
       "      <td>133</td>\n",
       "      <td>0.039257</td>\n",
       "      <td>False</td>\n",
       "      <td>107.820482</td>\n",
       "      <td>0.027270</td>\n",
       "      <td>0.001558</td>\n",
       "      <td>60</td>\n",
       "      <td>100</td>\n",
       "    </tr>\n",
       "  </tbody>\n",
       "</table>\n",
       "</div>"
      ],
      "text/plain": [
       "               alpha  amortization_period      beta debt_type  \\\n",
       "experiment                                                      \n",
       "1           0.184682                   38  5.237143  Rev Bond   \n",
       "2           0.166133                   36  4.121963     Paygo   \n",
       "3           0.198937                   44  4.719838   GO Bond   \n",
       "4           0.158758                   42  4.915816   GO Bond   \n",
       "5           0.157671                   42  3.845952     Paygo   \n",
       "\n",
       "            expand_capacity  input_flow  interest_rate  interest_rate_lock  \\\n",
       "experiment                                                                   \n",
       "1                 18.224793         115       0.031645               False   \n",
       "2                 87.525790         129       0.037612                True   \n",
       "3                 45.698048         105       0.028445               False   \n",
       "4                 51.297546         113       0.036234                True   \n",
       "5                 22.824149         133       0.039257               False   \n",
       "\n",
       "            unit_cost_expansion  value_of_time  yield_curve  free_flow_time  \\\n",
       "experiment                                                                    \n",
       "1                    118.213466       0.022518     0.015659              60   \n",
       "2                    141.322696       0.052306     0.007307              60   \n",
       "3                     97.783320       0.011923    -0.001545              60   \n",
       "4                    127.224901       0.077527     0.004342              60   \n",
       "5                    107.820482       0.027270     0.001558              60   \n",
       "\n",
       "            initial_capacity  \n",
       "experiment                    \n",
       "1                        100  \n",
       "2                        100  \n",
       "3                        100  \n",
       "4                        100  \n",
       "5                        100  "
      ]
     },
     "execution_count": 8,
     "metadata": {},
     "output_type": "execute_result"
    }
   ],
   "source": [
    "from emat.experiment.experimental_design import design_experiments\n",
    "design = design_experiments(s, db=db, n_samples_per_factor=10, sampler='lhs')\n",
    "design.head()\n"
   ]
  },
  {
   "cell_type": "code",
   "execution_count": 9,
   "metadata": {
    "ExecuteTime": {
     "end_time": "2019-09-03T17:27:26.704540Z",
     "start_time": "2019-09-03T17:27:26.702299Z"
    }
   },
   "outputs": [],
   "source": [
    "from emat.model.core_python import PythonCoreModel\n",
    "from emat.model.core_python import Road_Capacity_Investment\n"
   ]
  },
  {
   "cell_type": "code",
   "execution_count": 10,
   "metadata": {
    "ExecuteTime": {
     "end_time": "2019-09-03T17:27:26.709023Z",
     "start_time": "2019-09-03T17:27:26.705732Z"
    }
   },
   "outputs": [],
   "source": [
    "cm = PythonCoreModel(Road_Capacity_Investment, scope=s, db=db)"
   ]
  },
  {
   "cell_type": "code",
   "execution_count": 11,
   "metadata": {
    "ExecuteTime": {
     "end_time": "2019-09-03T17:27:26.784059Z",
     "start_time": "2019-09-03T17:27:26.710059Z"
    }
   },
   "outputs": [
    {
     "data": {
      "text/html": [
       "<div>\n",
       "<style scoped>\n",
       "    .dataframe tbody tr th:only-of-type {\n",
       "        vertical-align: middle;\n",
       "    }\n",
       "\n",
       "    .dataframe tbody tr th {\n",
       "        vertical-align: top;\n",
       "    }\n",
       "\n",
       "    .dataframe thead th {\n",
       "        text-align: right;\n",
       "    }\n",
       "</style>\n",
       "<table border=\"1\" class=\"dataframe\">\n",
       "  <thead>\n",
       "    <tr style=\"text-align: right;\">\n",
       "      <th></th>\n",
       "      <th>alpha</th>\n",
       "      <th>beta</th>\n",
       "      <th>input_flow</th>\n",
       "      <th>value_of_time</th>\n",
       "      <th>unit_cost_expansion</th>\n",
       "      <th>interest_rate</th>\n",
       "      <th>yield_curve</th>\n",
       "      <th>expand_capacity</th>\n",
       "      <th>amortization_period</th>\n",
       "      <th>debt_type</th>\n",
       "      <th>interest_rate_lock</th>\n",
       "      <th>no_build_travel_time</th>\n",
       "      <th>build_travel_time</th>\n",
       "      <th>time_savings</th>\n",
       "      <th>value_of_time_savings</th>\n",
       "      <th>net_benefits</th>\n",
       "      <th>cost_of_capacity_expansion</th>\n",
       "      <th>present_cost_expansion</th>\n",
       "    </tr>\n",
       "    <tr>\n",
       "      <th>experiment</th>\n",
       "      <th></th>\n",
       "      <th></th>\n",
       "      <th></th>\n",
       "      <th></th>\n",
       "      <th></th>\n",
       "      <th></th>\n",
       "      <th></th>\n",
       "      <th></th>\n",
       "      <th></th>\n",
       "      <th></th>\n",
       "      <th></th>\n",
       "      <th></th>\n",
       "      <th></th>\n",
       "      <th></th>\n",
       "      <th></th>\n",
       "      <th></th>\n",
       "      <th></th>\n",
       "      <th></th>\n",
       "    </tr>\n",
       "  </thead>\n",
       "  <tbody>\n",
       "    <tr>\n",
       "      <td>1</td>\n",
       "      <td>0.184682</td>\n",
       "      <td>5.237143</td>\n",
       "      <td>115</td>\n",
       "      <td>0.022518</td>\n",
       "      <td>118.213466</td>\n",
       "      <td>0.031645</td>\n",
       "      <td>0.015659</td>\n",
       "      <td>18.224793</td>\n",
       "      <td>38</td>\n",
       "      <td>Rev Bond</td>\n",
       "      <td>False</td>\n",
       "      <td>83.038716</td>\n",
       "      <td>69.586789</td>\n",
       "      <td>13.451927</td>\n",
       "      <td>34.835362</td>\n",
       "      <td>-79.515515</td>\n",
       "      <td>114.350877</td>\n",
       "      <td>2154.415985</td>\n",
       "    </tr>\n",
       "    <tr>\n",
       "      <td>2</td>\n",
       "      <td>0.166133</td>\n",
       "      <td>4.121963</td>\n",
       "      <td>129</td>\n",
       "      <td>0.052306</td>\n",
       "      <td>141.322696</td>\n",
       "      <td>0.037612</td>\n",
       "      <td>0.007307</td>\n",
       "      <td>87.525790</td>\n",
       "      <td>36</td>\n",
       "      <td>Paygo</td>\n",
       "      <td>True</td>\n",
       "      <td>88.474313</td>\n",
       "      <td>62.132583</td>\n",
       "      <td>26.341730</td>\n",
       "      <td>177.741192</td>\n",
       "      <td>-205.321480</td>\n",
       "      <td>383.062672</td>\n",
       "      <td>12369.380535</td>\n",
       "    </tr>\n",
       "    <tr>\n",
       "      <td>3</td>\n",
       "      <td>0.198937</td>\n",
       "      <td>4.719838</td>\n",
       "      <td>105</td>\n",
       "      <td>0.011923</td>\n",
       "      <td>97.783320</td>\n",
       "      <td>0.028445</td>\n",
       "      <td>-0.001545</td>\n",
       "      <td>45.698048</td>\n",
       "      <td>44</td>\n",
       "      <td>GO Bond</td>\n",
       "      <td>False</td>\n",
       "      <td>75.027180</td>\n",
       "      <td>62.543328</td>\n",
       "      <td>12.483852</td>\n",
       "      <td>15.629037</td>\n",
       "      <td>-151.944318</td>\n",
       "      <td>167.573355</td>\n",
       "      <td>4468.506839</td>\n",
       "    </tr>\n",
       "    <tr>\n",
       "      <td>4</td>\n",
       "      <td>0.158758</td>\n",
       "      <td>4.915816</td>\n",
       "      <td>113</td>\n",
       "      <td>0.077527</td>\n",
       "      <td>127.224901</td>\n",
       "      <td>0.036234</td>\n",
       "      <td>0.004342</td>\n",
       "      <td>51.297546</td>\n",
       "      <td>42</td>\n",
       "      <td>GO Bond</td>\n",
       "      <td>True</td>\n",
       "      <td>77.370428</td>\n",
       "      <td>62.268768</td>\n",
       "      <td>15.101660</td>\n",
       "      <td>132.298475</td>\n",
       "      <td>-167.624871</td>\n",
       "      <td>299.923347</td>\n",
       "      <td>6526.325171</td>\n",
       "    </tr>\n",
       "    <tr>\n",
       "      <td>5</td>\n",
       "      <td>0.157671</td>\n",
       "      <td>3.845952</td>\n",
       "      <td>133</td>\n",
       "      <td>0.027270</td>\n",
       "      <td>107.820482</td>\n",
       "      <td>0.039257</td>\n",
       "      <td>0.001558</td>\n",
       "      <td>22.824149</td>\n",
       "      <td>42</td>\n",
       "      <td>Paygo</td>\n",
       "      <td>False</td>\n",
       "      <td>88.328990</td>\n",
       "      <td>72.848428</td>\n",
       "      <td>15.480561</td>\n",
       "      <td>56.146908</td>\n",
       "      <td>-3.972940</td>\n",
       "      <td>60.119848</td>\n",
       "      <td>2460.910705</td>\n",
       "    </tr>\n",
       "  </tbody>\n",
       "</table>\n",
       "</div>"
      ],
      "text/plain": [
       "               alpha      beta  input_flow  value_of_time  \\\n",
       "experiment                                                  \n",
       "1           0.184682  5.237143         115       0.022518   \n",
       "2           0.166133  4.121963         129       0.052306   \n",
       "3           0.198937  4.719838         105       0.011923   \n",
       "4           0.158758  4.915816         113       0.077527   \n",
       "5           0.157671  3.845952         133       0.027270   \n",
       "\n",
       "            unit_cost_expansion  interest_rate  yield_curve  expand_capacity  \\\n",
       "experiment                                                                     \n",
       "1                    118.213466       0.031645     0.015659        18.224793   \n",
       "2                    141.322696       0.037612     0.007307        87.525790   \n",
       "3                     97.783320       0.028445    -0.001545        45.698048   \n",
       "4                    127.224901       0.036234     0.004342        51.297546   \n",
       "5                    107.820482       0.039257     0.001558        22.824149   \n",
       "\n",
       "            amortization_period debt_type  interest_rate_lock  \\\n",
       "experiment                                                      \n",
       "1                            38  Rev Bond               False   \n",
       "2                            36     Paygo                True   \n",
       "3                            44   GO Bond               False   \n",
       "4                            42   GO Bond                True   \n",
       "5                            42     Paygo               False   \n",
       "\n",
       "            no_build_travel_time  build_travel_time  time_savings  \\\n",
       "experiment                                                          \n",
       "1                      83.038716          69.586789     13.451927   \n",
       "2                      88.474313          62.132583     26.341730   \n",
       "3                      75.027180          62.543328     12.483852   \n",
       "4                      77.370428          62.268768     15.101660   \n",
       "5                      88.328990          72.848428     15.480561   \n",
       "\n",
       "            value_of_time_savings  net_benefits  cost_of_capacity_expansion  \\\n",
       "experiment                                                                    \n",
       "1                       34.835362    -79.515515                  114.350877   \n",
       "2                      177.741192   -205.321480                  383.062672   \n",
       "3                       15.629037   -151.944318                  167.573355   \n",
       "4                      132.298475   -167.624871                  299.923347   \n",
       "5                       56.146908     -3.972940                   60.119848   \n",
       "\n",
       "            present_cost_expansion  \n",
       "experiment                          \n",
       "1                      2154.415985  \n",
       "2                     12369.380535  \n",
       "3                      4468.506839  \n",
       "4                      6526.325171  \n",
       "5                      2460.910705  "
      ]
     },
     "execution_count": 11,
     "metadata": {},
     "output_type": "execute_result"
    }
   ],
   "source": [
    "lhs_results = cm.run_experiments(design=design)\n",
    "lhs_results.head()"
   ]
  },
  {
   "cell_type": "code",
   "execution_count": 12,
   "metadata": {
    "ExecuteTime": {
     "end_time": "2019-09-03T17:27:30.021928Z",
     "start_time": "2019-09-03T17:27:26.785618Z"
    }
   },
   "outputs": [
    {
     "data": {
      "text/html": [
       "<div>\n",
       "<style scoped>\n",
       "    .dataframe tbody tr th:only-of-type {\n",
       "        vertical-align: middle;\n",
       "    }\n",
       "\n",
       "    .dataframe tbody tr th {\n",
       "        vertical-align: top;\n",
       "    }\n",
       "\n",
       "    .dataframe thead th {\n",
       "        text-align: right;\n",
       "    }\n",
       "</style>\n",
       "<table border=\"1\" class=\"dataframe\">\n",
       "  <thead>\n",
       "    <tr style=\"text-align: right;\">\n",
       "      <th></th>\n",
       "      <th>alpha</th>\n",
       "      <th>amortization_period</th>\n",
       "      <th>beta</th>\n",
       "      <th>debt_type</th>\n",
       "      <th>expand_capacity</th>\n",
       "      <th>input_flow</th>\n",
       "      <th>interest_rate</th>\n",
       "      <th>interest_rate_lock</th>\n",
       "      <th>unit_cost_expansion</th>\n",
       "      <th>value_of_time</th>\n",
       "      <th>yield_curve</th>\n",
       "      <th>free_flow_time</th>\n",
       "      <th>initial_capacity</th>\n",
       "    </tr>\n",
       "    <tr>\n",
       "      <th>experiment</th>\n",
       "      <th></th>\n",
       "      <th></th>\n",
       "      <th></th>\n",
       "      <th></th>\n",
       "      <th></th>\n",
       "      <th></th>\n",
       "      <th></th>\n",
       "      <th></th>\n",
       "      <th></th>\n",
       "      <th></th>\n",
       "      <th></th>\n",
       "      <th></th>\n",
       "      <th></th>\n",
       "    </tr>\n",
       "  </thead>\n",
       "  <tbody>\n",
       "    <tr>\n",
       "      <td>111</td>\n",
       "      <td>0.123747</td>\n",
       "      <td>20</td>\n",
       "      <td>4.461367</td>\n",
       "      <td>Paygo</td>\n",
       "      <td>12.927468</td>\n",
       "      <td>114</td>\n",
       "      <td>0.028945</td>\n",
       "      <td>False</td>\n",
       "      <td>135.353965</td>\n",
       "      <td>0.072864</td>\n",
       "      <td>0.011732</td>\n",
       "      <td>60</td>\n",
       "      <td>100</td>\n",
       "    </tr>\n",
       "    <tr>\n",
       "      <td>112</td>\n",
       "      <td>0.117841</td>\n",
       "      <td>43</td>\n",
       "      <td>3.984459</td>\n",
       "      <td>Paygo</td>\n",
       "      <td>3.197269</td>\n",
       "      <td>93</td>\n",
       "      <td>0.032873</td>\n",
       "      <td>False</td>\n",
       "      <td>114.858455</td>\n",
       "      <td>0.006901</td>\n",
       "      <td>0.006717</td>\n",
       "      <td>60</td>\n",
       "      <td>100</td>\n",
       "    </tr>\n",
       "    <tr>\n",
       "      <td>113</td>\n",
       "      <td>0.163015</td>\n",
       "      <td>23</td>\n",
       "      <td>4.155181</td>\n",
       "      <td>Paygo</td>\n",
       "      <td>27.154281</td>\n",
       "      <td>148</td>\n",
       "      <td>0.027674</td>\n",
       "      <td>False</td>\n",
       "      <td>121.945315</td>\n",
       "      <td>0.074262</td>\n",
       "      <td>0.012851</td>\n",
       "      <td>60</td>\n",
       "      <td>100</td>\n",
       "    </tr>\n",
       "    <tr>\n",
       "      <td>114</td>\n",
       "      <td>0.116006</td>\n",
       "      <td>18</td>\n",
       "      <td>4.697588</td>\n",
       "      <td>GO Bond</td>\n",
       "      <td>56.640528</td>\n",
       "      <td>126</td>\n",
       "      <td>0.031271</td>\n",
       "      <td>True</td>\n",
       "      <td>116.433187</td>\n",
       "      <td>0.058375</td>\n",
       "      <td>0.013356</td>\n",
       "      <td>60</td>\n",
       "      <td>100</td>\n",
       "    </tr>\n",
       "    <tr>\n",
       "      <td>115</td>\n",
       "      <td>0.179206</td>\n",
       "      <td>42</td>\n",
       "      <td>4.908325</td>\n",
       "      <td>Paygo</td>\n",
       "      <td>33.059382</td>\n",
       "      <td>80</td>\n",
       "      <td>0.028483</td>\n",
       "      <td>False</td>\n",
       "      <td>112.454890</td>\n",
       "      <td>0.063858</td>\n",
       "      <td>0.007043</td>\n",
       "      <td>60</td>\n",
       "      <td>100</td>\n",
       "    </tr>\n",
       "  </tbody>\n",
       "</table>\n",
       "</div>"
      ],
      "text/plain": [
       "               alpha  amortization_period      beta debt_type  \\\n",
       "experiment                                                      \n",
       "111         0.123747                   20  4.461367     Paygo   \n",
       "112         0.117841                   43  3.984459     Paygo   \n",
       "113         0.163015                   23  4.155181     Paygo   \n",
       "114         0.116006                   18  4.697588   GO Bond   \n",
       "115         0.179206                   42  4.908325     Paygo   \n",
       "\n",
       "            expand_capacity  input_flow  interest_rate  interest_rate_lock  \\\n",
       "experiment                                                                   \n",
       "111               12.927468         114       0.028945               False   \n",
       "112                3.197269          93       0.032873               False   \n",
       "113               27.154281         148       0.027674               False   \n",
       "114               56.640528         126       0.031271                True   \n",
       "115               33.059382          80       0.028483               False   \n",
       "\n",
       "            unit_cost_expansion  value_of_time  yield_curve  free_flow_time  \\\n",
       "experiment                                                                    \n",
       "111                  135.353965       0.072864     0.011732              60   \n",
       "112                  114.858455       0.006901     0.006717              60   \n",
       "113                  121.945315       0.074262     0.012851              60   \n",
       "114                  116.433187       0.058375     0.013356              60   \n",
       "115                  112.454890       0.063858     0.007043              60   \n",
       "\n",
       "            initial_capacity  \n",
       "experiment                    \n",
       "111                      100  \n",
       "112                      100  \n",
       "113                      100  \n",
       "114                      100  \n",
       "115                      100  "
      ]
     },
     "execution_count": 12,
     "metadata": {},
     "output_type": "execute_result"
    }
   ],
   "source": [
    "design1 = design_experiments(s, db=db, n_samples=10000, sampler='lhs')\n",
    "design1.head()\n",
    "\n"
   ]
  },
  {
   "cell_type": "code",
   "execution_count": 13,
   "metadata": {
    "ExecuteTime": {
     "end_time": "2019-09-03T17:27:34.145097Z",
     "start_time": "2019-09-03T17:27:30.023650Z"
    }
   },
   "outputs": [],
   "source": [
    "results1 = cm.run_experiments(design=design1)"
   ]
  },
  {
   "cell_type": "code",
   "execution_count": 14,
   "metadata": {
    "ExecuteTime": {
     "end_time": "2019-09-03T17:27:34.159736Z",
     "start_time": "2019-09-03T17:27:34.146409Z"
    }
   },
   "outputs": [
    {
     "data": {
      "text/html": [
       "<div>\n",
       "<style scoped>\n",
       "    .dataframe tbody tr th:only-of-type {\n",
       "        vertical-align: middle;\n",
       "    }\n",
       "\n",
       "    .dataframe tbody tr th {\n",
       "        vertical-align: top;\n",
       "    }\n",
       "\n",
       "    .dataframe thead th {\n",
       "        text-align: right;\n",
       "    }\n",
       "</style>\n",
       "<table border=\"1\" class=\"dataframe\">\n",
       "  <thead>\n",
       "    <tr style=\"text-align: right;\">\n",
       "      <th></th>\n",
       "      <th>alpha</th>\n",
       "      <th>beta</th>\n",
       "      <th>input_flow</th>\n",
       "      <th>value_of_time</th>\n",
       "      <th>unit_cost_expansion</th>\n",
       "      <th>interest_rate</th>\n",
       "      <th>yield_curve</th>\n",
       "      <th>expand_capacity</th>\n",
       "      <th>amortization_period</th>\n",
       "      <th>debt_type</th>\n",
       "      <th>interest_rate_lock</th>\n",
       "      <th>no_build_travel_time</th>\n",
       "      <th>build_travel_time</th>\n",
       "      <th>time_savings</th>\n",
       "      <th>value_of_time_savings</th>\n",
       "      <th>net_benefits</th>\n",
       "      <th>cost_of_capacity_expansion</th>\n",
       "      <th>present_cost_expansion</th>\n",
       "    </tr>\n",
       "    <tr>\n",
       "      <th>experiment</th>\n",
       "      <th></th>\n",
       "      <th></th>\n",
       "      <th></th>\n",
       "      <th></th>\n",
       "      <th></th>\n",
       "      <th></th>\n",
       "      <th></th>\n",
       "      <th></th>\n",
       "      <th></th>\n",
       "      <th></th>\n",
       "      <th></th>\n",
       "      <th></th>\n",
       "      <th></th>\n",
       "      <th></th>\n",
       "      <th></th>\n",
       "      <th></th>\n",
       "      <th></th>\n",
       "      <th></th>\n",
       "    </tr>\n",
       "  </thead>\n",
       "  <tbody>\n",
       "    <tr>\n",
       "      <td>111</td>\n",
       "      <td>0.123747</td>\n",
       "      <td>4.461367</td>\n",
       "      <td>114</td>\n",
       "      <td>0.072864</td>\n",
       "      <td>135.353965</td>\n",
       "      <td>0.028945</td>\n",
       "      <td>0.011732</td>\n",
       "      <td>12.927468</td>\n",
       "      <td>20</td>\n",
       "      <td>Paygo</td>\n",
       "      <td>False</td>\n",
       "      <td>73.321718</td>\n",
       "      <td>67.744652</td>\n",
       "      <td>5.577066</td>\n",
       "      <td>46.326107</td>\n",
       "      <td>-42.710863</td>\n",
       "      <td>89.036970</td>\n",
       "      <td>1749.784091</td>\n",
       "    </tr>\n",
       "    <tr>\n",
       "      <td>112</td>\n",
       "      <td>0.117841</td>\n",
       "      <td>3.984459</td>\n",
       "      <td>93</td>\n",
       "      <td>0.006901</td>\n",
       "      <td>114.858455</td>\n",
       "      <td>0.032873</td>\n",
       "      <td>0.006717</td>\n",
       "      <td>3.197269</td>\n",
       "      <td>43</td>\n",
       "      <td>Paygo</td>\n",
       "      <td>False</td>\n",
       "      <td>65.295022</td>\n",
       "      <td>64.670973</td>\n",
       "      <td>0.624049</td>\n",
       "      <td>0.400525</td>\n",
       "      <td>-9.187261</td>\n",
       "      <td>9.587786</td>\n",
       "      <td>367.233390</td>\n",
       "    </tr>\n",
       "    <tr>\n",
       "      <td>113</td>\n",
       "      <td>0.163015</td>\n",
       "      <td>4.155181</td>\n",
       "      <td>148</td>\n",
       "      <td>0.074262</td>\n",
       "      <td>121.945315</td>\n",
       "      <td>0.027674</td>\n",
       "      <td>0.012851</td>\n",
       "      <td>27.154281</td>\n",
       "      <td>23</td>\n",
       "      <td>Paygo</td>\n",
       "      <td>False</td>\n",
       "      <td>109.870815</td>\n",
       "      <td>78.379441</td>\n",
       "      <td>31.491374</td>\n",
       "      <td>346.113882</td>\n",
       "      <td>197.013533</td>\n",
       "      <td>149.100349</td>\n",
       "      <td>3311.337397</td>\n",
       "    </tr>\n",
       "    <tr>\n",
       "      <td>114</td>\n",
       "      <td>0.116006</td>\n",
       "      <td>4.697588</td>\n",
       "      <td>126</td>\n",
       "      <td>0.058375</td>\n",
       "      <td>116.433187</td>\n",
       "      <td>0.031271</td>\n",
       "      <td>0.013356</td>\n",
       "      <td>56.640528</td>\n",
       "      <td>18</td>\n",
       "      <td>GO Bond</td>\n",
       "      <td>True</td>\n",
       "      <td>80.612490</td>\n",
       "      <td>62.503520</td>\n",
       "      <td>18.108970</td>\n",
       "      <td>133.196054</td>\n",
       "      <td>-339.670716</td>\n",
       "      <td>472.866769</td>\n",
       "      <td>6594.837257</td>\n",
       "    </tr>\n",
       "    <tr>\n",
       "      <td>115</td>\n",
       "      <td>0.179206</td>\n",
       "      <td>4.908325</td>\n",
       "      <td>80</td>\n",
       "      <td>0.063858</td>\n",
       "      <td>112.454890</td>\n",
       "      <td>0.028483</td>\n",
       "      <td>0.007043</td>\n",
       "      <td>33.059382</td>\n",
       "      <td>42</td>\n",
       "      <td>Paygo</td>\n",
       "      <td>False</td>\n",
       "      <td>63.596143</td>\n",
       "      <td>60.885078</td>\n",
       "      <td>2.711066</td>\n",
       "      <td>13.849905</td>\n",
       "      <td>-85.388236</td>\n",
       "      <td>99.238141</td>\n",
       "      <td>3717.689161</td>\n",
       "    </tr>\n",
       "  </tbody>\n",
       "</table>\n",
       "</div>"
      ],
      "text/plain": [
       "               alpha      beta  input_flow  value_of_time  \\\n",
       "experiment                                                  \n",
       "111         0.123747  4.461367         114       0.072864   \n",
       "112         0.117841  3.984459          93       0.006901   \n",
       "113         0.163015  4.155181         148       0.074262   \n",
       "114         0.116006  4.697588         126       0.058375   \n",
       "115         0.179206  4.908325          80       0.063858   \n",
       "\n",
       "            unit_cost_expansion  interest_rate  yield_curve  expand_capacity  \\\n",
       "experiment                                                                     \n",
       "111                  135.353965       0.028945     0.011732        12.927468   \n",
       "112                  114.858455       0.032873     0.006717         3.197269   \n",
       "113                  121.945315       0.027674     0.012851        27.154281   \n",
       "114                  116.433187       0.031271     0.013356        56.640528   \n",
       "115                  112.454890       0.028483     0.007043        33.059382   \n",
       "\n",
       "            amortization_period debt_type  interest_rate_lock  \\\n",
       "experiment                                                      \n",
       "111                          20     Paygo               False   \n",
       "112                          43     Paygo               False   \n",
       "113                          23     Paygo               False   \n",
       "114                          18   GO Bond                True   \n",
       "115                          42     Paygo               False   \n",
       "\n",
       "            no_build_travel_time  build_travel_time  time_savings  \\\n",
       "experiment                                                          \n",
       "111                    73.321718          67.744652      5.577066   \n",
       "112                    65.295022          64.670973      0.624049   \n",
       "113                   109.870815          78.379441     31.491374   \n",
       "114                    80.612490          62.503520     18.108970   \n",
       "115                    63.596143          60.885078      2.711066   \n",
       "\n",
       "            value_of_time_savings  net_benefits  cost_of_capacity_expansion  \\\n",
       "experiment                                                                    \n",
       "111                     46.326107    -42.710863                   89.036970   \n",
       "112                      0.400525     -9.187261                    9.587786   \n",
       "113                    346.113882    197.013533                  149.100349   \n",
       "114                    133.196054   -339.670716                  472.866769   \n",
       "115                     13.849905    -85.388236                   99.238141   \n",
       "\n",
       "            present_cost_expansion  \n",
       "experiment                          \n",
       "111                    1749.784091  \n",
       "112                     367.233390  \n",
       "113                    3311.337397  \n",
       "114                    6594.837257  \n",
       "115                    3717.689161  "
      ]
     },
     "execution_count": 14,
     "metadata": {},
     "output_type": "execute_result"
    }
   ],
   "source": [
    "results1.head()"
   ]
  },
  {
   "cell_type": "code",
   "execution_count": 15,
   "metadata": {
    "ExecuteTime": {
     "end_time": "2019-09-03T17:27:34.163127Z",
     "start_time": "2019-09-03T17:27:34.161023Z"
    }
   },
   "outputs": [],
   "source": [
    "heavy = emat.Box(name='Heavy Volume', scope=s)"
   ]
  },
  {
   "cell_type": "code",
   "execution_count": 16,
   "metadata": {
    "ExecuteTime": {
     "end_time": "2019-09-03T17:27:34.165923Z",
     "start_time": "2019-09-03T17:27:34.164105Z"
    }
   },
   "outputs": [],
   "source": [
    "heavy.set_lower_bound('input_flow', 120)"
   ]
  },
  {
   "cell_type": "code",
   "execution_count": 17,
   "metadata": {
    "ExecuteTime": {
     "end_time": "2019-09-03T17:27:34.169622Z",
     "start_time": "2019-09-03T17:27:34.166869Z"
    }
   },
   "outputs": [
    {
     "data": {
      "text/plain": [
       "Box: Heavy Volume\n",
       "   ●  input_flow >= 120"
      ]
     },
     "execution_count": 17,
     "metadata": {},
     "output_type": "execute_result"
    }
   ],
   "source": [
    "heavy"
   ]
  },
  {
   "cell_type": "code",
   "execution_count": 18,
   "metadata": {
    "ExecuteTime": {
     "end_time": "2019-09-03T17:27:34.173658Z",
     "start_time": "2019-09-03T17:27:34.170939Z"
    }
   },
   "outputs": [],
   "source": [
    "heavy.relevant_features.add('unit_cost_expansion')\n",
    "heavy.relevant_features.add('value_of_time')\n",
    "heavy.relevant_features.add('debt_type')\n",
    "heavy.relevant_features.add('interest_rate_lock')\n",
    "\n"
   ]
  },
  {
   "cell_type": "code",
   "execution_count": 19,
   "metadata": {
    "ExecuteTime": {
     "end_time": "2019-09-03T17:27:34.178725Z",
     "start_time": "2019-09-03T17:27:34.175137Z"
    }
   },
   "outputs": [
    {
     "data": {
      "text/plain": [
       "120"
      ]
     },
     "execution_count": 19,
     "metadata": {},
     "output_type": "execute_result"
    }
   ],
   "source": [
    "heavy.get('input_flow', (None,None))[0]"
   ]
  },
  {
   "cell_type": "code",
   "execution_count": 20,
   "metadata": {
    "ExecuteTime": {
     "end_time": "2019-09-03T17:27:34.181601Z",
     "start_time": "2019-09-03T17:27:34.179907Z"
    }
   },
   "outputs": [],
   "source": [
    "# s['net_benefits'].max"
   ]
  },
  {
   "cell_type": "code",
   "execution_count": 21,
   "metadata": {
    "ExecuteTime": {
     "end_time": "2019-09-03T17:27:34.186230Z",
     "start_time": "2019-09-03T17:27:34.183017Z"
    }
   },
   "outputs": [
    {
     "data": {
      "text/plain": [
       "<emat.Scope with 2 constants, 7 uncertainties, 4 levers, 7 measures>"
      ]
     },
     "execution_count": 21,
     "metadata": {},
     "output_type": "execute_result"
    }
   ],
   "source": [
    "heavy.scope"
   ]
  },
  {
   "cell_type": "code",
   "execution_count": 22,
   "metadata": {
    "ExecuteTime": {
     "end_time": "2019-09-03T17:27:34.190700Z",
     "start_time": "2019-09-03T17:27:34.187612Z"
    }
   },
   "outputs": [
    {
     "data": {
      "text/plain": [
       "['free_flow_time',\n",
       " 'initial_capacity',\n",
       " 'alpha',\n",
       " 'beta',\n",
       " 'input_flow',\n",
       " 'value_of_time',\n",
       " 'unit_cost_expansion',\n",
       " 'interest_rate',\n",
       " 'yield_curve',\n",
       " 'expand_capacity',\n",
       " 'amortization_period',\n",
       " 'debt_type',\n",
       " 'interest_rate_lock']"
      ]
     },
     "execution_count": 22,
     "metadata": {},
     "output_type": "execute_result"
    }
   ],
   "source": [
    "s.get_parameter_names()"
   ]
  },
  {
   "cell_type": "code",
   "execution_count": 23,
   "metadata": {
    "ExecuteTime": {
     "end_time": "2019-09-03T17:27:34.195070Z",
     "start_time": "2019-09-03T17:27:34.193441Z"
    }
   },
   "outputs": [],
   "source": [
    "# y = heavy.visualization(\n",
    "#     ['no_build_travel_time',\n",
    "#      'build_travel_time',\n",
    "#      'time_savings',\n",
    "#      'value_of_time_savings',\n",
    "#      'net_benefits',\n",
    "#      'cost_of_capacity_expansion',\n",
    "#      'present_cost_expansion'], \n",
    "#     data=results1)\n"
   ]
  },
  {
   "cell_type": "code",
   "execution_count": 24,
   "metadata": {
    "ExecuteTime": {
     "end_time": "2019-09-03T17:27:34.199570Z",
     "start_time": "2019-09-03T17:27:34.196879Z"
    }
   },
   "outputs": [
    {
     "data": {
      "text/plain": [
       "Box: Heavy Volume\n",
       "   ●           input_flow >= 120\n",
       "   ◌   interest_rate_lock\n",
       "   ◌            debt_type\n",
       "   ◌  unit_cost_expansion\n",
       "   ◌        value_of_time"
      ]
     },
     "execution_count": 24,
     "metadata": {},
     "output_type": "execute_result"
    }
   ],
   "source": [
    "heavy"
   ]
  },
  {
   "cell_type": "code",
   "execution_count": 25,
   "metadata": {
    "ExecuteTime": {
     "end_time": "2019-09-03T17:27:34.202728Z",
     "start_time": "2019-09-03T17:27:34.200836Z"
    }
   },
   "outputs": [],
   "source": [
    "# type(y)"
   ]
  },
  {
   "cell_type": "code",
   "execution_count": 26,
   "metadata": {
    "ExecuteTime": {
     "end_time": "2019-09-03T17:27:34.205876Z",
     "start_time": "2019-09-03T17:27:34.203989Z"
    }
   },
   "outputs": [],
   "source": [
    "# display(y)"
   ]
  },
  {
   "cell_type": "code",
   "execution_count": 27,
   "metadata": {
    "ExecuteTime": {
     "end_time": "2019-09-03T17:27:34.209174Z",
     "start_time": "2019-09-03T17:27:34.207295Z"
    }
   },
   "outputs": [],
   "source": [
    "# import plotly.graph_objs as go\n",
    "# import numpy as np\n",
    "# from ipywidgets import interact\n",
    "# import ipywidgets as wdgt\n",
    "\n",
    "# fig = go.FigureWidget().add_histogram().add_histogram()\n"
   ]
  },
  {
   "cell_type": "code",
   "execution_count": 28,
   "metadata": {
    "ExecuteTime": {
     "end_time": "2019-09-03T17:27:34.212386Z",
     "start_time": "2019-09-03T17:27:34.210566Z"
    }
   },
   "outputs": [],
   "source": [
    "# fig"
   ]
  },
  {
   "cell_type": "code",
   "execution_count": 29,
   "metadata": {
    "ExecuteTime": {
     "end_time": "2019-09-03T17:27:34.215682Z",
     "start_time": "2019-09-03T17:27:34.213787Z"
    }
   },
   "outputs": [],
   "source": [
    "# with fig.batch_update():\n",
    "#     fig.data[0].x = results1[in1]['net_benefits']\n",
    "#     fig.data[1].x = results1[~in1]['net_benefits']"
   ]
  },
  {
   "cell_type": "code",
   "execution_count": 30,
   "metadata": {
    "ExecuteTime": {
     "end_time": "2019-09-03T17:27:34.218665Z",
     "start_time": "2019-09-03T17:27:34.216950Z"
    }
   },
   "outputs": [],
   "source": [
    "# fig.layout.update(\n",
    "#     barmode='stack',\n",
    "#     showlegend=False,\n",
    "#     margin=dict(l=10, r=10, t=10, b=10),\n",
    "#     width=550,\n",
    "#     height=350,\n",
    "# );"
   ]
  },
  {
   "cell_type": "code",
   "execution_count": 31,
   "metadata": {
    "ExecuteTime": {
     "end_time": "2019-09-03T17:27:34.227765Z",
     "start_time": "2019-09-03T17:27:34.220148Z"
    }
   },
   "outputs": [],
   "source": [
    "from emat.analysis.explore import Explore"
   ]
  },
  {
   "cell_type": "code",
   "execution_count": 32,
   "metadata": {
    "ExecuteTime": {
     "end_time": "2019-09-03T17:27:34.766813Z",
     "start_time": "2019-09-03T17:27:34.228863Z"
    }
   },
   "outputs": [],
   "source": [
    "xp = Explore(s, heavy, results1)"
   ]
  },
  {
   "cell_type": "code",
   "execution_count": 33,
   "metadata": {
    "ExecuteTime": {
     "end_time": "2019-09-03T17:27:38.581928Z",
     "start_time": "2019-09-03T17:27:34.767953Z"
    },
    "scrolled": false
   },
   "outputs": [
    {
     "data": {
      "application/vnd.jupyter.widget-view+json": {
       "model_id": "a19bf23f00d74478b4f96fe855bb78b1",
       "version_major": 2,
       "version_minor": 0
      },
      "text/plain": [
       "VBox(children=(HBox(children=(HTML(value='<span style=\"font-weight:bold;font-size:150%\">4,366 Cases Selected o…"
      ]
     },
     "metadata": {},
     "output_type": "display_data"
    }
   ],
   "source": [
    "xp.complete()"
   ]
  },
  {
   "cell_type": "code",
   "execution_count": 34,
   "metadata": {
    "ExecuteTime": {
     "end_time": "2019-09-03T17:27:38.695879Z",
     "start_time": "2019-09-03T17:27:38.583083Z"
    }
   },
   "outputs": [
    {
     "ename": "RuntimeError",
     "evalue": "",
     "output_type": "error",
     "traceback": [
      "\u001b[0;31m---------------------------------------------------------------------------\u001b[0m",
      "\u001b[0;31mRuntimeError\u001b[0m                              Traceback (most recent call last)",
      "\u001b[0;32m<ipython-input-34-a23cb6c08fe6>\u001b[0m in \u001b[0;36m<module>\u001b[0;34m\u001b[0m\n\u001b[0;32m----> 1\u001b[0;31m \u001b[0;32mraise\u001b[0m \u001b[0mRuntimeError\u001b[0m\u001b[0;34m\u001b[0m\u001b[0;34m\u001b[0m\u001b[0m\n\u001b[0m",
      "\u001b[0;31mRuntimeError\u001b[0m: "
     ]
    }
   ],
   "source": [
    "raise RuntimeError"
   ]
  },
  {
   "cell_type": "code",
   "execution_count": null,
   "metadata": {
    "ExecuteTime": {
     "end_time": "2019-09-03T17:27:38.697010Z",
     "start_time": "2019-09-03T17:27:23.963Z"
    }
   },
   "outputs": [],
   "source": [
    "xp.status()"
   ]
  },
  {
   "cell_type": "code",
   "execution_count": null,
   "metadata": {
    "ExecuteTime": {
     "end_time": "2019-09-03T17:27:38.697876Z",
     "start_time": "2019-09-03T17:27:23.963Z"
    }
   },
   "outputs": [],
   "source": [
    "xp.selectors('expand_capacity', 'amortization_period', 'debt_type', 'interest_rate_lock')"
   ]
  },
  {
   "cell_type": "code",
   "execution_count": null,
   "metadata": {
    "ExecuteTime": {
     "end_time": "2019-09-03T17:27:38.698618Z",
     "start_time": "2019-09-03T17:27:23.964Z"
    }
   },
   "outputs": [],
   "source": [
    "xp.selectors('input_flow', 'debt_type', 'unit_cost_expansion')"
   ]
  },
  {
   "cell_type": "code",
   "execution_count": null,
   "metadata": {
    "ExecuteTime": {
     "end_time": "2019-09-03T17:27:38.699550Z",
     "start_time": "2019-09-03T17:27:23.965Z"
    }
   },
   "outputs": [],
   "source": [
    "xp.selectors('value_of_time', 'interest_rate_lock')"
   ]
  },
  {
   "cell_type": "code",
   "execution_count": null,
   "metadata": {
    "ExecuteTime": {
     "end_time": "2019-09-03T17:27:38.700242Z",
     "start_time": "2019-09-03T17:27:23.966Z"
    }
   },
   "outputs": [],
   "source": [
    "xp.viewers('no_build_travel_time','build_travel_time')"
   ]
  },
  {
   "cell_type": "code",
   "execution_count": null,
   "metadata": {
    "ExecuteTime": {
     "end_time": "2019-09-03T17:27:38.701122Z",
     "start_time": "2019-09-03T17:27:23.967Z"
    }
   },
   "outputs": [],
   "source": [
    "xp.viewers('no_build_travel_time','build_travel_time', 'net_benefits', style='kde')"
   ]
  },
  {
   "cell_type": "code",
   "execution_count": null,
   "metadata": {},
   "outputs": [],
   "source": []
  }
 ],
 "metadata": {
  "hide_input": false,
  "kernelspec": {
   "display_name": "EMAT-DEV",
   "language": "python",
   "name": "emat-dev"
  },
  "language_info": {
   "codemirror_mode": {
    "name": "ipython",
    "version": 3
   },
   "file_extension": ".py",
   "mimetype": "text/x-python",
   "name": "python",
   "nbconvert_exporter": "python",
   "pygments_lexer": "ipython3",
   "version": "3.7.3"
  },
  "toc": {
   "base_numbering": 1,
   "nav_menu": {},
   "number_sections": true,
   "sideBar": true,
   "skip_h1_title": false,
   "title_cell": "Table of Contents",
   "title_sidebar": "Contents",
   "toc_cell": false,
   "toc_position": {},
   "toc_section_display": true,
   "toc_window_display": false
  }
 },
 "nbformat": 4,
 "nbformat_minor": 4
}
